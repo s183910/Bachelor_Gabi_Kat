{
 "cells": [
  {
   "cell_type": "code",
   "execution_count": 1,
   "metadata": {},
   "outputs": [
    {
     "ename": "NameError",
     "evalue": "name 'df' is not defined",
     "output_type": "error",
     "traceback": [
      "\u001b[1;31m---------------------------------------------------------------------------\u001b[0m",
      "\u001b[1;31mNameError\u001b[0m                                 Traceback (most recent call last)",
      "\u001b[1;32m<ipython-input-1-79585dda3a31>\u001b[0m in \u001b[0;36m<module>\u001b[1;34m\u001b[0m\n\u001b[0;32m      1\u001b[0m \u001b[1;31m#plot to see which direction the people with sel goes.\u001b[0m\u001b[1;33m\u001b[0m\u001b[1;33m\u001b[0m\u001b[1;33m\u001b[0m\u001b[0m\n\u001b[1;32m----> 2\u001b[1;33m \u001b[0mdf\u001b[0m\u001b[1;33m[\u001b[0m\u001b[1;34m'diff_SEL_SEL_IHE'\u001b[0m\u001b[1;33m]\u001b[0m \u001b[1;33m=\u001b[0m \u001b[0mdf\u001b[0m\u001b[1;33m[\u001b[0m\u001b[1;34m'SEL'\u001b[0m\u001b[1;33m]\u001b[0m\u001b[1;33m-\u001b[0m\u001b[0mdf\u001b[0m\u001b[1;33m[\u001b[0m\u001b[1;34m'SEL_IHE'\u001b[0m\u001b[1;33m]\u001b[0m\u001b[1;33m\u001b[0m\u001b[1;33m\u001b[0m\u001b[0m\n\u001b[0m\u001b[0;32m      3\u001b[0m \u001b[0mdf\u001b[0m\u001b[1;33m[\u001b[0m\u001b[1;34m'diff_SEL_SEL_IHE'\u001b[0m\u001b[1;33m]\u001b[0m\u001b[1;33m.\u001b[0m\u001b[0mhist\u001b[0m\u001b[1;33m(\u001b[0m\u001b[1;33m)\u001b[0m\u001b[1;33m\u001b[0m\u001b[1;33m\u001b[0m\u001b[0m\n",
      "\u001b[1;31mNameError\u001b[0m: name 'df' is not defined"
     ]
    }
   ],
   "source": [
    "#plot to see which direction the people with sel goes. \r\n",
    "df['diff_SEL_SEL_IHE'] = df['SEL']-df['SEL_IHE']\r\n",
    "df['diff_SEL_SEL_IHE'].hist()"
   ]
  },
  {
   "cell_type": "code",
   "execution_count": 1,
   "metadata": {},
   "outputs": [],
   "source": [
    "import urllib.request\r\n",
    "import pandas as pd\r\n",
    "import numpy as np\r\n",
    "# !pip install scipy\r\n",
    "from scipy import stats\r\n",
    "import datetime\r\n",
    "\r\n",
    "#plot stuff\r\n",
    "import matplotlib.pyplot as plt\r\n",
    "import matplotlib as mpl\r\n",
    "import matplotlib.dates as mdates\r\n",
    "\r\n",
    "def setup_mpl():\r\n",
    "    mpl.rcParams[\"font.family\"] = \"Calibri\"\r\n",
    "    mpl.rcParams[\"lines.linewidth\"] = 1\r\n",
    "setup_mpl()"
   ]
  },
  {
   "cell_type": "code",
   "execution_count": null,
   "metadata": {},
   "outputs": [],
   "source": [
    "fig, ax = plt.subplots(2,2, figsize=(15,10))\r\n",
    "\r\n",
    "\r\n",
    "for i in range(4):\r\n",
    "    x, y = data[i].x, data[i].y\r\n",
    "    print(f\"Data {i+1}:\")\r\n",
    "    print(f\"\\t Mean x = {x.mean():.2f} \\n\\t Mean y =  {y.mean():.2f}\")\r\n",
    "    print(f\"\\t Var x = {x.var():.3f} \\n\\t Var y =  {y.var():.3f}\")\r\n",
    "    print(f\"\\t Pearson correlation = {stats.pearsonr(x, y)[0]:.3f}\")\r\n",
    "    slope, intercept, r_value, p_value, std_err = stats.linregress(x, y)\r\n",
    "    print(f\"\\t Slope = {slope:.3f}\")\r\n",
    "    print(f\"\\t Intercept = {intercept:.3f}\")\r\n",
    "    ax = plt.subplot(2, 2, i+1)\r\n",
    "    ax.set_title(\"Some dummy data\")\r\n",
    "    ax.scatter(x,y, label = '(x,y)')\r\n",
    "    ax.plot(x, intercept+slope*x, \"-r\", label = 'Linear regression')\r\n",
    "    ax.set_xlim(0, 20)\r\n",
    "    ax.set_ylim(0, 14)\r\n",
    "#     ax.legend(['Linear regression', '(x,y)'], loc='upper left')\r\n",
    "    ax.legend(loc = 'upper left')\r\n",
    "    ax.set_xlabel(\"x\")\r\n",
    "    ax.set_ylabel(\"y\")\r\n",
    "    \r\n",
    "plt.show()"
   ]
  }
 ],
 "metadata": {
  "interpreter": {
   "hash": "e2b6eb828a06aba2a5f38c98b0f742e720c3c24745e1f8335692b0a3c2eb5e5e"
  },
  "kernelspec": {
   "display_name": "Python 3.9.4 64-bit",
   "name": "python3"
  },
  "language_info": {
   "name": "python",
   "version": ""
  },
  "orig_nbformat": 4
 },
 "nbformat": 4,
 "nbformat_minor": 2
}