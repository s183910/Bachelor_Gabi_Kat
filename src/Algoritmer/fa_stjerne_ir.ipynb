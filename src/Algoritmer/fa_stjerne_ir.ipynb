{
 "cells": [
  {
   "cell_type": "code",
   "execution_count": 1,
   "metadata": {},
   "outputs": [
    {
     "name": "stdout",
     "output_type": "stream",
     "text": [
      "Collecting fairsearchcore\n",
      "  Downloading fairsearchcore-1.0.4.tar.gz (8.6 kB)\n",
      "Requirement already satisfied: pandas>=0.23 in c:\\users\\bayka\\appdata\\local\\programs\\python\\python39\\lib\\site-packages (from fairsearchcore) (1.2.4)\n",
      "Requirement already satisfied: scipy>=1.1.0 in c:\\users\\bayka\\appdata\\local\\programs\\python\\python39\\lib\\site-packages (from fairsearchcore) (1.6.3)\n",
      "Requirement already satisfied: pytz>=2017.3 in c:\\users\\bayka\\appdata\\local\\programs\\python\\python39\\lib\\site-packages (from pandas>=0.23->fairsearchcore) (2021.1)\n",
      "Requirement already satisfied: python-dateutil>=2.7.3 in c:\\users\\bayka\\appdata\\roaming\\python\\python39\\site-packages (from pandas>=0.23->fairsearchcore) (2.8.1)\n",
      "Requirement already satisfied: numpy>=1.16.5 in c:\\users\\bayka\\appdata\\local\\programs\\python\\python39\\lib\\site-packages (from pandas>=0.23->fairsearchcore) (1.19.5)\n",
      "Requirement already satisfied: six>=1.5 in c:\\users\\bayka\\appdata\\roaming\\python\\python39\\site-packages (from python-dateutil>=2.7.3->pandas>=0.23->fairsearchcore) (1.15.0)\n",
      "Building wheels for collected packages: fairsearchcore\n",
      "  Building wheel for fairsearchcore (setup.py): started\n",
      "  Building wheel for fairsearchcore (setup.py): finished with status 'done'\n",
      "  Created wheel for fairsearchcore: filename=fairsearchcore-1.0.4-py3-none-any.whl size=10830 sha256=bdd451169d1a51e3cdde19d36f58514c2176b6b04c180c70a9a1f45a0601e09b\n",
      "  Stored in directory: c:\\users\\bayka\\appdata\\local\\pip\\cache\\wheels\\ce\\64\\67\\8762ef9323eed4c7089dd569802a27915d2aad66005aa0578e\n",
      "Successfully built fairsearchcore\n",
      "Installing collected packages: fairsearchcore\n",
      "Successfully installed fairsearchcore-1.0.4\n",
      "Note: you may need to restart the kernel to use updated packages.\n"
     ]
    },
    {
     "name": "stderr",
     "output_type": "stream",
     "text": [
      "WARNING: You are using pip version 21.2.4; however, version 21.3.1 is available.\n",
      "You should consider upgrading via the 'C:\\Users\\bayka\\AppData\\Local\\Programs\\Python\\Python39\\python.exe -m pip install --upgrade pip' command.\n"
     ]
    }
   ],
   "source": [
    "pip install fairsearchcore\r\n",
    "# https://github.com/fair-search/fairsearch-fair-python"
   ]
  },
  {
   "cell_type": "code",
   "execution_count": 2,
   "metadata": {},
   "outputs": [],
   "source": [
    "import fairsearchcore as fsc"
   ]
  },
  {
   "cell_type": "code",
   "execution_count": 5,
   "metadata": {},
   "outputs": [
    {
     "data": {
      "text/plain": [
       "<fairsearchcore.fair.Fair at 0x2bbf09457c0>"
      ]
     },
     "execution_count": 5,
     "metadata": {},
     "output_type": "execute_result"
    }
   ],
   "source": [
    "k = 20 # number of topK elements returned (value should be between 10 and 400)\r\n",
    "p = 0.40 # proportion of protected candidates in the topK elements (value should be between 0.02 and 0.98) \r\n",
    "alpha = 0.1 # significance level (value should be between 0.01 and 0.15)\r\n",
    "\r\n",
    "# create the Fair object \r\n",
    "fair = fsc.Fair(k, p, alpha)\r\n",
    "fair\r\n"
   ]
  },
  {
   "cell_type": "code",
   "execution_count": 6,
   "metadata": {},
   "outputs": [
    {
     "name": "stdout",
     "output_type": "stream",
     "text": [
      "[0, 0, 0, 0, 1, 1, 1, 1, 2, 2, 2, 3, 3, 3, 4, 4, 4, 5, 5, 5]\n"
     ]
    }
   ],
   "source": [
    "\r\n",
    "# create an mtable using alpha unadjusted\r\n",
    "mtable = fair.create_unadjusted_mtable()\r\n",
    "print(mtable)\r\n",
    "\r\n",
    "# analytically calculate the fail probability\r\n",
    "analytical = fair.compute_fail_probability(mtable)\r\n",
    "\r\n",
    "# create an mtable using alpha adjusted\r\n",
    "mtable = fair.create_adjusted_mtable()\r\n",
    "\r\n",
    "# again, analytically calculate the fail probability\r\n",
    "analytical = fair.compute_fail_probability(mtable)\r\n"
   ]
  },
  {
   "cell_type": "code",
   "execution_count": null,
   "metadata": {},
   "outputs": [],
   "source": []
  },
  {
   "cell_type": "code",
   "execution_count": null,
   "metadata": {},
   "outputs": [],
   "source": []
  },
  {
   "cell_type": "code",
   "execution_count": null,
   "metadata": {},
   "outputs": [],
   "source": []
  },
  {
   "cell_type": "code",
   "execution_count": null,
   "metadata": {},
   "outputs": [],
   "source": []
  }
 ],
 "metadata": {
  "interpreter": {
   "hash": "e2b6eb828a06aba2a5f38c98b0f742e720c3c24745e1f8335692b0a3c2eb5e5e"
  },
  "kernelspec": {
   "display_name": "Python 3.9.4 64-bit",
   "name": "python3"
  },
  "language_info": {
   "codemirror_mode": {
    "name": "ipython",
    "version": 3
   },
   "file_extension": ".py",
   "mimetype": "text/x-python",
   "name": "python",
   "nbconvert_exporter": "python",
   "pygments_lexer": "ipython3",
   "version": "3.9.4"
  },
  "orig_nbformat": 4
 },
 "nbformat": 4,
 "nbformat_minor": 2
}