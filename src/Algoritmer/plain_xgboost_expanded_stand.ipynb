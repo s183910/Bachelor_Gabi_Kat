{
 "cells": [
  {
   "cell_type": "markdown",
   "metadata": {},
   "source": [
    "# Plain XGBoost with expanded and standardized data"
   ]
  },
  {
   "cell_type": "code",
   "execution_count": 44,
   "metadata": {},
   "outputs": [
    {
     "data": {
      "text/plain": [
       "2.1908902300206643"
      ]
     },
     "execution_count": 44,
     "metadata": {},
     "output_type": "execute_result"
    }
   ],
   "source": [
    "np.sqrt(24/5)"
   ]
  },
  {
   "cell_type": "code",
   "execution_count": 40,
   "metadata": {},
   "outputs": [
    {
     "data": {
      "text/html": [
       "<div>\n",
       "<style scoped>\n",
       "    .dataframe tbody tr th:only-of-type {\n",
       "        vertical-align: middle;\n",
       "    }\n",
       "\n",
       "    .dataframe tbody tr th {\n",
       "        vertical-align: top;\n",
       "    }\n",
       "\n",
       "    .dataframe thead th {\n",
       "        text-align: right;\n",
       "    }\n",
       "</style>\n",
       "<table border=\"1\" class=\"dataframe\">\n",
       "  <thead>\n",
       "    <tr style=\"text-align: right;\">\n",
       "      <th></th>\n",
       "      <th>Unnamed: 0</th>\n",
       "      <th>GENDER</th>\n",
       "      <th>STRATUM</th>\n",
       "      <th>SCHOOL_NAT</th>\n",
       "      <th>SCHOOL_TYPE</th>\n",
       "      <th>MAT_S11</th>\n",
       "      <th>CR_S11</th>\n",
       "      <th>CC_S11</th>\n",
       "      <th>BIO_S11</th>\n",
       "      <th>ENG_S11</th>\n",
       "      <th>QR_PRO</th>\n",
       "      <th>CR_PRO</th>\n",
       "      <th>CC_PRO</th>\n",
       "      <th>ENG_PRO</th>\n",
       "      <th>WC_PRO</th>\n",
       "      <th>COL_GRADE_AVG</th>\n",
       "      <th>HI_GRADE_AVG</th>\n",
       "      <th>GENDER_bin</th>\n",
       "    </tr>\n",
       "  </thead>\n",
       "  <tbody>\n",
       "    <tr>\n",
       "      <th>0</th>\n",
       "      <td>0</td>\n",
       "      <td>F</td>\n",
       "      <td>Stratum_4</td>\n",
       "      <td>PRIVATE</td>\n",
       "      <td>ACADEMIC</td>\n",
       "      <td>71</td>\n",
       "      <td>81</td>\n",
       "      <td>61</td>\n",
       "      <td>86</td>\n",
       "      <td>82</td>\n",
       "      <td>71</td>\n",
       "      <td>93</td>\n",
       "      <td>71</td>\n",
       "      <td>93</td>\n",
       "      <td>79</td>\n",
       "      <td>85.666667</td>\n",
       "      <td>74.666667</td>\n",
       "      <td>1</td>\n",
       "    </tr>\n",
       "    <tr>\n",
       "      <th>1</th>\n",
       "      <td>1</td>\n",
       "      <td>F</td>\n",
       "      <td>Stratum_5</td>\n",
       "      <td>PRIVATE</td>\n",
       "      <td>ACADEMIC</td>\n",
       "      <td>83</td>\n",
       "      <td>75</td>\n",
       "      <td>66</td>\n",
       "      <td>100</td>\n",
       "      <td>88</td>\n",
       "      <td>97</td>\n",
       "      <td>38</td>\n",
       "      <td>86</td>\n",
       "      <td>98</td>\n",
       "      <td>78</td>\n",
       "      <td>74.000000</td>\n",
       "      <td>76.333333</td>\n",
       "      <td>1</td>\n",
       "    </tr>\n",
       "    <tr>\n",
       "      <th>2</th>\n",
       "      <td>2</td>\n",
       "      <td>M</td>\n",
       "      <td>Stratum_2</td>\n",
       "      <td>PRIVATE</td>\n",
       "      <td>ACADEMIC</td>\n",
       "      <td>52</td>\n",
       "      <td>49</td>\n",
       "      <td>38</td>\n",
       "      <td>46</td>\n",
       "      <td>42</td>\n",
       "      <td>17</td>\n",
       "      <td>1</td>\n",
       "      <td>18</td>\n",
       "      <td>43</td>\n",
       "      <td>22</td>\n",
       "      <td>20.666667</td>\n",
       "      <td>43.000000</td>\n",
       "      <td>0</td>\n",
       "    </tr>\n",
       "    <tr>\n",
       "      <th>3</th>\n",
       "      <td>3</td>\n",
       "      <td>F</td>\n",
       "      <td>Stratum_2</td>\n",
       "      <td>PRIVATE</td>\n",
       "      <td>ACADEMIC</td>\n",
       "      <td>56</td>\n",
       "      <td>55</td>\n",
       "      <td>51</td>\n",
       "      <td>64</td>\n",
       "      <td>73</td>\n",
       "      <td>65</td>\n",
       "      <td>35</td>\n",
       "      <td>76</td>\n",
       "      <td>80</td>\n",
       "      <td>48</td>\n",
       "      <td>63.666667</td>\n",
       "      <td>59.666667</td>\n",
       "      <td>1</td>\n",
       "    </tr>\n",
       "    <tr>\n",
       "      <th>4</th>\n",
       "      <td>4</td>\n",
       "      <td>M</td>\n",
       "      <td>Stratum_4</td>\n",
       "      <td>PRIVATE</td>\n",
       "      <td>ACADEMIC</td>\n",
       "      <td>80</td>\n",
       "      <td>65</td>\n",
       "      <td>76</td>\n",
       "      <td>85</td>\n",
       "      <td>92</td>\n",
       "      <td>94</td>\n",
       "      <td>94</td>\n",
       "      <td>98</td>\n",
       "      <td>100</td>\n",
       "      <td>71</td>\n",
       "      <td>97.333333</td>\n",
       "      <td>77.666667</td>\n",
       "      <td>0</td>\n",
       "    </tr>\n",
       "    <tr>\n",
       "      <th>...</th>\n",
       "      <td>...</td>\n",
       "      <td>...</td>\n",
       "      <td>...</td>\n",
       "      <td>...</td>\n",
       "      <td>...</td>\n",
       "      <td>...</td>\n",
       "      <td>...</td>\n",
       "      <td>...</td>\n",
       "      <td>...</td>\n",
       "      <td>...</td>\n",
       "      <td>...</td>\n",
       "      <td>...</td>\n",
       "      <td>...</td>\n",
       "      <td>...</td>\n",
       "      <td>...</td>\n",
       "      <td>...</td>\n",
       "      <td>...</td>\n",
       "      <td>...</td>\n",
       "    </tr>\n",
       "    <tr>\n",
       "      <th>12406</th>\n",
       "      <td>12406</td>\n",
       "      <td>M</td>\n",
       "      <td>Stratum_2</td>\n",
       "      <td>PRIVATE</td>\n",
       "      <td>ACADEMIC</td>\n",
       "      <td>67</td>\n",
       "      <td>69</td>\n",
       "      <td>70</td>\n",
       "      <td>67</td>\n",
       "      <td>81</td>\n",
       "      <td>88</td>\n",
       "      <td>71</td>\n",
       "      <td>86</td>\n",
       "      <td>87</td>\n",
       "      <td>65</td>\n",
       "      <td>81.333333</td>\n",
       "      <td>73.333333</td>\n",
       "      <td>0</td>\n",
       "    </tr>\n",
       "    <tr>\n",
       "      <th>12407</th>\n",
       "      <td>12407</td>\n",
       "      <td>M</td>\n",
       "      <td>Stratum_2</td>\n",
       "      <td>PUBLIC</td>\n",
       "      <td>ACADEMIC</td>\n",
       "      <td>58</td>\n",
       "      <td>57</td>\n",
       "      <td>61</td>\n",
       "      <td>63</td>\n",
       "      <td>53</td>\n",
       "      <td>46</td>\n",
       "      <td>39</td>\n",
       "      <td>44</td>\n",
       "      <td>11</td>\n",
       "      <td>0</td>\n",
       "      <td>31.333333</td>\n",
       "      <td>57.000000</td>\n",
       "      <td>0</td>\n",
       "    </tr>\n",
       "    <tr>\n",
       "      <th>12408</th>\n",
       "      <td>12408</td>\n",
       "      <td>M</td>\n",
       "      <td>Stratum_2</td>\n",
       "      <td>PRIVATE</td>\n",
       "      <td>ACADEMIC</td>\n",
       "      <td>66</td>\n",
       "      <td>69</td>\n",
       "      <td>75</td>\n",
       "      <td>70</td>\n",
       "      <td>58</td>\n",
       "      <td>98</td>\n",
       "      <td>88</td>\n",
       "      <td>90</td>\n",
       "      <td>81</td>\n",
       "      <td>87</td>\n",
       "      <td>86.333333</td>\n",
       "      <td>67.333333</td>\n",
       "      <td>0</td>\n",
       "    </tr>\n",
       "    <tr>\n",
       "      <th>12409</th>\n",
       "      <td>12409</td>\n",
       "      <td>F</td>\n",
       "      <td>Stratum_3</td>\n",
       "      <td>PRIVATE</td>\n",
       "      <td>ACADEMIC</td>\n",
       "      <td>53</td>\n",
       "      <td>69</td>\n",
       "      <td>64</td>\n",
       "      <td>59</td>\n",
       "      <td>52</td>\n",
       "      <td>60</td>\n",
       "      <td>80</td>\n",
       "      <td>51</td>\n",
       "      <td>8</td>\n",
       "      <td>42</td>\n",
       "      <td>46.333333</td>\n",
       "      <td>61.666667</td>\n",
       "      <td>1</td>\n",
       "    </tr>\n",
       "    <tr>\n",
       "      <th>12410</th>\n",
       "      <td>12410</td>\n",
       "      <td>M</td>\n",
       "      <td>Stratum_3</td>\n",
       "      <td>PUBLIC</td>\n",
       "      <td>ACADEMIC</td>\n",
       "      <td>79</td>\n",
       "      <td>65</td>\n",
       "      <td>62</td>\n",
       "      <td>77</td>\n",
       "      <td>73</td>\n",
       "      <td>83</td>\n",
       "      <td>95</td>\n",
       "      <td>91</td>\n",
       "      <td>79</td>\n",
       "      <td>47</td>\n",
       "      <td>88.333333</td>\n",
       "      <td>66.666667</td>\n",
       "      <td>0</td>\n",
       "    </tr>\n",
       "  </tbody>\n",
       "</table>\n",
       "<p>12411 rows × 18 columns</p>\n",
       "</div>"
      ],
      "text/plain": [
       "       Unnamed: 0 GENDER    STRATUM SCHOOL_NAT SCHOOL_TYPE  MAT_S11  CR_S11  \\\n",
       "0               0      F  Stratum_4    PRIVATE    ACADEMIC       71      81   \n",
       "1               1      F  Stratum_5    PRIVATE    ACADEMIC       83      75   \n",
       "2               2      M  Stratum_2    PRIVATE    ACADEMIC       52      49   \n",
       "3               3      F  Stratum_2    PRIVATE    ACADEMIC       56      55   \n",
       "4               4      M  Stratum_4    PRIVATE    ACADEMIC       80      65   \n",
       "...           ...    ...        ...        ...         ...      ...     ...   \n",
       "12406       12406      M  Stratum_2    PRIVATE    ACADEMIC       67      69   \n",
       "12407       12407      M  Stratum_2     PUBLIC    ACADEMIC       58      57   \n",
       "12408       12408      M  Stratum_2    PRIVATE    ACADEMIC       66      69   \n",
       "12409       12409      F  Stratum_3    PRIVATE    ACADEMIC       53      69   \n",
       "12410       12410      M  Stratum_3     PUBLIC    ACADEMIC       79      65   \n",
       "\n",
       "       CC_S11  BIO_S11  ENG_S11  QR_PRO  CR_PRO  CC_PRO  ENG_PRO  WC_PRO  \\\n",
       "0          61       86       82      71      93      71       93      79   \n",
       "1          66      100       88      97      38      86       98      78   \n",
       "2          38       46       42      17       1      18       43      22   \n",
       "3          51       64       73      65      35      76       80      48   \n",
       "4          76       85       92      94      94      98      100      71   \n",
       "...       ...      ...      ...     ...     ...     ...      ...     ...   \n",
       "12406      70       67       81      88      71      86       87      65   \n",
       "12407      61       63       53      46      39      44       11       0   \n",
       "12408      75       70       58      98      88      90       81      87   \n",
       "12409      64       59       52      60      80      51        8      42   \n",
       "12410      62       77       73      83      95      91       79      47   \n",
       "\n",
       "       COL_GRADE_AVG  HI_GRADE_AVG  GENDER_bin  \n",
       "0          85.666667     74.666667           1  \n",
       "1          74.000000     76.333333           1  \n",
       "2          20.666667     43.000000           0  \n",
       "3          63.666667     59.666667           1  \n",
       "4          97.333333     77.666667           0  \n",
       "...              ...           ...         ...  \n",
       "12406      81.333333     73.333333           0  \n",
       "12407      31.333333     57.000000           0  \n",
       "12408      86.333333     67.333333           0  \n",
       "12409      46.333333     61.666667           1  \n",
       "12410      88.333333     66.666667           0  \n",
       "\n",
       "[12411 rows x 18 columns]"
      ]
     },
     "execution_count": 40,
     "metadata": {},
     "output_type": "execute_result"
    }
   ],
   "source": [
    "# Packages and libraries\n",
    "import pandas as pd\n",
    "import xgboost as xgb\n",
    "import numpy as np\n",
    "\n",
    "# Load data before standardization\n",
    "# df = pd.read_csv(\"df_sum_score_ex.csv\")\n",
    "df = pd.read_csv(\"GUDF.csv\")\n",
    "df"
   ]
  },
  {
   "cell_type": "code",
   "execution_count": 30,
   "metadata": {},
   "outputs": [],
   "source": [
    "# Splitting the data \n",
    "# X is the data which will be used to make predictions, and y contains the data we want to predict.\n",
    "# We want to predict the score of the students in college, hence y_training and y_test is the college average grade. \n",
    "\n",
    "X = df.drop(['COL_GRADE_AVG','GENDER','Unnamed: 0','CR_PRO','CC_PRO','ENG_PRO','BIO_S11','MAT_S11','QR_PRO','WC_PRO'], axis=1).copy()\n",
    "# X = df.drop(['COL_GRADE_AVG','GENDER','Unnamed: 0','CR_S11','CC_S11','ENG_S11','CR_PRO','CC_PRO','ENG_PRO'], axis=1).copy() \n",
    "\n",
    "y=df['COL_GRADE_AVG'].copy()\n",
    "\n",
    "# Now we will continue to formatting X to make it suitable for making a model with XGBoost. \n",
    "# One-hot encoding \n",
    "\n",
    "# Look at the different types of data contained in each variable. \n",
    "X.dtypes\n",
    "\n",
    "# The object columns we need to inspect to ensure that they are what we need them to be and after that we will do one-hot encoding. \n",
    "# One hot encoding is used to make the categorical varoiable STRATUM work in the model. \n",
    "# What is gonna happen is that the categorical variable is becoming multiple columns of binary values. \n",
    "# One hot encoding works great for trees and this is the motivation for using this method. \n",
    "X_encoded = pd.get_dummies(X,columns=['STRATUM','SCHOOL_TYPE','SCHOOL_NAT'])"
   ]
  },
  {
   "cell_type": "code",
   "execution_count": 31,
   "metadata": {},
   "outputs": [],
   "source": [
    "from sklearn.model_selection import train_test_split\n",
    "\n",
    "X_train, X_test, y_train, y_test = train_test_split(X_encoded,y,random_state=24, test_size=0.33)#, stratify=y)\n",
    "# X_test_later= X_test\n",
    "# X_test = pd.get_dummies(X,columns=['STRATUM','SCHOOL_TYPE','SCHOOL_NAT'])\n",
    "# X_train = pd.get_dummies(X,columns=['STRATUM','SCHOOL_TYPE','SCHOOL_NAT'])\n",
    "\n",
    "# senere = X_test(['STRATUM',\n",
    "\n",
    "# X_test_y_test = pd.concat([X_test, y_test], axis=1)\n",
    "\n",
    "# X_test_y_test.to_csv(\"X_test_y_test.csv\")\n",
    "\n"
   ]
  },
  {
   "cell_type": "markdown",
   "metadata": {},
   "source": [
    "\n",
    "# Standardized dataframe\n",
    "Subtract mean and divide by standard deviation. \n",
    "We are only standardizing the attributes and not the y-vector since we would like to have plots that the reader can interpret easily. \n"
   ]
  },
  {
   "cell_type": "code",
   "execution_count": 32,
   "metadata": {},
   "outputs": [],
   "source": [
    "#apply standardization to filtered original dataframe\n",
    "dfs = X_train.copy()\n",
    "for column in dfs.columns:\n",
    "    try:\n",
    "        dfs[column] = (dfs[column] - dfs[column].mean())/dfs[column].std()  \n",
    "    except:\n",
    "        pass\n",
    "# #Check means are 0 and std 1\n",
    "# print(\"mean column HI grade: \", dfs.HI_GRADE_AVG.mean(), \"std column HI grade: \", dfs.HI_GRADE_AVG.std(),)\n",
    "X_train = dfs"
   ]
  },
  {
   "cell_type": "code",
   "execution_count": 33,
   "metadata": {},
   "outputs": [],
   "source": [
    "#apply standardization to filtered original dataframe\n",
    "dfs = X_test.copy()\n",
    "for column in dfs.columns:\n",
    "    try:\n",
    "        dfs[column] = (dfs[column] - dfs[column].mean())/dfs[column].std()  \n",
    "    except:\n",
    "        pass\n",
    "# #Check means are 0 and std 1\n",
    "# print(\"mean column HI grade: \", dfs.HI_GRADE_AVG.mean(), \"std column HI grade: \", dfs.HI_GRADE_AVG.std(),)\n",
    "X_test = dfs"
   ]
  },
  {
   "cell_type": "code",
   "execution_count": 34,
   "metadata": {},
   "outputs": [
    {
     "data": {
      "text/plain": [
       "XGBRegressor(base_score=0.5, booster='gbtree', colsample_bylevel=1,\n",
       "             colsample_bynode=1, colsample_bytree=1, gamma=0, gpu_id=-1,\n",
       "             importance_type='gain', interaction_constraints='',\n",
       "             learning_rate=0.300000012, max_delta_step=0, max_depth=6,\n",
       "             min_child_weight=1, missing=nan, monotone_constraints='()',\n",
       "             n_estimators=100, n_jobs=4, num_parallel_tree=1, random_state=0,\n",
       "             reg_alpha=0, reg_lambda=1, scale_pos_weight=1, subsample=1,\n",
       "             tree_method='exact', validate_parameters=1, verbosity=None)"
      ]
     },
     "execution_count": 34,
     "metadata": {},
     "output_type": "execute_result"
    }
   ],
   "source": [
    "# Regressor\n",
    "from sklearn.model_selection import cross_val_score, KFold\n",
    "from sklearn.metrics import mean_squared_error\n",
    "import matplotlib.pyplot as plt \n",
    "# XGBRegressor\n",
    "\n",
    "model = xgb.XGBRegressor(objective='reg:squarederror')\n",
    "model.fit(X_train, y_train)\n"
   ]
  },
  {
   "cell_type": "code",
   "execution_count": 35,
   "metadata": {},
   "outputs": [
    {
     "name": "stdout",
     "output_type": "stream",
     "text": [
      "INITIAL MSE: 237.81\n",
      "INITIAL RMSE: 15.42\n"
     ]
    }
   ],
   "source": [
    "# Prediction\n",
    "y_pred_init = model.predict(X_test)\n",
    "y_pred_init\n",
    "# Mean squared error\n",
    "# This is the average squared difference between the estimated values and the actual value.\n",
    "# Kør disse herunder for at se om det er blevet bedre \n",
    "mse_init = mean_squared_error(y_test, y_pred_init)\n",
    "\n",
    "# Root mean squared error\n",
    "rmse_init= np.sqrt(mse_init)\n",
    "\n",
    "print(\"INITIAL MSE: %.2f\" % mse_init)\n",
    "print(\"INITIAL RMSE: %.2f\" % rmse_init)\n"
   ]
  },
  {
   "cell_type": "code",
   "execution_count": 36,
   "metadata": {},
   "outputs": [],
   "source": [
    "# # Optimize parameters using cross-validation\n",
    "\n",
    "# # XGBoost has a lot of hyper parameters which we can manually tune. These are e.g. max_depth of the tree, learning_rate, gamma which encourages pruning of the tree and reg_lambda which is the regularization parameter lambda. We are trying to find the optimal values for these parameters and hope that we can improve the accuracy in the prediction of the candidates college grades. \n",
    "# # Gridsearch cross validation \n",
    "\n",
    "# # Gridsearch CV will be run sequentially on subsets of different options for the parameters. \n",
    "\n",
    "# # 1st round\n",
    "# param_grid_1 = {\n",
    "#     'max_depth':[3,4,5],\n",
    "#     'learning_rate':[0.01,0.05,0.1],\n",
    "#     'gamma':[0,0.25,0.1],\n",
    "#     'reg_lambda':[0,0.1,10.0],\n",
    "#     'scale_pos_weight':[1,3,5]\n",
    "# }\n",
    "# from sklearn.model_selection import GridSearchCV\n",
    "\n",
    "\n",
    "# # base_estimator_model = xgb.XGBRegressor()\n",
    "# # clf = GridSearchCV(base_estimator_model, param_grid)\n",
    "# # clf.fit(X_train, y_train)\n",
    "\n",
    "# optimal_params = GridSearchCV(\n",
    "#     estimator=xgb.XGBRegressor(\n",
    "#         objective='reg:squarederror', seed=24, subsample=0.9),\n",
    "#         param_grid=param_grid_1,\n",
    "#         cv=5).fit(X_train,y_train)\n",
    "          \n",
    "# # optimal parameters \n",
    "# print(optimal_params.best_params_)\n"
   ]
  },
  {
   "cell_type": "code",
   "execution_count": 37,
   "metadata": {},
   "outputs": [],
   "source": [
    "\n",
    "# ## Round 2 \n",
    "# param_grid_2 = {\n",
    "#     'max_depth':[2,3],\n",
    "#     'learning_rate':[0.05],\n",
    "#     'gamma':[0,0.01],\n",
    "#     'reg_lambda':[10.0,15.0,20.0],\n",
    "#     'scale_pos_weight':[0.01,0.5,1]\n",
    "# }\n",
    "# optimal_params = GridSearchCV(\n",
    "#     estimator=xgb.XGBRegressor(\n",
    "#         objective='reg:squarederror', seed=24, subsample=0.9),\n",
    "#         param_grid=param_grid_2,\n",
    "#         cv=5).fit(X_train,y_train)\n",
    "# # optimal parameters \n",
    "# print(optimal_params.best_params_)\n"
   ]
  },
  {
   "cell_type": "code",
   "execution_count": 38,
   "metadata": {},
   "outputs": [],
   "source": [
    "\n",
    "# ## Round 3 \n",
    "# param_grid_3 = {\n",
    "#     'max_depth':[3],\n",
    "#     'learning_rate':[0.05],\n",
    "#     'gamma':[0],\n",
    "#     'reg_lambda':[10.0],\n",
    "#     'scale_pos_weight':[1]\n",
    "# }\n"
   ]
  },
  {
   "cell_type": "code",
   "execution_count": 14,
   "metadata": {},
   "outputs": [
    {
     "name": "stdout",
     "output_type": "stream",
     "text": [
      "Mean MAE: 11.428 (0.263)\n",
      "Mean cross-validation score: 0.60\n",
      "FINAL MSE: 206.74\n",
      "FINAL RMSE: 14.38\n"
     ]
    }
   ],
   "source": [
    "\n",
    "final_model = xgb.XGBRegressor(seed=24, objective='reg:squarederror', max_depth=3, learning_rate=0.05, gamma=0,reg_lambda=10.0, scale_pos_weight=1)\n",
    "final_model.fit(X_train,y_train,verbose=True, eval_metric='rmse')\n",
    "# eval_metric default according to objective\n",
    "from numpy import absolute\n",
    "from pandas import read_csv\n",
    "from sklearn.model_selection import cross_val_score\n",
    "from sklearn.model_selection import RepeatedKFold\n",
    "\n",
    "\n",
    "# The model is tunes with grid search CV and evaluated using k-fold cross valdiation. The model is \n",
    "# evaluated on the training data and the average mean absolut error across the repeats of 10-fold cross-validtaion is reported. \n",
    "# There is some variation in the magnitude of errors as seen by theMAE. The average difference between \n",
    "# the predicted college garde and the observed college grade was 11.431 points in the grade. \n",
    "\n",
    "# define model evaluation method\n",
    "cv = RepeatedKFold(n_splits=10, n_repeats=3, random_state=1)\n",
    "# evaluate model\n",
    "scores = cross_val_score(final_model, X_train, y_train, scoring='neg_mean_absolute_error', cv=cv, n_jobs=-1)\n",
    "\n",
    "# force scores to be positive\n",
    "scores = absolute(scores)\n",
    "print('Mean MAE: %.3f (%.3f)' % (scores.mean(), scores.std()) )\n",
    "\n",
    "\n",
    "# The model is tunes with grid search CV and evaluated using k-fold cross valdiation. The model is \n",
    "# evaluated on the training data and the average mean absolut error across the repeats of 10-fold cross-validtaion is reported. \n",
    "# There is some variation in the magnitude of errors as seen by theMAE. The average difference between \n",
    "# the predicted college garde and the observed college grade was 11.431 points in the grade. \n",
    "\n",
    "scores_final = cross_val_score(final_model, X_train, y_train, cv=10)\n",
    "print(\"Mean cross-validation score: %.2f\" % scores_final.mean())\n",
    "\n",
    "# scores = cross_val_score(model, X_train, y_train, cv=10)\n",
    "# print(\"Mean cross-validation score: %.2f\" % scores.mean())\n",
    "y_pred_final = final_model.predict(X_test)\n",
    "y_pred_final\n",
    "\n",
    "\n",
    "\n",
    "# Kør disse herunder for at se om det er blevet bedre \n",
    "mse_final = mean_squared_error(y_test, y_pred_final)\n",
    "print(\"FINAL MSE: %.2f\" % mse_final)\n",
    "\n",
    "# Root mean squared error\n",
    "rmse_final= np.sqrt(mse_final)\n",
    "print(\"FINAL RMSE: %.2f\" % rmse_final)\n"
   ]
  },
  {
   "cell_type": "markdown",
   "metadata": {},
   "source": [
    "\n",
    "# Results\n",
    "FOR RAW DATA VANILLA \n",
    "Before and after parameter optimization\n",
    "- MSE: 219.97  (ændring på -6,44%)\n",
    "- FINAL MSE: 205.79\n",
    "\n",
    "FOR RAW DATA WITHOUT SENSITIVE \n",
    "- INITIAL MSE: 207.27\n",
    "- FINAL MSE: 205.79\n",
    "\n",
    "FOR STANDARDIZED DATA \n",
    "- INITIAL MSE: 0.42  (ændring på -4,76%)\n",
    "- FINAL MSE: 0.40\n",
    "\n",
    "- FINAL MSE: 0.40\n",
    "- FINAL RMSE: 0.63\n",
    "\n",
    "EX standardized data\n",
    "\n",
    "Mean MAE: 11.055 (0.244)\n",
    "Mean MAE: 11.703 (0.304)\n",
    "Mean cross-validation score: 0.62\n",
    "Mean cross-validation score: 0.57\n",
    "FINAL MSE: 197.41\n",
    "FINAL RMSE: 14.05\n"
   ]
  },
  {
   "cell_type": "code",
   "execution_count": 15,
   "metadata": {},
   "outputs": [
    {
     "data": {
      "text/plain": [
       "<Figure size 1440x1440 with 0 Axes>"
      ]
     },
     "metadata": {},
     "output_type": "display_data"
    },
    {
     "data": {
      "image/png": "[encoded data removed]",
      "text/plain": [
       "<Figure size 432x288 with 1 Axes>"
      ]
     },
     "metadata": {
      "needs_background": "light"
     },
     "output_type": "display_data"
    }
   ],
   "source": [
    "\n",
    "# plot decision tree\n",
    "\n",
    "from xgboost import plot_tree\n",
    "import matplotlib.pyplot as plt\n",
    "\n",
    "from matplotlib import pyplot as plt\n",
    "plt.figure(figsize=(20,20))\n",
    "\n",
    "\n",
    "\n",
    "plot_tree(final_model,fontsize=20)\n",
    "plt.show()\n",
    "# plt.savefig('tree_high_dpi_ex', dpi=400)\n"
   ]
  },
  {
   "cell_type": "code",
   "execution_count": 16,
   "metadata": {},
   "outputs": [],
   "source": [
    "\n",
    "# Reparring the index and predictions \n",
    "index = X_test.index.to_numpy()\n",
    "# stratum = X_test_later.STRATUM.to_numpy()\n",
    "gender = X_test.GENDER_bin.to_numpy()"
   ]
  },
  {
   "cell_type": "code",
   "execution_count": 17,
   "metadata": {},
   "outputs": [
    {
     "name": "stdout",
     "output_type": "stream",
     "text": [
      "[-0.17519147  5.70664682]\n",
      "[-0.23068172  4.33391888]\n"
     ]
    }
   ],
   "source": [
    "print(X_test.STRATUM_Stratum_6.unique())\n",
    "print(X_test.STRATUM_Stratum_5.unique())"
   ]
  },
  {
   "cell_type": "code",
   "execution_count": 18,
   "metadata": {},
   "outputs": [],
   "source": [
    "# df_s56 = X_test[(X_test.STRATUM_Stratum_6 > 5.6) | (X_test.STRATUM_Stratum_5 > 4.2) ]"
   ]
  },
  {
   "cell_type": "code",
   "execution_count": 19,
   "metadata": {},
   "outputs": [],
   "source": [
    "# df_s56 =  df_s56.rename(columns={'index': 'Col_1'}, index={'ONE': 'Row_1'})\n"
   ]
  },
  {
   "cell_type": "code",
   "execution_count": 20,
   "metadata": {},
   "outputs": [],
   "source": [
    "# stratum56 = samlet_preds_plain_ex['Preds'].merge(df_s56,on=index)"
   ]
  },
  {
   "cell_type": "code",
   "execution_count": null,
   "metadata": {},
   "outputs": [],
   "source": []
  },
  {
   "cell_type": "code",
   "execution_count": 21,
   "metadata": {},
   "outputs": [],
   "source": [
    "# index = y_test_KAT.index.to_numpy()\n",
    "gender = X_test.GENDER_bin.to_numpy()\n",
    "preds = y_pred_final # her har de stadig samme rækkefølge i forhold til index som til at starte med, de er nemlig ikke blevet sorteret endnu\n",
    "\n",
    "\n",
    "y_test_KAT= pd.DataFrame(y_test)\n",
    "y_test_KAT['Preds'] = preds\n",
    "# y_test_KAT\n",
    "y_test_KAT=y_test_KAT.sort_values('COL_GRADE_AVG', ascending=False)\n",
    "\n",
    "y_test_KAT.to_csv('En_rigtig_plain_df.csv')\n",
    "# y_test_KAT"
   ]
  },
  {
   "cell_type": "code",
   "execution_count": 22,
   "metadata": {},
   "outputs": [],
   "source": [
    "\n",
    "listen = list(map(list, zip(index,gender, preds)))\n",
    "\n",
    "# for_later_gender = gender\n",
    "# for_later_gender = np.save('for_later_gender.npy', for_later_gender)    # .npy extension is added if not given\n",
    "\n",
    "\n",
    "samlet_preds_plain_ex = pd.DataFrame(listen, columns=['Idx','Gender_bins','Preds'])\n"
   ]
  },
  {
   "cell_type": "code",
   "execution_count": 23,
   "metadata": {},
   "outputs": [],
   "source": [
    "\n",
    "# samlet_preds_plain_ex = samlet_preds_plain_ex.sort_values(by=['Preds'],ascending=False)\n",
    "# samlet_preds_plain_ex.to_csv(\"samlet_preds_plain_ex.csv\")"
   ]
  },
  {
   "cell_type": "code",
   "execution_count": 24,
   "metadata": {},
   "outputs": [
    {
     "data": {
      "text/plain": [
       "7720       2.666667\n",
       "6275       3.333333\n",
       "4759       3.333333\n",
       "1856       5.000000\n",
       "7152       5.333333\n",
       "            ...    \n",
       "6305      99.666667\n",
       "8883      99.666667\n",
       "8479      99.666667\n",
       "5132      99.666667\n",
       "12328    100.000000\n",
       "Name: COL_GRADE_AVG, Length: 4096, dtype: float64"
      ]
     },
     "execution_count": 24,
     "metadata": {},
     "output_type": "execute_result"
    }
   ],
   "source": [
    "# TESTER KOBLING MELLEM Y_TEST OG PREDS. \n",
    "\n",
    "\n",
    "y_test.index\n",
    "# y_pred_init\n",
    "# samlet_preds_plain_ex \n",
    "y_df = y_test.copy()\n",
    "y_df.columns = y_df.iloc[0]\n",
    "y_df.index.name = None\n",
    "# y_df.columns.name = None\n",
    "y_test.sort_values()\n",
    "# y_df = y_df[1:].reset_index().rename(columns={'index':'Idx'})\n",
    "\n",
    "# # # PLAIN = pd.read_csv('TWO_samlet_preds_index_ny_PLAIN.csv')\n",
    "# ONE_PLAIN_w_IDX = pd.concat([samlet_preds_plain_ex, y_df.Idx], axis=1, sort=False)\n",
    "# ONE_PLAIN_w_IDX"
   ]
  },
  {
   "cell_type": "code",
   "execution_count": 25,
   "metadata": {},
   "outputs": [],
   "source": [
    "# df = pd.read_csv(\"df_sum_score_ex.csv\")\n",
    "# dfs = df.copy()\n",
    "# mean_col = []\n",
    "# std_col = []\n",
    "# col = []\n",
    "# for column in dfs.columns:\n",
    "#     try: \n",
    "#         mean_col.append(dfs[column].mean())\n",
    "#         col.append(column)\n",
    "#         std_col.append(dfs[column].std())\n",
    "#     except:\n",
    "#         pass \n",
    "\n",
    "# raw_mean_std = pd.DataFrame(\n",
    "#     {'mean': mean_col,\n",
    "#      'std': std_col,\n",
    "#      'col': col\n",
    "#     })"
   ]
  },
  {
   "cell_type": "code",
   "execution_count": 26,
   "metadata": {},
   "outputs": [],
   "source": [
    "\n",
    "# #apply standardization to filtered original dataframe\n",
    "# dfs_rev = samlet_preds_plain_ex.copy()\n",
    "# dfs_rev"
   ]
  },
  {
   "cell_type": "code",
   "execution_count": 27,
   "metadata": {},
   "outputs": [
    {
     "data": {
      "text/plain": [
       "array([92.67417 , 92.67417 , 92.67417 , ..., 22.70613 , 22.640001,\n",
       "       22.640001], dtype=float32)"
      ]
     },
     "execution_count": 27,
     "metadata": {},
     "output_type": "execute_result"
    }
   ],
   "source": [
    "# sorte predictions med mergesort \n",
    "import numpy as np\n",
    "\n",
    "\n",
    "pred_sorted = np.sort(y_pred_final, axis=- 1, kind='mergesort')[::-1]\n",
    "pred_sorted\n",
    "# y_pred_final\n"
   ]
  },
  {
   "cell_type": "code",
   "execution_count": 28,
   "metadata": {},
   "outputs": [
    {
     "name": "stderr",
     "output_type": "stream",
     "text": [
      "findfont: Font family ['Helvetica Neue'] not found. Falling back to DejaVu Sans.\n",
      "findfont: Font family ['Helvetica Neue'] not found. Falling back to DejaVu Sans.\n"
     ]
    },
    {
     "data": {
      "image/png": "[encoded data removed]",
      "text/plain": [
       "<Figure size 2000x1000 with 1 Axes>"
      ]
     },
     "metadata": {
      "needs_background": "light"
     },
     "output_type": "display_data"
    },
    {
     "data": {
      "text/plain": [
       "<Figure size 2000x1000 with 0 Axes>"
      ]
     },
     "metadata": {},
     "output_type": "display_data"
    }
   ],
   "source": [
    "\n",
    "# Plotting\n",
    "import matplotlib as mpl\n",
    "def setup_mpl():\n",
    "    mpl.rcParams[\"font.family\"] = \"Helvetica Neue\"\n",
    "    mpl.rcParams[\"font.size\"] = 11\n",
    "    mpl.rcParams[\"figure.figsize\"] = (10,5)\n",
    "    mpl.rcParams[\"figure.dpi\"] = 200\n",
    "    # mpl.rcParams[\"lines.linewidth\"] = 1\n",
    "setup_mpl()\n",
    "\n",
    "x_ax = range(len(y_test))\n",
    "y_test_sorted = np.sort(y_test, axis=- 1, kind='mergesort')[::-1]\n",
    "plt.plot(x_ax, y_test_sorted, label=\"original\")\n",
    "plt.plot(x_ax, pred_sorted, label=\"predicted\")\n",
    "plt.title(\"Plain XGBoost,  College admissions test and predicted data\")\n",
    "plt.legend()\n",
    "plt.show()\n",
    "plt.savefig(\"plot_xgb_plain_ex.png\")"
   ]
  },
  {
   "cell_type": "markdown",
   "metadata": {},
   "source": [
    "## Til entropy and utility benyttes data samlet_preds_plain_ex"
   ]
  },
  {
   "cell_type": "code",
   "execution_count": null,
   "metadata": {},
   "outputs": [],
   "source": []
  }
 ],
 "metadata": {
  "interpreter": {
   "hash": "e2b6eb828a06aba2a5f38c98b0f742e720c3c24745e1f8335692b0a3c2eb5e5e"
  },
  "kernelspec": {
   "display_name": "Python 3.9.4 64-bit",
   "name": "python3"
  },
  "language_info": {
   "codemirror_mode": {
    "name": "ipython",
    "version": 3
   },
   "file_extension": ".py",
   "mimetype": "text/x-python",
   "name": "python",
   "nbconvert_exporter": "python",
   "pygments_lexer": "ipython3",
   "version": "3.9.4"
  },
  "orig_nbformat": 4
 },
 "nbformat": 4,
 "nbformat_minor": 2
}
