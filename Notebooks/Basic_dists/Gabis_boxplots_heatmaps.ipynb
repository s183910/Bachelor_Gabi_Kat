{
 "cells": [
  {
   "cell_type": "markdown",
   "metadata": {},
   "source": [
    "# Gabi tester datavisualisering "
   ]
  },
  {
   "cell_type": "code",
   "execution_count": 13,
   "metadata": {},
   "outputs": [],
   "source": [
    "import pandas as pd\n",
    "pd.set_option(\"display.max_columns\", None)\n",
    "import seaborn as sns\n",
    "sns.set()\n",
    "import matplotlib.pyplot as plt\n",
    "from matplotlib.pyplot import figure\n",
    "import matplotlib as mpl\n",
    "import numpy as np"
   ]
  },
  {
   "cell_type": "code",
   "execution_count": 3,
   "metadata": {},
   "outputs": [],
   "source": [
    "def setup_mpl():\n",
    "    mpl.rcParams[\"font.family\"] = \"Helvetica Neue\"\n",
    "    mpl.rcParams[\"font.size\"] = 11\n",
    "    mpl.rcParams[\"figure.figsize\"] = (7,2.5)\n",
    "    mpl.rcParams[\"figure.dpi\"] = 200\n",
    "    # mpl.rcParams[\"lines.linewidth\"] = 1\n",
    "setup_mpl()"
   ]
  },
  {
   "cell_type": "code",
   "execution_count": 5,
   "metadata": {},
   "outputs": [],
   "source": [
    "dfs = pd.read_csv(\"df_standardized_score.csv\")\n",
    "dfs = dfs[dfs.STRATUM != \"0\"] "
   ]
  },
  {
   "cell_type": "code",
   "execution_count": 3,
   "metadata": {},
   "outputs": [],
   "source": [
    "#Start here and load the dataframe\n",
    "df = pd.read_csv(\"dropped_col_df.csv\")\n",
    "df = df[df.STRATUM != \"0\"] #0 corresponds to nan, i.e. removing nans"
   ]
  },
  {
   "cell_type": "code",
   "execution_count": 4,
   "metadata": {},
   "outputs": [
    {
     "name": "stdout",
     "output_type": "stream",
     "text": [
      "<class 'pandas.core.frame.DataFrame'>\n",
      "Int64Index: 12397 entries, 0 to 12410\n",
      "Data columns (total 35 columns):\n",
      " #   Column            Non-Null Count  Dtype \n",
      "---  ------            --------------  ----- \n",
      " 0   Unnamed: 0        12397 non-null  int64 \n",
      " 1   COD_S11           12397 non-null  object\n",
      " 2   GENDER            12397 non-null  object\n",
      " 3   EDU_FATHER        12397 non-null  object\n",
      " 4   EDU_MOTHER        12397 non-null  object\n",
      " 5   OCC_FATHER        12397 non-null  object\n",
      " 6   OCC_MOTHER        12397 non-null  object\n",
      " 7   STRATUM           12397 non-null  object\n",
      " 8   SISBEN            12397 non-null  object\n",
      " 9   PEOPLE_HOUSE      12397 non-null  object\n",
      " 10  REVENUE           12397 non-null  object\n",
      " 11  JOB               12397 non-null  object\n",
      " 12  SCHOOL_NAME       12397 non-null  object\n",
      " 13  SCHOOL_NAT        12397 non-null  object\n",
      " 14  SCHOOL_TYPE       12397 non-null  object\n",
      " 15  MAT_S11           12397 non-null  int64 \n",
      " 16  CR_S11            12397 non-null  int64 \n",
      " 17  CC_S11            12397 non-null  int64 \n",
      " 18  BIO_S11           12397 non-null  int64 \n",
      " 19  ENG_S11           12397 non-null  int64 \n",
      " 20  Cod_SPro          12397 non-null  object\n",
      " 21  UNIVERSITY        12397 non-null  object\n",
      " 22  ACADEMIC_PROGRAM  12397 non-null  object\n",
      " 23  QR_PRO            12397 non-null  int64 \n",
      " 24  CR_PRO            12397 non-null  int64 \n",
      " 25  CC_PRO            12397 non-null  int64 \n",
      " 26  ENG_PRO           12397 non-null  int64 \n",
      " 27  WC_PRO            12397 non-null  int64 \n",
      " 28  FEP_PRO           12397 non-null  int64 \n",
      " 29  G_SC              12397 non-null  int64 \n",
      " 30  PERCENTILE        12397 non-null  int64 \n",
      " 31  2ND_DECILE        12397 non-null  int64 \n",
      " 32  QUARTILE          12397 non-null  int64 \n",
      " 33  SEL               12397 non-null  int64 \n",
      " 34  SEL_IHE           12397 non-null  int64 \n",
      "dtypes: int64(18), object(17)\n",
      "memory usage: 3.4+ MB\n"
     ]
    }
   ],
   "source": [
    "df.info()"
   ]
  },
  {
   "cell_type": "code",
   "execution_count": 5,
   "metadata": {
    "scrolled": true
   },
   "outputs": [
    {
     "data": {
      "text/html": [
       "<div>\n",
       "<style scoped>\n",
       "    .dataframe tbody tr th:only-of-type {\n",
       "        vertical-align: middle;\n",
       "    }\n",
       "\n",
       "    .dataframe tbody tr th {\n",
       "        vertical-align: top;\n",
       "    }\n",
       "\n",
       "    .dataframe thead th {\n",
       "        text-align: right;\n",
       "    }\n",
       "</style>\n",
       "<table border=\"1\" class=\"dataframe\">\n",
       "  <thead>\n",
       "    <tr style=\"text-align: right;\">\n",
       "      <th></th>\n",
       "      <th>Unnamed: 0</th>\n",
       "      <th>COD_S11</th>\n",
       "      <th>GENDER</th>\n",
       "      <th>EDU_FATHER</th>\n",
       "      <th>EDU_MOTHER</th>\n",
       "      <th>OCC_FATHER</th>\n",
       "      <th>OCC_MOTHER</th>\n",
       "      <th>STRATUM</th>\n",
       "      <th>SISBEN</th>\n",
       "      <th>PEOPLE_HOUSE</th>\n",
       "      <th>REVENUE</th>\n",
       "      <th>JOB</th>\n",
       "      <th>SCHOOL_NAME</th>\n",
       "      <th>SCHOOL_NAT</th>\n",
       "      <th>SCHOOL_TYPE</th>\n",
       "      <th>MAT_S11</th>\n",
       "      <th>CR_S11</th>\n",
       "      <th>CC_S11</th>\n",
       "      <th>BIO_S11</th>\n",
       "      <th>ENG_S11</th>\n",
       "      <th>Cod_SPro</th>\n",
       "      <th>UNIVERSITY</th>\n",
       "      <th>ACADEMIC_PROGRAM</th>\n",
       "      <th>QR_PRO</th>\n",
       "      <th>CR_PRO</th>\n",
       "      <th>CC_PRO</th>\n",
       "      <th>ENG_PRO</th>\n",
       "      <th>WC_PRO</th>\n",
       "      <th>FEP_PRO</th>\n",
       "      <th>G_SC</th>\n",
       "      <th>PERCENTILE</th>\n",
       "      <th>2ND_DECILE</th>\n",
       "      <th>QUARTILE</th>\n",
       "      <th>SEL</th>\n",
       "      <th>SEL_IHE</th>\n",
       "    </tr>\n",
       "  </thead>\n",
       "  <tbody>\n",
       "    <tr>\n",
       "      <th>0</th>\n",
       "      <td>0</td>\n",
       "      <td>SB11201210000129</td>\n",
       "      <td>F</td>\n",
       "      <td>Incomplete Professional Education</td>\n",
       "      <td>Complete technique or technology</td>\n",
       "      <td>Technical or professional level employee</td>\n",
       "      <td>Home</td>\n",
       "      <td>Stratum 4</td>\n",
       "      <td>It is not classified by the SISBEN</td>\n",
       "      <td>Three</td>\n",
       "      <td>Between 1 and less than 2 LMMW</td>\n",
       "      <td>No</td>\n",
       "      <td>COL NUEVO CAMBRIDGE</td>\n",
       "      <td>PRIVATE</td>\n",
       "      <td>ACADEMIC</td>\n",
       "      <td>71</td>\n",
       "      <td>81</td>\n",
       "      <td>61</td>\n",
       "      <td>86</td>\n",
       "      <td>82</td>\n",
       "      <td>EK201830142293</td>\n",
       "      <td>UNIVERSIDAD DE SANTANDER - UDES-BUCARAMANGA</td>\n",
       "      <td>INDUSTRIAL ENGINEERING</td>\n",
       "      <td>71</td>\n",
       "      <td>93</td>\n",
       "      <td>71</td>\n",
       "      <td>93</td>\n",
       "      <td>79</td>\n",
       "      <td>181</td>\n",
       "      <td>180</td>\n",
       "      <td>91</td>\n",
       "      <td>5</td>\n",
       "      <td>4</td>\n",
       "      <td>2</td>\n",
       "      <td>2</td>\n",
       "    </tr>\n",
       "    <tr>\n",
       "      <th>1</th>\n",
       "      <td>1</td>\n",
       "      <td>SB11201210000137</td>\n",
       "      <td>F</td>\n",
       "      <td>Complete Secundary</td>\n",
       "      <td>Complete professional education</td>\n",
       "      <td>Entrepreneur</td>\n",
       "      <td>Independent professional</td>\n",
       "      <td>Stratum 5</td>\n",
       "      <td>It is not classified by the SISBEN</td>\n",
       "      <td>Three</td>\n",
       "      <td>10 or more LMMW</td>\n",
       "      <td>No</td>\n",
       "      <td>COL LA QUINTA DEL PUENTE</td>\n",
       "      <td>PRIVATE</td>\n",
       "      <td>ACADEMIC</td>\n",
       "      <td>83</td>\n",
       "      <td>75</td>\n",
       "      <td>66</td>\n",
       "      <td>100</td>\n",
       "      <td>88</td>\n",
       "      <td>EK201830002633</td>\n",
       "      <td>UNIVERSIDAD DE LOS ANDES-BOGOTÁ D.C.</td>\n",
       "      <td>INDUSTRIAL ENGINEERING</td>\n",
       "      <td>97</td>\n",
       "      <td>38</td>\n",
       "      <td>86</td>\n",
       "      <td>98</td>\n",
       "      <td>78</td>\n",
       "      <td>201</td>\n",
       "      <td>182</td>\n",
       "      <td>92</td>\n",
       "      <td>5</td>\n",
       "      <td>4</td>\n",
       "      <td>4</td>\n",
       "      <td>4</td>\n",
       "    </tr>\n",
       "    <tr>\n",
       "      <th>2</th>\n",
       "      <td>2</td>\n",
       "      <td>SB11201210005154</td>\n",
       "      <td>M</td>\n",
       "      <td>Not sure</td>\n",
       "      <td>Not sure</td>\n",
       "      <td>Independent</td>\n",
       "      <td>Home</td>\n",
       "      <td>Stratum 2</td>\n",
       "      <td>Level 2</td>\n",
       "      <td>Five</td>\n",
       "      <td>Between 1 and less than 2 LMMW</td>\n",
       "      <td>Yes, 20 hours or more per week</td>\n",
       "      <td>CENT EDUC PAULO FREIRE                        ...</td>\n",
       "      <td>PRIVATE</td>\n",
       "      <td>ACADEMIC</td>\n",
       "      <td>52</td>\n",
       "      <td>49</td>\n",
       "      <td>38</td>\n",
       "      <td>46</td>\n",
       "      <td>42</td>\n",
       "      <td>EK201830196510</td>\n",
       "      <td>UNIVERSIDAD NACIONAL ABIERTA Y A DISTANCIA UNA...</td>\n",
       "      <td>ELECTRONIC ENGINEERING</td>\n",
       "      <td>17</td>\n",
       "      <td>1</td>\n",
       "      <td>18</td>\n",
       "      <td>43</td>\n",
       "      <td>22</td>\n",
       "      <td>113</td>\n",
       "      <td>113</td>\n",
       "      <td>7</td>\n",
       "      <td>1</td>\n",
       "      <td>1</td>\n",
       "      <td>1</td>\n",
       "      <td>1</td>\n",
       "    </tr>\n",
       "    <tr>\n",
       "      <th>3</th>\n",
       "      <td>3</td>\n",
       "      <td>SB11201210007504</td>\n",
       "      <td>F</td>\n",
       "      <td>Not sure</td>\n",
       "      <td>Not sure</td>\n",
       "      <td>Other occupation</td>\n",
       "      <td>Independent</td>\n",
       "      <td>Stratum 2</td>\n",
       "      <td>It is not classified by the SISBEN</td>\n",
       "      <td>Three</td>\n",
       "      <td>Between 2 and less than 3 LMMW</td>\n",
       "      <td>No</td>\n",
       "      <td>LICEO ANDINO</td>\n",
       "      <td>PRIVATE</td>\n",
       "      <td>ACADEMIC</td>\n",
       "      <td>56</td>\n",
       "      <td>55</td>\n",
       "      <td>51</td>\n",
       "      <td>64</td>\n",
       "      <td>73</td>\n",
       "      <td>EK201830031665</td>\n",
       "      <td>UNIVERSIDAD CATOLICA DE PEREIRA-PEREIRA</td>\n",
       "      <td>INDUSTRIAL ENGINEERING</td>\n",
       "      <td>65</td>\n",
       "      <td>35</td>\n",
       "      <td>76</td>\n",
       "      <td>80</td>\n",
       "      <td>48</td>\n",
       "      <td>137</td>\n",
       "      <td>157</td>\n",
       "      <td>67</td>\n",
       "      <td>4</td>\n",
       "      <td>3</td>\n",
       "      <td>2</td>\n",
       "      <td>2</td>\n",
       "    </tr>\n",
       "    <tr>\n",
       "      <th>4</th>\n",
       "      <td>4</td>\n",
       "      <td>SB11201210007548</td>\n",
       "      <td>M</td>\n",
       "      <td>Complete professional education</td>\n",
       "      <td>Complete professional education</td>\n",
       "      <td>Executive</td>\n",
       "      <td>Home</td>\n",
       "      <td>Stratum 4</td>\n",
       "      <td>It is not classified by the SISBEN</td>\n",
       "      <td>One</td>\n",
       "      <td>Between 7 and less than 10 LMMW</td>\n",
       "      <td>No</td>\n",
       "      <td>LIC TALLER SAN MIGUEL</td>\n",
       "      <td>PRIVATE</td>\n",
       "      <td>ACADEMIC</td>\n",
       "      <td>80</td>\n",
       "      <td>65</td>\n",
       "      <td>76</td>\n",
       "      <td>85</td>\n",
       "      <td>92</td>\n",
       "      <td>EK201830130461</td>\n",
       "      <td>UNIVERSIDAD INDUSTRIAL DE SANTANDER-BUCARAMANGA</td>\n",
       "      <td>INDUSTRIAL ENGINEERING</td>\n",
       "      <td>94</td>\n",
       "      <td>94</td>\n",
       "      <td>98</td>\n",
       "      <td>100</td>\n",
       "      <td>71</td>\n",
       "      <td>189</td>\n",
       "      <td>198</td>\n",
       "      <td>98</td>\n",
       "      <td>5</td>\n",
       "      <td>4</td>\n",
       "      <td>4</td>\n",
       "      <td>2</td>\n",
       "    </tr>\n",
       "  </tbody>\n",
       "</table>\n",
       "</div>"
      ],
      "text/plain": [
       "   Unnamed: 0           COD_S11 GENDER                         EDU_FATHER  \\\n",
       "0           0  SB11201210000129      F  Incomplete Professional Education   \n",
       "1           1  SB11201210000137      F                 Complete Secundary   \n",
       "2           2  SB11201210005154      M                           Not sure   \n",
       "3           3  SB11201210007504      F                           Not sure   \n",
       "4           4  SB11201210007548      M    Complete professional education   \n",
       "\n",
       "                         EDU_MOTHER                                OCC_FATHER  \\\n",
       "0  Complete technique or technology  Technical or professional level employee   \n",
       "1   Complete professional education                             Entrepreneur    \n",
       "2                          Not sure                               Independent   \n",
       "3                          Not sure                          Other occupation   \n",
       "4   Complete professional education                                 Executive   \n",
       "\n",
       "                 OCC_MOTHER    STRATUM                              SISBEN  \\\n",
       "0                      Home  Stratum 4  It is not classified by the SISBEN   \n",
       "1  Independent professional  Stratum 5  It is not classified by the SISBEN   \n",
       "2                      Home  Stratum 2                             Level 2   \n",
       "3               Independent  Stratum 2  It is not classified by the SISBEN   \n",
       "4                      Home  Stratum 4  It is not classified by the SISBEN   \n",
       "\n",
       "  PEOPLE_HOUSE                          REVENUE  \\\n",
       "0        Three   Between 1 and less than 2 LMMW   \n",
       "1        Three                  10 or more LMMW   \n",
       "2         Five   Between 1 and less than 2 LMMW   \n",
       "3        Three   Between 2 and less than 3 LMMW   \n",
       "4          One  Between 7 and less than 10 LMMW   \n",
       "\n",
       "                              JOB  \\\n",
       "0                              No   \n",
       "1                              No   \n",
       "2  Yes, 20 hours or more per week   \n",
       "3                              No   \n",
       "4                              No   \n",
       "\n",
       "                                         SCHOOL_NAME SCHOOL_NAT SCHOOL_TYPE  \\\n",
       "0                                COL NUEVO CAMBRIDGE    PRIVATE    ACADEMIC   \n",
       "1                           COL LA QUINTA DEL PUENTE    PRIVATE    ACADEMIC   \n",
       "2  CENT EDUC PAULO FREIRE                        ...    PRIVATE    ACADEMIC   \n",
       "3                                       LICEO ANDINO    PRIVATE    ACADEMIC   \n",
       "4                              LIC TALLER SAN MIGUEL    PRIVATE    ACADEMIC   \n",
       "\n",
       "   MAT_S11  CR_S11  CC_S11  BIO_S11  ENG_S11        Cod_SPro  \\\n",
       "0       71      81      61       86       82  EK201830142293   \n",
       "1       83      75      66      100       88  EK201830002633   \n",
       "2       52      49      38       46       42  EK201830196510   \n",
       "3       56      55      51       64       73  EK201830031665   \n",
       "4       80      65      76       85       92  EK201830130461   \n",
       "\n",
       "                                          UNIVERSITY        ACADEMIC_PROGRAM  \\\n",
       "0        UNIVERSIDAD DE SANTANDER - UDES-BUCARAMANGA  INDUSTRIAL ENGINEERING   \n",
       "1               UNIVERSIDAD DE LOS ANDES-BOGOTÁ D.C.  INDUSTRIAL ENGINEERING   \n",
       "2  UNIVERSIDAD NACIONAL ABIERTA Y A DISTANCIA UNA...  ELECTRONIC ENGINEERING   \n",
       "3            UNIVERSIDAD CATOLICA DE PEREIRA-PEREIRA  INDUSTRIAL ENGINEERING   \n",
       "4    UNIVERSIDAD INDUSTRIAL DE SANTANDER-BUCARAMANGA  INDUSTRIAL ENGINEERING   \n",
       "\n",
       "   QR_PRO  CR_PRO  CC_PRO  ENG_PRO  WC_PRO  FEP_PRO  G_SC  PERCENTILE  \\\n",
       "0      71      93      71       93      79      181   180          91   \n",
       "1      97      38      86       98      78      201   182          92   \n",
       "2      17       1      18       43      22      113   113           7   \n",
       "3      65      35      76       80      48      137   157          67   \n",
       "4      94      94      98      100      71      189   198          98   \n",
       "\n",
       "   2ND_DECILE  QUARTILE  SEL  SEL_IHE  \n",
       "0           5         4    2        2  \n",
       "1           5         4    4        4  \n",
       "2           1         1    1        1  \n",
       "3           4         3    2        2  \n",
       "4           5         4    4        2  "
      ]
     },
     "execution_count": 5,
     "metadata": {},
     "output_type": "execute_result"
    }
   ],
   "source": [
    "df.head()"
   ]
  },
  {
   "cell_type": "code",
   "execution_count": 7,
   "metadata": {},
   "outputs": [
    {
     "data": {
      "text/plain": [
       "2    7735\n",
       "4    2692\n",
       "1    1136\n",
       "3     834\n",
       "Name: SEL_IHE, dtype: int64"
      ]
     },
     "execution_count": 7,
     "metadata": {},
     "output_type": "execute_result"
    }
   ],
   "source": [
    "df.SEL_IHE.value_counts()"
   ]
  },
  {
   "cell_type": "code",
   "execution_count": 8,
   "metadata": {},
   "outputs": [
    {
     "ename": "KeyError",
     "evalue": "\"['COL_GRADE_AVG'] not in index\"",
     "output_type": "error",
     "traceback": [
      "\u001b[0;31m---------------------------------------------------------------------------\u001b[0m",
      "\u001b[0;31mKeyError\u001b[0m                                  Traceback (most recent call last)",
      "\u001b[0;32m/var/folders/hl/6j_44f453mvc5lr922s8d0l80000gn/T/ipykernel_84615/2693292006.py\u001b[0m in \u001b[0;36m<module>\u001b[0;34m\u001b[0m\n\u001b[1;32m      1\u001b[0m \u001b[0;31m# Men and women college grades average histograms\u001b[0m\u001b[0;34m\u001b[0m\u001b[0;34m\u001b[0m\u001b[0;34m\u001b[0m\u001b[0m\n\u001b[1;32m      2\u001b[0m \u001b[0;31m# plt.figure(figsize=(8,6))\u001b[0m\u001b[0;34m\u001b[0m\u001b[0;34m\u001b[0m\u001b[0;34m\u001b[0m\u001b[0m\n\u001b[0;32m----> 3\u001b[0;31m \u001b[0mmen\u001b[0m \u001b[0;34m=\u001b[0m \u001b[0mdf\u001b[0m\u001b[0;34m[\u001b[0m\u001b[0mdf\u001b[0m\u001b[0;34m.\u001b[0m\u001b[0mGENDER\u001b[0m\u001b[0;34m==\u001b[0m\u001b[0;34m'M'\u001b[0m\u001b[0;34m]\u001b[0m\u001b[0;34m[\u001b[0m\u001b[0;34m[\u001b[0m\u001b[0;34m'GENDER'\u001b[0m\u001b[0;34m,\u001b[0m\u001b[0;34m'COL_GRADE_AVG'\u001b[0m\u001b[0;34m]\u001b[0m\u001b[0;34m]\u001b[0m\u001b[0;34m\u001b[0m\u001b[0;34m\u001b[0m\u001b[0m\n\u001b[0m\u001b[1;32m      4\u001b[0m \u001b[0mwomen\u001b[0m \u001b[0;34m=\u001b[0m \u001b[0mdf\u001b[0m\u001b[0;34m[\u001b[0m\u001b[0mdf\u001b[0m\u001b[0;34m.\u001b[0m\u001b[0mGENDER\u001b[0m\u001b[0;34m==\u001b[0m\u001b[0;34m'F'\u001b[0m\u001b[0;34m]\u001b[0m\u001b[0;34m[\u001b[0m\u001b[0;34m[\u001b[0m\u001b[0;34m'GENDER'\u001b[0m\u001b[0;34m,\u001b[0m\u001b[0;34m'COL_GRADE_AVG'\u001b[0m\u001b[0;34m]\u001b[0m\u001b[0;34m]\u001b[0m\u001b[0;34m\u001b[0m\u001b[0;34m\u001b[0m\u001b[0m\n\u001b[1;32m      5\u001b[0m \u001b[0mfig\u001b[0m\u001b[0;34m,\u001b[0m\u001b[0max\u001b[0m \u001b[0;34m=\u001b[0m \u001b[0mplt\u001b[0m\u001b[0;34m.\u001b[0m\u001b[0msubplots\u001b[0m\u001b[0;34m(\u001b[0m\u001b[0;34m)\u001b[0m\u001b[0;34m\u001b[0m\u001b[0;34m\u001b[0m\u001b[0m\n",
      "\u001b[0;32m~/opt/anaconda3/lib/python3.8/site-packages/pandas/core/frame.py\u001b[0m in \u001b[0;36m__getitem__\u001b[0;34m(self, key)\u001b[0m\n\u001b[1;32m   3459\u001b[0m             \u001b[0;32mif\u001b[0m \u001b[0mis_iterator\u001b[0m\u001b[0;34m(\u001b[0m\u001b[0mkey\u001b[0m\u001b[0;34m)\u001b[0m\u001b[0;34m:\u001b[0m\u001b[0;34m\u001b[0m\u001b[0;34m\u001b[0m\u001b[0m\n\u001b[1;32m   3460\u001b[0m                 \u001b[0mkey\u001b[0m \u001b[0;34m=\u001b[0m \u001b[0mlist\u001b[0m\u001b[0;34m(\u001b[0m\u001b[0mkey\u001b[0m\u001b[0;34m)\u001b[0m\u001b[0;34m\u001b[0m\u001b[0;34m\u001b[0m\u001b[0m\n\u001b[0;32m-> 3461\u001b[0;31m             \u001b[0mindexer\u001b[0m \u001b[0;34m=\u001b[0m \u001b[0mself\u001b[0m\u001b[0;34m.\u001b[0m\u001b[0mloc\u001b[0m\u001b[0;34m.\u001b[0m\u001b[0m_get_listlike_indexer\u001b[0m\u001b[0;34m(\u001b[0m\u001b[0mkey\u001b[0m\u001b[0;34m,\u001b[0m \u001b[0maxis\u001b[0m\u001b[0;34m=\u001b[0m\u001b[0;36m1\u001b[0m\u001b[0;34m)\u001b[0m\u001b[0;34m[\u001b[0m\u001b[0;36m1\u001b[0m\u001b[0;34m]\u001b[0m\u001b[0;34m\u001b[0m\u001b[0;34m\u001b[0m\u001b[0m\n\u001b[0m\u001b[1;32m   3462\u001b[0m \u001b[0;34m\u001b[0m\u001b[0m\n\u001b[1;32m   3463\u001b[0m         \u001b[0;31m# take() does not accept boolean indexers\u001b[0m\u001b[0;34m\u001b[0m\u001b[0;34m\u001b[0m\u001b[0;34m\u001b[0m\u001b[0m\n",
      "\u001b[0;32m~/opt/anaconda3/lib/python3.8/site-packages/pandas/core/indexing.py\u001b[0m in \u001b[0;36m_get_listlike_indexer\u001b[0;34m(self, key, axis)\u001b[0m\n\u001b[1;32m   1312\u001b[0m             \u001b[0mkeyarr\u001b[0m\u001b[0;34m,\u001b[0m \u001b[0mindexer\u001b[0m\u001b[0;34m,\u001b[0m \u001b[0mnew_indexer\u001b[0m \u001b[0;34m=\u001b[0m \u001b[0max\u001b[0m\u001b[0;34m.\u001b[0m\u001b[0m_reindex_non_unique\u001b[0m\u001b[0;34m(\u001b[0m\u001b[0mkeyarr\u001b[0m\u001b[0;34m)\u001b[0m\u001b[0;34m\u001b[0m\u001b[0;34m\u001b[0m\u001b[0m\n\u001b[1;32m   1313\u001b[0m \u001b[0;34m\u001b[0m\u001b[0m\n\u001b[0;32m-> 1314\u001b[0;31m         \u001b[0mself\u001b[0m\u001b[0;34m.\u001b[0m\u001b[0m_validate_read_indexer\u001b[0m\u001b[0;34m(\u001b[0m\u001b[0mkeyarr\u001b[0m\u001b[0;34m,\u001b[0m \u001b[0mindexer\u001b[0m\u001b[0;34m,\u001b[0m \u001b[0maxis\u001b[0m\u001b[0;34m)\u001b[0m\u001b[0;34m\u001b[0m\u001b[0;34m\u001b[0m\u001b[0m\n\u001b[0m\u001b[1;32m   1315\u001b[0m \u001b[0;34m\u001b[0m\u001b[0m\n\u001b[1;32m   1316\u001b[0m         if needs_i8_conversion(ax.dtype) or isinstance(\n",
      "\u001b[0;32m~/opt/anaconda3/lib/python3.8/site-packages/pandas/core/indexing.py\u001b[0m in \u001b[0;36m_validate_read_indexer\u001b[0;34m(self, key, indexer, axis)\u001b[0m\n\u001b[1;32m   1375\u001b[0m \u001b[0;34m\u001b[0m\u001b[0m\n\u001b[1;32m   1376\u001b[0m             \u001b[0mnot_found\u001b[0m \u001b[0;34m=\u001b[0m \u001b[0mlist\u001b[0m\u001b[0;34m(\u001b[0m\u001b[0mensure_index\u001b[0m\u001b[0;34m(\u001b[0m\u001b[0mkey\u001b[0m\u001b[0;34m)\u001b[0m\u001b[0;34m[\u001b[0m\u001b[0mmissing_mask\u001b[0m\u001b[0;34m.\u001b[0m\u001b[0mnonzero\u001b[0m\u001b[0;34m(\u001b[0m\u001b[0;34m)\u001b[0m\u001b[0;34m[\u001b[0m\u001b[0;36m0\u001b[0m\u001b[0;34m]\u001b[0m\u001b[0;34m]\u001b[0m\u001b[0;34m.\u001b[0m\u001b[0munique\u001b[0m\u001b[0;34m(\u001b[0m\u001b[0;34m)\u001b[0m\u001b[0;34m)\u001b[0m\u001b[0;34m\u001b[0m\u001b[0;34m\u001b[0m\u001b[0m\n\u001b[0;32m-> 1377\u001b[0;31m             \u001b[0;32mraise\u001b[0m \u001b[0mKeyError\u001b[0m\u001b[0;34m(\u001b[0m\u001b[0;34mf\"{not_found} not in index\"\u001b[0m\u001b[0;34m)\u001b[0m\u001b[0;34m\u001b[0m\u001b[0;34m\u001b[0m\u001b[0m\n\u001b[0m\u001b[1;32m   1378\u001b[0m \u001b[0;34m\u001b[0m\u001b[0m\n\u001b[1;32m   1379\u001b[0m \u001b[0;34m\u001b[0m\u001b[0m\n",
      "\u001b[0;31mKeyError\u001b[0m: \"['COL_GRADE_AVG'] not in index\""
     ]
    }
   ],
   "source": [
    "# Men and women college grades average histograms\n",
    "# plt.figure(figsize=(8,6))\n",
    "men = df[df.GENDER=='M'][['GENDER','COL_GRADE_AVG']]\n",
    "women = df[df.GENDER=='F'][['GENDER','COL_GRADE_AVG']]\n",
    "fig,ax = plt.subplots()\n",
    "plt.hist([women.COL_GRADE_AVG, men.COL_GRADE_AVG], 31, histtype='barstacked', density=False, alpha=0.4, edgecolor='none', label=['Females','Males'])\n",
    "#TODO legend added\n",
    "\n",
    "plt.xlabel(\"Average grades in highschool\", size=14)\n",
    "plt.legend()\n",
    "plt.ylabel(\"Count\", size=14)\n",
    "plt.title(\"College grades distributions of females and males\")\n",
    "plt.legend(loc='upper right')\n"
   ]
  },
  {
   "cell_type": "markdown",
   "metadata": {},
   "source": [
    "## Normalization of data"
   ]
  },
  {
   "cell_type": "markdown",
   "metadata": {},
   "source": [
    "#### Average score generation"
   ]
  },
  {
   "cell_type": "code",
   "execution_count": 8,
   "metadata": {},
   "outputs": [],
   "source": [
    "df[\"HI_GRADE_AVG\"] = df[[\"CR_S11\", \"CC_S11\", \"ENG_S11\"]].mean(axis=1)\n",
    "df[\"COL_GRADE_AVG\"] = df[[\"CR_PRO\", \"CC_PRO\", \"ENG_PRO\"]].mean(axis=1)"
   ]
  },
  {
   "cell_type": "markdown",
   "metadata": {},
   "source": [
    "#### Gender distribution"
   ]
  },
  {
   "cell_type": "code",
   "execution_count": 9,
   "metadata": {},
   "outputs": [
    {
     "data": {
      "text/html": [
       "<div>\n",
       "<style scoped>\n",
       "    .dataframe tbody tr th:only-of-type {\n",
       "        vertical-align: middle;\n",
       "    }\n",
       "\n",
       "    .dataframe tbody tr th {\n",
       "        vertical-align: top;\n",
       "    }\n",
       "\n",
       "    .dataframe thead th {\n",
       "        text-align: right;\n",
       "    }\n",
       "</style>\n",
       "<table border=\"1\" class=\"dataframe\">\n",
       "  <thead>\n",
       "    <tr style=\"text-align: right;\">\n",
       "      <th></th>\n",
       "      <th>HI_GRADE_AVG</th>\n",
       "    </tr>\n",
       "    <tr>\n",
       "      <th>GENDER</th>\n",
       "      <th></th>\n",
       "    </tr>\n",
       "  </thead>\n",
       "  <tbody>\n",
       "    <tr>\n",
       "      <th>F</th>\n",
       "      <td>60.775462</td>\n",
       "    </tr>\n",
       "    <tr>\n",
       "      <th>M</th>\n",
       "      <td>61.329393</td>\n",
       "    </tr>\n",
       "  </tbody>\n",
       "</table>\n",
       "</div>"
      ],
      "text/plain": [
       "        HI_GRADE_AVG\n",
       "GENDER              \n",
       "F          60.775462\n",
       "M          61.329393"
      ]
     },
     "execution_count": 9,
     "metadata": {},
     "output_type": "execute_result"
    }
   ],
   "source": [
    "df[[\"GENDER\", \"HI_GRADE_AVG\"]].groupby([\"GENDER\"]).mean()"
   ]
  },
  {
   "cell_type": "code",
   "execution_count": 10,
   "metadata": {},
   "outputs": [
    {
     "data": {
      "text/html": [
       "<div>\n",
       "<style scoped>\n",
       "    .dataframe tbody tr th:only-of-type {\n",
       "        vertical-align: middle;\n",
       "    }\n",
       "\n",
       "    .dataframe tbody tr th {\n",
       "        vertical-align: top;\n",
       "    }\n",
       "\n",
       "    .dataframe thead th {\n",
       "        text-align: right;\n",
       "    }\n",
       "</style>\n",
       "<table border=\"1\" class=\"dataframe\">\n",
       "  <thead>\n",
       "    <tr style=\"text-align: right;\">\n",
       "      <th></th>\n",
       "      <th>Unnamed: 0</th>\n",
       "    </tr>\n",
       "    <tr>\n",
       "      <th>GENDER</th>\n",
       "      <th></th>\n",
       "    </tr>\n",
       "  </thead>\n",
       "  <tbody>\n",
       "    <tr>\n",
       "      <th>F</th>\n",
       "      <td>5037</td>\n",
       "    </tr>\n",
       "    <tr>\n",
       "      <th>M</th>\n",
       "      <td>7360</td>\n",
       "    </tr>\n",
       "  </tbody>\n",
       "</table>\n",
       "</div>"
      ],
      "text/plain": [
       "        Unnamed: 0\n",
       "GENDER            \n",
       "F             5037\n",
       "M             7360"
      ]
     },
     "execution_count": 10,
     "metadata": {},
     "output_type": "execute_result"
    }
   ],
   "source": [
    "df[[\"GENDER\", \"HI_GRADE_AVG\"]].groupby([\"GENDER\"]).mean()\n",
    "df[[\"GENDER\", \"Unnamed: 0\"]].groupby([\"GENDER\"]).count()"
   ]
  },
  {
   "cell_type": "markdown",
   "metadata": {},
   "source": [
    "#### Socieconomic levels (\"Stratum\") distribution"
   ]
  },
  {
   "cell_type": "code",
   "execution_count": 11,
   "metadata": {},
   "outputs": [
    {
     "data": {
      "text/html": [
       "<div>\n",
       "<style scoped>\n",
       "    .dataframe tbody tr th:only-of-type {\n",
       "        vertical-align: middle;\n",
       "    }\n",
       "\n",
       "    .dataframe tbody tr th {\n",
       "        vertical-align: top;\n",
       "    }\n",
       "\n",
       "    .dataframe thead th {\n",
       "        text-align: right;\n",
       "    }\n",
       "</style>\n",
       "<table border=\"1\" class=\"dataframe\">\n",
       "  <thead>\n",
       "    <tr style=\"text-align: right;\">\n",
       "      <th></th>\n",
       "      <th></th>\n",
       "      <th>Unnamed: 0</th>\n",
       "    </tr>\n",
       "    <tr>\n",
       "      <th>SEL</th>\n",
       "      <th>STRATUM</th>\n",
       "      <th></th>\n",
       "    </tr>\n",
       "  </thead>\n",
       "  <tbody>\n",
       "    <tr>\n",
       "      <th rowspan=\"6\" valign=\"top\">1</th>\n",
       "      <th>Stratum 1</th>\n",
       "      <td>837</td>\n",
       "    </tr>\n",
       "    <tr>\n",
       "      <th>Stratum 2</th>\n",
       "      <td>923</td>\n",
       "    </tr>\n",
       "    <tr>\n",
       "      <th>Stratum 3</th>\n",
       "      <td>326</td>\n",
       "    </tr>\n",
       "    <tr>\n",
       "      <th>Stratum 4</th>\n",
       "      <td>40</td>\n",
       "    </tr>\n",
       "    <tr>\n",
       "      <th>Stratum 5</th>\n",
       "      <td>3</td>\n",
       "    </tr>\n",
       "    <tr>\n",
       "      <th>Stratum 6</th>\n",
       "      <td>6</td>\n",
       "    </tr>\n",
       "    <tr>\n",
       "      <th rowspan=\"6\" valign=\"top\">2</th>\n",
       "      <th>Stratum 1</th>\n",
       "      <td>685</td>\n",
       "    </tr>\n",
       "    <tr>\n",
       "      <th>Stratum 2</th>\n",
       "      <td>2038</td>\n",
       "    </tr>\n",
       "    <tr>\n",
       "      <th>Stratum 3</th>\n",
       "      <td>1580</td>\n",
       "    </tr>\n",
       "    <tr>\n",
       "      <th>Stratum 4</th>\n",
       "      <td>339</td>\n",
       "    </tr>\n",
       "    <tr>\n",
       "      <th>Stratum 5</th>\n",
       "      <td>70</td>\n",
       "    </tr>\n",
       "    <tr>\n",
       "      <th>Stratum 6</th>\n",
       "      <td>24</td>\n",
       "    </tr>\n",
       "    <tr>\n",
       "      <th rowspan=\"6\" valign=\"top\">3</th>\n",
       "      <th>Stratum 1</th>\n",
       "      <td>104</td>\n",
       "    </tr>\n",
       "    <tr>\n",
       "      <th>Stratum 2</th>\n",
       "      <td>458</td>\n",
       "    </tr>\n",
       "    <tr>\n",
       "      <th>Stratum 3</th>\n",
       "      <td>676</td>\n",
       "    </tr>\n",
       "    <tr>\n",
       "      <th>Stratum 4</th>\n",
       "      <td>171</td>\n",
       "    </tr>\n",
       "    <tr>\n",
       "      <th>Stratum 5</th>\n",
       "      <td>66</td>\n",
       "    </tr>\n",
       "    <tr>\n",
       "      <th>Stratum 6</th>\n",
       "      <td>13</td>\n",
       "    </tr>\n",
       "    <tr>\n",
       "      <th rowspan=\"6\" valign=\"top\">4</th>\n",
       "      <th>Stratum 1</th>\n",
       "      <td>83</td>\n",
       "    </tr>\n",
       "    <tr>\n",
       "      <th>Stratum 2</th>\n",
       "      <td>610</td>\n",
       "    </tr>\n",
       "    <tr>\n",
       "      <th>Stratum 3</th>\n",
       "      <td>1463</td>\n",
       "    </tr>\n",
       "    <tr>\n",
       "      <th>Stratum 4</th>\n",
       "      <td>1028</td>\n",
       "    </tr>\n",
       "    <tr>\n",
       "      <th>Stratum 5</th>\n",
       "      <td>494</td>\n",
       "    </tr>\n",
       "    <tr>\n",
       "      <th>Stratum 6</th>\n",
       "      <td>360</td>\n",
       "    </tr>\n",
       "  </tbody>\n",
       "</table>\n",
       "</div>"
      ],
      "text/plain": [
       "               Unnamed: 0\n",
       "SEL STRATUM              \n",
       "1   Stratum 1         837\n",
       "    Stratum 2         923\n",
       "    Stratum 3         326\n",
       "    Stratum 4          40\n",
       "    Stratum 5           3\n",
       "    Stratum 6           6\n",
       "2   Stratum 1         685\n",
       "    Stratum 2        2038\n",
       "    Stratum 3        1580\n",
       "    Stratum 4         339\n",
       "    Stratum 5          70\n",
       "    Stratum 6          24\n",
       "3   Stratum 1         104\n",
       "    Stratum 2         458\n",
       "    Stratum 3         676\n",
       "    Stratum 4         171\n",
       "    Stratum 5          66\n",
       "    Stratum 6          13\n",
       "4   Stratum 1          83\n",
       "    Stratum 2         610\n",
       "    Stratum 3        1463\n",
       "    Stratum 4        1028\n",
       "    Stratum 5         494\n",
       "    Stratum 6         360"
      ]
     },
     "execution_count": 11,
     "metadata": {},
     "output_type": "execute_result"
    }
   ],
   "source": [
    "df[[\"SEL\", \"STRATUM\", \"Unnamed: 0\"]].groupby([\"SEL\",\"STRATUM\"]).count()"
   ]
  },
  {
   "cell_type": "code",
   "execution_count": 12,
   "metadata": {},
   "outputs": [
    {
     "data": {
      "text/html": [
       "<div>\n",
       "<style scoped>\n",
       "    .dataframe tbody tr th:only-of-type {\n",
       "        vertical-align: middle;\n",
       "    }\n",
       "\n",
       "    .dataframe tbody tr th {\n",
       "        vertical-align: top;\n",
       "    }\n",
       "\n",
       "    .dataframe thead th {\n",
       "        text-align: right;\n",
       "    }\n",
       "</style>\n",
       "<table border=\"1\" class=\"dataframe\">\n",
       "  <thead>\n",
       "    <tr style=\"text-align: right;\">\n",
       "      <th></th>\n",
       "      <th>Unnamed: 0</th>\n",
       "      <th>n_strat_ratio</th>\n",
       "    </tr>\n",
       "    <tr>\n",
       "      <th>STRATUM</th>\n",
       "      <th></th>\n",
       "      <th></th>\n",
       "    </tr>\n",
       "  </thead>\n",
       "  <tbody>\n",
       "    <tr>\n",
       "      <th>Stratum 1</th>\n",
       "      <td>1709</td>\n",
       "      <td>13.785593</td>\n",
       "    </tr>\n",
       "    <tr>\n",
       "      <th>Stratum 2</th>\n",
       "      <td>4029</td>\n",
       "      <td>32.499798</td>\n",
       "    </tr>\n",
       "    <tr>\n",
       "      <th>Stratum 3</th>\n",
       "      <td>4045</td>\n",
       "      <td>32.628862</td>\n",
       "    </tr>\n",
       "    <tr>\n",
       "      <th>Stratum 4</th>\n",
       "      <td>1578</td>\n",
       "      <td>12.728886</td>\n",
       "    </tr>\n",
       "    <tr>\n",
       "      <th>Stratum 5</th>\n",
       "      <td>633</td>\n",
       "      <td>5.106074</td>\n",
       "    </tr>\n",
       "    <tr>\n",
       "      <th>Stratum 6</th>\n",
       "      <td>403</td>\n",
       "      <td>3.250786</td>\n",
       "    </tr>\n",
       "  </tbody>\n",
       "</table>\n",
       "</div>"
      ],
      "text/plain": [
       "           Unnamed: 0  n_strat_ratio\n",
       "STRATUM                             \n",
       "Stratum 1        1709      13.785593\n",
       "Stratum 2        4029      32.499798\n",
       "Stratum 3        4045      32.628862\n",
       "Stratum 4        1578      12.728886\n",
       "Stratum 5         633       5.106074\n",
       "Stratum 6         403       3.250786"
      ]
     },
     "execution_count": 12,
     "metadata": {},
     "output_type": "execute_result"
    }
   ],
   "source": [
    "# Vi holder os til de klasser der er\n",
    "\n",
    "strat_df = df[[\"STRATUM\", \"Unnamed: 0\"]].groupby([\"STRATUM\"]).count()\n",
    "strat_df[\"n_strat_ratio\"] = strat_df[\"Unnamed: 0\"].apply(lambda x: (x/(len(df))*100))\n",
    "strat_df"
   ]
  },
  {
   "cell_type": "code",
   "execution_count": 13,
   "metadata": {},
   "outputs": [
    {
     "data": {
      "text/html": [
       "<div>\n",
       "<style scoped>\n",
       "    .dataframe tbody tr th:only-of-type {\n",
       "        vertical-align: middle;\n",
       "    }\n",
       "\n",
       "    .dataframe tbody tr th {\n",
       "        vertical-align: top;\n",
       "    }\n",
       "\n",
       "    .dataframe thead th {\n",
       "        text-align: right;\n",
       "    }\n",
       "</style>\n",
       "<table border=\"1\" class=\"dataframe\">\n",
       "  <thead>\n",
       "    <tr style=\"text-align: right;\">\n",
       "      <th></th>\n",
       "      <th>HI_GRADE_AVG</th>\n",
       "    </tr>\n",
       "    <tr>\n",
       "      <th>STRATUM</th>\n",
       "      <th></th>\n",
       "    </tr>\n",
       "  </thead>\n",
       "  <tbody>\n",
       "    <tr>\n",
       "      <th>Stratum 1</th>\n",
       "      <td>55.926078</td>\n",
       "    </tr>\n",
       "    <tr>\n",
       "      <th>Stratum 2</th>\n",
       "      <td>58.515678</td>\n",
       "    </tr>\n",
       "    <tr>\n",
       "      <th>Stratum 3</th>\n",
       "      <td>61.719819</td>\n",
       "    </tr>\n",
       "    <tr>\n",
       "      <th>Stratum 4</th>\n",
       "      <td>65.820659</td>\n",
       "    </tr>\n",
       "    <tr>\n",
       "      <th>Stratum 5</th>\n",
       "      <td>69.133228</td>\n",
       "    </tr>\n",
       "    <tr>\n",
       "      <th>Stratum 6</th>\n",
       "      <td>71.687345</td>\n",
       "    </tr>\n",
       "  </tbody>\n",
       "</table>\n",
       "</div>"
      ],
      "text/plain": [
       "           HI_GRADE_AVG\n",
       "STRATUM                \n",
       "Stratum 1     55.926078\n",
       "Stratum 2     58.515678\n",
       "Stratum 3     61.719819\n",
       "Stratum 4     65.820659\n",
       "Stratum 5     69.133228\n",
       "Stratum 6     71.687345"
      ]
     },
     "execution_count": 13,
     "metadata": {},
     "output_type": "execute_result"
    }
   ],
   "source": [
    "df[[\"STRATUM\", \"HI_GRADE_AVG\"]].groupby([\"STRATUM\"]).mean()"
   ]
  },
  {
   "cell_type": "markdown",
   "metadata": {},
   "source": [
    "#### Average both Gender and Socioeconomic level"
   ]
  },
  {
   "cell_type": "code",
   "execution_count": 14,
   "metadata": {},
   "outputs": [
    {
     "data": {
      "text/html": [
       "<div>\n",
       "<style scoped>\n",
       "    .dataframe tbody tr th:only-of-type {\n",
       "        vertical-align: middle;\n",
       "    }\n",
       "\n",
       "    .dataframe tbody tr th {\n",
       "        vertical-align: top;\n",
       "    }\n",
       "\n",
       "    .dataframe thead th {\n",
       "        text-align: right;\n",
       "    }\n",
       "</style>\n",
       "<table border=\"1\" class=\"dataframe\">\n",
       "  <thead>\n",
       "    <tr style=\"text-align: right;\">\n",
       "      <th></th>\n",
       "      <th></th>\n",
       "      <th>HI_GRADE_AVG</th>\n",
       "    </tr>\n",
       "    <tr>\n",
       "      <th>STRATUM</th>\n",
       "      <th>GENDER</th>\n",
       "      <th></th>\n",
       "    </tr>\n",
       "  </thead>\n",
       "  <tbody>\n",
       "    <tr>\n",
       "      <th rowspan=\"2\" valign=\"top\">Stratum 1</th>\n",
       "      <th>F</th>\n",
       "      <td>56.015603</td>\n",
       "    </tr>\n",
       "    <tr>\n",
       "      <th>M</th>\n",
       "      <td>55.863214</td>\n",
       "    </tr>\n",
       "    <tr>\n",
       "      <th rowspan=\"2\" valign=\"top\">Stratum 2</th>\n",
       "      <th>F</th>\n",
       "      <td>58.642539</td>\n",
       "    </tr>\n",
       "    <tr>\n",
       "      <th>M</th>\n",
       "      <td>58.428232</td>\n",
       "    </tr>\n",
       "    <tr>\n",
       "      <th rowspan=\"2\" valign=\"top\">Stratum 3</th>\n",
       "      <th>F</th>\n",
       "      <td>61.313714</td>\n",
       "    </tr>\n",
       "    <tr>\n",
       "      <th>M</th>\n",
       "      <td>62.008887</td>\n",
       "    </tr>\n",
       "    <tr>\n",
       "      <th rowspan=\"2\" valign=\"top\">Stratum 4</th>\n",
       "      <th>F</th>\n",
       "      <td>65.271875</td>\n",
       "    </tr>\n",
       "    <tr>\n",
       "      <th>M</th>\n",
       "      <td>66.195096</td>\n",
       "    </tr>\n",
       "    <tr>\n",
       "      <th rowspan=\"2\" valign=\"top\">Stratum 5</th>\n",
       "      <th>F</th>\n",
       "      <td>68.412766</td>\n",
       "    </tr>\n",
       "    <tr>\n",
       "      <th>M</th>\n",
       "      <td>69.558626</td>\n",
       "    </tr>\n",
       "    <tr>\n",
       "      <th rowspan=\"2\" valign=\"top\">Stratum 6</th>\n",
       "      <th>F</th>\n",
       "      <td>70.580153</td>\n",
       "    </tr>\n",
       "    <tr>\n",
       "      <th>M</th>\n",
       "      <td>72.220588</td>\n",
       "    </tr>\n",
       "  </tbody>\n",
       "</table>\n",
       "</div>"
      ],
      "text/plain": [
       "                  HI_GRADE_AVG\n",
       "STRATUM   GENDER              \n",
       "Stratum 1 F          56.015603\n",
       "          M          55.863214\n",
       "Stratum 2 F          58.642539\n",
       "          M          58.428232\n",
       "Stratum 3 F          61.313714\n",
       "          M          62.008887\n",
       "Stratum 4 F          65.271875\n",
       "          M          66.195096\n",
       "Stratum 5 F          68.412766\n",
       "          M          69.558626\n",
       "Stratum 6 F          70.580153\n",
       "          M          72.220588"
      ]
     },
     "execution_count": 14,
     "metadata": {},
     "output_type": "execute_result"
    }
   ],
   "source": [
    "df[[\"STRATUM\",\"GENDER\", \"HI_GRADE_AVG\"]].groupby([\"STRATUM\", \"GENDER\"]).mean()"
   ]
  },
  {
   "cell_type": "markdown",
   "metadata": {},
   "source": [
    "#### Number of individuals by gender&socioeconomic level"
   ]
  },
  {
   "cell_type": "code",
   "execution_count": 15,
   "metadata": {},
   "outputs": [
    {
     "data": {
      "text/html": [
       "<div>\n",
       "<style scoped>\n",
       "    .dataframe tbody tr th:only-of-type {\n",
       "        vertical-align: middle;\n",
       "    }\n",
       "\n",
       "    .dataframe tbody tr th {\n",
       "        vertical-align: top;\n",
       "    }\n",
       "\n",
       "    .dataframe thead th {\n",
       "        text-align: right;\n",
       "    }\n",
       "</style>\n",
       "<table border=\"1\" class=\"dataframe\">\n",
       "  <thead>\n",
       "    <tr style=\"text-align: right;\">\n",
       "      <th></th>\n",
       "      <th></th>\n",
       "      <th>Unnamed: 0</th>\n",
       "    </tr>\n",
       "    <tr>\n",
       "      <th>STRATUM</th>\n",
       "      <th>GENDER</th>\n",
       "      <th></th>\n",
       "    </tr>\n",
       "  </thead>\n",
       "  <tbody>\n",
       "    <tr>\n",
       "      <th rowspan=\"2\" valign=\"top\">Stratum 1</th>\n",
       "      <th>F</th>\n",
       "      <td>705</td>\n",
       "    </tr>\n",
       "    <tr>\n",
       "      <th>M</th>\n",
       "      <td>1004</td>\n",
       "    </tr>\n",
       "    <tr>\n",
       "      <th rowspan=\"2\" valign=\"top\">Stratum 2</th>\n",
       "      <th>F</th>\n",
       "      <td>1644</td>\n",
       "    </tr>\n",
       "    <tr>\n",
       "      <th>M</th>\n",
       "      <td>2385</td>\n",
       "    </tr>\n",
       "    <tr>\n",
       "      <th rowspan=\"2\" valign=\"top\">Stratum 3</th>\n",
       "      <th>F</th>\n",
       "      <td>1682</td>\n",
       "    </tr>\n",
       "    <tr>\n",
       "      <th>M</th>\n",
       "      <td>2363</td>\n",
       "    </tr>\n",
       "    <tr>\n",
       "      <th rowspan=\"2\" valign=\"top\">Stratum 4</th>\n",
       "      <th>F</th>\n",
       "      <td>640</td>\n",
       "    </tr>\n",
       "    <tr>\n",
       "      <th>M</th>\n",
       "      <td>938</td>\n",
       "    </tr>\n",
       "    <tr>\n",
       "      <th rowspan=\"2\" valign=\"top\">Stratum 5</th>\n",
       "      <th>F</th>\n",
       "      <td>235</td>\n",
       "    </tr>\n",
       "    <tr>\n",
       "      <th>M</th>\n",
       "      <td>398</td>\n",
       "    </tr>\n",
       "    <tr>\n",
       "      <th rowspan=\"2\" valign=\"top\">Stratum 6</th>\n",
       "      <th>F</th>\n",
       "      <td>131</td>\n",
       "    </tr>\n",
       "    <tr>\n",
       "      <th>M</th>\n",
       "      <td>272</td>\n",
       "    </tr>\n",
       "  </tbody>\n",
       "</table>\n",
       "</div>"
      ],
      "text/plain": [
       "                  Unnamed: 0\n",
       "STRATUM   GENDER            \n",
       "Stratum 1 F              705\n",
       "          M             1004\n",
       "Stratum 2 F             1644\n",
       "          M             2385\n",
       "Stratum 3 F             1682\n",
       "          M             2363\n",
       "Stratum 4 F              640\n",
       "          M              938\n",
       "Stratum 5 F              235\n",
       "          M              398\n",
       "Stratum 6 F              131\n",
       "          M              272"
      ]
     },
     "execution_count": 15,
     "metadata": {},
     "output_type": "execute_result"
    }
   ],
   "source": [
    "df_gen_soc = df[[\"STRATUM\",\"GENDER\", \"Unnamed: 0\"]].groupby([\"STRATUM\", \"GENDER\"]).count()\n",
    "df_gen_soc"
   ]
  },
  {
   "cell_type": "code",
   "execution_count": 16,
   "metadata": {},
   "outputs": [],
   "source": [
    "#plot: stacked bar chart"
   ]
  },
  {
   "cell_type": "code",
   "execution_count": 17,
   "metadata": {},
   "outputs": [
    {
     "data": {
      "text/html": [
       "<div>\n",
       "<style scoped>\n",
       "    .dataframe tbody tr th:only-of-type {\n",
       "        vertical-align: middle;\n",
       "    }\n",
       "\n",
       "    .dataframe tbody tr th {\n",
       "        vertical-align: top;\n",
       "    }\n",
       "\n",
       "    .dataframe thead th {\n",
       "        text-align: right;\n",
       "    }\n",
       "</style>\n",
       "<table border=\"1\" class=\"dataframe\">\n",
       "  <thead>\n",
       "    <tr style=\"text-align: right;\">\n",
       "      <th>GENDER</th>\n",
       "      <th>F</th>\n",
       "      <th>M</th>\n",
       "    </tr>\n",
       "    <tr>\n",
       "      <th>STRATUM</th>\n",
       "      <th></th>\n",
       "      <th></th>\n",
       "    </tr>\n",
       "  </thead>\n",
       "  <tbody>\n",
       "    <tr>\n",
       "      <th>Stratum 1</th>\n",
       "      <td>705</td>\n",
       "      <td>1004</td>\n",
       "    </tr>\n",
       "    <tr>\n",
       "      <th>Stratum 2</th>\n",
       "      <td>1644</td>\n",
       "      <td>2385</td>\n",
       "    </tr>\n",
       "    <tr>\n",
       "      <th>Stratum 3</th>\n",
       "      <td>1682</td>\n",
       "      <td>2363</td>\n",
       "    </tr>\n",
       "    <tr>\n",
       "      <th>Stratum 4</th>\n",
       "      <td>640</td>\n",
       "      <td>938</td>\n",
       "    </tr>\n",
       "    <tr>\n",
       "      <th>Stratum 5</th>\n",
       "      <td>235</td>\n",
       "      <td>398</td>\n",
       "    </tr>\n",
       "    <tr>\n",
       "      <th>Stratum 6</th>\n",
       "      <td>131</td>\n",
       "      <td>272</td>\n",
       "    </tr>\n",
       "  </tbody>\n",
       "</table>\n",
       "</div>"
      ],
      "text/plain": [
       "GENDER        F     M\n",
       "STRATUM              \n",
       "Stratum 1   705  1004\n",
       "Stratum 2  1644  2385\n",
       "Stratum 3  1682  2363\n",
       "Stratum 4   640   938\n",
       "Stratum 5   235   398\n",
       "Stratum 6   131   272"
      ]
     },
     "execution_count": 17,
     "metadata": {},
     "output_type": "execute_result"
    }
   ],
   "source": [
    "df_gen_soc2 = df.groupby([\"STRATUM\", \"GENDER\"]).size().reset_index().pivot(columns='GENDER', index='STRATUM', values=0)\n",
    "df_gen_soc2\n"
   ]
  },
  {
   "cell_type": "code",
   "execution_count": 18,
   "metadata": {},
   "outputs": [
    {
     "data": {
      "text/plain": [
       "Text(0.5, 0, 'Stratum')"
      ]
     },
     "execution_count": 18,
     "metadata": {},
     "output_type": "execute_result"
    },
    {
     "data": {
      "text/plain": [
       "<Figure size 360x240 with 0 Axes>"
      ]
     },
     "metadata": {},
     "output_type": "display_data"
    },
    {
     "data": {
      "image/png": "[encoded data removed]",
      "text/plain": [
       "<Figure size 1400x500 with 1 Axes>"
      ]
     },
     "metadata": {},
     "output_type": "display_data"
    }
   ],
   "source": [
    "figure(figsize=(6, 4), dpi=60)\n",
    "df_gen_soc2.plot(kind='bar', stacked=True)\n",
    "plt.title(\"Number of individuals by gender&socioeconomic level\")\n",
    "plt.ylabel(\"freq\")\n",
    "plt.xlabel(\"Stratum\")"
   ]
  },
  {
   "cell_type": "markdown",
   "metadata": {},
   "source": [
    "### Distribution of grades by gender&socio-economic level (before and after college)"
   ]
  },
  {
   "cell_type": "code",
   "execution_count": 19,
   "metadata": {},
   "outputs": [
    {
     "data": {
      "text/plain": [
       "0        85.666667\n",
       "1        74.000000\n",
       "2        20.666667\n",
       "3        63.666667\n",
       "4        97.333333\n",
       "           ...    \n",
       "12406    81.333333\n",
       "12407    31.333333\n",
       "12408    86.333333\n",
       "12409    46.333333\n",
       "12410    88.333333\n",
       "Name: COL_GRADE_AVG, Length: 12397, dtype: float64"
      ]
     },
     "execution_count": 19,
     "metadata": {},
     "output_type": "execute_result"
    }
   ],
   "source": [
    "df.COL_GRADE_AVG"
   ]
  },
  {
   "cell_type": "code",
   "execution_count": 20,
   "metadata": {},
   "outputs": [
    {
     "data": {
      "text/html": [
       "<div>\n",
       "<style scoped>\n",
       "    .dataframe tbody tr th:only-of-type {\n",
       "        vertical-align: middle;\n",
       "    }\n",
       "\n",
       "    .dataframe tbody tr th {\n",
       "        vertical-align: top;\n",
       "    }\n",
       "\n",
       "    .dataframe thead th {\n",
       "        text-align: right;\n",
       "    }\n",
       "</style>\n",
       "<table border=\"1\" class=\"dataframe\">\n",
       "  <thead>\n",
       "    <tr style=\"text-align: right;\">\n",
       "      <th></th>\n",
       "      <th>HI_GRADE_AVG</th>\n",
       "      <th>COL_GRADE_AVG</th>\n",
       "      <th>GENDER</th>\n",
       "      <th>STRATUM</th>\n",
       "    </tr>\n",
       "  </thead>\n",
       "  <tbody>\n",
       "    <tr>\n",
       "      <th>0</th>\n",
       "      <td>74.666667</td>\n",
       "      <td>85.666667</td>\n",
       "      <td>F</td>\n",
       "      <td>Stratum 4</td>\n",
       "    </tr>\n",
       "    <tr>\n",
       "      <th>1</th>\n",
       "      <td>76.333333</td>\n",
       "      <td>74.000000</td>\n",
       "      <td>F</td>\n",
       "      <td>Stratum 5</td>\n",
       "    </tr>\n",
       "    <tr>\n",
       "      <th>2</th>\n",
       "      <td>43.000000</td>\n",
       "      <td>20.666667</td>\n",
       "      <td>M</td>\n",
       "      <td>Stratum 2</td>\n",
       "    </tr>\n",
       "    <tr>\n",
       "      <th>3</th>\n",
       "      <td>59.666667</td>\n",
       "      <td>63.666667</td>\n",
       "      <td>F</td>\n",
       "      <td>Stratum 2</td>\n",
       "    </tr>\n",
       "    <tr>\n",
       "      <th>4</th>\n",
       "      <td>77.666667</td>\n",
       "      <td>97.333333</td>\n",
       "      <td>M</td>\n",
       "      <td>Stratum 4</td>\n",
       "    </tr>\n",
       "  </tbody>\n",
       "</table>\n",
       "</div>"
      ],
      "text/plain": [
       "   HI_GRADE_AVG  COL_GRADE_AVG GENDER    STRATUM\n",
       "0     74.666667      85.666667      F  Stratum 4\n",
       "1     76.333333      74.000000      F  Stratum 5\n",
       "2     43.000000      20.666667      M  Stratum 2\n",
       "3     59.666667      63.666667      F  Stratum 2\n",
       "4     77.666667      97.333333      M  Stratum 4"
      ]
     },
     "execution_count": 20,
     "metadata": {},
     "output_type": "execute_result"
    }
   ],
   "source": [
    "df_gen_soc_hc = df[['HI_GRADE_AVG', 'COL_GRADE_AVG', 'GENDER', 'STRATUM']]\n",
    "df_gen_soc_hc.head()"
   ]
  },
  {
   "cell_type": "code",
   "execution_count": 21,
   "metadata": {},
   "outputs": [
    {
     "data": {
      "text/html": [
       "<div>\n",
       "<style scoped>\n",
       "    .dataframe tbody tr th:only-of-type {\n",
       "        vertical-align: middle;\n",
       "    }\n",
       "\n",
       "    .dataframe tbody tr th {\n",
       "        vertical-align: top;\n",
       "    }\n",
       "\n",
       "    .dataframe thead th {\n",
       "        text-align: right;\n",
       "    }\n",
       "</style>\n",
       "<table border=\"1\" class=\"dataframe\">\n",
       "  <thead>\n",
       "    <tr style=\"text-align: right;\">\n",
       "      <th></th>\n",
       "      <th></th>\n",
       "      <th>HI_GRADE_AVG</th>\n",
       "      <th>COL_GRADE_AVG</th>\n",
       "      <th>DIFF</th>\n",
       "    </tr>\n",
       "    <tr>\n",
       "      <th>STRATUM</th>\n",
       "      <th>GENDER</th>\n",
       "      <th></th>\n",
       "      <th></th>\n",
       "      <th></th>\n",
       "    </tr>\n",
       "  </thead>\n",
       "  <tbody>\n",
       "    <tr>\n",
       "      <th rowspan=\"2\" valign=\"top\">Stratum 6</th>\n",
       "      <th>M</th>\n",
       "      <td>72.220588</td>\n",
       "      <td>79.688725</td>\n",
       "      <td>7.468137</td>\n",
       "    </tr>\n",
       "    <tr>\n",
       "      <th>F</th>\n",
       "      <td>70.580153</td>\n",
       "      <td>77.870229</td>\n",
       "      <td>7.290076</td>\n",
       "    </tr>\n",
       "    <tr>\n",
       "      <th rowspan=\"2\" valign=\"top\">Stratum 5</th>\n",
       "      <th>M</th>\n",
       "      <td>69.558626</td>\n",
       "      <td>77.118090</td>\n",
       "      <td>7.559464</td>\n",
       "    </tr>\n",
       "    <tr>\n",
       "      <th>F</th>\n",
       "      <td>68.412766</td>\n",
       "      <td>74.090780</td>\n",
       "      <td>5.678014</td>\n",
       "    </tr>\n",
       "    <tr>\n",
       "      <th rowspan=\"2\" valign=\"top\">Stratum 4</th>\n",
       "      <th>M</th>\n",
       "      <td>66.195096</td>\n",
       "      <td>72.585288</td>\n",
       "      <td>6.390192</td>\n",
       "    </tr>\n",
       "    <tr>\n",
       "      <th>F</th>\n",
       "      <td>65.271875</td>\n",
       "      <td>71.417187</td>\n",
       "      <td>6.145313</td>\n",
       "    </tr>\n",
       "    <tr>\n",
       "      <th rowspan=\"2\" valign=\"top\">Stratum 3</th>\n",
       "      <th>M</th>\n",
       "      <td>62.008887</td>\n",
       "      <td>65.600790</td>\n",
       "      <td>3.591903</td>\n",
       "    </tr>\n",
       "    <tr>\n",
       "      <th>F</th>\n",
       "      <td>61.313714</td>\n",
       "      <td>63.858700</td>\n",
       "      <td>2.544986</td>\n",
       "    </tr>\n",
       "    <tr>\n",
       "      <th rowspan=\"2\" valign=\"top\">Stratum 2</th>\n",
       "      <th>M</th>\n",
       "      <td>58.428232</td>\n",
       "      <td>58.774983</td>\n",
       "      <td>0.346751</td>\n",
       "    </tr>\n",
       "    <tr>\n",
       "      <th>F</th>\n",
       "      <td>58.642539</td>\n",
       "      <td>58.285888</td>\n",
       "      <td>-0.356650</td>\n",
       "    </tr>\n",
       "    <tr>\n",
       "      <th rowspan=\"2\" valign=\"top\">Stratum 1</th>\n",
       "      <th>M</th>\n",
       "      <td>55.863214</td>\n",
       "      <td>51.744024</td>\n",
       "      <td>-4.119190</td>\n",
       "    </tr>\n",
       "    <tr>\n",
       "      <th>F</th>\n",
       "      <td>56.015603</td>\n",
       "      <td>51.877069</td>\n",
       "      <td>-4.138534</td>\n",
       "    </tr>\n",
       "  </tbody>\n",
       "</table>\n",
       "</div>"
      ],
      "text/plain": [
       "                  HI_GRADE_AVG  COL_GRADE_AVG      DIFF\n",
       "STRATUM   GENDER                                       \n",
       "Stratum 6 M          72.220588      79.688725  7.468137\n",
       "          F          70.580153      77.870229  7.290076\n",
       "Stratum 5 M          69.558626      77.118090  7.559464\n",
       "          F          68.412766      74.090780  5.678014\n",
       "Stratum 4 M          66.195096      72.585288  6.390192\n",
       "          F          65.271875      71.417187  6.145313\n",
       "Stratum 3 M          62.008887      65.600790  3.591903\n",
       "          F          61.313714      63.858700  2.544986\n",
       "Stratum 2 M          58.428232      58.774983  0.346751\n",
       "          F          58.642539      58.285888 -0.356650\n",
       "Stratum 1 M          55.863214      51.744024 -4.119190\n",
       "          F          56.015603      51.877069 -4.138534"
      ]
     },
     "execution_count": 21,
     "metadata": {},
     "output_type": "execute_result"
    }
   ],
   "source": [
    "df_use = df_gen_soc_hc.groupby([\"STRATUM\", \"GENDER\"]).mean()\n",
    "df_use[\"DIFF\"] = df_use[\"COL_GRADE_AVG\"]-df_use[\"HI_GRADE_AVG\"]\n",
    "df_use.sort_index(ascending=False)"
   ]
  },
  {
   "cell_type": "code",
   "execution_count": 22,
   "metadata": {},
   "outputs": [],
   "source": [
    "df_gen_soc_hc = df_gen_soc_hc.rename(columns = {\"HI_GRADE_AVG\":\"HI\", \"COL_GRADE_AVG\":\"COL\"})"
   ]
  },
  {
   "cell_type": "markdown",
   "metadata": {},
   "source": [
    "Tjek denne side: https://www.simplypsychology.org/boxplots.html"
   ]
  },
  {
   "cell_type": "code",
   "execution_count": 23,
   "metadata": {},
   "outputs": [
    {
     "data": {
      "image/png": "[encoded data removed]",
      "text/plain": [
       "<Figure size 2160.82x1000 with 2 Axes>"
      ]
     },
     "metadata": {},
     "output_type": "display_data"
    }
   ],
   "source": [
    "# plot af badass boxplot\n",
    "\n",
    "df_try = pd.melt(df_gen_soc_hc, id_vars=['GENDER', 'STRATUM'])\n",
    "df_try = df_try.rename(columns={\"variable\":\"Average_grade\"})\n",
    "\n",
    "b = sns.catplot(data=df_try, x='STRATUM', y='value', \n",
    "               hue='GENDER', col='Average_grade',\n",
    "               kind='box', legend=True, order=[\"Stratum 1\", \"Stratum 2\", \"Stratum 3\", \"Stratum 4\", \"Stratum 5\", \"Stratum 6\"])\n",
    "b.fig.subplots_adjust(top=.8)\n",
    "b.fig.suptitle('Boxplot of Average Grade Before and After College')\n",
    "\n",
    "\n",
    "plt.show()"
   ]
  },
  {
   "cell_type": "markdown",
   "metadata": {},
   "source": [
    "### Matrix showing the Pearson correlation between grades (before), grades (after), gender, socio-economic level"
   ]
  },
  {
   "cell_type": "code",
   "execution_count": 24,
   "metadata": {},
   "outputs": [],
   "source": [
    "df_F = df_try[df_try.GENDER ==\"F\"]\n",
    "df_M = df_try[df_try.GENDER ==\"M\"]\n",
    "df_F_HI = df_F[df_F.Average_grade ==\"HI\"]\n",
    "df_F_COL = df_F[df_F.Average_grade ==\"COL\"]\n",
    "df_M_HI = df_M[df_M.Average_grade ==\"HI\"]\n",
    "df_M_COL = df_M[df_M.Average_grade ==\"COL\"]\n"
   ]
  },
  {
   "cell_type": "code",
   "execution_count": 25,
   "metadata": {},
   "outputs": [],
   "source": [
    "def xdef(x,s):\n",
    "    if x[0] == s:\n",
    "        return x[1]\n",
    "    else:\n",
    "        return 0\n",
    "    \n",
    "# test = df_F_HI[[\"STRATUM\", \"value\"]][:10].apply(lambda x: xdef, axis=1)"
   ]
  },
  {
   "cell_type": "code",
   "execution_count": 26,
   "metadata": {},
   "outputs": [
    {
     "name": "stderr",
     "output_type": "stream",
     "text": [
      "/var/folders/hl/6j_44f453mvc5lr922s8d0l80000gn/T/ipykernel_32157/2948714075.py:3: SettingWithCopyWarning: \n",
      "A value is trying to be set on a copy of a slice from a DataFrame.\n",
      "Try using .loc[row_indexer,col_indexer] = value instead\n",
      "\n",
      "See the caveats in the documentation: https://pandas.pydata.org/pandas-docs/stable/user_guide/indexing.html#returning-a-view-versus-a-copy\n",
      "  df_F_HI[\"df_F_HI_{}\".format(s)] = df_F_HI[[\"STRATUM\", \"value\"]].apply(lambda x: xdef(x,s), axis=1)\n",
      "/var/folders/hl/6j_44f453mvc5lr922s8d0l80000gn/T/ipykernel_32157/2948714075.py:4: SettingWithCopyWarning: \n",
      "A value is trying to be set on a copy of a slice from a DataFrame.\n",
      "Try using .loc[row_indexer,col_indexer] = value instead\n",
      "\n",
      "See the caveats in the documentation: https://pandas.pydata.org/pandas-docs/stable/user_guide/indexing.html#returning-a-view-versus-a-copy\n",
      "  df_F_COL[\"df_F_COL_{}\".format(s)] = df_F_COL[[\"STRATUM\", \"value\"]].apply(lambda x: xdef(x,s), axis=1)\n",
      "/var/folders/hl/6j_44f453mvc5lr922s8d0l80000gn/T/ipykernel_32157/2948714075.py:5: SettingWithCopyWarning: \n",
      "A value is trying to be set on a copy of a slice from a DataFrame.\n",
      "Try using .loc[row_indexer,col_indexer] = value instead\n",
      "\n",
      "See the caveats in the documentation: https://pandas.pydata.org/pandas-docs/stable/user_guide/indexing.html#returning-a-view-versus-a-copy\n",
      "  df_M_HI[\"df_M_HI_{}\".format(s)] = df_M_HI[[\"STRATUM\", \"value\"]].apply(lambda x: xdef(x,s), axis=1)\n",
      "/var/folders/hl/6j_44f453mvc5lr922s8d0l80000gn/T/ipykernel_32157/2948714075.py:6: SettingWithCopyWarning: \n",
      "A value is trying to be set on a copy of a slice from a DataFrame.\n",
      "Try using .loc[row_indexer,col_indexer] = value instead\n",
      "\n",
      "See the caveats in the documentation: https://pandas.pydata.org/pandas-docs/stable/user_guide/indexing.html#returning-a-view-versus-a-copy\n",
      "  df_M_COL[\"df_M_COL_{}\".format(s)] = df_M_COL[[\"STRATUM\", \"value\"]].apply(lambda x: xdef(x,s), axis=1)\n"
     ]
    }
   ],
   "source": [
    "strats = [\"Stratum 1\", \"Stratum 2\", \"Stratum 3\", \"Stratum 4\", \"Stratum 5\", \"Stratum 6\"]\n",
    "for s in strats:\n",
    "    df_F_HI[\"df_F_HI_{}\".format(s)] = df_F_HI[[\"STRATUM\", \"value\"]].apply(lambda x: xdef(x,s), axis=1)\n",
    "    df_F_COL[\"df_F_COL_{}\".format(s)] = df_F_COL[[\"STRATUM\", \"value\"]].apply(lambda x: xdef(x,s), axis=1)\n",
    "    df_M_HI[\"df_M_HI_{}\".format(s)] = df_M_HI[[\"STRATUM\", \"value\"]].apply(lambda x: xdef(x,s), axis=1)\n",
    "    df_M_COL[\"df_M_COL_{}\".format(s)] = df_M_COL[[\"STRATUM\", \"value\"]].apply(lambda x: xdef(x,s), axis=1)\n",
    "\n",
    "    "
   ]
  },
  {
   "cell_type": "code",
   "execution_count": 27,
   "metadata": {},
   "outputs": [
    {
     "name": "stderr",
     "output_type": "stream",
     "text": [
      "/var/folders/hl/6j_44f453mvc5lr922s8d0l80000gn/T/ipykernel_32157/3221656718.py:3: SettingWithCopyWarning: \n",
      "A value is trying to be set on a copy of a slice from a DataFrame.\n",
      "Try using .loc[row_indexer,col_indexer] = value instead\n",
      "\n",
      "See the caveats in the documentation: https://pandas.pydata.org/pandas-docs/stable/user_guide/indexing.html#returning-a-view-versus-a-copy\n",
      "  df_F_HI[\"df_F_HI_{}\".format(s)] = df_F_HI[df_F_HI.STRATUM == s].value\n",
      "/var/folders/hl/6j_44f453mvc5lr922s8d0l80000gn/T/ipykernel_32157/3221656718.py:4: SettingWithCopyWarning: \n",
      "A value is trying to be set on a copy of a slice from a DataFrame.\n",
      "Try using .loc[row_indexer,col_indexer] = value instead\n",
      "\n",
      "See the caveats in the documentation: https://pandas.pydata.org/pandas-docs/stable/user_guide/indexing.html#returning-a-view-versus-a-copy\n",
      "  df_F_COL[\"df_F_COL_{}\".format(s)] = df_F_COL[df_F_COL.STRATUM == s].value\n",
      "/var/folders/hl/6j_44f453mvc5lr922s8d0l80000gn/T/ipykernel_32157/3221656718.py:5: SettingWithCopyWarning: \n",
      "A value is trying to be set on a copy of a slice from a DataFrame.\n",
      "Try using .loc[row_indexer,col_indexer] = value instead\n",
      "\n",
      "See the caveats in the documentation: https://pandas.pydata.org/pandas-docs/stable/user_guide/indexing.html#returning-a-view-versus-a-copy\n",
      "  df_M_HI[\"df_M_HI_{}\".format(s)] = df_M_HI[df_M_HI.STRATUM == s].value\n",
      "/var/folders/hl/6j_44f453mvc5lr922s8d0l80000gn/T/ipykernel_32157/3221656718.py:6: SettingWithCopyWarning: \n",
      "A value is trying to be set on a copy of a slice from a DataFrame.\n",
      "Try using .loc[row_indexer,col_indexer] = value instead\n",
      "\n",
      "See the caveats in the documentation: https://pandas.pydata.org/pandas-docs/stable/user_guide/indexing.html#returning-a-view-versus-a-copy\n",
      "  df_M_COL[\"df_M_COL_{}\".format(s)] = df_M_COL[df_M_COL.STRATUM == s].value\n"
     ]
    }
   ],
   "source": [
    "strats = [\"Stratum 1\", \"Stratum 2\", \"Stratum 3\", \"Stratum 4\", \"Stratum 5\", \"Stratum 6\"]\n",
    "for s in strats:\n",
    "    df_F_HI[\"df_F_HI_{}\".format(s)] = df_F_HI[df_F_HI.STRATUM == s].value\n",
    "    df_F_COL[\"df_F_COL_{}\".format(s)] = df_F_COL[df_F_COL.STRATUM == s].value\n",
    "    df_M_HI[\"df_M_HI_{}\".format(s)] = df_M_HI[df_M_HI.STRATUM == s].value\n",
    "    df_M_COL[\"df_M_COL_{}\".format(s)] = df_M_COL[df_M_COL.STRATUM == s].value\n"
   ]
  },
  {
   "cell_type": "code",
   "execution_count": 28,
   "metadata": {},
   "outputs": [
    {
     "data": {
      "text/html": [
       "<div>\n",
       "<style scoped>\n",
       "    .dataframe tbody tr th:only-of-type {\n",
       "        vertical-align: middle;\n",
       "    }\n",
       "\n",
       "    .dataframe tbody tr th {\n",
       "        vertical-align: top;\n",
       "    }\n",
       "\n",
       "    .dataframe thead th {\n",
       "        text-align: right;\n",
       "    }\n",
       "</style>\n",
       "<table border=\"1\" class=\"dataframe\">\n",
       "  <thead>\n",
       "    <tr style=\"text-align: right;\">\n",
       "      <th></th>\n",
       "      <th>GENDER</th>\n",
       "      <th>STRATUM</th>\n",
       "      <th>Average_grade</th>\n",
       "      <th>value</th>\n",
       "      <th>df_F_HI_Stratum 1</th>\n",
       "      <th>df_F_HI_Stratum 2</th>\n",
       "      <th>df_F_HI_Stratum 3</th>\n",
       "      <th>df_F_HI_Stratum 4</th>\n",
       "      <th>df_F_HI_Stratum 5</th>\n",
       "      <th>df_F_HI_Stratum 6</th>\n",
       "    </tr>\n",
       "  </thead>\n",
       "  <tbody>\n",
       "    <tr>\n",
       "      <th>0</th>\n",
       "      <td>F</td>\n",
       "      <td>Stratum 4</td>\n",
       "      <td>HI</td>\n",
       "      <td>74.666667</td>\n",
       "      <td>NaN</td>\n",
       "      <td>NaN</td>\n",
       "      <td>NaN</td>\n",
       "      <td>74.666667</td>\n",
       "      <td>NaN</td>\n",
       "      <td>NaN</td>\n",
       "    </tr>\n",
       "    <tr>\n",
       "      <th>1</th>\n",
       "      <td>F</td>\n",
       "      <td>Stratum 5</td>\n",
       "      <td>HI</td>\n",
       "      <td>76.333333</td>\n",
       "      <td>NaN</td>\n",
       "      <td>NaN</td>\n",
       "      <td>NaN</td>\n",
       "      <td>NaN</td>\n",
       "      <td>76.333333</td>\n",
       "      <td>NaN</td>\n",
       "    </tr>\n",
       "    <tr>\n",
       "      <th>3</th>\n",
       "      <td>F</td>\n",
       "      <td>Stratum 2</td>\n",
       "      <td>HI</td>\n",
       "      <td>59.666667</td>\n",
       "      <td>NaN</td>\n",
       "      <td>59.666667</td>\n",
       "      <td>NaN</td>\n",
       "      <td>NaN</td>\n",
       "      <td>NaN</td>\n",
       "      <td>NaN</td>\n",
       "    </tr>\n",
       "    <tr>\n",
       "      <th>5</th>\n",
       "      <td>F</td>\n",
       "      <td>Stratum 6</td>\n",
       "      <td>HI</td>\n",
       "      <td>66.333333</td>\n",
       "      <td>NaN</td>\n",
       "      <td>NaN</td>\n",
       "      <td>NaN</td>\n",
       "      <td>NaN</td>\n",
       "      <td>NaN</td>\n",
       "      <td>66.333333</td>\n",
       "    </tr>\n",
       "    <tr>\n",
       "      <th>7</th>\n",
       "      <td>F</td>\n",
       "      <td>Stratum 6</td>\n",
       "      <td>HI</td>\n",
       "      <td>74.666667</td>\n",
       "      <td>NaN</td>\n",
       "      <td>NaN</td>\n",
       "      <td>NaN</td>\n",
       "      <td>NaN</td>\n",
       "      <td>NaN</td>\n",
       "      <td>74.666667</td>\n",
       "    </tr>\n",
       "    <tr>\n",
       "      <th>...</th>\n",
       "      <td>...</td>\n",
       "      <td>...</td>\n",
       "      <td>...</td>\n",
       "      <td>...</td>\n",
       "      <td>...</td>\n",
       "      <td>...</td>\n",
       "      <td>...</td>\n",
       "      <td>...</td>\n",
       "      <td>...</td>\n",
       "      <td>...</td>\n",
       "    </tr>\n",
       "    <tr>\n",
       "      <th>12387</th>\n",
       "      <td>F</td>\n",
       "      <td>Stratum 3</td>\n",
       "      <td>HI</td>\n",
       "      <td>71.000000</td>\n",
       "      <td>NaN</td>\n",
       "      <td>NaN</td>\n",
       "      <td>71.000000</td>\n",
       "      <td>NaN</td>\n",
       "      <td>NaN</td>\n",
       "      <td>NaN</td>\n",
       "    </tr>\n",
       "    <tr>\n",
       "      <th>12388</th>\n",
       "      <td>F</td>\n",
       "      <td>Stratum 2</td>\n",
       "      <td>HI</td>\n",
       "      <td>62.333333</td>\n",
       "      <td>NaN</td>\n",
       "      <td>62.333333</td>\n",
       "      <td>NaN</td>\n",
       "      <td>NaN</td>\n",
       "      <td>NaN</td>\n",
       "      <td>NaN</td>\n",
       "    </tr>\n",
       "    <tr>\n",
       "      <th>12389</th>\n",
       "      <td>F</td>\n",
       "      <td>Stratum 3</td>\n",
       "      <td>HI</td>\n",
       "      <td>63.000000</td>\n",
       "      <td>NaN</td>\n",
       "      <td>NaN</td>\n",
       "      <td>63.000000</td>\n",
       "      <td>NaN</td>\n",
       "      <td>NaN</td>\n",
       "      <td>NaN</td>\n",
       "    </tr>\n",
       "    <tr>\n",
       "      <th>12390</th>\n",
       "      <td>F</td>\n",
       "      <td>Stratum 3</td>\n",
       "      <td>HI</td>\n",
       "      <td>79.666667</td>\n",
       "      <td>NaN</td>\n",
       "      <td>NaN</td>\n",
       "      <td>79.666667</td>\n",
       "      <td>NaN</td>\n",
       "      <td>NaN</td>\n",
       "      <td>NaN</td>\n",
       "    </tr>\n",
       "    <tr>\n",
       "      <th>12395</th>\n",
       "      <td>F</td>\n",
       "      <td>Stratum 3</td>\n",
       "      <td>HI</td>\n",
       "      <td>61.666667</td>\n",
       "      <td>NaN</td>\n",
       "      <td>NaN</td>\n",
       "      <td>61.666667</td>\n",
       "      <td>NaN</td>\n",
       "      <td>NaN</td>\n",
       "      <td>NaN</td>\n",
       "    </tr>\n",
       "  </tbody>\n",
       "</table>\n",
       "<p>5037 rows × 10 columns</p>\n",
       "</div>"
      ],
      "text/plain": [
       "      GENDER    STRATUM Average_grade      value  df_F_HI_Stratum 1  \\\n",
       "0          F  Stratum 4            HI  74.666667                NaN   \n",
       "1          F  Stratum 5            HI  76.333333                NaN   \n",
       "3          F  Stratum 2            HI  59.666667                NaN   \n",
       "5          F  Stratum 6            HI  66.333333                NaN   \n",
       "7          F  Stratum 6            HI  74.666667                NaN   \n",
       "...      ...        ...           ...        ...                ...   \n",
       "12387      F  Stratum 3            HI  71.000000                NaN   \n",
       "12388      F  Stratum 2            HI  62.333333                NaN   \n",
       "12389      F  Stratum 3            HI  63.000000                NaN   \n",
       "12390      F  Stratum 3            HI  79.666667                NaN   \n",
       "12395      F  Stratum 3            HI  61.666667                NaN   \n",
       "\n",
       "       df_F_HI_Stratum 2  df_F_HI_Stratum 3  df_F_HI_Stratum 4  \\\n",
       "0                    NaN                NaN          74.666667   \n",
       "1                    NaN                NaN                NaN   \n",
       "3              59.666667                NaN                NaN   \n",
       "5                    NaN                NaN                NaN   \n",
       "7                    NaN                NaN                NaN   \n",
       "...                  ...                ...                ...   \n",
       "12387                NaN          71.000000                NaN   \n",
       "12388          62.333333                NaN                NaN   \n",
       "12389                NaN          63.000000                NaN   \n",
       "12390                NaN          79.666667                NaN   \n",
       "12395                NaN          61.666667                NaN   \n",
       "\n",
       "       df_F_HI_Stratum 5  df_F_HI_Stratum 6  \n",
       "0                    NaN                NaN  \n",
       "1              76.333333                NaN  \n",
       "3                    NaN                NaN  \n",
       "5                    NaN          66.333333  \n",
       "7                    NaN          74.666667  \n",
       "...                  ...                ...  \n",
       "12387                NaN                NaN  \n",
       "12388                NaN                NaN  \n",
       "12389                NaN                NaN  \n",
       "12390                NaN                NaN  \n",
       "12395                NaN                NaN  \n",
       "\n",
       "[5037 rows x 10 columns]"
      ]
     },
     "execution_count": 28,
     "metadata": {},
     "output_type": "execute_result"
    }
   ],
   "source": [
    "df_F_HI"
   ]
  },
  {
   "cell_type": "code",
   "execution_count": 29,
   "metadata": {},
   "outputs": [
    {
     "name": "stderr",
     "output_type": "stream",
     "text": [
      "/var/folders/hl/6j_44f453mvc5lr922s8d0l80000gn/T/ipykernel_32157/1369242704.py:3: SettingWithCopyWarning: \n",
      "A value is trying to be set on a copy of a slice from a DataFrame.\n",
      "Try using .loc[row_indexer,col_indexer] = value instead\n",
      "\n",
      "See the caveats in the documentation: https://pandas.pydata.org/pandas-docs/stable/user_guide/indexing.html#returning-a-view-versus-a-copy\n",
      "  df_F_HI[\"df_F_HI_{}\".format(s)] = df_F_HI[[\"STRATUM\", \"value\"]].apply(lambda x: xdef(x,s), axis=1)\n",
      "/var/folders/hl/6j_44f453mvc5lr922s8d0l80000gn/T/ipykernel_32157/1369242704.py:4: SettingWithCopyWarning: \n",
      "A value is trying to be set on a copy of a slice from a DataFrame.\n",
      "Try using .loc[row_indexer,col_indexer] = value instead\n",
      "\n",
      "See the caveats in the documentation: https://pandas.pydata.org/pandas-docs/stable/user_guide/indexing.html#returning-a-view-versus-a-copy\n",
      "  df_F_COL[\"df_F_COL_{}\".format(s)] = df_F_COL[[\"STRATUM\", \"value\"]].apply(lambda x: xdef(x,s), axis=1)\n",
      "/var/folders/hl/6j_44f453mvc5lr922s8d0l80000gn/T/ipykernel_32157/1369242704.py:5: SettingWithCopyWarning: \n",
      "A value is trying to be set on a copy of a slice from a DataFrame.\n",
      "Try using .loc[row_indexer,col_indexer] = value instead\n",
      "\n",
      "See the caveats in the documentation: https://pandas.pydata.org/pandas-docs/stable/user_guide/indexing.html#returning-a-view-versus-a-copy\n",
      "  df_M_HI[\"df_M_HI_{}\".format(s)] = df_M_HI[[\"STRATUM\", \"value\"]].apply(lambda x: xdef(x,s), axis=1)\n",
      "/var/folders/hl/6j_44f453mvc5lr922s8d0l80000gn/T/ipykernel_32157/1369242704.py:6: SettingWithCopyWarning: \n",
      "A value is trying to be set on a copy of a slice from a DataFrame.\n",
      "Try using .loc[row_indexer,col_indexer] = value instead\n",
      "\n",
      "See the caveats in the documentation: https://pandas.pydata.org/pandas-docs/stable/user_guide/indexing.html#returning-a-view-versus-a-copy\n",
      "  df_M_COL[\"df_M_COL_{}\".format(s)] = df_M_COL[[\"STRATUM\", \"value\"]].apply(lambda x: xdef(x,s), axis=1)\n"
     ]
    }
   ],
   "source": [
    "strats = [\"Stratum 1\", \"Stratum 2\", \"Stratum 3\", \"Stratum 4\", \"Stratum 5\", \"Stratum 6\"]\n",
    "for s in strats:\n",
    "    df_F_HI[\"df_F_HI_{}\".format(s)] = df_F_HI[[\"STRATUM\", \"value\"]].apply(lambda x: xdef(x,s), axis=1)\n",
    "    df_F_COL[\"df_F_COL_{}\".format(s)] = df_F_COL[[\"STRATUM\", \"value\"]].apply(lambda x: xdef(x,s), axis=1)\n",
    "    df_M_HI[\"df_M_HI_{}\".format(s)] = df_M_HI[[\"STRATUM\", \"value\"]].apply(lambda x: xdef(x,s), axis=1)\n",
    "    df_M_COL[\"df_M_COL_{}\".format(s)] = df_M_COL[[\"STRATUM\", \"value\"]].apply(lambda x: xdef(x,s), axis=1)\n",
    "\n",
    "    \n",
    "    \n",
    "    "
   ]
  },
  {
   "cell_type": "code",
   "execution_count": 30,
   "metadata": {},
   "outputs": [
    {
     "data": {
      "text/html": [
       "<div>\n",
       "<style scoped>\n",
       "    .dataframe tbody tr th:only-of-type {\n",
       "        vertical-align: middle;\n",
       "    }\n",
       "\n",
       "    .dataframe tbody tr th {\n",
       "        vertical-align: top;\n",
       "    }\n",
       "\n",
       "    .dataframe thead th {\n",
       "        text-align: right;\n",
       "    }\n",
       "</style>\n",
       "<table border=\"1\" class=\"dataframe\">\n",
       "  <thead>\n",
       "    <tr style=\"text-align: right;\">\n",
       "      <th></th>\n",
       "      <th>GENDER</th>\n",
       "      <th>STRATUM</th>\n",
       "      <th>Average_grade</th>\n",
       "      <th>value</th>\n",
       "      <th>df_F_COL_Stratum 1</th>\n",
       "      <th>df_F_COL_Stratum 2</th>\n",
       "      <th>df_F_COL_Stratum 3</th>\n",
       "      <th>df_F_COL_Stratum 4</th>\n",
       "      <th>df_F_COL_Stratum 5</th>\n",
       "      <th>df_F_COL_Stratum 6</th>\n",
       "    </tr>\n",
       "  </thead>\n",
       "  <tbody>\n",
       "    <tr>\n",
       "      <th>12397</th>\n",
       "      <td>F</td>\n",
       "      <td>Stratum 4</td>\n",
       "      <td>COL</td>\n",
       "      <td>85.666667</td>\n",
       "      <td>0.0</td>\n",
       "      <td>0.000000</td>\n",
       "      <td>0.000000</td>\n",
       "      <td>85.666667</td>\n",
       "      <td>0.0</td>\n",
       "      <td>0.000000</td>\n",
       "    </tr>\n",
       "    <tr>\n",
       "      <th>12398</th>\n",
       "      <td>F</td>\n",
       "      <td>Stratum 5</td>\n",
       "      <td>COL</td>\n",
       "      <td>74.000000</td>\n",
       "      <td>0.0</td>\n",
       "      <td>0.000000</td>\n",
       "      <td>0.000000</td>\n",
       "      <td>0.000000</td>\n",
       "      <td>74.0</td>\n",
       "      <td>0.000000</td>\n",
       "    </tr>\n",
       "    <tr>\n",
       "      <th>12400</th>\n",
       "      <td>F</td>\n",
       "      <td>Stratum 2</td>\n",
       "      <td>COL</td>\n",
       "      <td>63.666667</td>\n",
       "      <td>0.0</td>\n",
       "      <td>63.666667</td>\n",
       "      <td>0.000000</td>\n",
       "      <td>0.000000</td>\n",
       "      <td>0.0</td>\n",
       "      <td>0.000000</td>\n",
       "    </tr>\n",
       "    <tr>\n",
       "      <th>12402</th>\n",
       "      <td>F</td>\n",
       "      <td>Stratum 6</td>\n",
       "      <td>COL</td>\n",
       "      <td>48.000000</td>\n",
       "      <td>0.0</td>\n",
       "      <td>0.000000</td>\n",
       "      <td>0.000000</td>\n",
       "      <td>0.000000</td>\n",
       "      <td>0.0</td>\n",
       "      <td>48.000000</td>\n",
       "    </tr>\n",
       "    <tr>\n",
       "      <th>12404</th>\n",
       "      <td>F</td>\n",
       "      <td>Stratum 6</td>\n",
       "      <td>COL</td>\n",
       "      <td>92.333333</td>\n",
       "      <td>0.0</td>\n",
       "      <td>0.000000</td>\n",
       "      <td>0.000000</td>\n",
       "      <td>0.000000</td>\n",
       "      <td>0.0</td>\n",
       "      <td>92.333333</td>\n",
       "    </tr>\n",
       "    <tr>\n",
       "      <th>...</th>\n",
       "      <td>...</td>\n",
       "      <td>...</td>\n",
       "      <td>...</td>\n",
       "      <td>...</td>\n",
       "      <td>...</td>\n",
       "      <td>...</td>\n",
       "      <td>...</td>\n",
       "      <td>...</td>\n",
       "      <td>...</td>\n",
       "      <td>...</td>\n",
       "    </tr>\n",
       "    <tr>\n",
       "      <th>24784</th>\n",
       "      <td>F</td>\n",
       "      <td>Stratum 3</td>\n",
       "      <td>COL</td>\n",
       "      <td>41.000000</td>\n",
       "      <td>0.0</td>\n",
       "      <td>0.000000</td>\n",
       "      <td>41.000000</td>\n",
       "      <td>0.000000</td>\n",
       "      <td>0.0</td>\n",
       "      <td>0.000000</td>\n",
       "    </tr>\n",
       "    <tr>\n",
       "      <th>24785</th>\n",
       "      <td>F</td>\n",
       "      <td>Stratum 2</td>\n",
       "      <td>COL</td>\n",
       "      <td>89.666667</td>\n",
       "      <td>0.0</td>\n",
       "      <td>89.666667</td>\n",
       "      <td>0.000000</td>\n",
       "      <td>0.000000</td>\n",
       "      <td>0.0</td>\n",
       "      <td>0.000000</td>\n",
       "    </tr>\n",
       "    <tr>\n",
       "      <th>24786</th>\n",
       "      <td>F</td>\n",
       "      <td>Stratum 3</td>\n",
       "      <td>COL</td>\n",
       "      <td>87.333333</td>\n",
       "      <td>0.0</td>\n",
       "      <td>0.000000</td>\n",
       "      <td>87.333333</td>\n",
       "      <td>0.000000</td>\n",
       "      <td>0.0</td>\n",
       "      <td>0.000000</td>\n",
       "    </tr>\n",
       "    <tr>\n",
       "      <th>24787</th>\n",
       "      <td>F</td>\n",
       "      <td>Stratum 3</td>\n",
       "      <td>COL</td>\n",
       "      <td>79.000000</td>\n",
       "      <td>0.0</td>\n",
       "      <td>0.000000</td>\n",
       "      <td>79.000000</td>\n",
       "      <td>0.000000</td>\n",
       "      <td>0.0</td>\n",
       "      <td>0.000000</td>\n",
       "    </tr>\n",
       "    <tr>\n",
       "      <th>24792</th>\n",
       "      <td>F</td>\n",
       "      <td>Stratum 3</td>\n",
       "      <td>COL</td>\n",
       "      <td>46.333333</td>\n",
       "      <td>0.0</td>\n",
       "      <td>0.000000</td>\n",
       "      <td>46.333333</td>\n",
       "      <td>0.000000</td>\n",
       "      <td>0.0</td>\n",
       "      <td>0.000000</td>\n",
       "    </tr>\n",
       "  </tbody>\n",
       "</table>\n",
       "<p>5037 rows × 10 columns</p>\n",
       "</div>"
      ],
      "text/plain": [
       "      GENDER    STRATUM Average_grade      value  df_F_COL_Stratum 1  \\\n",
       "12397      F  Stratum 4           COL  85.666667                 0.0   \n",
       "12398      F  Stratum 5           COL  74.000000                 0.0   \n",
       "12400      F  Stratum 2           COL  63.666667                 0.0   \n",
       "12402      F  Stratum 6           COL  48.000000                 0.0   \n",
       "12404      F  Stratum 6           COL  92.333333                 0.0   \n",
       "...      ...        ...           ...        ...                 ...   \n",
       "24784      F  Stratum 3           COL  41.000000                 0.0   \n",
       "24785      F  Stratum 2           COL  89.666667                 0.0   \n",
       "24786      F  Stratum 3           COL  87.333333                 0.0   \n",
       "24787      F  Stratum 3           COL  79.000000                 0.0   \n",
       "24792      F  Stratum 3           COL  46.333333                 0.0   \n",
       "\n",
       "       df_F_COL_Stratum 2  df_F_COL_Stratum 3  df_F_COL_Stratum 4  \\\n",
       "12397            0.000000            0.000000           85.666667   \n",
       "12398            0.000000            0.000000            0.000000   \n",
       "12400           63.666667            0.000000            0.000000   \n",
       "12402            0.000000            0.000000            0.000000   \n",
       "12404            0.000000            0.000000            0.000000   \n",
       "...                   ...                 ...                 ...   \n",
       "24784            0.000000           41.000000            0.000000   \n",
       "24785           89.666667            0.000000            0.000000   \n",
       "24786            0.000000           87.333333            0.000000   \n",
       "24787            0.000000           79.000000            0.000000   \n",
       "24792            0.000000           46.333333            0.000000   \n",
       "\n",
       "       df_F_COL_Stratum 5  df_F_COL_Stratum 6  \n",
       "12397                 0.0            0.000000  \n",
       "12398                74.0            0.000000  \n",
       "12400                 0.0            0.000000  \n",
       "12402                 0.0           48.000000  \n",
       "12404                 0.0           92.333333  \n",
       "...                   ...                 ...  \n",
       "24784                 0.0            0.000000  \n",
       "24785                 0.0            0.000000  \n",
       "24786                 0.0            0.000000  \n",
       "24787                 0.0            0.000000  \n",
       "24792                 0.0            0.000000  \n",
       "\n",
       "[5037 rows x 10 columns]"
      ]
     },
     "execution_count": 30,
     "metadata": {},
     "output_type": "execute_result"
    }
   ],
   "source": [
    "df_F_COL"
   ]
  },
  {
   "cell_type": "code",
   "execution_count": 31,
   "metadata": {},
   "outputs": [],
   "source": [
    "#Merging\n",
    "result_df = pd.concat([df_F_HI.iloc[:,4:], df_F_COL.iloc[:,4:], df_M_HI.iloc[:,4:], df_M_COL.iloc[:,4:]], axis=1)"
   ]
  },
  {
   "cell_type": "code",
   "execution_count": 32,
   "metadata": {},
   "outputs": [
    {
     "data": {
      "text/html": [
       "<div>\n",
       "<style scoped>\n",
       "    .dataframe tbody tr th:only-of-type {\n",
       "        vertical-align: middle;\n",
       "    }\n",
       "\n",
       "    .dataframe tbody tr th {\n",
       "        vertical-align: top;\n",
       "    }\n",
       "\n",
       "    .dataframe thead th {\n",
       "        text-align: right;\n",
       "    }\n",
       "</style>\n",
       "<table border=\"1\" class=\"dataframe\">\n",
       "  <thead>\n",
       "    <tr style=\"text-align: right;\">\n",
       "      <th></th>\n",
       "      <th>df_F_HI_Stratum 1</th>\n",
       "      <th>df_F_HI_Stratum 2</th>\n",
       "      <th>df_F_HI_Stratum 3</th>\n",
       "      <th>df_F_HI_Stratum 4</th>\n",
       "      <th>df_F_HI_Stratum 5</th>\n",
       "      <th>df_F_HI_Stratum 6</th>\n",
       "      <th>df_F_COL_Stratum 1</th>\n",
       "      <th>df_F_COL_Stratum 2</th>\n",
       "      <th>df_F_COL_Stratum 3</th>\n",
       "      <th>df_F_COL_Stratum 4</th>\n",
       "      <th>df_F_COL_Stratum 5</th>\n",
       "      <th>df_F_COL_Stratum 6</th>\n",
       "      <th>df_M_HI_Stratum 1</th>\n",
       "      <th>df_M_HI_Stratum 2</th>\n",
       "      <th>df_M_HI_Stratum 3</th>\n",
       "      <th>df_M_HI_Stratum 4</th>\n",
       "      <th>df_M_HI_Stratum 5</th>\n",
       "      <th>df_M_HI_Stratum 6</th>\n",
       "      <th>df_M_COL_Stratum 1</th>\n",
       "      <th>df_M_COL_Stratum 2</th>\n",
       "      <th>df_M_COL_Stratum 3</th>\n",
       "      <th>df_M_COL_Stratum 4</th>\n",
       "      <th>df_M_COL_Stratum 5</th>\n",
       "      <th>df_M_COL_Stratum 6</th>\n",
       "    </tr>\n",
       "  </thead>\n",
       "  <tbody>\n",
       "    <tr>\n",
       "      <th>0</th>\n",
       "      <td>0.0</td>\n",
       "      <td>0.000000</td>\n",
       "      <td>0.0</td>\n",
       "      <td>74.666667</td>\n",
       "      <td>0.000000</td>\n",
       "      <td>0.0</td>\n",
       "      <td>NaN</td>\n",
       "      <td>NaN</td>\n",
       "      <td>NaN</td>\n",
       "      <td>NaN</td>\n",
       "      <td>NaN</td>\n",
       "      <td>NaN</td>\n",
       "      <td>NaN</td>\n",
       "      <td>NaN</td>\n",
       "      <td>NaN</td>\n",
       "      <td>NaN</td>\n",
       "      <td>NaN</td>\n",
       "      <td>NaN</td>\n",
       "      <td>NaN</td>\n",
       "      <td>NaN</td>\n",
       "      <td>NaN</td>\n",
       "      <td>NaN</td>\n",
       "      <td>NaN</td>\n",
       "      <td>NaN</td>\n",
       "    </tr>\n",
       "    <tr>\n",
       "      <th>1</th>\n",
       "      <td>0.0</td>\n",
       "      <td>0.000000</td>\n",
       "      <td>0.0</td>\n",
       "      <td>0.000000</td>\n",
       "      <td>76.333333</td>\n",
       "      <td>0.0</td>\n",
       "      <td>NaN</td>\n",
       "      <td>NaN</td>\n",
       "      <td>NaN</td>\n",
       "      <td>NaN</td>\n",
       "      <td>NaN</td>\n",
       "      <td>NaN</td>\n",
       "      <td>NaN</td>\n",
       "      <td>NaN</td>\n",
       "      <td>NaN</td>\n",
       "      <td>NaN</td>\n",
       "      <td>NaN</td>\n",
       "      <td>NaN</td>\n",
       "      <td>NaN</td>\n",
       "      <td>NaN</td>\n",
       "      <td>NaN</td>\n",
       "      <td>NaN</td>\n",
       "      <td>NaN</td>\n",
       "      <td>NaN</td>\n",
       "    </tr>\n",
       "    <tr>\n",
       "      <th>2</th>\n",
       "      <td>NaN</td>\n",
       "      <td>NaN</td>\n",
       "      <td>NaN</td>\n",
       "      <td>NaN</td>\n",
       "      <td>NaN</td>\n",
       "      <td>NaN</td>\n",
       "      <td>NaN</td>\n",
       "      <td>NaN</td>\n",
       "      <td>NaN</td>\n",
       "      <td>NaN</td>\n",
       "      <td>NaN</td>\n",
       "      <td>NaN</td>\n",
       "      <td>0.0</td>\n",
       "      <td>43.0</td>\n",
       "      <td>0.0</td>\n",
       "      <td>0.000000</td>\n",
       "      <td>0.0</td>\n",
       "      <td>0.0</td>\n",
       "      <td>NaN</td>\n",
       "      <td>NaN</td>\n",
       "      <td>NaN</td>\n",
       "      <td>NaN</td>\n",
       "      <td>NaN</td>\n",
       "      <td>NaN</td>\n",
       "    </tr>\n",
       "    <tr>\n",
       "      <th>3</th>\n",
       "      <td>0.0</td>\n",
       "      <td>59.666667</td>\n",
       "      <td>0.0</td>\n",
       "      <td>0.000000</td>\n",
       "      <td>0.000000</td>\n",
       "      <td>0.0</td>\n",
       "      <td>NaN</td>\n",
       "      <td>NaN</td>\n",
       "      <td>NaN</td>\n",
       "      <td>NaN</td>\n",
       "      <td>NaN</td>\n",
       "      <td>NaN</td>\n",
       "      <td>NaN</td>\n",
       "      <td>NaN</td>\n",
       "      <td>NaN</td>\n",
       "      <td>NaN</td>\n",
       "      <td>NaN</td>\n",
       "      <td>NaN</td>\n",
       "      <td>NaN</td>\n",
       "      <td>NaN</td>\n",
       "      <td>NaN</td>\n",
       "      <td>NaN</td>\n",
       "      <td>NaN</td>\n",
       "      <td>NaN</td>\n",
       "    </tr>\n",
       "    <tr>\n",
       "      <th>4</th>\n",
       "      <td>NaN</td>\n",
       "      <td>NaN</td>\n",
       "      <td>NaN</td>\n",
       "      <td>NaN</td>\n",
       "      <td>NaN</td>\n",
       "      <td>NaN</td>\n",
       "      <td>NaN</td>\n",
       "      <td>NaN</td>\n",
       "      <td>NaN</td>\n",
       "      <td>NaN</td>\n",
       "      <td>NaN</td>\n",
       "      <td>NaN</td>\n",
       "      <td>0.0</td>\n",
       "      <td>0.0</td>\n",
       "      <td>0.0</td>\n",
       "      <td>77.666667</td>\n",
       "      <td>0.0</td>\n",
       "      <td>0.0</td>\n",
       "      <td>NaN</td>\n",
       "      <td>NaN</td>\n",
       "      <td>NaN</td>\n",
       "      <td>NaN</td>\n",
       "      <td>NaN</td>\n",
       "      <td>NaN</td>\n",
       "    </tr>\n",
       "    <tr>\n",
       "      <th>...</th>\n",
       "      <td>...</td>\n",
       "      <td>...</td>\n",
       "      <td>...</td>\n",
       "      <td>...</td>\n",
       "      <td>...</td>\n",
       "      <td>...</td>\n",
       "      <td>...</td>\n",
       "      <td>...</td>\n",
       "      <td>...</td>\n",
       "      <td>...</td>\n",
       "      <td>...</td>\n",
       "      <td>...</td>\n",
       "      <td>...</td>\n",
       "      <td>...</td>\n",
       "      <td>...</td>\n",
       "      <td>...</td>\n",
       "      <td>...</td>\n",
       "      <td>...</td>\n",
       "      <td>...</td>\n",
       "      <td>...</td>\n",
       "      <td>...</td>\n",
       "      <td>...</td>\n",
       "      <td>...</td>\n",
       "      <td>...</td>\n",
       "    </tr>\n",
       "    <tr>\n",
       "      <th>24789</th>\n",
       "      <td>NaN</td>\n",
       "      <td>NaN</td>\n",
       "      <td>NaN</td>\n",
       "      <td>NaN</td>\n",
       "      <td>NaN</td>\n",
       "      <td>NaN</td>\n",
       "      <td>NaN</td>\n",
       "      <td>NaN</td>\n",
       "      <td>NaN</td>\n",
       "      <td>NaN</td>\n",
       "      <td>NaN</td>\n",
       "      <td>NaN</td>\n",
       "      <td>NaN</td>\n",
       "      <td>NaN</td>\n",
       "      <td>NaN</td>\n",
       "      <td>NaN</td>\n",
       "      <td>NaN</td>\n",
       "      <td>NaN</td>\n",
       "      <td>0.0</td>\n",
       "      <td>81.333333</td>\n",
       "      <td>0.000000</td>\n",
       "      <td>0.0</td>\n",
       "      <td>0.0</td>\n",
       "      <td>0.0</td>\n",
       "    </tr>\n",
       "    <tr>\n",
       "      <th>24790</th>\n",
       "      <td>NaN</td>\n",
       "      <td>NaN</td>\n",
       "      <td>NaN</td>\n",
       "      <td>NaN</td>\n",
       "      <td>NaN</td>\n",
       "      <td>NaN</td>\n",
       "      <td>NaN</td>\n",
       "      <td>NaN</td>\n",
       "      <td>NaN</td>\n",
       "      <td>NaN</td>\n",
       "      <td>NaN</td>\n",
       "      <td>NaN</td>\n",
       "      <td>NaN</td>\n",
       "      <td>NaN</td>\n",
       "      <td>NaN</td>\n",
       "      <td>NaN</td>\n",
       "      <td>NaN</td>\n",
       "      <td>NaN</td>\n",
       "      <td>0.0</td>\n",
       "      <td>31.333333</td>\n",
       "      <td>0.000000</td>\n",
       "      <td>0.0</td>\n",
       "      <td>0.0</td>\n",
       "      <td>0.0</td>\n",
       "    </tr>\n",
       "    <tr>\n",
       "      <th>24791</th>\n",
       "      <td>NaN</td>\n",
       "      <td>NaN</td>\n",
       "      <td>NaN</td>\n",
       "      <td>NaN</td>\n",
       "      <td>NaN</td>\n",
       "      <td>NaN</td>\n",
       "      <td>NaN</td>\n",
       "      <td>NaN</td>\n",
       "      <td>NaN</td>\n",
       "      <td>NaN</td>\n",
       "      <td>NaN</td>\n",
       "      <td>NaN</td>\n",
       "      <td>NaN</td>\n",
       "      <td>NaN</td>\n",
       "      <td>NaN</td>\n",
       "      <td>NaN</td>\n",
       "      <td>NaN</td>\n",
       "      <td>NaN</td>\n",
       "      <td>0.0</td>\n",
       "      <td>86.333333</td>\n",
       "      <td>0.000000</td>\n",
       "      <td>0.0</td>\n",
       "      <td>0.0</td>\n",
       "      <td>0.0</td>\n",
       "    </tr>\n",
       "    <tr>\n",
       "      <th>24792</th>\n",
       "      <td>NaN</td>\n",
       "      <td>NaN</td>\n",
       "      <td>NaN</td>\n",
       "      <td>NaN</td>\n",
       "      <td>NaN</td>\n",
       "      <td>NaN</td>\n",
       "      <td>0.0</td>\n",
       "      <td>0.0</td>\n",
       "      <td>46.333333</td>\n",
       "      <td>0.0</td>\n",
       "      <td>0.0</td>\n",
       "      <td>0.0</td>\n",
       "      <td>NaN</td>\n",
       "      <td>NaN</td>\n",
       "      <td>NaN</td>\n",
       "      <td>NaN</td>\n",
       "      <td>NaN</td>\n",
       "      <td>NaN</td>\n",
       "      <td>NaN</td>\n",
       "      <td>NaN</td>\n",
       "      <td>NaN</td>\n",
       "      <td>NaN</td>\n",
       "      <td>NaN</td>\n",
       "      <td>NaN</td>\n",
       "    </tr>\n",
       "    <tr>\n",
       "      <th>24793</th>\n",
       "      <td>NaN</td>\n",
       "      <td>NaN</td>\n",
       "      <td>NaN</td>\n",
       "      <td>NaN</td>\n",
       "      <td>NaN</td>\n",
       "      <td>NaN</td>\n",
       "      <td>NaN</td>\n",
       "      <td>NaN</td>\n",
       "      <td>NaN</td>\n",
       "      <td>NaN</td>\n",
       "      <td>NaN</td>\n",
       "      <td>NaN</td>\n",
       "      <td>NaN</td>\n",
       "      <td>NaN</td>\n",
       "      <td>NaN</td>\n",
       "      <td>NaN</td>\n",
       "      <td>NaN</td>\n",
       "      <td>NaN</td>\n",
       "      <td>0.0</td>\n",
       "      <td>0.000000</td>\n",
       "      <td>88.333333</td>\n",
       "      <td>0.0</td>\n",
       "      <td>0.0</td>\n",
       "      <td>0.0</td>\n",
       "    </tr>\n",
       "  </tbody>\n",
       "</table>\n",
       "<p>24794 rows × 24 columns</p>\n",
       "</div>"
      ],
      "text/plain": [
       "       df_F_HI_Stratum 1  df_F_HI_Stratum 2  df_F_HI_Stratum 3  \\\n",
       "0                    0.0           0.000000                0.0   \n",
       "1                    0.0           0.000000                0.0   \n",
       "2                    NaN                NaN                NaN   \n",
       "3                    0.0          59.666667                0.0   \n",
       "4                    NaN                NaN                NaN   \n",
       "...                  ...                ...                ...   \n",
       "24789                NaN                NaN                NaN   \n",
       "24790                NaN                NaN                NaN   \n",
       "24791                NaN                NaN                NaN   \n",
       "24792                NaN                NaN                NaN   \n",
       "24793                NaN                NaN                NaN   \n",
       "\n",
       "       df_F_HI_Stratum 4  df_F_HI_Stratum 5  df_F_HI_Stratum 6  \\\n",
       "0              74.666667           0.000000                0.0   \n",
       "1               0.000000          76.333333                0.0   \n",
       "2                    NaN                NaN                NaN   \n",
       "3               0.000000           0.000000                0.0   \n",
       "4                    NaN                NaN                NaN   \n",
       "...                  ...                ...                ...   \n",
       "24789                NaN                NaN                NaN   \n",
       "24790                NaN                NaN                NaN   \n",
       "24791                NaN                NaN                NaN   \n",
       "24792                NaN                NaN                NaN   \n",
       "24793                NaN                NaN                NaN   \n",
       "\n",
       "       df_F_COL_Stratum 1  df_F_COL_Stratum 2  df_F_COL_Stratum 3  \\\n",
       "0                     NaN                 NaN                 NaN   \n",
       "1                     NaN                 NaN                 NaN   \n",
       "2                     NaN                 NaN                 NaN   \n",
       "3                     NaN                 NaN                 NaN   \n",
       "4                     NaN                 NaN                 NaN   \n",
       "...                   ...                 ...                 ...   \n",
       "24789                 NaN                 NaN                 NaN   \n",
       "24790                 NaN                 NaN                 NaN   \n",
       "24791                 NaN                 NaN                 NaN   \n",
       "24792                 0.0                 0.0           46.333333   \n",
       "24793                 NaN                 NaN                 NaN   \n",
       "\n",
       "       df_F_COL_Stratum 4  df_F_COL_Stratum 5  df_F_COL_Stratum 6  \\\n",
       "0                     NaN                 NaN                 NaN   \n",
       "1                     NaN                 NaN                 NaN   \n",
       "2                     NaN                 NaN                 NaN   \n",
       "3                     NaN                 NaN                 NaN   \n",
       "4                     NaN                 NaN                 NaN   \n",
       "...                   ...                 ...                 ...   \n",
       "24789                 NaN                 NaN                 NaN   \n",
       "24790                 NaN                 NaN                 NaN   \n",
       "24791                 NaN                 NaN                 NaN   \n",
       "24792                 0.0                 0.0                 0.0   \n",
       "24793                 NaN                 NaN                 NaN   \n",
       "\n",
       "       df_M_HI_Stratum 1  df_M_HI_Stratum 2  df_M_HI_Stratum 3  \\\n",
       "0                    NaN                NaN                NaN   \n",
       "1                    NaN                NaN                NaN   \n",
       "2                    0.0               43.0                0.0   \n",
       "3                    NaN                NaN                NaN   \n",
       "4                    0.0                0.0                0.0   \n",
       "...                  ...                ...                ...   \n",
       "24789                NaN                NaN                NaN   \n",
       "24790                NaN                NaN                NaN   \n",
       "24791                NaN                NaN                NaN   \n",
       "24792                NaN                NaN                NaN   \n",
       "24793                NaN                NaN                NaN   \n",
       "\n",
       "       df_M_HI_Stratum 4  df_M_HI_Stratum 5  df_M_HI_Stratum 6  \\\n",
       "0                    NaN                NaN                NaN   \n",
       "1                    NaN                NaN                NaN   \n",
       "2               0.000000                0.0                0.0   \n",
       "3                    NaN                NaN                NaN   \n",
       "4              77.666667                0.0                0.0   \n",
       "...                  ...                ...                ...   \n",
       "24789                NaN                NaN                NaN   \n",
       "24790                NaN                NaN                NaN   \n",
       "24791                NaN                NaN                NaN   \n",
       "24792                NaN                NaN                NaN   \n",
       "24793                NaN                NaN                NaN   \n",
       "\n",
       "       df_M_COL_Stratum 1  df_M_COL_Stratum 2  df_M_COL_Stratum 3  \\\n",
       "0                     NaN                 NaN                 NaN   \n",
       "1                     NaN                 NaN                 NaN   \n",
       "2                     NaN                 NaN                 NaN   \n",
       "3                     NaN                 NaN                 NaN   \n",
       "4                     NaN                 NaN                 NaN   \n",
       "...                   ...                 ...                 ...   \n",
       "24789                 0.0           81.333333            0.000000   \n",
       "24790                 0.0           31.333333            0.000000   \n",
       "24791                 0.0           86.333333            0.000000   \n",
       "24792                 NaN                 NaN                 NaN   \n",
       "24793                 0.0            0.000000           88.333333   \n",
       "\n",
       "       df_M_COL_Stratum 4  df_M_COL_Stratum 5  df_M_COL_Stratum 6  \n",
       "0                     NaN                 NaN                 NaN  \n",
       "1                     NaN                 NaN                 NaN  \n",
       "2                     NaN                 NaN                 NaN  \n",
       "3                     NaN                 NaN                 NaN  \n",
       "4                     NaN                 NaN                 NaN  \n",
       "...                   ...                 ...                 ...  \n",
       "24789                 0.0                 0.0                 0.0  \n",
       "24790                 0.0                 0.0                 0.0  \n",
       "24791                 0.0                 0.0                 0.0  \n",
       "24792                 NaN                 NaN                 NaN  \n",
       "24793                 0.0                 0.0                 0.0  \n",
       "\n",
       "[24794 rows x 24 columns]"
      ]
     },
     "execution_count": 32,
     "metadata": {},
     "output_type": "execute_result"
    }
   ],
   "source": [
    "result_df"
   ]
  },
  {
   "cell_type": "code",
   "execution_count": 33,
   "metadata": {},
   "outputs": [
    {
     "data": {
      "image/png": "[encoded data removed]",
      "text/plain": [
       "<Figure size 1400x500 with 2 Axes>"
      ]
     },
     "metadata": {},
     "output_type": "display_data"
    }
   ],
   "source": [
    "sns.heatmap(result_df.corr());"
   ]
  },
  {
   "cell_type": "markdown",
   "metadata": {},
   "source": [
    "### Split up pearson correlation:\n",
    "between grades (before), grades (after), gender, socio-economic level"
   ]
  },
  {
   "cell_type": "code",
   "execution_count": 34,
   "metadata": {},
   "outputs": [
    {
     "data": {
      "text/html": [
       "<div>\n",
       "<style scoped>\n",
       "    .dataframe tbody tr th:only-of-type {\n",
       "        vertical-align: middle;\n",
       "    }\n",
       "\n",
       "    .dataframe tbody tr th {\n",
       "        vertical-align: top;\n",
       "    }\n",
       "\n",
       "    .dataframe thead th {\n",
       "        text-align: right;\n",
       "    }\n",
       "</style>\n",
       "<table border=\"1\" class=\"dataframe\">\n",
       "  <thead>\n",
       "    <tr style=\"text-align: right;\">\n",
       "      <th></th>\n",
       "      <th>HI</th>\n",
       "      <th>COL</th>\n",
       "      <th>GENDER</th>\n",
       "      <th>STRATUM</th>\n",
       "    </tr>\n",
       "  </thead>\n",
       "  <tbody>\n",
       "    <tr>\n",
       "      <th>0</th>\n",
       "      <td>74.666667</td>\n",
       "      <td>85.666667</td>\n",
       "      <td>F</td>\n",
       "      <td>Stratum 4</td>\n",
       "    </tr>\n",
       "    <tr>\n",
       "      <th>1</th>\n",
       "      <td>76.333333</td>\n",
       "      <td>74.000000</td>\n",
       "      <td>F</td>\n",
       "      <td>Stratum 5</td>\n",
       "    </tr>\n",
       "    <tr>\n",
       "      <th>2</th>\n",
       "      <td>43.000000</td>\n",
       "      <td>20.666667</td>\n",
       "      <td>M</td>\n",
       "      <td>Stratum 2</td>\n",
       "    </tr>\n",
       "    <tr>\n",
       "      <th>3</th>\n",
       "      <td>59.666667</td>\n",
       "      <td>63.666667</td>\n",
       "      <td>F</td>\n",
       "      <td>Stratum 2</td>\n",
       "    </tr>\n",
       "    <tr>\n",
       "      <th>4</th>\n",
       "      <td>77.666667</td>\n",
       "      <td>97.333333</td>\n",
       "      <td>M</td>\n",
       "      <td>Stratum 4</td>\n",
       "    </tr>\n",
       "    <tr>\n",
       "      <th>...</th>\n",
       "      <td>...</td>\n",
       "      <td>...</td>\n",
       "      <td>...</td>\n",
       "      <td>...</td>\n",
       "    </tr>\n",
       "    <tr>\n",
       "      <th>12406</th>\n",
       "      <td>73.333333</td>\n",
       "      <td>81.333333</td>\n",
       "      <td>M</td>\n",
       "      <td>Stratum 2</td>\n",
       "    </tr>\n",
       "    <tr>\n",
       "      <th>12407</th>\n",
       "      <td>57.000000</td>\n",
       "      <td>31.333333</td>\n",
       "      <td>M</td>\n",
       "      <td>Stratum 2</td>\n",
       "    </tr>\n",
       "    <tr>\n",
       "      <th>12408</th>\n",
       "      <td>67.333333</td>\n",
       "      <td>86.333333</td>\n",
       "      <td>M</td>\n",
       "      <td>Stratum 2</td>\n",
       "    </tr>\n",
       "    <tr>\n",
       "      <th>12409</th>\n",
       "      <td>61.666667</td>\n",
       "      <td>46.333333</td>\n",
       "      <td>F</td>\n",
       "      <td>Stratum 3</td>\n",
       "    </tr>\n",
       "    <tr>\n",
       "      <th>12410</th>\n",
       "      <td>66.666667</td>\n",
       "      <td>88.333333</td>\n",
       "      <td>M</td>\n",
       "      <td>Stratum 3</td>\n",
       "    </tr>\n",
       "  </tbody>\n",
       "</table>\n",
       "<p>12397 rows × 4 columns</p>\n",
       "</div>"
      ],
      "text/plain": [
       "              HI        COL GENDER    STRATUM\n",
       "0      74.666667  85.666667      F  Stratum 4\n",
       "1      76.333333  74.000000      F  Stratum 5\n",
       "2      43.000000  20.666667      M  Stratum 2\n",
       "3      59.666667  63.666667      F  Stratum 2\n",
       "4      77.666667  97.333333      M  Stratum 4\n",
       "...          ...        ...    ...        ...\n",
       "12406  73.333333  81.333333      M  Stratum 2\n",
       "12407  57.000000  31.333333      M  Stratum 2\n",
       "12408  67.333333  86.333333      M  Stratum 2\n",
       "12409  61.666667  46.333333      F  Stratum 3\n",
       "12410  66.666667  88.333333      M  Stratum 3\n",
       "\n",
       "[12397 rows x 4 columns]"
      ]
     },
     "execution_count": 34,
     "metadata": {},
     "output_type": "execute_result"
    }
   ],
   "source": [
    "df_use = df_gen_soc_hc.copy()\n",
    "df_use"
   ]
  },
  {
   "cell_type": "code",
   "execution_count": 57,
   "metadata": {},
   "outputs": [],
   "source": [
    "#new df with new cols \n",
    "\n",
    "df_F = df_use[df_use.GENDER == \"F\"]\n",
    "df_M = df_use[df_use.GENDER == \"M\"]\n",
    "df_M = df_M.rename(columns={\"HI\":\"HI_M\", \"COL\":\"COL_M\"})\n",
    "df_F = df_F.rename(columns={\"HI\":\"HI_F\", \"COL\":\"COL_F\"})\n",
    "\n",
    "df_F = df_F.reset_index(drop=True)\n",
    "df_M = df_M.reset_index(drop=True)\n",
    "\n",
    "\n",
    "df_F = df_F.drop([\"GENDER\", \"STRATUM\"], axis=1)\n",
    "df_M = df_M.drop([\"GENDER\", \"STRATUM\"], axis=1)"
   ]
  },
  {
   "cell_type": "code",
   "execution_count": 60,
   "metadata": {},
   "outputs": [],
   "source": [
    "# Merge the two dfs\n",
    "df_FM = pd.concat([df_F,df_M], axis=1)"
   ]
  },
  {
   "cell_type": "code",
   "execution_count": 62,
   "metadata": {},
   "outputs": [
    {
     "data": {
      "text/html": [
       "<div>\n",
       "<style scoped>\n",
       "    .dataframe tbody tr th:only-of-type {\n",
       "        vertical-align: middle;\n",
       "    }\n",
       "\n",
       "    .dataframe tbody tr th {\n",
       "        vertical-align: top;\n",
       "    }\n",
       "\n",
       "    .dataframe thead th {\n",
       "        text-align: right;\n",
       "    }\n",
       "</style>\n",
       "<table border=\"1\" class=\"dataframe\">\n",
       "  <thead>\n",
       "    <tr style=\"text-align: right;\">\n",
       "      <th></th>\n",
       "      <th>HI_F</th>\n",
       "      <th>COL_F</th>\n",
       "      <th>HI_M</th>\n",
       "      <th>COL_M</th>\n",
       "    </tr>\n",
       "  </thead>\n",
       "  <tbody>\n",
       "    <tr>\n",
       "      <th>0</th>\n",
       "      <td>74.666667</td>\n",
       "      <td>85.666667</td>\n",
       "      <td>43.000000</td>\n",
       "      <td>20.666667</td>\n",
       "    </tr>\n",
       "    <tr>\n",
       "      <th>1</th>\n",
       "      <td>76.333333</td>\n",
       "      <td>74.000000</td>\n",
       "      <td>77.666667</td>\n",
       "      <td>97.333333</td>\n",
       "    </tr>\n",
       "    <tr>\n",
       "      <th>2</th>\n",
       "      <td>59.666667</td>\n",
       "      <td>63.666667</td>\n",
       "      <td>73.666667</td>\n",
       "      <td>50.000000</td>\n",
       "    </tr>\n",
       "    <tr>\n",
       "      <th>3</th>\n",
       "      <td>66.333333</td>\n",
       "      <td>48.000000</td>\n",
       "      <td>53.666667</td>\n",
       "      <td>34.333333</td>\n",
       "    </tr>\n",
       "    <tr>\n",
       "      <th>4</th>\n",
       "      <td>74.666667</td>\n",
       "      <td>92.333333</td>\n",
       "      <td>57.000000</td>\n",
       "      <td>48.666667</td>\n",
       "    </tr>\n",
       "    <tr>\n",
       "      <th>...</th>\n",
       "      <td>...</td>\n",
       "      <td>...</td>\n",
       "      <td>...</td>\n",
       "      <td>...</td>\n",
       "    </tr>\n",
       "    <tr>\n",
       "      <th>7355</th>\n",
       "      <td>NaN</td>\n",
       "      <td>NaN</td>\n",
       "      <td>69.000000</td>\n",
       "      <td>61.666667</td>\n",
       "    </tr>\n",
       "    <tr>\n",
       "      <th>7356</th>\n",
       "      <td>NaN</td>\n",
       "      <td>NaN</td>\n",
       "      <td>73.333333</td>\n",
       "      <td>81.333333</td>\n",
       "    </tr>\n",
       "    <tr>\n",
       "      <th>7357</th>\n",
       "      <td>NaN</td>\n",
       "      <td>NaN</td>\n",
       "      <td>57.000000</td>\n",
       "      <td>31.333333</td>\n",
       "    </tr>\n",
       "    <tr>\n",
       "      <th>7358</th>\n",
       "      <td>NaN</td>\n",
       "      <td>NaN</td>\n",
       "      <td>67.333333</td>\n",
       "      <td>86.333333</td>\n",
       "    </tr>\n",
       "    <tr>\n",
       "      <th>7359</th>\n",
       "      <td>NaN</td>\n",
       "      <td>NaN</td>\n",
       "      <td>66.666667</td>\n",
       "      <td>88.333333</td>\n",
       "    </tr>\n",
       "  </tbody>\n",
       "</table>\n",
       "<p>7360 rows × 4 columns</p>\n",
       "</div>"
      ],
      "text/plain": [
       "           HI_F      COL_F       HI_M      COL_M\n",
       "0     74.666667  85.666667  43.000000  20.666667\n",
       "1     76.333333  74.000000  77.666667  97.333333\n",
       "2     59.666667  63.666667  73.666667  50.000000\n",
       "3     66.333333  48.000000  53.666667  34.333333\n",
       "4     74.666667  92.333333  57.000000  48.666667\n",
       "...         ...        ...        ...        ...\n",
       "7355        NaN        NaN  69.000000  61.666667\n",
       "7356        NaN        NaN  73.333333  81.333333\n",
       "7357        NaN        NaN  57.000000  31.333333\n",
       "7358        NaN        NaN  67.333333  86.333333\n",
       "7359        NaN        NaN  66.666667  88.333333\n",
       "\n",
       "[7360 rows x 4 columns]"
      ]
     },
     "execution_count": 62,
     "metadata": {},
     "output_type": "execute_result"
    }
   ],
   "source": [
    "df_FM"
   ]
  },
  {
   "cell_type": "code",
   "execution_count": 67,
   "metadata": {},
   "outputs": [
    {
     "data": {
      "image/png": "[encoded data removed]",
      "text/plain": [
       "<Figure size 1400x500 with 2 Axes>"
      ]
     },
     "metadata": {},
     "output_type": "display_data"
    }
   ],
   "source": [
    "sns.heatmap(df_FM.corr(method=\"pearson\"), vmin=0.0, vmax=1.0,  annot = True);"
   ]
  },
  {
   "cell_type": "markdown",
   "metadata": {},
   "source": [
    "USE: https://stackoverflow.com/questions/60731457/how-to-easily-group-values-to-improve-heatmap-visualization\n"
   ]
  },
  {
   "cell_type": "markdown",
   "metadata": {},
   "source": [
    "### For startums"
   ]
  },
  {
   "cell_type": "code",
   "execution_count": 74,
   "metadata": {},
   "outputs": [],
   "source": [
    "df_S1 = df_use[df_use.STRATUM == \"Stratum 1\"]\n",
    "df_S2 = df_use[df_use.STRATUM == \"Stratum 2\"]\n",
    "df_S3 = df_use[df_use.STRATUM == \"Stratum 3\"]\n",
    "df_S4 = df_use[df_use.STRATUM == \"Stratum 4\"]\n",
    "df_S5 = df_use[df_use.STRATUM == \"Stratum 5\"]\n",
    "df_S6 = df_use[df_use.STRATUM == \"Stratum 6\"]\n",
    "\n",
    "\n",
    "df_S1 = df_S1.rename(columns={\"HI\":\"HI_S1\", \"COL\":\"COL_S1\"})\n",
    "df_S2 = df_S2.rename(columns={\"HI\":\"HI_S2\", \"COL\":\"COL_S2\"})\n",
    "df_S3 = df_S3.rename(columns={\"HI\":\"HI_S3\", \"COL\":\"COL_S3\"})\n",
    "df_S4 = df_S4.rename(columns={\"HI\":\"HI_S4\", \"COL\":\"COL_S4\"})\n",
    "df_S5 = df_S5.rename(columns={\"HI\":\"HI_S5\", \"COL\":\"COL_S5\"})\n",
    "df_S6 = df_S6.rename(columns={\"HI\":\"HI_S6\", \"COL\":\"COL_S6\"})\n"
   ]
  },
  {
   "cell_type": "code",
   "execution_count": 75,
   "metadata": {},
   "outputs": [],
   "source": [
    "df_S1 = df_S1.reset_index(drop=True)\n",
    "df_S2 = df_S2.reset_index(drop=True)\n",
    "df_S3 = df_S3.reset_index(drop=True)\n",
    "df_S4 = df_S4.reset_index(drop=True)\n",
    "df_S5 = df_S5.reset_index(drop=True)\n",
    "df_S6 = df_S6.reset_index(drop=True)\n",
    "\n",
    "\n",
    "df_S1 = df_S1.drop([\"GENDER\", \"STRATUM\"], axis=1)\n",
    "df_S2 = df_S2.drop([\"GENDER\", \"STRATUM\"], axis=1)\n",
    "df_S3 = df_S3.drop([\"GENDER\", \"STRATUM\"], axis=1)\n",
    "df_S4 = df_S4.drop([\"GENDER\", \"STRATUM\"], axis=1)\n",
    "df_S5 = df_S5.drop([\"GENDER\", \"STRATUM\"], axis=1)\n",
    "df_S6 = df_S6.drop([\"GENDER\", \"STRATUM\"], axis=1)\n"
   ]
  },
  {
   "cell_type": "code",
   "execution_count": 78,
   "metadata": {},
   "outputs": [],
   "source": [
    "# Merge all the stratum dfs\n",
    "df_St = pd.concat([df_S1, df_S2, df_S3, df_S4, df_S5 ,df_S6], axis=1)"
   ]
  },
  {
   "cell_type": "code",
   "execution_count": 80,
   "metadata": {},
   "outputs": [
    {
     "data": {
      "image/png": "[encoded data removed]",
      "text/plain": [
       "<Figure size 960x800 with 2 Axes>"
      ]
     },
     "metadata": {},
     "output_type": "display_data"
    }
   ],
   "source": [
    "figure(figsize=(12, 10), dpi=80)\n",
    "\n",
    "sns.heatmap(df_St.corr(method=\"pearson\"), vmin=0.0, vmax=1.0, annot = True);"
   ]
  },
  {
   "cell_type": "code",
   "execution_count": 37,
   "metadata": {},
   "outputs": [
    {
     "data": {
      "image/png": "[encoded data removed]",
      "text/plain": [
       "<Figure size 1400x500 with 2 Axes>"
      ]
     },
     "metadata": {},
     "output_type": "display_data"
    }
   ],
   "source": [
    "sns.heatmap(df_use[[\"HI\", \"COL\"]].corr(method=\"pearson\"), vmin=0.0, vmax=1.0, annot = True);"
   ]
  },
  {
   "cell_type": "markdown",
   "metadata": {},
   "source": [
    "#### For each university's SEL_IHE,\n",
    "plot distribution"
   ]
  },
  {
   "cell_type": "code",
   "execution_count": 13,
   "metadata": {},
   "outputs": [],
   "source": [
    "df_group = df[[\"SEL_IHE\", \"CR_PRO\", \"CC_PRO\", \"ENG_PRO\"]].groupby([\"SEL_IHE\"]).mean()"
   ]
  },
  {
   "cell_type": "code",
   "execution_count": 15,
   "metadata": {},
   "outputs": [
    {
     "data": {
      "text/html": [
       "<div>\n",
       "<style scoped>\n",
       "    .dataframe tbody tr th:only-of-type {\n",
       "        vertical-align: middle;\n",
       "    }\n",
       "\n",
       "    .dataframe tbody tr th {\n",
       "        vertical-align: top;\n",
       "    }\n",
       "\n",
       "    .dataframe thead th {\n",
       "        text-align: right;\n",
       "    }\n",
       "</style>\n",
       "<table border=\"1\" class=\"dataframe\">\n",
       "  <thead>\n",
       "    <tr style=\"text-align: right;\">\n",
       "      <th></th>\n",
       "      <th>CR_PRO</th>\n",
       "      <th>CC_PRO</th>\n",
       "      <th>ENG_PRO</th>\n",
       "    </tr>\n",
       "    <tr>\n",
       "      <th>SEL_IHE</th>\n",
       "      <th></th>\n",
       "      <th></th>\n",
       "      <th></th>\n",
       "    </tr>\n",
       "  </thead>\n",
       "  <tbody>\n",
       "    <tr>\n",
       "      <th>1</th>\n",
       "      <td>54.934037</td>\n",
       "      <td>51.914688</td>\n",
       "      <td>51.183817</td>\n",
       "    </tr>\n",
       "    <tr>\n",
       "      <th>2</th>\n",
       "      <td>58.970960</td>\n",
       "      <td>56.037816</td>\n",
       "      <td>62.806789</td>\n",
       "    </tr>\n",
       "    <tr>\n",
       "      <th>3</th>\n",
       "      <td>64.613909</td>\n",
       "      <td>59.629496</td>\n",
       "      <td>72.786571</td>\n",
       "    </tr>\n",
       "    <tr>\n",
       "      <th>4</th>\n",
       "      <td>73.811664</td>\n",
       "      <td>71.184250</td>\n",
       "      <td>86.253715</td>\n",
       "    </tr>\n",
       "  </tbody>\n",
       "</table>\n",
       "</div>"
      ],
      "text/plain": [
       "            CR_PRO     CC_PRO    ENG_PRO\n",
       "SEL_IHE                                 \n",
       "1        54.934037  51.914688  51.183817\n",
       "2        58.970960  56.037816  62.806789\n",
       "3        64.613909  59.629496  72.786571\n",
       "4        73.811664  71.184250  86.253715"
      ]
     },
     "execution_count": 15,
     "metadata": {},
     "output_type": "execute_result"
    }
   ],
   "source": [
    "df_group.head()"
   ]
  },
  {
   "cell_type": "markdown",
   "metadata": {},
   "source": [
    "#### Overall correlation, to see which data to look for"
   ]
  },
  {
   "cell_type": "code",
   "execution_count": 6,
   "metadata": {},
   "outputs": [
    {
     "data": {
      "text/plain": [
       "12395"
      ]
     },
     "execution_count": 6,
     "metadata": {},
     "output_type": "execute_result"
    }
   ],
   "source": [
    "df['Cod_SPro'].nunique()"
   ]
  },
  {
   "cell_type": "code",
   "execution_count": 38,
   "metadata": {},
   "outputs": [
    {
     "data": {
      "text/plain": [
       "2    7748\n",
       "4    2692\n",
       "1    1137\n",
       "3     834\n",
       "Name: SEL_IHE, dtype: int64"
      ]
     },
     "execution_count": 38,
     "metadata": {},
     "output_type": "execute_result"
    }
   ],
   "source": [
    "df['SEL_IHE'].value_counts()"
   ]
  },
  {
   "cell_type": "code",
   "execution_count": 11,
   "metadata": {
    "scrolled": false
   },
   "outputs": [
    {
     "data": {
      "image/png": "[encoded data removed]",
      "text/plain": [
       "<Figure size 640x480 with 2 Axes>"
      ]
     },
     "metadata": {},
     "output_type": "display_data"
    }
   ],
   "source": [
    "figure(figsize=(8, 6), dpi=80)\n",
    "sns.heatmap(df.corr());"
   ]
  },
  {
   "cell_type": "markdown",
   "metadata": {},
   "source": [
    "## New correlation heatmap - Lauras version\n",
    "Make pearson correlation of two columns. Create nested for loop to go through combinations of the four columns and add pearson array to 4x4 matrix. End with (16/2)-4 size heatmap by applying imshow().\n",
    "\n",
    "Scipys pearson correlation has the output:  Pearson correlation coefficient and p-value for testing non-correlation."
   ]
  },
  {
   "cell_type": "code",
   "execution_count": 6,
   "metadata": {},
   "outputs": [
    {
     "data": {
      "text/plain": [
       "Index(['Unnamed: 0', 'GENDER', 'STRATUM', 'CR_S11', 'CC_S11', 'ENG_S11',\n",
       "       'CR_PRO', 'CC_PRO', 'ENG_PRO', 'COL_GRADE_AVG', 'HI_GRADE_AVG',\n",
       "       'GENDER_bin'],\n",
       "      dtype='object')"
      ]
     },
     "execution_count": 6,
     "metadata": {},
     "output_type": "execute_result"
    }
   ],
   "source": [
    "#On the standardized data\n",
    "dfs.columns"
   ]
  },
  {
   "cell_type": "code",
   "execution_count": 9,
   "metadata": {},
   "outputs": [
    {
     "data": {
      "text/plain": [
       "-0.027502007174211328"
      ]
     },
     "execution_count": 9,
     "metadata": {},
     "output_type": "execute_result"
    }
   ],
   "source": [
    "#Test correlation of two columns\n",
    "from scipy import stats\n",
    "\n",
    "#Gender_bin and HI_grade\n",
    "stats.pearsonr(dfs.GENDER_bin, dfs.HI_GRADE_AVG)[0]"
   ]
  },
  {
   "cell_type": "code",
   "execution_count": 28,
   "metadata": {},
   "outputs": [
    {
     "ename": "TypeError",
     "evalue": "object of type 'int' has no len()",
     "output_type": "error",
     "traceback": [
      "\u001b[0;31m---------------------------------------------------------------------------\u001b[0m",
      "\u001b[0;31mTypeError\u001b[0m                                 Traceback (most recent call last)",
      "\u001b[0;32m/var/folders/hl/6j_44f453mvc5lr922s8d0l80000gn/T/ipykernel_5048/2758999677.py\u001b[0m in \u001b[0;36m<module>\u001b[0;34m\u001b[0m\n\u001b[1;32m     12\u001b[0m     \u001b[0;32mfor\u001b[0m \u001b[0mcol2\u001b[0m \u001b[0;32min\u001b[0m \u001b[0mdfs_use\u001b[0m\u001b[0;34m.\u001b[0m\u001b[0mcolumns\u001b[0m\u001b[0;34m:\u001b[0m\u001b[0;34m\u001b[0m\u001b[0;34m\u001b[0m\u001b[0m\n\u001b[1;32m     13\u001b[0m         \u001b[0my\u001b[0m \u001b[0;34m=\u001b[0m \u001b[0mcol2\u001b[0m\u001b[0;34m\u001b[0m\u001b[0;34m\u001b[0m\u001b[0m\n\u001b[0;32m---> 14\u001b[0;31m         \u001b[0ma_array\u001b[0m\u001b[0;34m.\u001b[0m\u001b[0mappend\u001b[0m\u001b[0;34m(\u001b[0m\u001b[0mstats\u001b[0m\u001b[0;34m.\u001b[0m\u001b[0mpearsonr\u001b[0m\u001b[0;34m(\u001b[0m\u001b[0mx\u001b[0m\u001b[0;34m,\u001b[0m \u001b[0my\u001b[0m\u001b[0;34m)\u001b[0m\u001b[0;34m[\u001b[0m\u001b[0;36m0\u001b[0m\u001b[0;34m]\u001b[0m\u001b[0;34m)\u001b[0m\u001b[0;34m\u001b[0m\u001b[0;34m\u001b[0m\u001b[0m\n\u001b[0m\u001b[1;32m     15\u001b[0m     \u001b[0mnp\u001b[0m\u001b[0;34m.\u001b[0m\u001b[0minsert\u001b[0m\u001b[0;34m(\u001b[0m\u001b[0mcorr_matrix\u001b[0m\u001b[0;34m,\u001b[0m \u001b[0mi\u001b[0m\u001b[0;34m,\u001b[0m \u001b[0ma_array\u001b[0m\u001b[0;34m,\u001b[0m \u001b[0maxis\u001b[0m\u001b[0;34m=\u001b[0m\u001b[0;36m0\u001b[0m\u001b[0;34m)\u001b[0m\u001b[0;34m\u001b[0m\u001b[0;34m\u001b[0m\u001b[0m\n",
      "\u001b[0;32m~/opt/anaconda3/lib/python3.8/site-packages/scipy/stats/stats.py\u001b[0m in \u001b[0;36mpearsonr\u001b[0;34m(x, y)\u001b[0m\n\u001b[1;32m   3831\u001b[0m \u001b[0;34m\u001b[0m\u001b[0m\n\u001b[1;32m   3832\u001b[0m     \"\"\"\n\u001b[0;32m-> 3833\u001b[0;31m     \u001b[0mn\u001b[0m \u001b[0;34m=\u001b[0m \u001b[0mlen\u001b[0m\u001b[0;34m(\u001b[0m\u001b[0mx\u001b[0m\u001b[0;34m)\u001b[0m\u001b[0;34m\u001b[0m\u001b[0;34m\u001b[0m\u001b[0m\n\u001b[0m\u001b[1;32m   3834\u001b[0m     \u001b[0;32mif\u001b[0m \u001b[0mn\u001b[0m \u001b[0;34m!=\u001b[0m \u001b[0mlen\u001b[0m\u001b[0;34m(\u001b[0m\u001b[0my\u001b[0m\u001b[0;34m)\u001b[0m\u001b[0;34m:\u001b[0m\u001b[0;34m\u001b[0m\u001b[0;34m\u001b[0m\u001b[0m\n\u001b[1;32m   3835\u001b[0m         \u001b[0;32mraise\u001b[0m \u001b[0mValueError\u001b[0m\u001b[0;34m(\u001b[0m\u001b[0;34m'x and y must have the same length.'\u001b[0m\u001b[0;34m)\u001b[0m\u001b[0;34m\u001b[0m\u001b[0;34m\u001b[0m\u001b[0m\n",
      "\u001b[0;31mTypeError\u001b[0m: object of type 'int' has no len()"
     ]
    }
   ],
   "source": [
    "## For loop for each columnsxcolumn pair\n",
    "\n",
    "# only get df with columns needed\n",
    "dfs_use = dfs[['COL_GRADE_AVG', 'HI_GRADE_AVG','GENDER_bin']]\n",
    "\n",
    "# 4x4 matrix\n",
    "corr_matrix = np.empty((3,3))\n",
    "a_array = []\n",
    "\n",
    "for col1,i in enumerate(dfs_use.columns):\n",
    "    x = col1\n",
    "    for col2 in dfs_use.columns:\n",
    "        y = col2\n",
    "        a_array.append(stats.pearsonr(x, y)[0])\n",
    "    #np.insert(corr_matrix, i, a_array, axis=0)                  "
   ]
  },
  {
   "cell_type": "code",
   "execution_count": 27,
   "metadata": {},
   "outputs": [
    {
     "ename": "TypeError",
     "evalue": "unsupported operand type(s) for +: 'float' and 'str'",
     "output_type": "error",
     "traceback": [
      "\u001b[0;31m---------------------------------------------------------------------------\u001b[0m",
      "\u001b[0;31mTypeError\u001b[0m                                 Traceback (most recent call last)",
      "\u001b[0;32m/var/folders/hl/6j_44f453mvc5lr922s8d0l80000gn/T/ipykernel_5048/3907126046.py\u001b[0m in \u001b[0;36m<module>\u001b[0;34m\u001b[0m\n\u001b[1;32m      1\u001b[0m \u001b[0;31m#a_array = []\u001b[0m\u001b[0;34m\u001b[0m\u001b[0;34m\u001b[0m\u001b[0;34m\u001b[0m\u001b[0m\n\u001b[1;32m      2\u001b[0m \u001b[0;31m#a_array.append(stats.pearsonr(dfs.GENDER_bin, dfs.HI_GRADE_AVG)[0])\u001b[0m\u001b[0;34m\u001b[0m\u001b[0;34m\u001b[0m\u001b[0;34m\u001b[0m\u001b[0m\n\u001b[0;32m----> 3\u001b[0;31m \u001b[0ma_array\u001b[0m\u001b[0;34m.\u001b[0m\u001b[0mappend\u001b[0m\u001b[0;34m(\u001b[0m\u001b[0mstats\u001b[0m\u001b[0;34m.\u001b[0m\u001b[0mpearsonr\u001b[0m\u001b[0;34m(\u001b[0m\u001b[0mdfs\u001b[0m\u001b[0;34m.\u001b[0m\u001b[0mSTRATUM\u001b[0m\u001b[0;34m,\u001b[0m \u001b[0mdfs\u001b[0m\u001b[0;34m.\u001b[0m\u001b[0mHI_GRADE_AVG\u001b[0m\u001b[0;34m)\u001b[0m\u001b[0;34m[\u001b[0m\u001b[0;36m0\u001b[0m\u001b[0;34m]\u001b[0m\u001b[0;34m)\u001b[0m\u001b[0;34m\u001b[0m\u001b[0;34m\u001b[0m\u001b[0m\n\u001b[0m",
      "\u001b[0;32m~/opt/anaconda3/lib/python3.8/site-packages/scipy/stats/stats.py\u001b[0m in \u001b[0;36mpearsonr\u001b[0;34m(x, y)\u001b[0m\n\u001b[1;32m   3849\u001b[0m     \u001b[0;31m# that the data type is at least 64 bit floating point.  It might have\u001b[0m\u001b[0;34m\u001b[0m\u001b[0;34m\u001b[0m\u001b[0;34m\u001b[0m\u001b[0m\n\u001b[1;32m   3850\u001b[0m     \u001b[0;31m# more precision if the input is, for example, np.longdouble.\u001b[0m\u001b[0;34m\u001b[0m\u001b[0;34m\u001b[0m\u001b[0;34m\u001b[0m\u001b[0m\n\u001b[0;32m-> 3851\u001b[0;31m     \u001b[0mdtype\u001b[0m \u001b[0;34m=\u001b[0m \u001b[0mtype\u001b[0m\u001b[0;34m(\u001b[0m\u001b[0;36m1.0\u001b[0m \u001b[0;34m+\u001b[0m \u001b[0mx\u001b[0m\u001b[0;34m[\u001b[0m\u001b[0;36m0\u001b[0m\u001b[0;34m]\u001b[0m \u001b[0;34m+\u001b[0m \u001b[0my\u001b[0m\u001b[0;34m[\u001b[0m\u001b[0;36m0\u001b[0m\u001b[0;34m]\u001b[0m\u001b[0;34m)\u001b[0m\u001b[0;34m\u001b[0m\u001b[0;34m\u001b[0m\u001b[0m\n\u001b[0m\u001b[1;32m   3852\u001b[0m \u001b[0;34m\u001b[0m\u001b[0m\n\u001b[1;32m   3853\u001b[0m     \u001b[0;32mif\u001b[0m \u001b[0mn\u001b[0m \u001b[0;34m==\u001b[0m \u001b[0;36m2\u001b[0m\u001b[0;34m:\u001b[0m\u001b[0;34m\u001b[0m\u001b[0;34m\u001b[0m\u001b[0m\n",
      "\u001b[0;31mTypeError\u001b[0m: unsupported operand type(s) for +: 'float' and 'str'"
     ]
    }
   ],
   "source": [
    "#a_array = []\n",
    "#a_array.append(stats.pearsonr(dfs.GENDER_bin, dfs.HI_GRADE_AVG)[0])\n",
    "#a_array.append(stats.pearsonr(dfs.STRATUM, dfs.HI_GRADE_AVG)[0])"
   ]
  },
  {
   "cell_type": "code",
   "execution_count": 25,
   "metadata": {},
   "outputs": [
    {
     "data": {
      "text/plain": [
       "[-0.027502007174211328]"
      ]
     },
     "execution_count": 25,
     "metadata": {},
     "output_type": "execute_result"
    }
   ],
   "source": [
    "a_array"
   ]
  },
  {
   "cell_type": "code",
   "execution_count": 21,
   "metadata": {},
   "outputs": [
    {
     "data": {
      "text/plain": [
       "array([[3.10503618e+231, 3.10503618e+231, 2.41907520e-312,\n",
       "        2.14321575e-312],\n",
       "       [2.46151512e-312, 2.31297541e-312, 2.35541533e-312,\n",
       "        2.05833592e-312],\n",
       "       [2.22809558e-312, 2.56761491e-312, 2.48273508e-312,\n",
       "        2.05833592e-312],\n",
       "       [2.05833592e-312, 2.29175545e-312, 2.07955588e-312,\n",
       "        2.14321575e-312]])"
      ]
     },
     "execution_count": 21,
     "metadata": {},
     "output_type": "execute_result"
    }
   ],
   "source": [
    "corr_matrix "
   ]
  },
  {
   "cell_type": "code",
   "execution_count": 15,
   "metadata": {},
   "outputs": [
    {
     "data": {
      "text/plain": [
       "array([[ 0.00000000e+000, -3.10503618e+231, -3.10503618e+231,\n",
       "         1.18575755e-322,  0.00000000e+000],\n",
       "       [ 0.00000000e+000,  0.00000000e+000,  5.02034658e+175,\n",
       "         7.60375273e-042,  2.77386266e+180],\n",
       "       [ 0.00000000e+000,  5.93511284e-038,  1.15981049e-046,\n",
       "         1.32280297e-071,  3.83819517e+151],\n",
       "       [ 0.00000000e+000,  2.59903818e-144,  1.04918562e-153,\n",
       "         7.69165785e+218,  8.01730427e+165]])"
      ]
     },
     "execution_count": 15,
     "metadata": {},
     "output_type": "execute_result"
    }
   ],
   "source": [
    "corr_matrix = np.empty((4,4))\n",
    "\n",
    "np.insert(corr_matrix, 0, [0,0,0,0], axis=1)"
   ]
  },
  {
   "cell_type": "code",
   "execution_count": null,
   "metadata": {},
   "outputs": [],
   "source": []
  },
  {
   "cell_type": "markdown",
   "metadata": {},
   "source": [
    "#### Testing correlation between socioeconomic level (sns) and socioeconomic level of the Institution of higher education"
   ]
  },
  {
   "cell_type": "code",
   "execution_count": 8,
   "metadata": {
    "scrolled": true
   },
   "outputs": [
    {
     "data": {
      "text/plain": [
       "0.4215563172046026"
      ]
     },
     "execution_count": 8,
     "metadata": {},
     "output_type": "execute_result"
    }
   ],
   "source": [
    "#correlation\n",
    "df['SEL'].corr(df['SEL_IHE'])"
   ]
  },
  {
   "cell_type": "code",
   "execution_count": 8,
   "metadata": {},
   "outputs": [
    {
     "data": {
      "text/plain": [
       "<AxesSubplot:>"
      ]
     },
     "execution_count": 8,
     "metadata": {},
     "output_type": "execute_result"
    },
    {
     "data": {
      "image/png": "[encoded data removed]",
      "text/plain": [
       "<Figure size 432x288 with 1 Axes>"
      ]
     },
     "metadata": {},
     "output_type": "display_data"
    }
   ],
   "source": [
    "#plot to see which direction the people with sel goes. \n",
    "df['diff_ENG'] = abs(df['ENG_S11']-df['ENG_PRO'])\n",
    "df['diff_ENG'].hist()"
   ]
  },
  {
   "cell_type": "code",
   "execution_count": 48,
   "metadata": {
    "scrolled": true
   },
   "outputs": [
    {
     "data": {
      "text/plain": [
       "<AxesSubplot:>"
      ]
     },
     "execution_count": 48,
     "metadata": {},
     "output_type": "execute_result"
    },
    {
     "data": {
      "image/png": "[encoded data removed]",
      "text/plain": [
       "<Figure size 1400x500 with 1 Axes>"
      ]
     },
     "metadata": {},
     "output_type": "display_data"
    }
   ],
   "source": [
    "#plot to see which direction the people with sel goes. \n",
    "df['diff_SEL_SEL_IHE'] = df['SEL']-df['SEL_IHE']\n",
    "df['diff_SEL_SEL_IHE'].hist()\n",
    "\n",
    "#prøv at lave til stack"
   ]
  },
  {
   "cell_type": "code",
   "execution_count": 49,
   "metadata": {},
   "outputs": [
    {
     "data": {
      "text/html": [
       "<div>\n",
       "<style scoped>\n",
       "    .dataframe tbody tr th:only-of-type {\n",
       "        vertical-align: middle;\n",
       "    }\n",
       "\n",
       "    .dataframe tbody tr th {\n",
       "        vertical-align: top;\n",
       "    }\n",
       "\n",
       "    .dataframe thead th {\n",
       "        text-align: right;\n",
       "    }\n",
       "</style>\n",
       "<table border=\"1\" class=\"dataframe\">\n",
       "  <thead>\n",
       "    <tr style=\"text-align: right;\">\n",
       "      <th>SEL</th>\n",
       "      <th>1</th>\n",
       "      <th>2</th>\n",
       "      <th>3</th>\n",
       "      <th>4</th>\n",
       "    </tr>\n",
       "    <tr>\n",
       "      <th>diff_SEL_SEL_IHE</th>\n",
       "      <th></th>\n",
       "      <th></th>\n",
       "      <th></th>\n",
       "      <th></th>\n",
       "    </tr>\n",
       "  </thead>\n",
       "  <tbody>\n",
       "    <tr>\n",
       "      <th>-3</th>\n",
       "      <td>101.0</td>\n",
       "      <td>NaN</td>\n",
       "      <td>NaN</td>\n",
       "      <td>NaN</td>\n",
       "    </tr>\n",
       "    <tr>\n",
       "      <th>-2</th>\n",
       "      <td>79.0</td>\n",
       "      <td>519.0</td>\n",
       "      <td>NaN</td>\n",
       "      <td>NaN</td>\n",
       "    </tr>\n",
       "    <tr>\n",
       "      <th>-1</th>\n",
       "      <td>1444.0</td>\n",
       "      <td>311.0</td>\n",
       "      <td>287.0</td>\n",
       "      <td>NaN</td>\n",
       "    </tr>\n",
       "    <tr>\n",
       "      <th>0</th>\n",
       "      <td>514.0</td>\n",
       "      <td>3465.0</td>\n",
       "      <td>126.0</td>\n",
       "      <td>1785.0</td>\n",
       "    </tr>\n",
       "    <tr>\n",
       "      <th>1</th>\n",
       "      <td>NaN</td>\n",
       "      <td>447.0</td>\n",
       "      <td>1002.0</td>\n",
       "      <td>318.0</td>\n",
       "    </tr>\n",
       "    <tr>\n",
       "      <th>2</th>\n",
       "      <td>NaN</td>\n",
       "      <td>NaN</td>\n",
       "      <td>76.0</td>\n",
       "      <td>1837.0</td>\n",
       "    </tr>\n",
       "    <tr>\n",
       "      <th>3</th>\n",
       "      <td>NaN</td>\n",
       "      <td>NaN</td>\n",
       "      <td>NaN</td>\n",
       "      <td>100.0</td>\n",
       "    </tr>\n",
       "  </tbody>\n",
       "</table>\n",
       "</div>"
      ],
      "text/plain": [
       "SEL                    1       2       3       4\n",
       "diff_SEL_SEL_IHE                                \n",
       "-3                 101.0     NaN     NaN     NaN\n",
       "-2                  79.0   519.0     NaN     NaN\n",
       "-1                1444.0   311.0   287.0     NaN\n",
       " 0                 514.0  3465.0   126.0  1785.0\n",
       " 1                   NaN   447.0  1002.0   318.0\n",
       " 2                   NaN     NaN    76.0  1837.0\n",
       " 3                   NaN     NaN     NaN   100.0"
      ]
     },
     "execution_count": 49,
     "metadata": {},
     "output_type": "execute_result"
    }
   ],
   "source": [
    "df_plot = df.groupby(['diff_SEL_SEL_IHE', 'SEL']).size().reset_index().pivot(columns='SEL', index='diff_SEL_SEL_IHE', values=0)\n",
    "df_plot"
   ]
  },
  {
   "cell_type": "code",
   "execution_count": 114,
   "metadata": {
    "scrolled": true
   },
   "outputs": [
    {
     "data": {
      "text/plain": [
       "<AxesSubplot:xlabel='diff_SEL_SEL_IHE'>"
      ]
     },
     "execution_count": 114,
     "metadata": {},
     "output_type": "execute_result"
    },
    {
     "data": {
      "text/plain": [
       "<Figure size 640x480 with 0 Axes>"
      ]
     },
     "metadata": {},
     "output_type": "display_data"
    },
    {
     "data": {
      "image/png": "[encoded data removed]",
      "text/plain": [
       "<Figure size 432x288 with 1 Axes>"
      ]
     },
     "metadata": {},
     "output_type": "display_data"
    }
   ],
   "source": [
    "figure(figsize=(8, 6), dpi=80)\n",
    "df_plot.plot(kind='bar', stacked=True)"
   ]
  },
  {
   "cell_type": "code",
   "execution_count": 115,
   "metadata": {},
   "outputs": [
    {
     "data": {
      "text/plain": [
       "2    4742\n",
       "4    4040\n",
       "1    2138\n",
       "3    1491\n",
       "Name: SEL, dtype: int64"
      ]
     },
     "execution_count": 115,
     "metadata": {},
     "output_type": "execute_result"
    }
   ],
   "source": [
    "df.SEL.value_counts()"
   ]
  },
  {
   "cell_type": "code",
   "execution_count": 29,
   "metadata": {},
   "outputs": [
    {
     "data": {
      "text/html": [
       "<div>\n",
       "<style scoped>\n",
       "    .dataframe tbody tr th:only-of-type {\n",
       "        vertical-align: middle;\n",
       "    }\n",
       "\n",
       "    .dataframe tbody tr th {\n",
       "        vertical-align: top;\n",
       "    }\n",
       "\n",
       "    .dataframe thead th {\n",
       "        text-align: right;\n",
       "    }\n",
       "</style>\n",
       "<table border=\"1\" class=\"dataframe\">\n",
       "  <thead>\n",
       "    <tr style=\"text-align: right;\">\n",
       "      <th></th>\n",
       "      <th>SEL</th>\n",
       "      <th>SEL_IHE</th>\n",
       "      <th>size</th>\n",
       "    </tr>\n",
       "  </thead>\n",
       "  <tbody>\n",
       "    <tr>\n",
       "      <th>0</th>\n",
       "      <td>1</td>\n",
       "      <td>1</td>\n",
       "      <td>514</td>\n",
       "    </tr>\n",
       "    <tr>\n",
       "      <th>1</th>\n",
       "      <td>1</td>\n",
       "      <td>2</td>\n",
       "      <td>1444</td>\n",
       "    </tr>\n",
       "    <tr>\n",
       "      <th>2</th>\n",
       "      <td>1</td>\n",
       "      <td>3</td>\n",
       "      <td>79</td>\n",
       "    </tr>\n",
       "    <tr>\n",
       "      <th>3</th>\n",
       "      <td>1</td>\n",
       "      <td>4</td>\n",
       "      <td>101</td>\n",
       "    </tr>\n",
       "    <tr>\n",
       "      <th>4</th>\n",
       "      <td>2</td>\n",
       "      <td>1</td>\n",
       "      <td>447</td>\n",
       "    </tr>\n",
       "  </tbody>\n",
       "</table>\n",
       "</div>"
      ],
      "text/plain": [
       "   SEL  SEL_IHE  size\n",
       "0    1        1   514\n",
       "1    1        2  1444\n",
       "2    1        3    79\n",
       "3    1        4   101\n",
       "4    2        1   447"
      ]
     },
     "execution_count": 29,
     "metadata": {},
     "output_type": "execute_result"
    }
   ],
   "source": [
    "#create column with n occurences of combination, to plot a bubble chart\n",
    "count_series = df.groupby(['SEL', 'SEL_IHE']).size()\n",
    "df2 = count_series.to_frame(name = 'size').reset_index()\n",
    "df2[:5]"
   ]
  },
  {
   "cell_type": "code",
   "execution_count": 26,
   "metadata": {
    "scrolled": true
   },
   "outputs": [
    {
     "data": {
      "text/plain": [
       "<AxesSubplot:xlabel='SEL', ylabel='SEL_IHE'>"
      ]
     },
     "execution_count": 26,
     "metadata": {},
     "output_type": "execute_result"
    },
    {
     "data": {
      "image/png": "[encoded data removed]",
      "text/plain": [
       "<Figure size 432x288 with 1 Axes>"
      ]
     },
     "metadata": {},
     "output_type": "display_data"
    }
   ],
   "source": [
    "# Plotting bubble chart to see number of occurences for each combination\n",
    "sns.scatterplot(data=df2, x=\"SEL\", y=\"SEL_IHE\", size=\"size\",legend=False, sizes=(20, 2000))"
   ]
  },
  {
   "cell_type": "markdown",
   "metadata": {},
   "source": [
    "### Stratum, sisben and socioeconomic level"
   ]
  },
  {
   "cell_type": "code",
   "execution_count": 87,
   "metadata": {},
   "outputs": [],
   "source": [
    "# new columns for stratum and sisben with int values\n",
    "df[\"STRATUM\"].replace({'Stratum 4':4, 'Stratum 5':5, 'Stratum 2':2, 'Stratum 6':6, 'Stratum 3':3,\n",
    "       'Stratum 1':1, '0':0}, inplace=True)\n",
    "\n",
    "df[\"SISBEN\"].replace({'It is not classified by the SISBEN':None, 'Level 2':2, 'Level 1':1, 'Esta clasificada en otro Level del SISBEN':4, 'Level 3':3, '0':0}, inplace=True)\n"
   ]
  },
  {
   "cell_type": "code",
   "execution_count": 91,
   "metadata": {},
   "outputs": [
    {
     "data": {
      "text/plain": [
       "3    4045\n",
       "2    4029\n",
       "1    1709\n",
       "4    1578\n",
       "5     633\n",
       "6     403\n",
       "0      14\n",
       "Name: STRATUM, dtype: int64"
      ]
     },
     "execution_count": 91,
     "metadata": {},
     "output_type": "execute_result"
    }
   ],
   "source": [
    "df[\"STRATUM\"].value_counts()"
   ]
  },
  {
   "cell_type": "code",
   "execution_count": 90,
   "metadata": {},
   "outputs": [
    {
     "data": {
      "text/plain": [
       "0    7555\n",
       "2    2120\n",
       "1    2057\n",
       "3     583\n",
       "4      96\n",
       "Name: SISBEN, dtype: int64"
      ]
     },
     "execution_count": 90,
     "metadata": {},
     "output_type": "execute_result"
    }
   ],
   "source": [
    "df[\"SISBEN\"].value_counts()"
   ]
  },
  {
   "cell_type": "code",
   "execution_count": 89,
   "metadata": {},
   "outputs": [
    {
     "data": {
      "text/plain": [
       "<AxesSubplot:>"
      ]
     },
     "execution_count": 89,
     "metadata": {},
     "output_type": "execute_result"
    },
    {
     "data": {
      "image/png": "[encoded data removed]",
      "text/plain": [
       "<Figure size 432x288 with 2 Axes>"
      ]
     },
     "metadata": {},
     "output_type": "display_data"
    }
   ],
   "source": [
    "corr_df = df[[\"SISBEN\",\"STRATUM\", \"SEL\" ]]\n",
    "sns.heatmap(corr_df.corr())"
   ]
  },
  {
   "cell_type": "code",
   "execution_count": 78,
   "metadata": {},
   "outputs": [
    {
     "data": {
      "text/plain": [
       "0        4\n",
       "1        5\n",
       "2        2\n",
       "3        2\n",
       "4        4\n",
       "        ..\n",
       "12406    2\n",
       "12407    2\n",
       "12408    2\n",
       "12409    3\n",
       "12410    3\n",
       "Name: STRATUM, Length: 12411, dtype: int64"
      ]
     },
     "execution_count": 78,
     "metadata": {},
     "output_type": "execute_result"
    }
   ],
   "source": [
    "df[\"STRATUM\"]"
   ]
  },
  {
   "cell_type": "code",
   "execution_count": null,
   "metadata": {},
   "outputs": [],
   "source": []
  }
 ],
 "metadata": {
  "kernelspec": {
   "display_name": "Python 3 (ipykernel)",
   "language": "python",
   "name": "python3"
  },
  "language_info": {
   "codemirror_mode": {
    "name": "ipython",
    "version": 3
   },
   "file_extension": ".py",
   "mimetype": "text/x-python",
   "name": "python",
   "nbconvert_exporter": "python",
   "pygments_lexer": "ipython3",
   "version": "3.8.5"
  }
 },
 "nbformat": 4,
 "nbformat_minor": 4
}
