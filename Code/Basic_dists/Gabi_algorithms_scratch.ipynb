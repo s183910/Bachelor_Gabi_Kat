{
 "cells": [
  {
   "cell_type": "code",
   "execution_count": 1,
   "metadata": {},
   "outputs": [],
   "source": [
    "import pandas as pd\n",
    "pd.set_option(\"display.max_columns\", None)\n",
    "import seaborn as sns\n",
    "sns.set()\n",
    "import matplotlib.pyplot as plt\n",
    "from matplotlib.pyplot import figure"
   ]
  },
  {
   "cell_type": "code",
   "execution_count": 2,
   "metadata": {},
   "outputs": [],
   "source": [
    "#df to use\n",
    "df = pd.read_csv(\"df_sum_score.csv\")"
   ]
  },
  {
   "cell_type": "code",
   "execution_count": 3,
   "metadata": {},
   "outputs": [
    {
     "data": {
      "text/html": [
       "<div>\n",
       "<style scoped>\n",
       "    .dataframe tbody tr th:only-of-type {\n",
       "        vertical-align: middle;\n",
       "    }\n",
       "\n",
       "    .dataframe tbody tr th {\n",
       "        vertical-align: top;\n",
       "    }\n",
       "\n",
       "    .dataframe thead th {\n",
       "        text-align: right;\n",
       "    }\n",
       "</style>\n",
       "<table border=\"1\" class=\"dataframe\">\n",
       "  <thead>\n",
       "    <tr style=\"text-align: right;\">\n",
       "      <th></th>\n",
       "      <th>Unnamed: 0</th>\n",
       "      <th>GENDER</th>\n",
       "      <th>STRATUM</th>\n",
       "      <th>CR_S11</th>\n",
       "      <th>CC_S11</th>\n",
       "      <th>ENG_S11</th>\n",
       "      <th>CR_PRO</th>\n",
       "      <th>CC_PRO</th>\n",
       "      <th>ENG_PRO</th>\n",
       "      <th>COL_GRADE_AVG</th>\n",
       "      <th>HI_GRADE_AVG</th>\n",
       "    </tr>\n",
       "  </thead>\n",
       "  <tbody>\n",
       "    <tr>\n",
       "      <td>0</td>\n",
       "      <td>0</td>\n",
       "      <td>F</td>\n",
       "      <td>Stratum 4</td>\n",
       "      <td>81</td>\n",
       "      <td>61</td>\n",
       "      <td>82</td>\n",
       "      <td>93</td>\n",
       "      <td>71</td>\n",
       "      <td>93</td>\n",
       "      <td>85.666667</td>\n",
       "      <td>74.666667</td>\n",
       "    </tr>\n",
       "    <tr>\n",
       "      <td>1</td>\n",
       "      <td>1</td>\n",
       "      <td>F</td>\n",
       "      <td>Stratum 5</td>\n",
       "      <td>75</td>\n",
       "      <td>66</td>\n",
       "      <td>88</td>\n",
       "      <td>38</td>\n",
       "      <td>86</td>\n",
       "      <td>98</td>\n",
       "      <td>74.000000</td>\n",
       "      <td>76.333333</td>\n",
       "    </tr>\n",
       "    <tr>\n",
       "      <td>2</td>\n",
       "      <td>2</td>\n",
       "      <td>M</td>\n",
       "      <td>Stratum 2</td>\n",
       "      <td>49</td>\n",
       "      <td>38</td>\n",
       "      <td>42</td>\n",
       "      <td>1</td>\n",
       "      <td>18</td>\n",
       "      <td>43</td>\n",
       "      <td>20.666667</td>\n",
       "      <td>43.000000</td>\n",
       "    </tr>\n",
       "    <tr>\n",
       "      <td>3</td>\n",
       "      <td>3</td>\n",
       "      <td>F</td>\n",
       "      <td>Stratum 2</td>\n",
       "      <td>55</td>\n",
       "      <td>51</td>\n",
       "      <td>73</td>\n",
       "      <td>35</td>\n",
       "      <td>76</td>\n",
       "      <td>80</td>\n",
       "      <td>63.666667</td>\n",
       "      <td>59.666667</td>\n",
       "    </tr>\n",
       "    <tr>\n",
       "      <td>4</td>\n",
       "      <td>4</td>\n",
       "      <td>M</td>\n",
       "      <td>Stratum 4</td>\n",
       "      <td>65</td>\n",
       "      <td>76</td>\n",
       "      <td>92</td>\n",
       "      <td>94</td>\n",
       "      <td>98</td>\n",
       "      <td>100</td>\n",
       "      <td>97.333333</td>\n",
       "      <td>77.666667</td>\n",
       "    </tr>\n",
       "  </tbody>\n",
       "</table>\n",
       "</div>"
      ],
      "text/plain": [
       "   Unnamed: 0 GENDER    STRATUM  CR_S11  CC_S11  ENG_S11  CR_PRO  CC_PRO  \\\n",
       "0           0      F  Stratum 4      81      61       82      93      71   \n",
       "1           1      F  Stratum 5      75      66       88      38      86   \n",
       "2           2      M  Stratum 2      49      38       42       1      18   \n",
       "3           3      F  Stratum 2      55      51       73      35      76   \n",
       "4           4      M  Stratum 4      65      76       92      94      98   \n",
       "\n",
       "   ENG_PRO  COL_GRADE_AVG  HI_GRADE_AVG  \n",
       "0       93      85.666667     74.666667  \n",
       "1       98      74.000000     76.333333  \n",
       "2       43      20.666667     43.000000  \n",
       "3       80      63.666667     59.666667  \n",
       "4      100      97.333333     77.666667  "
      ]
     },
     "execution_count": 3,
     "metadata": {},
     "output_type": "execute_result"
    }
   ],
   "source": [
    "df.head()"
   ]
  },
  {
   "cell_type": "markdown",
   "metadata": {},
   "source": [
    "### Create \"Baseline algorithm\""
   ]
  },
  {
   "cell_type": "code",
   "execution_count": 4,
   "metadata": {},
   "outputs": [],
   "source": [
    "df[\"diff_hi_col\"] = df[\"COL_GRADE_AVG\"]-df[\"HI_GRADE_AVG\"]"
   ]
  },
  {
   "cell_type": "code",
   "execution_count": 5,
   "metadata": {},
   "outputs": [],
   "source": [
    "df_sort = df.sort_values(by=\"HI_GRADE_AVG\", ascending=False, kind=\"mergesort\")"
   ]
  },
  {
   "cell_type": "code",
   "execution_count": 6,
   "metadata": {},
   "outputs": [],
   "source": [
    "df_sort100 = df_sort[:100]"
   ]
  },
  {
   "cell_type": "markdown",
   "metadata": {},
   "source": [
    "Tag top 100 og sammenlign deres average COL grade med overall average COL grade"
   ]
  },
  {
   "cell_type": "code",
   "execution_count": 7,
   "metadata": {},
   "outputs": [
    {
     "data": {
      "text/html": [
       "<div>\n",
       "<style scoped>\n",
       "    .dataframe tbody tr th:only-of-type {\n",
       "        vertical-align: middle;\n",
       "    }\n",
       "\n",
       "    .dataframe tbody tr th {\n",
       "        vertical-align: top;\n",
       "    }\n",
       "\n",
       "    .dataframe thead th {\n",
       "        text-align: right;\n",
       "    }\n",
       "</style>\n",
       "<table border=\"1\" class=\"dataframe\">\n",
       "  <thead>\n",
       "    <tr style=\"text-align: right;\">\n",
       "      <th></th>\n",
       "      <th>Unnamed: 0</th>\n",
       "      <th>GENDER</th>\n",
       "      <th>STRATUM</th>\n",
       "      <th>CR_S11</th>\n",
       "      <th>CC_S11</th>\n",
       "      <th>ENG_S11</th>\n",
       "      <th>CR_PRO</th>\n",
       "      <th>CC_PRO</th>\n",
       "      <th>ENG_PRO</th>\n",
       "      <th>COL_GRADE_AVG</th>\n",
       "      <th>HI_GRADE_AVG</th>\n",
       "      <th>diff_hi_col</th>\n",
       "    </tr>\n",
       "  </thead>\n",
       "  <tbody>\n",
       "    <tr>\n",
       "      <td>5129</td>\n",
       "      <td>5129</td>\n",
       "      <td>F</td>\n",
       "      <td>Stratum 4</td>\n",
       "      <td>100</td>\n",
       "      <td>100</td>\n",
       "      <td>100</td>\n",
       "      <td>99</td>\n",
       "      <td>97</td>\n",
       "      <td>100</td>\n",
       "      <td>98.666667</td>\n",
       "      <td>100.000000</td>\n",
       "      <td>-1.333333</td>\n",
       "    </tr>\n",
       "    <tr>\n",
       "      <td>11864</td>\n",
       "      <td>11864</td>\n",
       "      <td>F</td>\n",
       "      <td>Stratum 5</td>\n",
       "      <td>100</td>\n",
       "      <td>93</td>\n",
       "      <td>100</td>\n",
       "      <td>99</td>\n",
       "      <td>100</td>\n",
       "      <td>97</td>\n",
       "      <td>98.666667</td>\n",
       "      <td>97.666667</td>\n",
       "      <td>1.000000</td>\n",
       "    </tr>\n",
       "    <tr>\n",
       "      <td>4874</td>\n",
       "      <td>4874</td>\n",
       "      <td>M</td>\n",
       "      <td>Stratum 3</td>\n",
       "      <td>100</td>\n",
       "      <td>90</td>\n",
       "      <td>100</td>\n",
       "      <td>98</td>\n",
       "      <td>95</td>\n",
       "      <td>99</td>\n",
       "      <td>97.333333</td>\n",
       "      <td>96.666667</td>\n",
       "      <td>0.666667</td>\n",
       "    </tr>\n",
       "    <tr>\n",
       "      <td>7340</td>\n",
       "      <td>7340</td>\n",
       "      <td>M</td>\n",
       "      <td>Stratum 5</td>\n",
       "      <td>95</td>\n",
       "      <td>100</td>\n",
       "      <td>95</td>\n",
       "      <td>100</td>\n",
       "      <td>89</td>\n",
       "      <td>100</td>\n",
       "      <td>96.333333</td>\n",
       "      <td>96.666667</td>\n",
       "      <td>-0.333333</td>\n",
       "    </tr>\n",
       "    <tr>\n",
       "      <td>1089</td>\n",
       "      <td>1089</td>\n",
       "      <td>M</td>\n",
       "      <td>Stratum 3</td>\n",
       "      <td>100</td>\n",
       "      <td>90</td>\n",
       "      <td>95</td>\n",
       "      <td>96</td>\n",
       "      <td>96</td>\n",
       "      <td>99</td>\n",
       "      <td>97.000000</td>\n",
       "      <td>95.000000</td>\n",
       "      <td>2.000000</td>\n",
       "    </tr>\n",
       "    <tr>\n",
       "      <td>...</td>\n",
       "      <td>...</td>\n",
       "      <td>...</td>\n",
       "      <td>...</td>\n",
       "      <td>...</td>\n",
       "      <td>...</td>\n",
       "      <td>...</td>\n",
       "      <td>...</td>\n",
       "      <td>...</td>\n",
       "      <td>...</td>\n",
       "      <td>...</td>\n",
       "      <td>...</td>\n",
       "      <td>...</td>\n",
       "    </tr>\n",
       "    <tr>\n",
       "      <td>6145</td>\n",
       "      <td>6145</td>\n",
       "      <td>M</td>\n",
       "      <td>Stratum 4</td>\n",
       "      <td>71</td>\n",
       "      <td>91</td>\n",
       "      <td>95</td>\n",
       "      <td>100</td>\n",
       "      <td>100</td>\n",
       "      <td>99</td>\n",
       "      <td>99.666667</td>\n",
       "      <td>85.666667</td>\n",
       "      <td>14.000000</td>\n",
       "    </tr>\n",
       "    <tr>\n",
       "      <td>6269</td>\n",
       "      <td>6269</td>\n",
       "      <td>M</td>\n",
       "      <td>Stratum 1</td>\n",
       "      <td>100</td>\n",
       "      <td>67</td>\n",
       "      <td>90</td>\n",
       "      <td>100</td>\n",
       "      <td>96</td>\n",
       "      <td>99</td>\n",
       "      <td>98.333333</td>\n",
       "      <td>85.666667</td>\n",
       "      <td>12.666667</td>\n",
       "    </tr>\n",
       "    <tr>\n",
       "      <td>8041</td>\n",
       "      <td>8041</td>\n",
       "      <td>M</td>\n",
       "      <td>Stratum 3</td>\n",
       "      <td>82</td>\n",
       "      <td>90</td>\n",
       "      <td>85</td>\n",
       "      <td>100</td>\n",
       "      <td>99</td>\n",
       "      <td>96</td>\n",
       "      <td>98.333333</td>\n",
       "      <td>85.666667</td>\n",
       "      <td>12.666667</td>\n",
       "    </tr>\n",
       "    <tr>\n",
       "      <td>8352</td>\n",
       "      <td>8352</td>\n",
       "      <td>M</td>\n",
       "      <td>Stratum 6</td>\n",
       "      <td>75</td>\n",
       "      <td>82</td>\n",
       "      <td>100</td>\n",
       "      <td>42</td>\n",
       "      <td>2</td>\n",
       "      <td>94</td>\n",
       "      <td>46.000000</td>\n",
       "      <td>85.666667</td>\n",
       "      <td>-39.666667</td>\n",
       "    </tr>\n",
       "    <tr>\n",
       "      <td>10550</td>\n",
       "      <td>10550</td>\n",
       "      <td>M</td>\n",
       "      <td>Stratum 3</td>\n",
       "      <td>82</td>\n",
       "      <td>90</td>\n",
       "      <td>85</td>\n",
       "      <td>99</td>\n",
       "      <td>98</td>\n",
       "      <td>93</td>\n",
       "      <td>96.666667</td>\n",
       "      <td>85.666667</td>\n",
       "      <td>11.000000</td>\n",
       "    </tr>\n",
       "  </tbody>\n",
       "</table>\n",
       "<p>100 rows × 12 columns</p>\n",
       "</div>"
      ],
      "text/plain": [
       "       Unnamed: 0 GENDER    STRATUM  CR_S11  CC_S11  ENG_S11  CR_PRO  CC_PRO  \\\n",
       "5129         5129      F  Stratum 4     100     100      100      99      97   \n",
       "11864       11864      F  Stratum 5     100      93      100      99     100   \n",
       "4874         4874      M  Stratum 3     100      90      100      98      95   \n",
       "7340         7340      M  Stratum 5      95     100       95     100      89   \n",
       "1089         1089      M  Stratum 3     100      90       95      96      96   \n",
       "...           ...    ...        ...     ...     ...      ...     ...     ...   \n",
       "6145         6145      M  Stratum 4      71      91       95     100     100   \n",
       "6269         6269      M  Stratum 1     100      67       90     100      96   \n",
       "8041         8041      M  Stratum 3      82      90       85     100      99   \n",
       "8352         8352      M  Stratum 6      75      82      100      42       2   \n",
       "10550       10550      M  Stratum 3      82      90       85      99      98   \n",
       "\n",
       "       ENG_PRO  COL_GRADE_AVG  HI_GRADE_AVG  diff_hi_col  \n",
       "5129       100      98.666667    100.000000    -1.333333  \n",
       "11864       97      98.666667     97.666667     1.000000  \n",
       "4874        99      97.333333     96.666667     0.666667  \n",
       "7340       100      96.333333     96.666667    -0.333333  \n",
       "1089        99      97.000000     95.000000     2.000000  \n",
       "...        ...            ...           ...          ...  \n",
       "6145        99      99.666667     85.666667    14.000000  \n",
       "6269        99      98.333333     85.666667    12.666667  \n",
       "8041        96      98.333333     85.666667    12.666667  \n",
       "8352        94      46.000000     85.666667   -39.666667  \n",
       "10550       93      96.666667     85.666667    11.000000  \n",
       "\n",
       "[100 rows x 12 columns]"
      ]
     },
     "execution_count": 7,
     "metadata": {},
     "output_type": "execute_result"
    }
   ],
   "source": [
    "df_sort100"
   ]
  },
  {
   "cell_type": "code",
   "execution_count": 8,
   "metadata": {},
   "outputs": [
    {
     "name": "stdout",
     "output_type": "stream",
     "text": [
      "ratio top 100 vs all  1.4532039401322123 \n",
      "top 100 avg HI grade 88.7833333333333 \n",
      "overall HI grade     61.094888942604854\n"
     ]
    }
   ],
   "source": [
    "#top 100 average HI grade vs overall HI grade\n",
    "print(\"ratio top 100 vs all \", (df_sort100.HI_GRADE_AVG.mean())/(df.HI_GRADE_AVG.mean()), \"\\ntop 100 avg HI grade\", df_sort100.HI_GRADE_AVG.mean()\n",
    "      ,\"\\noverall HI grade    \", df.HI_GRADE_AVG.mean())"
   ]
  },
  {
   "cell_type": "code",
   "execution_count": 9,
   "metadata": {},
   "outputs": [
    {
     "name": "stdout",
     "output_type": "stream",
     "text": [
      "ratio top 100 vs all  1.5060529808104461 \n",
      "top 100 avg col grade 94.82333333333332 \n",
      "overall col grade     62.96148577874494\n"
     ]
    }
   ],
   "source": [
    "#top 100 average col grade vs overall col grade\n",
    "print(\"ratio top 100 vs all \", (df_sort100.COL_GRADE_AVG.mean())/(df.COL_GRADE_AVG.mean()), \"\\ntop 100 avg col grade\", df_sort100.COL_GRADE_AVG.mean()\n",
    "      ,\"\\noverall col grade    \", df.COL_GRADE_AVG.mean())"
   ]
  },
  {
   "cell_type": "markdown",
   "metadata": {},
   "source": [
    "Hypothesis: high high school score = high college score\n",
    "\n",
    "Check if the two means are significant: måske lidt svært når de ikke har ens fordelinger/std. - SENERE"
   ]
  },
  {
   "cell_type": "markdown",
   "metadata": {},
   "source": [
    "Check diversity"
   ]
  },
  {
   "cell_type": "code",
   "execution_count": 10,
   "metadata": {},
   "outputs": [
    {
     "data": {
      "text/plain": [
       "M    72\n",
       "F    28\n",
       "Name: GENDER, dtype: int64"
      ]
     },
     "execution_count": 10,
     "metadata": {},
     "output_type": "execute_result"
    }
   ],
   "source": [
    "df_sort100[\"GENDER\"].value_counts()"
   ]
  },
  {
   "cell_type": "code",
   "execution_count": 11,
   "metadata": {},
   "outputs": [
    {
     "data": {
      "text/plain": [
       "Stratum 3    32\n",
       "Stratum 4    27\n",
       "Stratum 5    18\n",
       "Stratum 6    15\n",
       "Stratum 2     7\n",
       "Stratum 1     1\n",
       "Name: STRATUM, dtype: int64"
      ]
     },
     "execution_count": 11,
     "metadata": {},
     "output_type": "execute_result"
    }
   ],
   "source": [
    "df_sort100[\"STRATUM\"].value_counts()"
   ]
  },
  {
   "cell_type": "markdown",
   "metadata": {},
   "source": [
    "Diff average mellem HI og COL score i top 100 og i resten"
   ]
  },
  {
   "cell_type": "code",
   "execution_count": 12,
   "metadata": {},
   "outputs": [
    {
     "name": "stdout",
     "output_type": "stream",
     "text": [
      "ratio diff top 100 vs all 3.235835335760225 \n",
      "top 100 diff 6.040000000000001 \n",
      "overall diff 1.8665968361399845\n"
     ]
    }
   ],
   "source": [
    "print(\"ratio diff top 100 vs all\", (df_sort100.diff_hi_col.mean())/(df.diff_hi_col.mean()), \"\\ntop 100 diff\", df_sort100.diff_hi_col.mean()\n",
    "      ,\"\\noverall diff\", df.diff_hi_col.mean())"
   ]
  },
  {
   "cell_type": "code",
   "execution_count": 13,
   "metadata": {},
   "outputs": [
    {
     "data": {
      "text/plain": [
       "6.369964142585953"
      ]
     },
     "execution_count": 13,
     "metadata": {},
     "output_type": "execute_result"
    }
   ],
   "source": [
    "(6.04/94.82)*100"
   ]
  },
  {
   "cell_type": "markdown",
   "metadata": {},
   "source": [
    "=Top 100 får i average 6 point(/6.37%?) mere på college"
   ]
  },
  {
   "cell_type": "markdown",
   "metadata": {},
   "source": [
    "Increasing means"
   ]
  },
  {
   "cell_type": "code",
   "execution_count": 19,
   "metadata": {},
   "outputs": [
    {
     "data": {
      "text/plain": [
       "5129     100.000000\n",
       "11864     97.666667\n",
       "4874      96.666667\n",
       "7340      96.666667\n",
       "1089      95.000000\n",
       "            ...    \n",
       "3588      33.666667\n",
       "3741      32.333333\n",
       "1157      32.000000\n",
       "3015      30.333333\n",
       "2012      26.000000\n",
       "Name: HI_GRADE_AVG, Length: 12411, dtype: float64"
      ]
     },
     "execution_count": 19,
     "metadata": {},
     "output_type": "execute_result"
    }
   ],
   "source": [
    "#new df with incremeanted hi avg \n",
    "df_avg = df_sort.copy()\n",
    "\n",
    "#sorted df Hi avg grades\n",
    "df_avg.HI_GRADE_AVG"
   ]
  },
  {
   "cell_type": "code",
   "execution_count": 22,
   "metadata": {},
   "outputs": [
    {
     "data": {
      "text/plain": [
       "5129     100.000000\n",
       "11864     98.833333\n",
       "4874      98.111111\n",
       "7340      97.750000\n",
       "1089      97.200000\n",
       "            ...    \n",
       "3588      61.104860\n",
       "3741      61.102541\n",
       "1157      61.100196\n",
       "3015      61.097717\n",
       "2012      61.094889\n",
       "Name: incr_hi_mean, Length: 12411, dtype: float64"
      ]
     },
     "execution_count": 22,
     "metadata": {},
     "output_type": "execute_result"
    }
   ],
   "source": [
    "#new col with incremeanted hi avg \n",
    "df_avg[\"incr_hi_mean\"] = df_avg.HI_GRADE_AVG.expanding().mean()\n",
    "df_avg[\"incr_col_mean\"] = df_avg.COL_GRADE_AVG.expanding().mean()\n",
    "df_avg[\"incr_hi_mean\"]"
   ]
  },
  {
   "cell_type": "code",
   "execution_count": 23,
   "metadata": {},
   "outputs": [],
   "source": [
    "df_avg[\"n_students\"] = range(len(df))"
   ]
  },
  {
   "cell_type": "code",
   "execution_count": 24,
   "metadata": {},
   "outputs": [
    {
     "data": {
      "text/plain": [
       "26.0"
      ]
     },
     "execution_count": 24,
     "metadata": {},
     "output_type": "execute_result"
    }
   ],
   "source": [
    "min(df_sort.HI_GRADE_AVG)"
   ]
  },
  {
   "cell_type": "code",
   "execution_count": 42,
   "metadata": {},
   "outputs": [
    {
     "data": {
      "text/plain": [
       "<matplotlib.axes._subplots.AxesSubplot at 0x25f3dff9f08>"
      ]
     },
     "execution_count": 42,
     "metadata": {},
     "output_type": "execute_result"
    },
    {
     "data": {
      "image/png": "[encoded data removed]",
      "text/plain": [
       "<Figure size 432x288 with 1 Axes>"
      ]
     },
     "metadata": {
      "needs_background": "light"
     },
     "output_type": "display_data"
    }
   ],
   "source": [
    "sns.regplot(x=\"n_students\", y=\"incr_hi_mean\", data=df_avg)"
   ]
  },
  {
   "cell_type": "code",
   "execution_count": 43,
   "metadata": {},
   "outputs": [
    {
     "data": {
      "image/png": "[encoded data removed]",
      "text/plain": [
       "<Figure size 432x288 with 1 Axes>"
      ]
     },
     "metadata": {
      "needs_background": "light"
     },
     "output_type": "display_data"
    }
   ],
   "source": [
    "reg = sns.regplot(x=\"n_students\", y=\"incr_hi_mean\", data=df_avg); #fit med beta distribution\n",
    "reg.set_yscale('log')\n",
    "reg.set_xscale('log')"
   ]
  },
  {
   "cell_type": "code",
   "execution_count": 27,
   "metadata": {},
   "outputs": [
    {
     "data": {
      "image/png": "[encoded data removed]",
      "text/plain": [
       "<Figure size 432x288 with 1 Axes>"
      ]
     },
     "metadata": {
      "needs_background": "light"
     },
     "output_type": "display_data"
    }
   ],
   "source": [
    "sns.regplot(x=\"n_students\", y=\"incr_col_mean\", data=df_avg);"
   ]
  },
  {
   "cell_type": "code",
   "execution_count": 31,
   "metadata": {},
   "outputs": [
    {
     "name": "stdout",
     "output_type": "stream",
     "text": [
      "coefficient of determination: 0.9965638974864512\n",
      "intercept: 92.20914354742432\n",
      "slope: [-0.00231046]\n"
     ]
    }
   ],
   "source": [
    "#lin reg function\n",
    "import numpy as np\n",
    "from sklearn.linear_model import LinearRegression\n",
    "x = df_avg.n_students.values.reshape(-1, 1)\n",
    "y = df_avg.incr_col_mean.values\n",
    "model = LinearRegression().fit(x, y)\n",
    "r_sq = model.score(x, y) #\n",
    "\n",
    "print('coefficient of determination:', r_sq)\n",
    "print('intercept:', model.intercept_)\n",
    "print('slope:', model.coef_)\n"
   ]
  },
  {
   "cell_type": "markdown",
   "metadata": {},
   "source": [
    "Check om forskellen mellem average er en funktion af top n students og alle studentsof ratio"
   ]
  },
  {
   "cell_type": "code",
   "execution_count": 47,
   "metadata": {},
   "outputs": [
    {
     "data": {
      "text/plain": [
       "5129     1.636798\n",
       "11864    1.617702\n",
       "4874     1.605881\n",
       "7340     1.599970\n",
       "1089     1.590968\n",
       "           ...   \n",
       "3588     1.000163\n",
       "3741     1.000125\n",
       "1157     1.000087\n",
       "3015     1.000046\n",
       "2012     1.000000\n",
       "Name: incr_hi_ratio, Length: 12411, dtype: float64"
      ]
     },
     "execution_count": 47,
     "metadata": {},
     "output_type": "execute_result"
    }
   ],
   "source": [
    "df_avg[\"incr_hi_ratio\"] = df_avg.incr_hi_mean/df_avg.HI_GRADE_AVG.mean()\n",
    "df_avg[\"incr_hi_ratio\"]"
   ]
  },
  {
   "cell_type": "code",
   "execution_count": 50,
   "metadata": {},
   "outputs": [],
   "source": [
    "#ratio of female and men\n",
    "\n",
    "#df_avg[\"incr_hi_ratio\"] = df_avg.incr_hi_mean/df_avg.HI_GRADE_AVG.mean()"
   ]
  },
  {
   "cell_type": "code",
   "execution_count": 48,
   "metadata": {},
   "outputs": [
    {
     "data": {
      "image/png": "[encoded data removed]",
      "text/plain": [
       "<Figure size 432x288 with 1 Axes>"
      ]
     },
     "metadata": {
      "needs_background": "light"
     },
     "output_type": "display_data"
    }
   ],
   "source": [
    "sns.regplot(x=\"n_students\", y=\"incr_hi_ratio\", data=df_avg);"
   ]
  },
  {
   "cell_type": "code",
   "execution_count": 49,
   "metadata": {},
   "outputs": [
    {
     "name": "stdout",
     "output_type": "stream",
     "text": [
      "coefficient of determination: 0.9649945931087545\n",
      "intercept: 1.2755204959093334\n",
      "slope: [-4.44029808e-05]\n"
     ]
    }
   ],
   "source": [
    "#lin reg function\n",
    "import numpy as np\n",
    "from sklearn.linear_model import LinearRegression\n",
    "x = df_avg.n_students.values.reshape(-1, 1)\n",
    "y = df_avg.incr_ratio.values\n",
    "model = LinearRegression().fit(x, y)\n",
    "r_sq = model.score(x, y) #\n",
    "\n",
    "print('coefficient of determination:', r_sq)\n",
    "print('intercept:', model.intercept_)\n",
    "print('slope:', model.coef_)\n"
   ]
  },
  {
   "cell_type": "code",
   "execution_count": null,
   "metadata": {},
   "outputs": [],
   "source": []
  }
 ],
 "metadata": {
  "kernelspec": {
   "display_name": "Python 3",
   "language": "python",
   "name": "python3"
  },
  "language_info": {
   "codemirror_mode": {
    "name": "ipython",
    "version": 3
   },
   "file_extension": ".py",
   "mimetype": "text/x-python",
   "name": "python",
   "nbconvert_exporter": "python",
   "pygments_lexer": "ipython3",
   "version": "3.7.4"
  }
 },
 "nbformat": 4,
 "nbformat_minor": 2
}
