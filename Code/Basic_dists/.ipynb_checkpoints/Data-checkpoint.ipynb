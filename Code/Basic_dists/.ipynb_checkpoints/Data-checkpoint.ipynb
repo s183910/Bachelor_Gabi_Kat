{
 "cells": [
  {
   "cell_type": "markdown",
   "metadata": {},
   "source": [
    "# Filtering dataframe and cleaning data"
   ]
  },
  {
   "cell_type": "code",
   "execution_count": 29,
   "metadata": {},
   "outputs": [],
   "source": [
    "## Only run this block the first time you run the script \n",
    "# pip install xlrd\n",
    "# pip install openpyxl"
   ]
  },
  {
   "cell_type": "code",
   "execution_count": 2,
   "metadata": {},
   "outputs": [],
   "source": [
    "# Packages and libraries\n",
    "import pandas as pd\n",
    "import numpy as np\n",
    "import matplotlib.pyplot as plt\n",
    "import seaborn as sns"
   ]
  },
  {
   "cell_type": "code",
   "execution_count": 12,
   "metadata": {},
   "outputs": [],
   "source": [
    "# Data \n",
    "df = pd.read_excel(\"data_academic_performance.xlsx\")\n",
    "# settings to display all columns\n",
    "pd.set_option(\"display.max_columns\", None)\n",
    "# display the dataframe head\n",
    "# df.head()"
   ]
  },
  {
   "cell_type": "code",
   "execution_count": 13,
   "metadata": {},
   "outputs": [],
   "source": [
    "# Dropping irrelevant columns and saving the dataframe\n",
    "df.drop([\"Unnamed: 9\",\"COD_S11\", \"EDU_FATHER\" ,\"EDU_MOTHER\" ,\"OCC_FATHER\" ,\"OCC_MOTHER\" ,\"SISBEN\" ,\"PEOPLE_HOUSE\" ,\"INTERNET\" ,\"TV\" ,\"COMPUTER\" ,\"WASHING_MCH\" ,\"MIC_OVEN\" ,\"CAR\" ,\"DVD\" ,\"FRESH\" ,\"PHONE\" ,\"MOBILE\" ,\"REVENUE\" ,\"JOB\" ,\"SCHOOL_NAME\" ,\"SCHOOL_NAT\" ,\"SCHOOL_TYPE\" ,\"MAT_S11\" ,\"BIO_S11\",\"Cod_SPro\" ,\"UNIVERSITY\" ,\"ACADEMIC_PROGRAM\" ,\"QR_PRO\",\"WC_PRO\" ,\"FEP_PRO\" ,\"G_SC\" ,\"PERCENTILE\" ,\"2ND_DECILE\" ,\"QUARTILE\" ,\"SEL\" ,\"SEL_IHE\"] , inplace=True, axis=1)\n"
   ]
  },
  {
   "cell_type": "code",
   "execution_count": 14,
   "metadata": {},
   "outputs": [
    {
     "data": {
      "text/plain": [
       "Index(['GENDER', 'STRATUM', 'CR_S11', 'CC_S11', 'ENG_S11', 'CR_PRO', 'CC_PRO',\n",
       "       'ENG_PRO'],\n",
       "      dtype='object')"
      ]
     },
     "execution_count": 14,
     "metadata": {},
     "output_type": "execute_result"
    }
   ],
   "source": [
    "df.columns"
   ]
  },
  {
   "cell_type": "code",
   "execution_count": 15,
   "metadata": {},
   "outputs": [],
   "source": [
    "# mean score of highschool and of college\n",
    "df[\"COL_GRADE_AVG\"] = df[[\"CR_PRO\", \"CC_PRO\", \"ENG_PRO\"]].mean(axis=1)\n",
    "df[\"HI_GRADE_AVG\"] = df[[\"CR_S11\", \"CC_S11\", \"ENG_S11\"]].mean(axis=1)"
   ]
  },
  {
   "cell_type": "code",
   "execution_count": 17,
   "metadata": {},
   "outputs": [],
   "source": [
    "df.to_csv(\"df_sum_score.csv\")"
   ]
  },
  {
   "cell_type": "markdown",
   "metadata": {},
   "source": [
    "# Basic stats"
   ]
  },
  {
   "cell_type": "code",
   "execution_count": 18,
   "metadata": {
    "scrolled": true
   },
   "outputs": [
    {
     "data": {
      "text/html": [
       "<div>\n",
       "<style scoped>\n",
       "    .dataframe tbody tr th:only-of-type {\n",
       "        vertical-align: middle;\n",
       "    }\n",
       "\n",
       "    .dataframe tbody tr th {\n",
       "        vertical-align: top;\n",
       "    }\n",
       "\n",
       "    .dataframe thead tr th {\n",
       "        text-align: left;\n",
       "    }\n",
       "\n",
       "    .dataframe thead tr:last-of-type th {\n",
       "        text-align: right;\n",
       "    }\n",
       "</style>\n",
       "<table border=\"1\" class=\"dataframe\">\n",
       "  <thead>\n",
       "    <tr>\n",
       "      <th></th>\n",
       "      <th colspan=\"2\" halign=\"left\">CR_S11</th>\n",
       "      <th colspan=\"2\" halign=\"left\">CC_S11</th>\n",
       "      <th colspan=\"2\" halign=\"left\">ENG_S11</th>\n",
       "      <th colspan=\"2\" halign=\"left\">CR_PRO</th>\n",
       "      <th colspan=\"2\" halign=\"left\">CC_PRO</th>\n",
       "      <th colspan=\"2\" halign=\"left\">ENG_PRO</th>\n",
       "      <th colspan=\"2\" halign=\"left\">COL_GRADE_AVG</th>\n",
       "      <th colspan=\"2\" halign=\"left\">HI_GRADE_AVG</th>\n",
       "    </tr>\n",
       "    <tr>\n",
       "      <th></th>\n",
       "      <th>mean</th>\n",
       "      <th>median</th>\n",
       "      <th>mean</th>\n",
       "      <th>median</th>\n",
       "      <th>mean</th>\n",
       "      <th>median</th>\n",
       "      <th>mean</th>\n",
       "      <th>median</th>\n",
       "      <th>mean</th>\n",
       "      <th>median</th>\n",
       "      <th>mean</th>\n",
       "      <th>median</th>\n",
       "      <th>mean</th>\n",
       "      <th>median</th>\n",
       "      <th>mean</th>\n",
       "      <th>median</th>\n",
       "    </tr>\n",
       "    <tr>\n",
       "      <th>GENDER</th>\n",
       "      <th></th>\n",
       "      <th></th>\n",
       "      <th></th>\n",
       "      <th></th>\n",
       "      <th></th>\n",
       "      <th></th>\n",
       "      <th></th>\n",
       "      <th></th>\n",
       "      <th></th>\n",
       "      <th></th>\n",
       "      <th></th>\n",
       "      <th></th>\n",
       "      <th></th>\n",
       "      <th></th>\n",
       "      <th></th>\n",
       "      <th></th>\n",
       "    </tr>\n",
       "  </thead>\n",
       "  <tbody>\n",
       "    <tr>\n",
       "      <th>F</th>\n",
       "      <td>60.895300</td>\n",
       "      <td>61.0</td>\n",
       "      <td>59.959944</td>\n",
       "      <td>60.0</td>\n",
       "      <td>61.451120</td>\n",
       "      <td>59.0</td>\n",
       "      <td>61.338687</td>\n",
       "      <td>66.0</td>\n",
       "      <td>58.573865</td>\n",
       "      <td>63.0</td>\n",
       "      <td>66.532421</td>\n",
       "      <td>72.0</td>\n",
       "      <td>62.148324</td>\n",
       "      <td>64.333333</td>\n",
       "      <td>60.768788</td>\n",
       "      <td>60.000000</td>\n",
       "    </tr>\n",
       "    <tr>\n",
       "      <th>M</th>\n",
       "      <td>60.698426</td>\n",
       "      <td>61.0</td>\n",
       "      <td>61.215255</td>\n",
       "      <td>61.0</td>\n",
       "      <td>62.040581</td>\n",
       "      <td>59.0</td>\n",
       "      <td>62.788409</td>\n",
       "      <td>69.0</td>\n",
       "      <td>59.606270</td>\n",
       "      <td>65.0</td>\n",
       "      <td>68.159473</td>\n",
       "      <td>76.0</td>\n",
       "      <td>63.518051</td>\n",
       "      <td>66.333333</td>\n",
       "      <td>61.318087</td>\n",
       "      <td>60.666667</td>\n",
       "    </tr>\n",
       "  </tbody>\n",
       "</table>\n",
       "</div>"
      ],
      "text/plain": [
       "           CR_S11            CC_S11           ENG_S11            CR_PRO  \\\n",
       "             mean median       mean median       mean median       mean   \n",
       "GENDER                                                                    \n",
       "F       60.895300   61.0  59.959944   60.0  61.451120   59.0  61.338687   \n",
       "M       60.698426   61.0  61.215255   61.0  62.040581   59.0  62.788409   \n",
       "\n",
       "                  CC_PRO           ENG_PRO        COL_GRADE_AVG             \\\n",
       "       median       mean median       mean median          mean     median   \n",
       "GENDER                                                                       \n",
       "F        66.0  58.573865   63.0  66.532421   72.0     62.148324  64.333333   \n",
       "M        69.0  59.606270   65.0  68.159473   76.0     63.518051  66.333333   \n",
       "\n",
       "       HI_GRADE_AVG             \n",
       "               mean     median  \n",
       "GENDER                          \n",
       "F         60.768788  60.000000  \n",
       "M         61.318087  60.666667  "
      ]
     },
     "execution_count": 18,
     "metadata": {},
     "output_type": "execute_result"
    }
   ],
   "source": [
    "df.groupby('GENDER').agg(['mean', 'median'])"
   ]
  },
  {
   "cell_type": "code",
   "execution_count": 19,
   "metadata": {},
   "outputs": [],
   "source": [
    "#Hello\n"
   ]
  },
  {
   "cell_type": "code",
   "execution_count": null,
   "metadata": {},
   "outputs": [],
   "source": []
  }
 ],
 "metadata": {
  "interpreter": {
   "hash": "e2b6eb828a06aba2a5f38c98b0f742e720c3c24745e1f8335692b0a3c2eb5e5e"
  },
  "kernelspec": {
   "display_name": "Python 3 (ipykernel)",
   "language": "python",
   "name": "python3"
  },
  "language_info": {
   "codemirror_mode": {
    "name": "ipython",
    "version": 3
   },
   "file_extension": ".py",
   "mimetype": "text/x-python",
   "name": "python",
   "nbconvert_exporter": "python",
   "pygments_lexer": "ipython3",
   "version": "3.8.5"
  }
 },
 "nbformat": 4,
 "nbformat_minor": 2
}
