{
 "cells": [
  {
   "cell_type": "markdown",
   "metadata": {},
   "source": [
    "# Plain XGBoost with expanded and standardized data"
   ]
  },
  {
   "cell_type": "code",
   "execution_count": 1,
   "metadata": {},
   "outputs": [],
   "source": [
    "# Packages and libraries\r\n",
    "import pandas as pd\r\n",
    "import xgboost as xgb\r\n",
    "import numpy as np\r\n",
    "\r\n",
    "# Load data before standardization\r\n",
    "df = pd.read_csv(\"df_sum_score_ex.csv\")"
   ]
  },
  {
   "cell_type": "code",
   "execution_count": 2,
   "metadata": {},
   "outputs": [],
   "source": [
    "# Splitting the data \r\n",
    "# X is the data which will be used to make predictions, and y contains the data we want to predict.\r\n",
    "# We want to predict the score of the students in college, hence y_training and y_test is the college average grade. \r\n",
    "\r\n",
    "X = df.drop(['COL_GRADE_AVG','GENDER','Unnamed: 0','CR_PRO','CC_PRO','ENG_PRO'], axis=1).copy()\r\n",
    "# X = df.drop(['COL_GRADE_AVG','GENDER','Unnamed: 0','CR_S11','CC_S11','ENG_S11','CR_PRO','CC_PRO','ENG_PRO'], axis=1).copy() \r\n",
    "\r\n",
    "y=df['COL_GRADE_AVG'].copy()\r\n",
    "\r\n",
    "# Now we will continue to formatting X to make it suitable for making a model with XGBoost. \r\n",
    "# One-hot encoding \r\n",
    "\r\n",
    "# Look at the different types of data contained in each variable. \r\n",
    "X.dtypes\r\n",
    "\r\n",
    "# The object columns we need to inspect to ensure that they are what we need them to be and after that we will do one-hot encoding. \r\n",
    "# One hot encoding is used to make the categorical varoiable STRATUM work in the model. \r\n",
    "# What is gonna happen is that the categorical variable is becoming multiple columns of binary values. \r\n",
    "# One hot encoding works great for trees and this is the motivation for using this method. \r\n",
    "X_encoded = pd.get_dummies(X,columns=['STRATUM','SCHOOL_TYPE','SCHOOL_NAT'])"
   ]
  },
  {
   "cell_type": "code",
   "execution_count": 3,
   "metadata": {},
   "outputs": [],
   "source": [
    "from sklearn.model_selection import train_test_split\r\n",
    "\r\n",
    "X_train, X_test, y_train, y_test = train_test_split(X_encoded,y,random_state=24, test_size=0.33)#, stratify=y)"
   ]
  },
  {
   "cell_type": "markdown",
   "metadata": {},
   "source": [
    "\r\n",
    "# Standardized dataframe\r\n",
    "Subtract mean and divide by standard deviation. \r\n",
    "We are only standardizing the attributes and not the y-vector since we would like to have plots that the reader can interpret easily. \r\n"
   ]
  },
  {
   "cell_type": "code",
   "execution_count": 4,
   "metadata": {},
   "outputs": [],
   "source": [
    "#apply standardization to filtered original dataframe\r\n",
    "dfs = X_train.copy()\r\n",
    "for column in dfs.columns:\r\n",
    "    try:\r\n",
    "        dfs[column] = (dfs[column] - dfs[column].mean())/dfs[column].std()  \r\n",
    "    except:\r\n",
    "        pass\r\n",
    "# #Check means are 0 and std 1\r\n",
    "# print(\"mean column HI grade: \", dfs.HI_GRADE_AVG.mean(), \"std column HI grade: \", dfs.HI_GRADE_AVG.std(),)\r\n",
    "X_train = dfs"
   ]
  },
  {
   "cell_type": "code",
   "execution_count": 5,
   "metadata": {},
   "outputs": [],
   "source": [
    "#apply standardization to filtered original dataframe\r\n",
    "dfs = X_test.copy()\r\n",
    "for column in dfs.columns:\r\n",
    "    try:\r\n",
    "        dfs[column] = (dfs[column] - dfs[column].mean())/dfs[column].std()  \r\n",
    "    except:\r\n",
    "        pass\r\n",
    "# #Check means are 0 and std 1\r\n",
    "# print(\"mean column HI grade: \", dfs.HI_GRADE_AVG.mean(), \"std column HI grade: \", dfs.HI_GRADE_AVG.std(),)\r\n",
    "X_test = dfs"
   ]
  },
  {
   "cell_type": "code",
   "execution_count": 6,
   "metadata": {},
   "outputs": [
    {
     "data": {
      "text/plain": [
       "XGBRegressor(base_score=0.5, booster='gbtree', colsample_bylevel=1,\n",
       "             colsample_bynode=1, colsample_bytree=1, gamma=0, gpu_id=-1,\n",
       "             importance_type='gain', interaction_constraints='',\n",
       "             learning_rate=0.300000012, max_delta_step=0, max_depth=6,\n",
       "             min_child_weight=1, missing=nan, monotone_constraints='()',\n",
       "             n_estimators=100, n_jobs=4, num_parallel_tree=1, random_state=0,\n",
       "             reg_alpha=0, reg_lambda=1, scale_pos_weight=1, subsample=1,\n",
       "             tree_method='exact', validate_parameters=1, verbosity=None)"
      ]
     },
     "execution_count": 6,
     "metadata": {},
     "output_type": "execute_result"
    }
   ],
   "source": [
    "# Regressor\r\n",
    "from sklearn.model_selection import cross_val_score, KFold\r\n",
    "from sklearn.metrics import mean_squared_error\r\n",
    "import matplotlib.pyplot as plt \r\n",
    "# XGBRegressor\r\n",
    "\r\n",
    "model = xgb.XGBRegressor(objective='reg:squarederror')\r\n",
    "model.fit(X_train, y_train)\r\n"
   ]
  },
  {
   "cell_type": "code",
   "execution_count": 7,
   "metadata": {},
   "outputs": [
    {
     "name": "stdout",
     "output_type": "stream",
     "text": [
      "INITIAL MSE: 74.38\n",
      "INITIAL RMSE: 8.62\n"
     ]
    }
   ],
   "source": [
    "# Prediction\r\n",
    "y_pred_init = model.predict(X_test)\r\n",
    "y_pred_init\r\n",
    "# Mean squared error\r\n",
    "# This is the average squared difference between the estimated values and the actual value.\r\n",
    "# Kør disse herunder for at se om det er blevet bedre \r\n",
    "mse_init = mean_squared_error(y_test, y_pred_init)\r\n",
    "\r\n",
    "# Root mean squared error\r\n",
    "rmse_init= np.sqrt(mse_init)\r\n",
    "\r\n",
    "print(\"INITIAL MSE: %.2f\" % mse_init)\r\n",
    "print(\"INITIAL RMSE: %.2f\" % rmse_init)\r\n"
   ]
  },
  {
   "cell_type": "code",
   "execution_count": 8,
   "metadata": {},
   "outputs": [],
   "source": [
    "# # Optimize parameters using cross-validation\r\n",
    "\r\n",
    "# # XGBoost has a lot of hyper parameters which we can manually tune. These are e.g. max_depth of the tree, learning_rate, gamma which encourages pruning of the tree and reg_lambda which is the regularization parameter lambda. We are trying to find the optimal values for these parameters and hope that we can improve the accuracy in the prediction of the candidates college grades. \r\n",
    "# # Gridsearch cross validation \r\n",
    "\r\n",
    "# # Gridsearch CV will be run sequentially on subsets of different options for the parameters. \r\n",
    "\r\n",
    "# # 1st round\r\n",
    "# param_grid_1 = {\r\n",
    "#     'max_depth':[3,4,5],\r\n",
    "#     'learning_rate':[0.01,0.05,0.1],\r\n",
    "#     'gamma':[0,0.25,0.1],\r\n",
    "#     'reg_lambda':[0,0.1,10.0],\r\n",
    "#     'scale_pos_weight':[1,3,5]\r\n",
    "# }\r\n",
    "# from sklearn.model_selection import GridSearchCV\r\n",
    "\r\n",
    "\r\n",
    "# # base_estimator_model = xgb.XGBRegressor()\r\n",
    "# # clf = GridSearchCV(base_estimator_model, param_grid)\r\n",
    "# # clf.fit(X_train, y_train)\r\n",
    "\r\n",
    "# optimal_params = GridSearchCV(\r\n",
    "#     estimator=xgb.XGBRegressor(\r\n",
    "#         objective='reg:squarederror', seed=24, subsample=0.9),\r\n",
    "#         param_grid=param_grid_1,\r\n",
    "#         cv=5).fit(X_train,y_train)\r\n",
    "          \r\n",
    "# # optimal parameters \r\n",
    "# print(optimal_params.best_params_)\r\n"
   ]
  },
  {
   "cell_type": "code",
   "execution_count": 9,
   "metadata": {},
   "outputs": [],
   "source": [
    "\r\n",
    "# ## Round 2 \r\n",
    "# param_grid_2 = {\r\n",
    "#     'max_depth':[2,3],\r\n",
    "#     'learning_rate':[0.05],\r\n",
    "#     'gamma':[0,0.01],\r\n",
    "#     'reg_lambda':[10.0,15.0,20.0],\r\n",
    "#     'scale_pos_weight':[0.01,0.5,1]\r\n",
    "# }\r\n",
    "# optimal_params = GridSearchCV(\r\n",
    "#     estimator=xgb.XGBRegressor(\r\n",
    "#         objective='reg:squarederror', seed=24, subsample=0.9),\r\n",
    "#         param_grid=param_grid_2,\r\n",
    "#         cv=5).fit(X_train,y_train)\r\n",
    "# # optimal parameters \r\n",
    "# print(optimal_params.best_params_)\r\n"
   ]
  },
  {
   "cell_type": "code",
   "execution_count": 10,
   "metadata": {},
   "outputs": [],
   "source": [
    "\r\n",
    "# ## Round 3 \r\n",
    "# param_grid_3 = {\r\n",
    "#     'max_depth':[3],\r\n",
    "#     'learning_rate':[0.05],\r\n",
    "#     'gamma':[0],\r\n",
    "#     'reg_lambda':[10.0],\r\n",
    "#     'scale_pos_weight':[1]\r\n",
    "# }\r\n"
   ]
  },
  {
   "cell_type": "code",
   "execution_count": 11,
   "metadata": {},
   "outputs": [
    {
     "name": "stdout",
     "output_type": "stream",
     "text": [
      "Mean MAE: 6.565 (0.158)\n",
      "Mean MAE: 6.821 (0.183)\n",
      "Mean cross-validation score: 0.82\n",
      "Mean cross-validation score: 0.80\n",
      "FINAL MSE: 68.88\n",
      "FINAL RMSE: 8.30\n"
     ]
    }
   ],
   "source": [
    "\r\n",
    "final_model = xgb.XGBRegressor(seed=24, objective='reg:squarederror', max_depth=3, learning_rate=0.05, gamma=0,reg_lambda=10.0, scale_pos_weight=1)\r\n",
    "final_model.fit(X_train,y_train,verbose=True, eval_metric='rmse')\r\n",
    "# eval_metric default according to objective\r\n",
    "from numpy import absolute\r\n",
    "from pandas import read_csv\r\n",
    "from sklearn.model_selection import cross_val_score\r\n",
    "from sklearn.model_selection import RepeatedKFold\r\n",
    "\r\n",
    "# define model evaluation method\r\n",
    "cv = RepeatedKFold(n_splits=10, n_repeats=3, random_state=1)\r\n",
    "# evaluate model\r\n",
    "scores = cross_val_score(final_model, X_train, y_train, scoring='neg_mean_absolute_error', cv=cv, n_jobs=-1)\r\n",
    "\r\n",
    "# force scores to be positive\r\n",
    "scores = absolute(scores)\r\n",
    "print('Mean MAE: %.3f (%.3f)' % (scores.mean(), scores.std()) )\r\n",
    "\r\n",
    "# define model evaluation method\r\n",
    "cv = RepeatedKFold(n_splits=10, n_repeats=3, random_state=1)\r\n",
    "# evaluate model\r\n",
    "scores = cross_val_score(model, X_train, y_train, scoring='neg_mean_absolute_error', cv=cv, n_jobs=-1)\r\n",
    "\r\n",
    "# force scores to be positive\r\n",
    "scores = absolute(scores)\r\n",
    "print('Mean MAE: %.3f (%.3f)' % (scores.mean(), scores.std()) )\r\n",
    "\r\n",
    "# The model is tunes with grid search CV and evaluated using k-fold cross valdiation. The model is \r\n",
    "# evaluated on the training data and the average mean absolut error across the repeats of 10-fold cross-validtaion is reported. \r\n",
    "# There is some variation in the magnitude of errors as seen by theMAE. The average difference between \r\n",
    "# the predicted college garde and the observed college grade was 11.431 points in the grade. \r\n",
    "\r\n",
    "scores_final = cross_val_score(final_model, X_train, y_train, cv=10)\r\n",
    "print(\"Mean cross-validation score: %.2f\" % scores_final.mean())\r\n",
    "\r\n",
    "scores = cross_val_score(model, X_train, y_train, cv=10)\r\n",
    "print(\"Mean cross-validation score: %.2f\" % scores.mean())\r\n",
    "y_pred_final = final_model.predict(X_test)\r\n",
    "y_pred_final\r\n",
    "# Kør disse herunder for at se om det er blevet bedre \r\n",
    "mse_final = mean_squared_error(y_test, y_pred_final)\r\n",
    "print(\"FINAL MSE: %.2f\" % mse_final)\r\n",
    "\r\n",
    "# Root mean squared error\r\n",
    "rmse_final= np.sqrt(mse_final)\r\n",
    "print(\"FINAL RMSE: %.2f\" % rmse_final)\r\n",
    "\r\n",
    "# from sklearn.metrics import average_precision_score\r\n",
    "# map_final= average_precision_score(y_test, y_pred_final)\r\n",
    "# print(\"FINAL MAP: %.2f\" % map_final)\r\n"
   ]
  },
  {
   "cell_type": "markdown",
   "metadata": {},
   "source": [
    "\r\n",
    "# Results\r\n",
    "FOR RAW DATA VANILLA \r\n",
    "Before and after parameter optimization\r\n",
    "- MSE: 219.97  (ændring på -6,44%)\r\n",
    "- FINAL MSE: 205.79\r\n",
    "\r\n",
    "FOR RAW DATA WITHOUT SENSITIVE \r\n",
    "- INITIAL MSE: 207.27\r\n",
    "- FINAL MSE: 205.79\r\n",
    "\r\n",
    "FOR STANDARDIZED DATA \r\n",
    "- INITIAL MSE: 0.42  (ændring på -4,76%)\r\n",
    "- FINAL MSE: 0.40\r\n",
    "\r\n",
    "- FINAL MSE: 0.40\r\n",
    "- FINAL RMSE: 0.63\r\n",
    "\r\n",
    "EX standardized data\r\n",
    "\r\n",
    "Mean MAE: 11.055 (0.244)\r\n",
    "Mean MAE: 11.703 (0.304)\r\n",
    "Mean cross-validation score: 0.62\r\n",
    "Mean cross-validation score: 0.57\r\n",
    "FINAL MSE: 197.41\r\n",
    "FINAL RMSE: 14.05\r\n"
   ]
  },
  {
   "cell_type": "code",
   "execution_count": 12,
   "metadata": {},
   "outputs": [
    {
     "data": {
      "text/plain": [
       "<Figure size 1440x1440 with 0 Axes>"
      ]
     },
     "metadata": {},
     "output_type": "display_data"
    },
    {
     "data": {
      "image/png": "[encoded data removed]",
      "text/plain": [
       "<Figure size 432x288 with 1 Axes>"
      ]
     },
     "metadata": {
      "needs_background": "light"
     },
     "output_type": "display_data"
    }
   ],
   "source": [
    "\r\n",
    "# plot decision tree\r\n",
    "\r\n",
    "from xgboost import plot_tree\r\n",
    "import matplotlib.pyplot as plt\r\n",
    "\r\n",
    "from matplotlib import pyplot as plt\r\n",
    "plt.figure(figsize=(20,20))\r\n",
    "\r\n",
    "\r\n",
    "\r\n",
    "plot_tree(final_model,fontsize=10)\r\n",
    "# plt.show()\r\n",
    "plt.savefig('tree_high_dpi_ex', dpi=400)\r\n"
   ]
  },
  {
   "cell_type": "code",
   "execution_count": 13,
   "metadata": {},
   "outputs": [
    {
     "data": {
      "text/plain": [
       "array([ 1.20391313, -0.83042193, -0.83042193, -0.83042193, -0.83042193,\n",
       "        1.20391313,  1.20391313])"
      ]
     },
     "execution_count": 13,
     "metadata": {},
     "output_type": "execute_result"
    }
   ],
   "source": [
    "\r\n",
    "# Reparring the index and predictions \r\n",
    "index = X_test.index.to_numpy()\r\n",
    "gender = X_test.GENDER_bin.to_numpy()\r\n",
    "gender[:7]"
   ]
  },
  {
   "cell_type": "code",
   "execution_count": 14,
   "metadata": {},
   "outputs": [],
   "source": [
    "\r\n",
    "\r\n",
    "preds = y_pred_final # her har de stadig samme rækkefølge i forhold til index som til at starte med, de er nemlig ikke blevet sorteret endnu\r\n",
    "listen = list(map(list, zip(index,gender, preds)))\r\n",
    "\r\n",
    "for_later_gender = gender\r\n",
    "for_later_gender = np.save('for_later_gender.npy', for_later_gender)    # .npy extension is added if not given\r\n",
    "\r\n",
    "\r\n",
    "samlet_preds_plain_ex = pd.DataFrame(listen, columns=['Idx','Gender_bins','Preds'])\r\n"
   ]
  },
  {
   "cell_type": "code",
   "execution_count": 15,
   "metadata": {},
   "outputs": [],
   "source": [
    "\r\n",
    "samlet_preds_plain_ex = samlet_preds_plain_ex.sort_values(by=['Preds'],ascending=False)\r\n",
    "samlet_preds_plain_ex.to_csv(\"samlet_preds_plain_ex.csv\")"
   ]
  },
  {
   "cell_type": "code",
   "execution_count": 16,
   "metadata": {},
   "outputs": [
    {
     "data": {
      "text/html": [
       "<div>\n",
       "<style scoped>\n",
       "    .dataframe tbody tr th:only-of-type {\n",
       "        vertical-align: middle;\n",
       "    }\n",
       "\n",
       "    .dataframe tbody tr th {\n",
       "        vertical-align: top;\n",
       "    }\n",
       "\n",
       "    .dataframe thead th {\n",
       "        text-align: right;\n",
       "    }\n",
       "</style>\n",
       "<table border=\"1\" class=\"dataframe\">\n",
       "  <thead>\n",
       "    <tr style=\"text-align: right;\">\n",
       "      <th></th>\n",
       "      <th>Idx</th>\n",
       "      <th>Gender_bins</th>\n",
       "      <th>Preds</th>\n",
       "    </tr>\n",
       "  </thead>\n",
       "  <tbody>\n",
       "    <tr>\n",
       "      <th>562</th>\n",
       "      <td>7510</td>\n",
       "      <td>-0.830422</td>\n",
       "      <td>93.930519</td>\n",
       "    </tr>\n",
       "    <tr>\n",
       "      <th>1891</th>\n",
       "      <td>12327</td>\n",
       "      <td>-0.830422</td>\n",
       "      <td>93.930519</td>\n",
       "    </tr>\n",
       "    <tr>\n",
       "      <th>2155</th>\n",
       "      <td>12328</td>\n",
       "      <td>-0.830422</td>\n",
       "      <td>93.930519</td>\n",
       "    </tr>\n",
       "    <tr>\n",
       "      <th>1597</th>\n",
       "      <td>10626</td>\n",
       "      <td>-0.830422</td>\n",
       "      <td>93.930519</td>\n",
       "    </tr>\n",
       "    <tr>\n",
       "      <th>659</th>\n",
       "      <td>8479</td>\n",
       "      <td>-0.830422</td>\n",
       "      <td>93.930519</td>\n",
       "    </tr>\n",
       "    <tr>\n",
       "      <th>...</th>\n",
       "      <td>...</td>\n",
       "      <td>...</td>\n",
       "      <td>...</td>\n",
       "    </tr>\n",
       "    <tr>\n",
       "      <th>1286</th>\n",
       "      <td>9075</td>\n",
       "      <td>-0.830422</td>\n",
       "      <td>16.224663</td>\n",
       "    </tr>\n",
       "    <tr>\n",
       "      <th>1123</th>\n",
       "      <td>10999</td>\n",
       "      <td>-0.830422</td>\n",
       "      <td>15.684408</td>\n",
       "    </tr>\n",
       "    <tr>\n",
       "      <th>1671</th>\n",
       "      <td>10039</td>\n",
       "      <td>-0.830422</td>\n",
       "      <td>15.564539</td>\n",
       "    </tr>\n",
       "    <tr>\n",
       "      <th>61</th>\n",
       "      <td>3061</td>\n",
       "      <td>1.203913</td>\n",
       "      <td>15.065056</td>\n",
       "    </tr>\n",
       "    <tr>\n",
       "      <th>2189</th>\n",
       "      <td>4258</td>\n",
       "      <td>-0.830422</td>\n",
       "      <td>13.212662</td>\n",
       "    </tr>\n",
       "  </tbody>\n",
       "</table>\n",
       "<p>4096 rows × 3 columns</p>\n",
       "</div>"
      ],
      "text/plain": [
       "        Idx  Gender_bins      Preds\n",
       "562    7510    -0.830422  93.930519\n",
       "1891  12327    -0.830422  93.930519\n",
       "2155  12328    -0.830422  93.930519\n",
       "1597  10626    -0.830422  93.930519\n",
       "659    8479    -0.830422  93.930519\n",
       "...     ...          ...        ...\n",
       "1286   9075    -0.830422  16.224663\n",
       "1123  10999    -0.830422  15.684408\n",
       "1671  10039    -0.830422  15.564539\n",
       "61     3061     1.203913  15.065056\n",
       "2189   4258    -0.830422  13.212662\n",
       "\n",
       "[4096 rows x 3 columns]"
      ]
     },
     "execution_count": 16,
     "metadata": {},
     "output_type": "execute_result"
    }
   ],
   "source": [
    "samlet_preds_plain_ex "
   ]
  },
  {
   "cell_type": "code",
   "execution_count": 17,
   "metadata": {},
   "outputs": [],
   "source": [
    "# df = pd.read_csv(\"df_sum_score_ex.csv\")\r\n",
    "# dfs = df.copy()\r\n",
    "# mean_col = []\r\n",
    "# std_col = []\r\n",
    "# col = []\r\n",
    "# for column in dfs.columns:\r\n",
    "#     try: \r\n",
    "#         mean_col.append(dfs[column].mean())\r\n",
    "#         col.append(column)\r\n",
    "#         std_col.append(dfs[column].std())\r\n",
    "#     except:\r\n",
    "#         pass \r\n",
    "\r\n",
    "# raw_mean_std = pd.DataFrame(\r\n",
    "#     {'mean': mean_col,\r\n",
    "#      'std': std_col,\r\n",
    "#      'col': col\r\n",
    "#     })"
   ]
  },
  {
   "cell_type": "code",
   "execution_count": 18,
   "metadata": {},
   "outputs": [],
   "source": [
    "\r\n",
    "# #apply standardization to filtered original dataframe\r\n",
    "# dfs_rev = samlet_preds_plain_ex.copy()\r\n",
    "# dfs_rev"
   ]
  },
  {
   "cell_type": "code",
   "execution_count": 19,
   "metadata": {},
   "outputs": [
    {
     "data": {
      "text/plain": [
       "array([93.93052 , 93.93052 , 93.93052 , ..., 15.564539, 15.065056,\n",
       "       13.212662], dtype=float32)"
      ]
     },
     "execution_count": 19,
     "metadata": {},
     "output_type": "execute_result"
    }
   ],
   "source": [
    "# sorte predictions med mergesort \r\n",
    "import numpy as np\r\n",
    "\r\n",
    "pred_sorted = np.sort(y_pred_final, axis=- 1, kind='mergesort')[::-1]\r\n",
    "pred_sorted\r\n",
    "\r\n"
   ]
  },
  {
   "cell_type": "code",
   "execution_count": 20,
   "metadata": {},
   "outputs": [
    {
     "name": "stderr",
     "output_type": "stream",
     "text": [
      "findfont: Font family ['Helvetica Neue'] not found. Falling back to DejaVu Sans.\n",
      "findfont: Font family ['Helvetica Neue'] not found. Falling back to DejaVu Sans.\n"
     ]
    },
    {
     "data": {
      "image/png": "[encoded data removed]",
      "text/plain": [
       "<Figure size 2000x1000 with 1 Axes>"
      ]
     },
     "metadata": {
      "needs_background": "light"
     },
     "output_type": "display_data"
    },
    {
     "data": {
      "text/plain": [
       "<Figure size 2000x1000 with 0 Axes>"
      ]
     },
     "metadata": {},
     "output_type": "display_data"
    }
   ],
   "source": [
    "\r\n",
    "# Plotting\r\n",
    "import matplotlib as mpl\r\n",
    "def setup_mpl():\r\n",
    "    mpl.rcParams[\"font.family\"] = \"Helvetica Neue\"\r\n",
    "    mpl.rcParams[\"font.size\"] = 11\r\n",
    "    mpl.rcParams[\"figure.figsize\"] = (10,5)\r\n",
    "    mpl.rcParams[\"figure.dpi\"] = 200\r\n",
    "    # mpl.rcParams[\"lines.linewidth\"] = 1\r\n",
    "setup_mpl()\r\n",
    "\r\n",
    "x_ax = range(len(y_test))\r\n",
    "y_test_sorted = np.sort(y_test, axis=- 1, kind='mergesort')[::-1]\r\n",
    "plt.plot(x_ax, y_test_sorted, label=\"original\")\r\n",
    "plt.plot(x_ax, pred_sorted, label=\"predicted\")\r\n",
    "plt.title(\"College admissions test and predicted data\")\r\n",
    "plt.legend()\r\n",
    "plt.show()\r\n",
    "plt.savefig(\"plot_xgb_plain_ex.png\")"
   ]
  },
  {
   "cell_type": "markdown",
   "metadata": {},
   "source": [
    "## Til entropy and utility benyttes data samlet_preds_plain_ex"
   ]
  },
  {
   "cell_type": "code",
   "execution_count": null,
   "metadata": {},
   "outputs": [],
   "source": []
  }
 ],
 "metadata": {
  "interpreter": {
   "hash": "e2b6eb828a06aba2a5f38c98b0f742e720c3c24745e1f8335692b0a3c2eb5e5e"
  },
  "kernelspec": {
   "display_name": "Python 3.9.4 64-bit",
   "name": "python3"
  },
  "language_info": {
   "codemirror_mode": {
    "name": "ipython",
    "version": 3
   },
   "file_extension": ".py",
   "mimetype": "text/x-python",
   "name": "python",
   "nbconvert_exporter": "python",
   "pygments_lexer": "ipython3",
   "version": "3.9.4"
  },
  "orig_nbformat": 4
 },
 "nbformat": 4,
 "nbformat_minor": 2
}