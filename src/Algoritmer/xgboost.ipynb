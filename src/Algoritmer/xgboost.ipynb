{
 "cells": [
  {
   "cell_type": "code",
   "execution_count": 20,
   "metadata": {},
   "outputs": [
    {
     "data": {
      "text/html": [
       "<div>\n",
       "<style scoped>\n",
       "    .dataframe tbody tr th:only-of-type {\n",
       "        vertical-align: middle;\n",
       "    }\n",
       "\n",
       "    .dataframe tbody tr th {\n",
       "        vertical-align: top;\n",
       "    }\n",
       "\n",
       "    .dataframe thead th {\n",
       "        text-align: right;\n",
       "    }\n",
       "</style>\n",
       "<table border=\"1\" class=\"dataframe\">\n",
       "  <thead>\n",
       "    <tr style=\"text-align: right;\">\n",
       "      <th></th>\n",
       "      <th>Unnamed: 0</th>\n",
       "      <th>GENDER</th>\n",
       "      <th>STRATUM</th>\n",
       "      <th>CR_S11</th>\n",
       "      <th>CC_S11</th>\n",
       "      <th>ENG_S11</th>\n",
       "      <th>CR_PRO</th>\n",
       "      <th>CC_PRO</th>\n",
       "      <th>ENG_PRO</th>\n",
       "      <th>COL_GRADE_AVG</th>\n",
       "      <th>HI_GRADE_AVG</th>\n",
       "      <th>GENDER_bin</th>\n",
       "    </tr>\n",
       "  </thead>\n",
       "  <tbody>\n",
       "    <tr>\n",
       "      <th>0</th>\n",
       "      <td>0</td>\n",
       "      <td>F</td>\n",
       "      <td>Stratum_4</td>\n",
       "      <td>81</td>\n",
       "      <td>61</td>\n",
       "      <td>82</td>\n",
       "      <td>93</td>\n",
       "      <td>71</td>\n",
       "      <td>93</td>\n",
       "      <td>85.666667</td>\n",
       "      <td>74.666667</td>\n",
       "      <td>1</td>\n",
       "    </tr>\n",
       "    <tr>\n",
       "      <th>1</th>\n",
       "      <td>1</td>\n",
       "      <td>F</td>\n",
       "      <td>Stratum_5</td>\n",
       "      <td>75</td>\n",
       "      <td>66</td>\n",
       "      <td>88</td>\n",
       "      <td>38</td>\n",
       "      <td>86</td>\n",
       "      <td>98</td>\n",
       "      <td>74.000000</td>\n",
       "      <td>76.333333</td>\n",
       "      <td>1</td>\n",
       "    </tr>\n",
       "    <tr>\n",
       "      <th>2</th>\n",
       "      <td>2</td>\n",
       "      <td>M</td>\n",
       "      <td>Stratum_2</td>\n",
       "      <td>49</td>\n",
       "      <td>38</td>\n",
       "      <td>42</td>\n",
       "      <td>1</td>\n",
       "      <td>18</td>\n",
       "      <td>43</td>\n",
       "      <td>20.666667</td>\n",
       "      <td>43.000000</td>\n",
       "      <td>0</td>\n",
       "    </tr>\n",
       "    <tr>\n",
       "      <th>3</th>\n",
       "      <td>3</td>\n",
       "      <td>F</td>\n",
       "      <td>Stratum_2</td>\n",
       "      <td>55</td>\n",
       "      <td>51</td>\n",
       "      <td>73</td>\n",
       "      <td>35</td>\n",
       "      <td>76</td>\n",
       "      <td>80</td>\n",
       "      <td>63.666667</td>\n",
       "      <td>59.666667</td>\n",
       "      <td>1</td>\n",
       "    </tr>\n",
       "    <tr>\n",
       "      <th>4</th>\n",
       "      <td>4</td>\n",
       "      <td>M</td>\n",
       "      <td>Stratum_4</td>\n",
       "      <td>65</td>\n",
       "      <td>76</td>\n",
       "      <td>92</td>\n",
       "      <td>94</td>\n",
       "      <td>98</td>\n",
       "      <td>100</td>\n",
       "      <td>97.333333</td>\n",
       "      <td>77.666667</td>\n",
       "      <td>0</td>\n",
       "    </tr>\n",
       "  </tbody>\n",
       "</table>\n",
       "</div>"
      ],
      "text/plain": [
       "   Unnamed: 0 GENDER    STRATUM  CR_S11  CC_S11  ENG_S11  CR_PRO  CC_PRO  \\\n",
       "0           0      F  Stratum_4      81      61       82      93      71   \n",
       "1           1      F  Stratum_5      75      66       88      38      86   \n",
       "2           2      M  Stratum_2      49      38       42       1      18   \n",
       "3           3      F  Stratum_2      55      51       73      35      76   \n",
       "4           4      M  Stratum_4      65      76       92      94      98   \n",
       "\n",
       "   ENG_PRO  COL_GRADE_AVG  HI_GRADE_AVG  GENDER_bin  \n",
       "0       93      85.666667     74.666667           1  \n",
       "1       98      74.000000     76.333333           1  \n",
       "2       43      20.666667     43.000000           0  \n",
       "3       80      63.666667     59.666667           1  \n",
       "4      100      97.333333     77.666667           0  "
      ]
     },
     "execution_count": 20,
     "metadata": {},
     "output_type": "execute_result"
    }
   ],
   "source": [
    "# XGBoost data prep\r\n",
    "#remove white space in columns\r\n",
    "#NOTE: GENDER_bin=1 is female and GENDER_bin=0 is males\r\n",
    "\r\n",
    "df = pd.read_csv(\"df_sum_score_py.csv\")\r\n",
    "df.replace(' ','_',regex=True,inplace=True)\r\n",
    "\r\n",
    "# there is 14 0's in STRATUM and since this is only approximately 0.116% of the entire data, we do not need to do anything. \r\n",
    "# XGBoost is very well at handling missing data, and we just need to ensure that it's set to 0. \r\n",
    "df.STRATUM.isin(['0']).sum()"
   ]
  },
  {
   "cell_type": "code",
   "execution_count": 26,
   "metadata": {},
   "outputs": [],
   "source": [
    "# Splitting the data \r\n",
    "#We want to predict the score of the students in college. \r\n",
    "\r\n",
    "X = df.drop(['COL_GRADE_AVG','GENDER','Unnamed: 0','CR_S11','CC_S11','ENG_S11','CR_PRO','CC_PRO','ENG_PRO'], axis=1).copy()\r\n",
    "y=df['COL_GRADE_AVG'].copy()\r\n",
    "\r\n",
    "# X is the data which will be used to make predictions, and y contains the data we want to predict. \r\n",
    "# Now we will continue to formatting X to make it suitable for making a model with XGBoost. "
   ]
  },
  {
   "cell_type": "code",
   "execution_count": 40,
   "metadata": {},
   "outputs": [],
   "source": [
    "# One-hot encoding \r\n",
    "X.dtypes\r\n",
    "# The object columns we need to inspect to ensure that they are what we need them to be and after that we will do one-hot encoding. \r\n",
    "# One hot encoding is used to make the categorical varoiable STRATUM work in the model. \r\n",
    "# What is gonna happen is that the categorical variable is becoming multiple columns of binary values. \r\n",
    "# One hot encoding works great for trees and this is the motivation for using this method. \r\n",
    "X_encoded = pd.get_dummies(X,columns=['STRATUM']).head()"
   ]
  },
  {
   "cell_type": "code",
   "execution_count": null,
   "metadata": {},
   "outputs": [],
   "source": [
    "# NOw the problem is, that our y is not 1's and 0's..."
   ]
  },
  {
   "cell_type": "code",
   "execution_count": 9,
   "metadata": {},
   "outputs": [
    {
     "data": {
      "text/plain": [
       "RangeIndex(start=0, stop=12411, step=1)"
      ]
     },
     "execution_count": 9,
     "metadata": {},
     "output_type": "execute_result"
    }
   ],
   "source": [
    "import numpy as np\r\n",
    "import pandas as pd\r\n",
    "# Loading the data\r\n",
    "df = pd.read_csv(\"df_sum_score_py.csv\")\r\n",
    "# C:\\Dokumenter\\Dokumenter\\UNI\\7.semester\\Bachelor\\Bachelor_Gabi_Kat\\src\\Algoritmer\\df_sum_score_py.csv\r\n",
    "\r\n",
    "# Creating the data\r\n",
    "# features\r\n",
    "df_document_features = df.copy()\r\n",
    "df_document_features = df_document_features[[\"GENDER_bin\", \"HI_GRADE_AVG\"]]\r\n",
    "df_document_features = df_document_features.values.tolist()\r\n",
    "doc_features = np.array(df_document_features)\r\n",
    "#scores\r\n",
    "doc_scores = df[\"COL_GRADE_AVG\"].values\r\n",
    "\r\n",
    "query = df.index.values\r\n",
    "df.index"
   ]
  },
  {
   "cell_type": "code",
   "execution_count": 10,
   "metadata": {},
   "outputs": [],
   "source": [
    "from sklearn.model_selection import GroupShuffleSplit\r\n",
    "\r\n",
    "\r\n",
    "gss = GroupShuffleSplit(test_size=.40, n_splits=1, random_state = 7).split(df, groups=df.index.values)\r\n"
   ]
  },
  {
   "cell_type": "code",
   "execution_count": null,
   "metadata": {},
   "outputs": [],
   "source": [
    "\r\n",
    "X_train_inds, X_test_inds = next(gss)\r\n",
    "\r\n",
    "train_data= df.iloc[X_train_inds]\r\n",
    "X_train = train_data.loc[:, ~train_data.columns.isin(['id','rank'])]\r\n",
    "y_train = train_data.loc[:, train_data.columns.isin(['rank'])]\r\n",
    "\r\n",
    "groups = train_data.groupby('id').size().to_frame('size')['size'].to_numpy()\r\n",
    "\r\n",
    "test_data= df.iloc[X_test_inds]\r\n",
    "\r\n",
    "#We need to keep the id for later predictions\r\n",
    "X_test = test_data.loc[:, ~test_data.columns.isin(['rank'])]\r\n",
    "y_test = test_data.loc[:, test_data.columns.isin(['rank'])]"
   ]
  },
  {
   "cell_type": "markdown",
   "metadata": {},
   "source": [
    "Umiddelbart det som skal ske her er at vi skal bare fordele data i træning og test. Dette tror jeg hellere at jeg vil gøre selv i stedet for hans kode. "
   ]
  },
  {
   "cell_type": "code",
   "execution_count": null,
   "metadata": {},
   "outputs": [],
   "source": []
  },
  {
   "cell_type": "code",
   "execution_count": 3,
   "metadata": {},
   "outputs": [
    {
     "ename": "ModuleNotFoundError",
     "evalue": "No module named 'xgboost'",
     "output_type": "error",
     "traceback": [
      "\u001b[1;31m---------------------------------------------------------------------------\u001b[0m",
      "\u001b[1;31mModuleNotFoundError\u001b[0m                       Traceback (most recent call last)",
      "\u001b[1;32m<ipython-input-3-57279815c5cd>\u001b[0m in \u001b[0;36m<module>\u001b[1;34m\u001b[0m\n\u001b[1;32m----> 1\u001b[1;33m \u001b[1;32mimport\u001b[0m \u001b[0mxgboost\u001b[0m \u001b[1;32mas\u001b[0m \u001b[0mxgb\u001b[0m\u001b[1;33m\u001b[0m\u001b[1;33m\u001b[0m\u001b[0m\n\u001b[0m\u001b[0;32m      2\u001b[0m \u001b[1;33m\u001b[0m\u001b[0m\n\u001b[0;32m      3\u001b[0m model = xgb.XGBRanker(  \n\u001b[0;32m      4\u001b[0m     \u001b[0mtree_method\u001b[0m\u001b[1;33m=\u001b[0m\u001b[1;34m'gpu_hist'\u001b[0m\u001b[1;33m,\u001b[0m\u001b[1;33m\u001b[0m\u001b[1;33m\u001b[0m\u001b[0m\n\u001b[0;32m      5\u001b[0m     \u001b[0mbooster\u001b[0m\u001b[1;33m=\u001b[0m\u001b[1;34m'gbtree'\u001b[0m\u001b[1;33m,\u001b[0m\u001b[1;33m\u001b[0m\u001b[1;33m\u001b[0m\u001b[0m\n",
      "\u001b[1;31mModuleNotFoundError\u001b[0m: No module named 'xgboost'"
     ]
    }
   ],
   "source": [
    "\r\n",
    "import xgboost as xgb\r\n",
    "\r\n",
    "model = xgb.XGBRanker(  \r\n",
    "    tree_method='gpu_hist',\r\n",
    "    booster='gbtree',\r\n",
    "    objective='rank:pairwise',\r\n",
    "    random_state=42, \r\n",
    "    learning_rate=0.1,\r\n",
    "    colsample_bytree=0.9, \r\n",
    "    eta=0.05, \r\n",
    "    max_depth=6, \r\n",
    "    n_estimators=110, \r\n",
    "    subsample=0.75 \r\n",
    "    )\r\n",
    "\r\n",
    "model.fit(X_train, y_train, group=groups, verbose=True)"
   ]
  },
  {
   "cell_type": "code",
   "execution_count": 4,
   "metadata": {},
   "outputs": [
    {
     "ename": "NameError",
     "evalue": "name 'data' is not defined",
     "output_type": "error",
     "traceback": [
      "\u001b[1;31m---------------------------------------------------------------------------\u001b[0m",
      "\u001b[1;31mNameError\u001b[0m                                 Traceback (most recent call last)",
      "\u001b[1;32m<ipython-input-4-deeb54358bd7>\u001b[0m in \u001b[0;36m<module>\u001b[1;34m\u001b[0m\n\u001b[0;32m      2\u001b[0m     \u001b[1;32mreturn\u001b[0m \u001b[0mmodel\u001b[0m\u001b[1;33m.\u001b[0m\u001b[0mpredict\u001b[0m\u001b[1;33m(\u001b[0m\u001b[0mdf\u001b[0m\u001b[1;33m.\u001b[0m\u001b[0mloc\u001b[0m\u001b[1;33m[\u001b[0m\u001b[1;33m:\u001b[0m\u001b[1;33m,\u001b[0m \u001b[1;33m~\u001b[0m\u001b[0mdf\u001b[0m\u001b[1;33m.\u001b[0m\u001b[0mcolumns\u001b[0m\u001b[1;33m.\u001b[0m\u001b[0misin\u001b[0m\u001b[1;33m(\u001b[0m\u001b[1;33m[\u001b[0m\u001b[1;34m'id'\u001b[0m\u001b[1;33m]\u001b[0m\u001b[1;33m)\u001b[0m\u001b[1;33m]\u001b[0m\u001b[1;33m)\u001b[0m\u001b[1;33m\u001b[0m\u001b[1;33m\u001b[0m\u001b[0m\n\u001b[0;32m      3\u001b[0m \u001b[1;33m\u001b[0m\u001b[0m\n\u001b[1;32m----> 4\u001b[1;33m predictions = (data.groupby('id')\n\u001b[0m\u001b[0;32m      5\u001b[0m                .apply(lambda x: predict(model, x)))\n",
      "\u001b[1;31mNameError\u001b[0m: name 'data' is not defined"
     ]
    }
   ],
   "source": [
    "def predict(model, df):\r\n",
    "    return model.predict(df.loc[:, ~df.columns.isin(['id'])])\r\n",
    "  \r\n",
    "predictions = (data.groupby('id')\r\n",
    "               .apply(lambda x: predict(model, x)))"
   ]
  }
 ],
 "metadata": {
  "interpreter": {
   "hash": "e2b6eb828a06aba2a5f38c98b0f742e720c3c24745e1f8335692b0a3c2eb5e5e"
  },
  "kernelspec": {
   "display_name": "Python 3.9.4 64-bit",
   "name": "python3"
  },
  "language_info": {
   "codemirror_mode": {
    "name": "ipython",
    "version": 3
   },
   "file_extension": ".py",
   "mimetype": "text/x-python",
   "name": "python",
   "nbconvert_exporter": "python",
   "pygments_lexer": "ipython3",
   "version": "3.9.4"
  },
  "orig_nbformat": 4
 },
 "nbformat": 4,
 "nbformat_minor": 2
}