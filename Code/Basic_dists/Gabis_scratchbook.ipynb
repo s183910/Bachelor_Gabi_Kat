{
 "cells": [
  {
   "cell_type": "markdown",
   "metadata": {},
   "source": [
    "# Gabi tester datavisualisering "
   ]
  },
  {
   "cell_type": "code",
   "execution_count": 2,
   "metadata": {},
   "outputs": [],
   "source": [
    "import pandas as pd\n",
    "pd.set_option(\"display.max_columns\", None)\n",
    "import seaborn as sns\n",
    "sns.set()\n",
    "import matplotlib.pyplot as plt\n",
    "from matplotlib.pyplot import figure\n"
   ]
  },
  {
   "cell_type": "code",
   "execution_count": 3,
   "metadata": {},
   "outputs": [],
   "source": [
    "#Start here and load the dataframe\n",
    "df = pd.read_csv(\"dropped_col_df.csv\")"
   ]
  },
  {
   "cell_type": "code",
   "execution_count": 71,
   "metadata": {},
   "outputs": [
    {
     "data": {
      "text/html": [
       "<div>\n",
       "<style scoped>\n",
       "    .dataframe tbody tr th:only-of-type {\n",
       "        vertical-align: middle;\n",
       "    }\n",
       "\n",
       "    .dataframe tbody tr th {\n",
       "        vertical-align: top;\n",
       "    }\n",
       "\n",
       "    .dataframe thead th {\n",
       "        text-align: right;\n",
       "    }\n",
       "</style>\n",
       "<table border=\"1\" class=\"dataframe\">\n",
       "  <thead>\n",
       "    <tr style=\"text-align: right;\">\n",
       "      <th></th>\n",
       "      <th>Unnamed: 0</th>\n",
       "      <th>COD_S11</th>\n",
       "      <th>GENDER</th>\n",
       "      <th>EDU_FATHER</th>\n",
       "      <th>EDU_MOTHER</th>\n",
       "      <th>OCC_FATHER</th>\n",
       "      <th>OCC_MOTHER</th>\n",
       "      <th>STRATUM</th>\n",
       "      <th>SISBEN</th>\n",
       "      <th>PEOPLE_HOUSE</th>\n",
       "      <th>REVENUE</th>\n",
       "      <th>JOB</th>\n",
       "      <th>SCHOOL_NAME</th>\n",
       "      <th>SCHOOL_NAT</th>\n",
       "      <th>SCHOOL_TYPE</th>\n",
       "      <th>MAT_S11</th>\n",
       "      <th>CR_S11</th>\n",
       "      <th>CC_S11</th>\n",
       "      <th>BIO_S11</th>\n",
       "      <th>ENG_S11</th>\n",
       "      <th>Cod_SPro</th>\n",
       "      <th>UNIVERSITY</th>\n",
       "      <th>ACADEMIC_PROGRAM</th>\n",
       "      <th>QR_PRO</th>\n",
       "      <th>CR_PRO</th>\n",
       "      <th>CC_PRO</th>\n",
       "      <th>ENG_PRO</th>\n",
       "      <th>WC_PRO</th>\n",
       "      <th>FEP_PRO</th>\n",
       "      <th>G_SC</th>\n",
       "      <th>PERCENTILE</th>\n",
       "      <th>2ND_DECILE</th>\n",
       "      <th>QUARTILE</th>\n",
       "      <th>SEL</th>\n",
       "      <th>SEL_IHE</th>\n",
       "    </tr>\n",
       "  </thead>\n",
       "  <tbody>\n",
       "    <tr>\n",
       "      <th>0</th>\n",
       "      <td>0</td>\n",
       "      <td>SB11201210000129</td>\n",
       "      <td>F</td>\n",
       "      <td>Incomplete Professional Education</td>\n",
       "      <td>Complete technique or technology</td>\n",
       "      <td>Technical or professional level employee</td>\n",
       "      <td>Home</td>\n",
       "      <td>Stratum 4</td>\n",
       "      <td>It is not classified by the SISBEN</td>\n",
       "      <td>Three</td>\n",
       "      <td>Between 1 and less than 2 LMMW</td>\n",
       "      <td>No</td>\n",
       "      <td>COL NUEVO CAMBRIDGE</td>\n",
       "      <td>PRIVATE</td>\n",
       "      <td>ACADEMIC</td>\n",
       "      <td>71</td>\n",
       "      <td>81</td>\n",
       "      <td>61</td>\n",
       "      <td>86</td>\n",
       "      <td>82</td>\n",
       "      <td>EK201830142293</td>\n",
       "      <td>UNIVERSIDAD DE SANTANDER - UDES-BUCARAMANGA</td>\n",
       "      <td>INDUSTRIAL ENGINEERING</td>\n",
       "      <td>71</td>\n",
       "      <td>93</td>\n",
       "      <td>71</td>\n",
       "      <td>93</td>\n",
       "      <td>79</td>\n",
       "      <td>181</td>\n",
       "      <td>180</td>\n",
       "      <td>91</td>\n",
       "      <td>5</td>\n",
       "      <td>4</td>\n",
       "      <td>2</td>\n",
       "      <td>2</td>\n",
       "    </tr>\n",
       "    <tr>\n",
       "      <th>1</th>\n",
       "      <td>1</td>\n",
       "      <td>SB11201210000137</td>\n",
       "      <td>F</td>\n",
       "      <td>Complete Secundary</td>\n",
       "      <td>Complete professional education</td>\n",
       "      <td>Entrepreneur</td>\n",
       "      <td>Independent professional</td>\n",
       "      <td>Stratum 5</td>\n",
       "      <td>It is not classified by the SISBEN</td>\n",
       "      <td>Three</td>\n",
       "      <td>10 or more LMMW</td>\n",
       "      <td>No</td>\n",
       "      <td>COL LA QUINTA DEL PUENTE</td>\n",
       "      <td>PRIVATE</td>\n",
       "      <td>ACADEMIC</td>\n",
       "      <td>83</td>\n",
       "      <td>75</td>\n",
       "      <td>66</td>\n",
       "      <td>100</td>\n",
       "      <td>88</td>\n",
       "      <td>EK201830002633</td>\n",
       "      <td>UNIVERSIDAD DE LOS ANDES-BOGOTÁ D.C.</td>\n",
       "      <td>INDUSTRIAL ENGINEERING</td>\n",
       "      <td>97</td>\n",
       "      <td>38</td>\n",
       "      <td>86</td>\n",
       "      <td>98</td>\n",
       "      <td>78</td>\n",
       "      <td>201</td>\n",
       "      <td>182</td>\n",
       "      <td>92</td>\n",
       "      <td>5</td>\n",
       "      <td>4</td>\n",
       "      <td>4</td>\n",
       "      <td>4</td>\n",
       "    </tr>\n",
       "    <tr>\n",
       "      <th>2</th>\n",
       "      <td>2</td>\n",
       "      <td>SB11201210005154</td>\n",
       "      <td>M</td>\n",
       "      <td>Not sure</td>\n",
       "      <td>Not sure</td>\n",
       "      <td>Independent</td>\n",
       "      <td>Home</td>\n",
       "      <td>Stratum 2</td>\n",
       "      <td>Level 2</td>\n",
       "      <td>Five</td>\n",
       "      <td>Between 1 and less than 2 LMMW</td>\n",
       "      <td>Yes, 20 hours or more per week</td>\n",
       "      <td>CENT EDUC PAULO FREIRE                        ...</td>\n",
       "      <td>PRIVATE</td>\n",
       "      <td>ACADEMIC</td>\n",
       "      <td>52</td>\n",
       "      <td>49</td>\n",
       "      <td>38</td>\n",
       "      <td>46</td>\n",
       "      <td>42</td>\n",
       "      <td>EK201830196510</td>\n",
       "      <td>UNIVERSIDAD NACIONAL ABIERTA Y A DISTANCIA UNA...</td>\n",
       "      <td>ELECTRONIC ENGINEERING</td>\n",
       "      <td>17</td>\n",
       "      <td>1</td>\n",
       "      <td>18</td>\n",
       "      <td>43</td>\n",
       "      <td>22</td>\n",
       "      <td>113</td>\n",
       "      <td>113</td>\n",
       "      <td>7</td>\n",
       "      <td>1</td>\n",
       "      <td>1</td>\n",
       "      <td>1</td>\n",
       "      <td>1</td>\n",
       "    </tr>\n",
       "    <tr>\n",
       "      <th>3</th>\n",
       "      <td>3</td>\n",
       "      <td>SB11201210007504</td>\n",
       "      <td>F</td>\n",
       "      <td>Not sure</td>\n",
       "      <td>Not sure</td>\n",
       "      <td>Other occupation</td>\n",
       "      <td>Independent</td>\n",
       "      <td>Stratum 2</td>\n",
       "      <td>It is not classified by the SISBEN</td>\n",
       "      <td>Three</td>\n",
       "      <td>Between 2 and less than 3 LMMW</td>\n",
       "      <td>No</td>\n",
       "      <td>LICEO ANDINO</td>\n",
       "      <td>PRIVATE</td>\n",
       "      <td>ACADEMIC</td>\n",
       "      <td>56</td>\n",
       "      <td>55</td>\n",
       "      <td>51</td>\n",
       "      <td>64</td>\n",
       "      <td>73</td>\n",
       "      <td>EK201830031665</td>\n",
       "      <td>UNIVERSIDAD CATOLICA DE PEREIRA-PEREIRA</td>\n",
       "      <td>INDUSTRIAL ENGINEERING</td>\n",
       "      <td>65</td>\n",
       "      <td>35</td>\n",
       "      <td>76</td>\n",
       "      <td>80</td>\n",
       "      <td>48</td>\n",
       "      <td>137</td>\n",
       "      <td>157</td>\n",
       "      <td>67</td>\n",
       "      <td>4</td>\n",
       "      <td>3</td>\n",
       "      <td>2</td>\n",
       "      <td>2</td>\n",
       "    </tr>\n",
       "    <tr>\n",
       "      <th>4</th>\n",
       "      <td>4</td>\n",
       "      <td>SB11201210007548</td>\n",
       "      <td>M</td>\n",
       "      <td>Complete professional education</td>\n",
       "      <td>Complete professional education</td>\n",
       "      <td>Executive</td>\n",
       "      <td>Home</td>\n",
       "      <td>Stratum 4</td>\n",
       "      <td>It is not classified by the SISBEN</td>\n",
       "      <td>One</td>\n",
       "      <td>Between 7 and less than 10 LMMW</td>\n",
       "      <td>No</td>\n",
       "      <td>LIC TALLER SAN MIGUEL</td>\n",
       "      <td>PRIVATE</td>\n",
       "      <td>ACADEMIC</td>\n",
       "      <td>80</td>\n",
       "      <td>65</td>\n",
       "      <td>76</td>\n",
       "      <td>85</td>\n",
       "      <td>92</td>\n",
       "      <td>EK201830130461</td>\n",
       "      <td>UNIVERSIDAD INDUSTRIAL DE SANTANDER-BUCARAMANGA</td>\n",
       "      <td>INDUSTRIAL ENGINEERING</td>\n",
       "      <td>94</td>\n",
       "      <td>94</td>\n",
       "      <td>98</td>\n",
       "      <td>100</td>\n",
       "      <td>71</td>\n",
       "      <td>189</td>\n",
       "      <td>198</td>\n",
       "      <td>98</td>\n",
       "      <td>5</td>\n",
       "      <td>4</td>\n",
       "      <td>4</td>\n",
       "      <td>2</td>\n",
       "    </tr>\n",
       "  </tbody>\n",
       "</table>\n",
       "</div>"
      ],
      "text/plain": [
       "   Unnamed: 0           COD_S11 GENDER                         EDU_FATHER  \\\n",
       "0           0  SB11201210000129      F  Incomplete Professional Education   \n",
       "1           1  SB11201210000137      F                 Complete Secundary   \n",
       "2           2  SB11201210005154      M                           Not sure   \n",
       "3           3  SB11201210007504      F                           Not sure   \n",
       "4           4  SB11201210007548      M    Complete professional education   \n",
       "\n",
       "                         EDU_MOTHER                                OCC_FATHER  \\\n",
       "0  Complete technique or technology  Technical or professional level employee   \n",
       "1   Complete professional education                             Entrepreneur    \n",
       "2                          Not sure                               Independent   \n",
       "3                          Not sure                          Other occupation   \n",
       "4   Complete professional education                                 Executive   \n",
       "\n",
       "                 OCC_MOTHER    STRATUM                              SISBEN  \\\n",
       "0                      Home  Stratum 4  It is not classified by the SISBEN   \n",
       "1  Independent professional  Stratum 5  It is not classified by the SISBEN   \n",
       "2                      Home  Stratum 2                             Level 2   \n",
       "3               Independent  Stratum 2  It is not classified by the SISBEN   \n",
       "4                      Home  Stratum 4  It is not classified by the SISBEN   \n",
       "\n",
       "  PEOPLE_HOUSE                          REVENUE  \\\n",
       "0        Three   Between 1 and less than 2 LMMW   \n",
       "1        Three                  10 or more LMMW   \n",
       "2         Five   Between 1 and less than 2 LMMW   \n",
       "3        Three   Between 2 and less than 3 LMMW   \n",
       "4          One  Between 7 and less than 10 LMMW   \n",
       "\n",
       "                              JOB  \\\n",
       "0                              No   \n",
       "1                              No   \n",
       "2  Yes, 20 hours or more per week   \n",
       "3                              No   \n",
       "4                              No   \n",
       "\n",
       "                                         SCHOOL_NAME SCHOOL_NAT SCHOOL_TYPE  \\\n",
       "0                                COL NUEVO CAMBRIDGE    PRIVATE    ACADEMIC   \n",
       "1                           COL LA QUINTA DEL PUENTE    PRIVATE    ACADEMIC   \n",
       "2  CENT EDUC PAULO FREIRE                        ...    PRIVATE    ACADEMIC   \n",
       "3                                       LICEO ANDINO    PRIVATE    ACADEMIC   \n",
       "4                              LIC TALLER SAN MIGUEL    PRIVATE    ACADEMIC   \n",
       "\n",
       "   MAT_S11  CR_S11  CC_S11  BIO_S11  ENG_S11        Cod_SPro  \\\n",
       "0       71      81      61       86       82  EK201830142293   \n",
       "1       83      75      66      100       88  EK201830002633   \n",
       "2       52      49      38       46       42  EK201830196510   \n",
       "3       56      55      51       64       73  EK201830031665   \n",
       "4       80      65      76       85       92  EK201830130461   \n",
       "\n",
       "                                          UNIVERSITY        ACADEMIC_PROGRAM  \\\n",
       "0        UNIVERSIDAD DE SANTANDER - UDES-BUCARAMANGA  INDUSTRIAL ENGINEERING   \n",
       "1               UNIVERSIDAD DE LOS ANDES-BOGOTÁ D.C.  INDUSTRIAL ENGINEERING   \n",
       "2  UNIVERSIDAD NACIONAL ABIERTA Y A DISTANCIA UNA...  ELECTRONIC ENGINEERING   \n",
       "3            UNIVERSIDAD CATOLICA DE PEREIRA-PEREIRA  INDUSTRIAL ENGINEERING   \n",
       "4    UNIVERSIDAD INDUSTRIAL DE SANTANDER-BUCARAMANGA  INDUSTRIAL ENGINEERING   \n",
       "\n",
       "   QR_PRO  CR_PRO  CC_PRO  ENG_PRO  WC_PRO  FEP_PRO  G_SC  PERCENTILE  \\\n",
       "0      71      93      71       93      79      181   180          91   \n",
       "1      97      38      86       98      78      201   182          92   \n",
       "2      17       1      18       43      22      113   113           7   \n",
       "3      65      35      76       80      48      137   157          67   \n",
       "4      94      94      98      100      71      189   198          98   \n",
       "\n",
       "   2ND_DECILE  QUARTILE  SEL  SEL_IHE  \n",
       "0           5         4    2        2  \n",
       "1           5         4    4        4  \n",
       "2           1         1    1        1  \n",
       "3           4         3    2        2  \n",
       "4           5         4    4        2  "
      ]
     },
     "execution_count": 71,
     "metadata": {},
     "output_type": "execute_result"
    }
   ],
   "source": [
    "df.head()"
   ]
  },
  {
   "cell_type": "code",
   "execution_count": 16,
   "metadata": {},
   "outputs": [
    {
     "data": {
      "text/plain": [
       "2    7748\n",
       "4    2692\n",
       "1    1137\n",
       "3     834\n",
       "Name: SEL_IHE, dtype: int64"
      ]
     },
     "execution_count": 16,
     "metadata": {},
     "output_type": "execute_result"
    }
   ],
   "source": [
    "df.SEL_IHE.value_counts()"
   ]
  },
  {
   "cell_type": "markdown",
   "metadata": {},
   "source": []
  },
  {
   "cell_type": "markdown",
   "metadata": {},
   "source": [
    "#### Average for Gender"
   ]
  },
  {
   "cell_type": "code",
   "execution_count": 6,
   "metadata": {},
   "outputs": [],
   "source": [
    "df[\"HI_GRADE_AVG\"] = df[[\"CR_PRO\", \"CC_PRO\", \"ENG_PRO\"]].mean(axis=1)"
   ]
  },
  {
   "cell_type": "code",
   "execution_count": 8,
   "metadata": {},
   "outputs": [
    {
     "data": {
      "text/html": [
       "<div>\n",
       "<style scoped>\n",
       "    .dataframe tbody tr th:only-of-type {\n",
       "        vertical-align: middle;\n",
       "    }\n",
       "\n",
       "    .dataframe tbody tr th {\n",
       "        vertical-align: top;\n",
       "    }\n",
       "\n",
       "    .dataframe thead th {\n",
       "        text-align: right;\n",
       "    }\n",
       "</style>\n",
       "<table border=\"1\" class=\"dataframe\">\n",
       "  <thead>\n",
       "    <tr style=\"text-align: right;\">\n",
       "      <th></th>\n",
       "      <th>HI_GRADE_AVG</th>\n",
       "    </tr>\n",
       "    <tr>\n",
       "      <th>GENDER</th>\n",
       "      <th></th>\n",
       "    </tr>\n",
       "  </thead>\n",
       "  <tbody>\n",
       "    <tr>\n",
       "      <th>F</th>\n",
       "      <td>62.148324</td>\n",
       "    </tr>\n",
       "    <tr>\n",
       "      <th>M</th>\n",
       "      <td>63.518051</td>\n",
       "    </tr>\n",
       "  </tbody>\n",
       "</table>\n",
       "</div>"
      ],
      "text/plain": [
       "        HI_GRADE_AVG\n",
       "GENDER              \n",
       "F          62.148324\n",
       "M          63.518051"
      ]
     },
     "execution_count": 8,
     "metadata": {},
     "output_type": "execute_result"
    }
   ],
   "source": [
    "df[[\"GENDER\", \"HI_GRADE_AVG\"]].groupby([\"GENDER\"]).mean()"
   ]
  },
  {
   "cell_type": "markdown",
   "metadata": {},
   "source": [
    "#### Average for  Socieconomic levels (\"Stratum\")"
   ]
  },
  {
   "cell_type": "code",
   "execution_count": 9,
   "metadata": {},
   "outputs": [
    {
     "data": {
      "text/html": [
       "<div>\n",
       "<style scoped>\n",
       "    .dataframe tbody tr th:only-of-type {\n",
       "        vertical-align: middle;\n",
       "    }\n",
       "\n",
       "    .dataframe tbody tr th {\n",
       "        vertical-align: top;\n",
       "    }\n",
       "\n",
       "    .dataframe thead th {\n",
       "        text-align: right;\n",
       "    }\n",
       "</style>\n",
       "<table border=\"1\" class=\"dataframe\">\n",
       "  <thead>\n",
       "    <tr style=\"text-align: right;\">\n",
       "      <th></th>\n",
       "      <th>HI_GRADE_AVG</th>\n",
       "    </tr>\n",
       "    <tr>\n",
       "      <th>STRATUM</th>\n",
       "      <th></th>\n",
       "    </tr>\n",
       "  </thead>\n",
       "  <tbody>\n",
       "    <tr>\n",
       "      <th>0</th>\n",
       "      <td>49.476190</td>\n",
       "    </tr>\n",
       "    <tr>\n",
       "      <th>Stratum 1</th>\n",
       "      <td>51.798908</td>\n",
       "    </tr>\n",
       "    <tr>\n",
       "      <th>Stratum 2</th>\n",
       "      <td>58.575412</td>\n",
       "    </tr>\n",
       "    <tr>\n",
       "      <th>Stratum 3</th>\n",
       "      <td>64.876391</td>\n",
       "    </tr>\n",
       "    <tr>\n",
       "      <th>Stratum 4</th>\n",
       "      <td>72.111534</td>\n",
       "    </tr>\n",
       "    <tr>\n",
       "      <th>Stratum 5</th>\n",
       "      <td>75.994207</td>\n",
       "    </tr>\n",
       "    <tr>\n",
       "      <th>Stratum 6</th>\n",
       "      <td>79.097601</td>\n",
       "    </tr>\n",
       "  </tbody>\n",
       "</table>\n",
       "</div>"
      ],
      "text/plain": [
       "           HI_GRADE_AVG\n",
       "STRATUM                \n",
       "0             49.476190\n",
       "Stratum 1     51.798908\n",
       "Stratum 2     58.575412\n",
       "Stratum 3     64.876391\n",
       "Stratum 4     72.111534\n",
       "Stratum 5     75.994207\n",
       "Stratum 6     79.097601"
      ]
     },
     "execution_count": 9,
     "metadata": {},
     "output_type": "execute_result"
    }
   ],
   "source": [
    "df[[\"STRATUM\", \"HI_GRADE_AVG\"]].groupby([\"STRATUM\"]).mean()"
   ]
  },
  {
   "cell_type": "markdown",
   "metadata": {},
   "source": [
    "#### Average both Gender and Socioeconomic level"
   ]
  },
  {
   "cell_type": "code",
   "execution_count": 10,
   "metadata": {},
   "outputs": [
    {
     "data": {
      "text/html": [
       "<div>\n",
       "<style scoped>\n",
       "    .dataframe tbody tr th:only-of-type {\n",
       "        vertical-align: middle;\n",
       "    }\n",
       "\n",
       "    .dataframe tbody tr th {\n",
       "        vertical-align: top;\n",
       "    }\n",
       "\n",
       "    .dataframe thead th {\n",
       "        text-align: right;\n",
       "    }\n",
       "</style>\n",
       "<table border=\"1\" class=\"dataframe\">\n",
       "  <thead>\n",
       "    <tr style=\"text-align: right;\">\n",
       "      <th></th>\n",
       "      <th></th>\n",
       "      <th>HI_GRADE_AVG</th>\n",
       "    </tr>\n",
       "    <tr>\n",
       "      <th>STRATUM</th>\n",
       "      <th>GENDER</th>\n",
       "      <th></th>\n",
       "    </tr>\n",
       "  </thead>\n",
       "  <tbody>\n",
       "    <tr>\n",
       "      <th rowspan=\"2\" valign=\"top\">0</th>\n",
       "      <th>F</th>\n",
       "      <td>48.166667</td>\n",
       "    </tr>\n",
       "    <tr>\n",
       "      <th>M</th>\n",
       "      <td>50.458333</td>\n",
       "    </tr>\n",
       "    <tr>\n",
       "      <th rowspan=\"2\" valign=\"top\">Stratum 1</th>\n",
       "      <th>F</th>\n",
       "      <td>51.877069</td>\n",
       "    </tr>\n",
       "    <tr>\n",
       "      <th>M</th>\n",
       "      <td>51.744024</td>\n",
       "    </tr>\n",
       "    <tr>\n",
       "      <th rowspan=\"2\" valign=\"top\">Stratum 2</th>\n",
       "      <th>F</th>\n",
       "      <td>58.285888</td>\n",
       "    </tr>\n",
       "    <tr>\n",
       "      <th>M</th>\n",
       "      <td>58.774983</td>\n",
       "    </tr>\n",
       "    <tr>\n",
       "      <th rowspan=\"2\" valign=\"top\">Stratum 3</th>\n",
       "      <th>F</th>\n",
       "      <td>63.858700</td>\n",
       "    </tr>\n",
       "    <tr>\n",
       "      <th>M</th>\n",
       "      <td>65.600790</td>\n",
       "    </tr>\n",
       "    <tr>\n",
       "      <th rowspan=\"2\" valign=\"top\">Stratum 4</th>\n",
       "      <th>F</th>\n",
       "      <td>71.417187</td>\n",
       "    </tr>\n",
       "    <tr>\n",
       "      <th>M</th>\n",
       "      <td>72.585288</td>\n",
       "    </tr>\n",
       "    <tr>\n",
       "      <th rowspan=\"2\" valign=\"top\">Stratum 5</th>\n",
       "      <th>F</th>\n",
       "      <td>74.090780</td>\n",
       "    </tr>\n",
       "    <tr>\n",
       "      <th>M</th>\n",
       "      <td>77.118090</td>\n",
       "    </tr>\n",
       "    <tr>\n",
       "      <th rowspan=\"2\" valign=\"top\">Stratum 6</th>\n",
       "      <th>F</th>\n",
       "      <td>77.870229</td>\n",
       "    </tr>\n",
       "    <tr>\n",
       "      <th>M</th>\n",
       "      <td>79.688725</td>\n",
       "    </tr>\n",
       "  </tbody>\n",
       "</table>\n",
       "</div>"
      ],
      "text/plain": [
       "                  HI_GRADE_AVG\n",
       "STRATUM   GENDER              \n",
       "0         F          48.166667\n",
       "          M          50.458333\n",
       "Stratum 1 F          51.877069\n",
       "          M          51.744024\n",
       "Stratum 2 F          58.285888\n",
       "          M          58.774983\n",
       "Stratum 3 F          63.858700\n",
       "          M          65.600790\n",
       "Stratum 4 F          71.417187\n",
       "          M          72.585288\n",
       "Stratum 5 F          74.090780\n",
       "          M          77.118090\n",
       "Stratum 6 F          77.870229\n",
       "          M          79.688725"
      ]
     },
     "execution_count": 10,
     "metadata": {},
     "output_type": "execute_result"
    }
   ],
   "source": [
    "df[[\"STRATUM\",\"GENDER\", \"HI_GRADE_AVG\"]].groupby([\"STRATUM\", \"GENDER\"]).mean()"
   ]
  },
  {
   "cell_type": "markdown",
   "metadata": {},
   "source": [
    "#### Distribution"
   ]
  },
  {
   "cell_type": "code",
   "execution_count": 12,
   "metadata": {},
   "outputs": [
    {
     "data": {
      "text/plain": [
       "STRATUM    GENDER\n",
       "0          F         [[AxesSubplot(0.125,0.125;0.775x0.755)]]\n",
       "           M         [[AxesSubplot(0.125,0.125;0.775x0.755)]]\n",
       "Stratum 1  F         [[AxesSubplot(0.125,0.125;0.775x0.755)]]\n",
       "           M         [[AxesSubplot(0.125,0.125;0.775x0.755)]]\n",
       "Stratum 2  F         [[AxesSubplot(0.125,0.125;0.775x0.755)]]\n",
       "           M         [[AxesSubplot(0.125,0.125;0.775x0.755)]]\n",
       "Stratum 3  F         [[AxesSubplot(0.125,0.125;0.775x0.755)]]\n",
       "           M         [[AxesSubplot(0.125,0.125;0.775x0.755)]]\n",
       "Stratum 4  F         [[AxesSubplot(0.125,0.125;0.775x0.755)]]\n",
       "           M         [[AxesSubplot(0.125,0.125;0.775x0.755)]]\n",
       "Stratum 5  F         [[AxesSubplot(0.125,0.125;0.775x0.755)]]\n",
       "           M         [[AxesSubplot(0.125,0.125;0.775x0.755)]]\n",
       "Stratum 6  F         [[AxesSubplot(0.125,0.125;0.775x0.755)]]\n",
       "           M         [[AxesSubplot(0.125,0.125;0.775x0.755)]]\n",
       "dtype: object"
      ]
     },
     "execution_count": 12,
     "metadata": {},
     "output_type": "execute_result"
    },
    {
     "data": {
      "image/png": "[encoded data removed]",
      "text/plain": [
       "<Figure size 432x288 with 1 Axes>"
      ]
     },
     "metadata": {},
     "output_type": "display_data"
    },
    {
     "data": {
      "image/png": "[encoded data removed]",
      "text/plain": [
       "<Figure size 432x288 with 1 Axes>"
      ]
     },
     "metadata": {},
     "output_type": "display_data"
    },
    {
     "data": {
      "image/png": "[encoded data removed]",
      "text/plain": [
       "<Figure size 432x288 with 1 Axes>"
      ]
     },
     "metadata": {},
     "output_type": "display_data"
    },
    {
     "data": {
      "image/png": "[encoded data removed]",
      "text/plain": [
       "<Figure size 432x288 with 1 Axes>"
      ]
     },
     "metadata": {},
     "output_type": "display_data"
    },
    {
     "data": {
      "image/png": "[encoded data removed]",
      "text/plain": [
       "<Figure size 432x288 with 1 Axes>"
      ]
     },
     "metadata": {},
     "output_type": "display_data"
    },
    {
     "data": {
      "image/png": "[encoded data removed]",
      "text/plain": [
       "<Figure size 432x288 with 1 Axes>"
      ]
     },
     "metadata": {},
     "output_type": "display_data"
    },
    {
     "data": {
      "image/png": "[encoded data removed]",
      "text/plain": [
       "<Figure size 432x288 with 1 Axes>"
      ]
     },
     "metadata": {},
     "output_type": "display_data"
    },
    {
     "data": {
      "image/png": "[encoded data removed]",
      "text/plain": [
       "<Figure size 432x288 with 1 Axes>"
      ]
     },
     "metadata": {},
     "output_type": "display_data"
    },
    {
     "data": {
      "image/png": "[encoded data removed]",
      "text/plain": [
       "<Figure size 432x288 with 1 Axes>"
      ]
     },
     "metadata": {},
     "output_type": "display_data"
    },
    {
     "data": {
      "image/png": "[encoded data removed]",
      "text/plain": [
       "<Figure size 432x288 with 1 Axes>"
      ]
     },
     "metadata": {},
     "output_type": "display_data"
    },
    {
     "data": {
      "image/png": "[encoded data removed]",
      "text/plain": [
       "<Figure size 432x288 with 1 Axes>"
      ]
     },
     "metadata": {},
     "output_type": "display_data"
    },
    {
     "data": {
      "image/png": "[encoded data removed]",
      "text/plain": [
       "<Figure size 432x288 with 1 Axes>"
      ]
     },
     "metadata": {},
     "output_type": "display_data"
    },
    {
     "data": {
      "image/png": "[encoded data removed]",
      "text/plain": [
       "<Figure size 432x288 with 1 Axes>"
      ]
     },
     "metadata": {},
     "output_type": "display_data"
    },
    {
     "data": {
      "image/png": "[encoded data removed]",
      "text/plain": [
       "<Figure size 432x288 with 1 Axes>"
      ]
     },
     "metadata": {},
     "output_type": "display_data"
    }
   ],
   "source": [
    "df[[\"STRATUM\",\"GENDER\", \"HI_GRADE_AVG\"]].groupby([\"STRATUM\", \"GENDER\"]).hist()"
   ]
  },
  {
   "cell_type": "markdown",
   "metadata": {},
   "source": [
    "#### For each university's SEL_IHE,\n",
    "plot distribution"
   ]
  },
  {
   "cell_type": "code",
   "execution_count": 13,
   "metadata": {},
   "outputs": [],
   "source": [
    "df_group = df[[\"SEL_IHE\", \"CR_PRO\", \"CC_PRO\", \"ENG_PRO\"]].groupby([\"SEL_IHE\"]).mean()"
   ]
  },
  {
   "cell_type": "code",
   "execution_count": 15,
   "metadata": {},
   "outputs": [
    {
     "data": {
      "text/html": [
       "<div>\n",
       "<style scoped>\n",
       "    .dataframe tbody tr th:only-of-type {\n",
       "        vertical-align: middle;\n",
       "    }\n",
       "\n",
       "    .dataframe tbody tr th {\n",
       "        vertical-align: top;\n",
       "    }\n",
       "\n",
       "    .dataframe thead th {\n",
       "        text-align: right;\n",
       "    }\n",
       "</style>\n",
       "<table border=\"1\" class=\"dataframe\">\n",
       "  <thead>\n",
       "    <tr style=\"text-align: right;\">\n",
       "      <th></th>\n",
       "      <th>CR_PRO</th>\n",
       "      <th>CC_PRO</th>\n",
       "      <th>ENG_PRO</th>\n",
       "    </tr>\n",
       "    <tr>\n",
       "      <th>SEL_IHE</th>\n",
       "      <th></th>\n",
       "      <th></th>\n",
       "      <th></th>\n",
       "    </tr>\n",
       "  </thead>\n",
       "  <tbody>\n",
       "    <tr>\n",
       "      <th>1</th>\n",
       "      <td>54.934037</td>\n",
       "      <td>51.914688</td>\n",
       "      <td>51.183817</td>\n",
       "    </tr>\n",
       "    <tr>\n",
       "      <th>2</th>\n",
       "      <td>58.970960</td>\n",
       "      <td>56.037816</td>\n",
       "      <td>62.806789</td>\n",
       "    </tr>\n",
       "    <tr>\n",
       "      <th>3</th>\n",
       "      <td>64.613909</td>\n",
       "      <td>59.629496</td>\n",
       "      <td>72.786571</td>\n",
       "    </tr>\n",
       "    <tr>\n",
       "      <th>4</th>\n",
       "      <td>73.811664</td>\n",
       "      <td>71.184250</td>\n",
       "      <td>86.253715</td>\n",
       "    </tr>\n",
       "  </tbody>\n",
       "</table>\n",
       "</div>"
      ],
      "text/plain": [
       "            CR_PRO     CC_PRO    ENG_PRO\n",
       "SEL_IHE                                 \n",
       "1        54.934037  51.914688  51.183817\n",
       "2        58.970960  56.037816  62.806789\n",
       "3        64.613909  59.629496  72.786571\n",
       "4        73.811664  71.184250  86.253715"
      ]
     },
     "execution_count": 15,
     "metadata": {},
     "output_type": "execute_result"
    }
   ],
   "source": [
    "df_group.head()"
   ]
  },
  {
   "cell_type": "markdown",
   "metadata": {},
   "source": [
    "#### Overall correlation, to see which data to look for"
   ]
  },
  {
   "cell_type": "code",
   "execution_count": 6,
   "metadata": {},
   "outputs": [
    {
     "data": {
      "text/plain": [
       "12395"
      ]
     },
     "execution_count": 6,
     "metadata": {},
     "output_type": "execute_result"
    }
   ],
   "source": [
    "df['Cod_SPro'].nunique()"
   ]
  },
  {
   "cell_type": "code",
   "execution_count": 38,
   "metadata": {},
   "outputs": [
    {
     "data": {
      "text/plain": [
       "2    7748\n",
       "4    2692\n",
       "1    1137\n",
       "3     834\n",
       "Name: SEL_IHE, dtype: int64"
      ]
     },
     "execution_count": 38,
     "metadata": {},
     "output_type": "execute_result"
    }
   ],
   "source": [
    "df['SEL_IHE'].value_counts()"
   ]
  },
  {
   "cell_type": "code",
   "execution_count": 11,
   "metadata": {},
   "outputs": [
    {
     "data": {
      "image/png": "[encoded data removed]",
      "text/plain": [
       "<Figure size 640x480 with 2 Axes>"
      ]
     },
     "metadata": {},
     "output_type": "display_data"
    }
   ],
   "source": [
    "figure(figsize=(8, 6), dpi=80)\n",
    "sns.heatmap(df.corr());"
   ]
  },
  {
   "cell_type": "markdown",
   "metadata": {},
   "source": [
    "#### Testing correlation between socioeconomic level (sns) and socioeconomic level of the Institution of higher education"
   ]
  },
  {
   "cell_type": "code",
   "execution_count": 8,
   "metadata": {
    "scrolled": true
   },
   "outputs": [
    {
     "data": {
      "text/plain": [
       "0.4215563172046026"
      ]
     },
     "execution_count": 8,
     "metadata": {},
     "output_type": "execute_result"
    }
   ],
   "source": [
    "#correlation\n",
    "df['SEL'].corr(df['SEL_IHE'])"
   ]
  },
  {
   "cell_type": "code",
   "execution_count": 8,
   "metadata": {},
   "outputs": [
    {
     "data": {
      "text/plain": [
       "<AxesSubplot:>"
      ]
     },
     "execution_count": 8,
     "metadata": {},
     "output_type": "execute_result"
    },
    {
     "data": {
      "image/png": "[encoded data removed]",
      "text/plain": [
       "<Figure size 432x288 with 1 Axes>"
      ]
     },
     "metadata": {},
     "output_type": "display_data"
    }
   ],
   "source": [
    "#plot to see which direction the people with sel goes. \n",
    "df['diff_ENG'] = abs(df['ENG_S11']-df['ENG_PRO'])\n",
    "df['diff_ENG'].hist()"
   ]
  },
  {
   "cell_type": "code",
   "execution_count": 97,
   "metadata": {
    "scrolled": true
   },
   "outputs": [
    {
     "data": {
      "text/plain": [
       "<AxesSubplot:>"
      ]
     },
     "execution_count": 97,
     "metadata": {},
     "output_type": "execute_result"
    },
    {
     "data": {
      "image/png": "[encoded data removed]",
      "text/plain": [
       "<Figure size 432x288 with 1 Axes>"
      ]
     },
     "metadata": {},
     "output_type": "display_data"
    }
   ],
   "source": [
    "#plot to see which direction the people with sel goes. \n",
    "df['diff_SEL_SEL_IHE'] = df['SEL']-df['SEL_IHE']\n",
    "df['diff_SEL_SEL_IHE'].hist()\n",
    "\n",
    "#prøv at lave til stack"
   ]
  },
  {
   "cell_type": "code",
   "execution_count": 113,
   "metadata": {},
   "outputs": [],
   "source": [
    "df_plot = df.groupby(['diff_SEL_SEL_IHE', 'SEL']).size().reset_index().pivot(columns='SEL', index='diff_SEL_SEL_IHE', values=0)"
   ]
  },
  {
   "cell_type": "code",
   "execution_count": 114,
   "metadata": {
    "scrolled": true
   },
   "outputs": [
    {
     "data": {
      "text/plain": [
       "<AxesSubplot:xlabel='diff_SEL_SEL_IHE'>"
      ]
     },
     "execution_count": 114,
     "metadata": {},
     "output_type": "execute_result"
    },
    {
     "data": {
      "text/plain": [
       "<Figure size 640x480 with 0 Axes>"
      ]
     },
     "metadata": {},
     "output_type": "display_data"
    },
    {
     "data": {
      "image/png": "[encoded data removed]",
      "text/plain": [
       "<Figure size 432x288 with 1 Axes>"
      ]
     },
     "metadata": {},
     "output_type": "display_data"
    }
   ],
   "source": [
    "figure(figsize=(8, 6), dpi=80)\n",
    "df_plot.plot(kind='bar', stacked=True)"
   ]
  },
  {
   "cell_type": "code",
   "execution_count": 115,
   "metadata": {},
   "outputs": [
    {
     "data": {
      "text/plain": [
       "2    4742\n",
       "4    4040\n",
       "1    2138\n",
       "3    1491\n",
       "Name: SEL, dtype: int64"
      ]
     },
     "execution_count": 115,
     "metadata": {},
     "output_type": "execute_result"
    }
   ],
   "source": [
    "df.SEL.value_counts()"
   ]
  },
  {
   "cell_type": "code",
   "execution_count": 29,
   "metadata": {},
   "outputs": [
    {
     "data": {
      "text/html": [
       "<div>\n",
       "<style scoped>\n",
       "    .dataframe tbody tr th:only-of-type {\n",
       "        vertical-align: middle;\n",
       "    }\n",
       "\n",
       "    .dataframe tbody tr th {\n",
       "        vertical-align: top;\n",
       "    }\n",
       "\n",
       "    .dataframe thead th {\n",
       "        text-align: right;\n",
       "    }\n",
       "</style>\n",
       "<table border=\"1\" class=\"dataframe\">\n",
       "  <thead>\n",
       "    <tr style=\"text-align: right;\">\n",
       "      <th></th>\n",
       "      <th>SEL</th>\n",
       "      <th>SEL_IHE</th>\n",
       "      <th>size</th>\n",
       "    </tr>\n",
       "  </thead>\n",
       "  <tbody>\n",
       "    <tr>\n",
       "      <th>0</th>\n",
       "      <td>1</td>\n",
       "      <td>1</td>\n",
       "      <td>514</td>\n",
       "    </tr>\n",
       "    <tr>\n",
       "      <th>1</th>\n",
       "      <td>1</td>\n",
       "      <td>2</td>\n",
       "      <td>1444</td>\n",
       "    </tr>\n",
       "    <tr>\n",
       "      <th>2</th>\n",
       "      <td>1</td>\n",
       "      <td>3</td>\n",
       "      <td>79</td>\n",
       "    </tr>\n",
       "    <tr>\n",
       "      <th>3</th>\n",
       "      <td>1</td>\n",
       "      <td>4</td>\n",
       "      <td>101</td>\n",
       "    </tr>\n",
       "    <tr>\n",
       "      <th>4</th>\n",
       "      <td>2</td>\n",
       "      <td>1</td>\n",
       "      <td>447</td>\n",
       "    </tr>\n",
       "  </tbody>\n",
       "</table>\n",
       "</div>"
      ],
      "text/plain": [
       "   SEL  SEL_IHE  size\n",
       "0    1        1   514\n",
       "1    1        2  1444\n",
       "2    1        3    79\n",
       "3    1        4   101\n",
       "4    2        1   447"
      ]
     },
     "execution_count": 29,
     "metadata": {},
     "output_type": "execute_result"
    }
   ],
   "source": [
    "#create column with n occurences of combination, to plot a bubble chart\n",
    "count_series = df.groupby(['SEL', 'SEL_IHE']).size()\n",
    "df2 = count_series.to_frame(name = 'size').reset_index()\n",
    "df2[:5]"
   ]
  },
  {
   "cell_type": "code",
   "execution_count": 26,
   "metadata": {
    "scrolled": true
   },
   "outputs": [
    {
     "data": {
      "text/plain": [
       "<AxesSubplot:xlabel='SEL', ylabel='SEL_IHE'>"
      ]
     },
     "execution_count": 26,
     "metadata": {},
     "output_type": "execute_result"
    },
    {
     "data": {
      "image/png": "[encoded data removed]",
      "text/plain": [
       "<Figure size 432x288 with 1 Axes>"
      ]
     },
     "metadata": {},
     "output_type": "display_data"
    }
   ],
   "source": [
    "# Plotting bubble chart to see number of occurences for each combination\n",
    "sns.scatterplot(data=df2, x=\"SEL\", y=\"SEL_IHE\", size=\"size\",legend=False, sizes=(20, 2000))"
   ]
  },
  {
   "cell_type": "markdown",
   "metadata": {},
   "source": [
    "### Stratum, sisben and socioeconomic level"
   ]
  },
  {
   "cell_type": "code",
   "execution_count": 87,
   "metadata": {},
   "outputs": [],
   "source": [
    "# new columns for stratum and sisben with int values\n",
    "df[\"STRATUM\"].replace({'Stratum 4':4, 'Stratum 5':5, 'Stratum 2':2, 'Stratum 6':6, 'Stratum 3':3,\n",
    "       'Stratum 1':1, '0':0}, inplace=True)\n",
    "\n",
    "df[\"SISBEN\"].replace({'It is not classified by the SISBEN':None, 'Level 2':2, 'Level 1':1, 'Esta clasificada en otro Level del SISBEN':4, 'Level 3':3, '0':0}, inplace=True)\n"
   ]
  },
  {
   "cell_type": "code",
   "execution_count": 91,
   "metadata": {},
   "outputs": [
    {
     "data": {
      "text/plain": [
       "3    4045\n",
       "2    4029\n",
       "1    1709\n",
       "4    1578\n",
       "5     633\n",
       "6     403\n",
       "0      14\n",
       "Name: STRATUM, dtype: int64"
      ]
     },
     "execution_count": 91,
     "metadata": {},
     "output_type": "execute_result"
    }
   ],
   "source": [
    "df[\"STRATUM\"].value_counts()"
   ]
  },
  {
   "cell_type": "code",
   "execution_count": 90,
   "metadata": {},
   "outputs": [
    {
     "data": {
      "text/plain": [
       "0    7555\n",
       "2    2120\n",
       "1    2057\n",
       "3     583\n",
       "4      96\n",
       "Name: SISBEN, dtype: int64"
      ]
     },
     "execution_count": 90,
     "metadata": {},
     "output_type": "execute_result"
    }
   ],
   "source": [
    "df[\"SISBEN\"].value_counts()"
   ]
  },
  {
   "cell_type": "code",
   "execution_count": 89,
   "metadata": {},
   "outputs": [
    {
     "data": {
      "text/plain": [
       "<AxesSubplot:>"
      ]
     },
     "execution_count": 89,
     "metadata": {},
     "output_type": "execute_result"
    },
    {
     "data": {
      "image/png": "[encoded data removed]",
      "text/plain": [
       "<Figure size 432x288 with 2 Axes>"
      ]
     },
     "metadata": {},
     "output_type": "display_data"
    }
   ],
   "source": [
    "corr_df = df[[\"SISBEN\",\"STRATUM\", \"SEL\" ]]\n",
    "sns.heatmap(corr_df.corr())"
   ]
  },
  {
   "cell_type": "code",
   "execution_count": 78,
   "metadata": {},
   "outputs": [
    {
     "data": {
      "text/plain": [
       "0        4\n",
       "1        5\n",
       "2        2\n",
       "3        2\n",
       "4        4\n",
       "        ..\n",
       "12406    2\n",
       "12407    2\n",
       "12408    2\n",
       "12409    3\n",
       "12410    3\n",
       "Name: STRATUM, Length: 12411, dtype: int64"
      ]
     },
     "execution_count": 78,
     "metadata": {},
     "output_type": "execute_result"
    }
   ],
   "source": [
    "df[\"STRATUM\"]"
   ]
  },
  {
   "cell_type": "code",
   "execution_count": null,
   "metadata": {},
   "outputs": [],
   "source": []
  }
 ],
 "metadata": {
  "kernelspec": {
   "display_name": "Python 3 (ipykernel)",
   "language": "python",
   "name": "python3"
  },
  "language_info": {
   "codemirror_mode": {
    "name": "ipython",
    "version": 3
   },
   "file_extension": ".py",
   "mimetype": "text/x-python",
   "name": "python",
   "nbconvert_exporter": "python",
   "pygments_lexer": "ipython3",
   "version": "3.8.5"
  }
 },
 "nbformat": 4,
 "nbformat_minor": 4
}
