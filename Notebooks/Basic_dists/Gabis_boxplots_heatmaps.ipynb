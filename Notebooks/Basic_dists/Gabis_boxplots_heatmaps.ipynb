{
 "cells": [
  {
   "cell_type": "markdown",
   "metadata": {},
   "source": [
    "# Gabi tester datavisualisering "
   ]
  },
  {
   "cell_type": "code",
   "execution_count": 1,
   "metadata": {},
   "outputs": [],
   "source": [
    "import pandas as pd\n",
    "pd.set_option(\"display.max_columns\", None)\n",
    "#import seaborn as sns\n",
    "#sns.set()\n",
    "import matplotlib.pyplot as plt\n",
    "from matplotlib.pyplot import figure\n",
    "import matplotlib as mpl\n",
    "import numpy as np"
   ]
  },
  {
   "cell_type": "code",
   "execution_count": null,
   "metadata": {},
   "outputs": [],
   "source": [
    "def setup_mpl():\n",
    "    mpl.rcParams[\"font.family\"] = \"Helvetica Neue\"\n",
    "    mpl.rcParams[\"font.size\"] = 11\n",
    "    mpl.rcParams[\"figure.figsize\"] = (7,2.5)\n",
    "    mpl.rcParams[\"figure.dpi\"] = 200\n",
    "    # mpl.rcParams[\"lines.linewidth\"] = 1\n",
    "setup_mpl()"
   ]
  },
  {
   "cell_type": "code",
   "execution_count": 2,
   "metadata": {},
   "outputs": [],
   "source": [
    "dfs = pd.read_csv(\"df_standardized_score.csv\")\n",
    "dfs = dfs[dfs.STRATUM != \"0\"] "
   ]
  },
  {
   "cell_type": "code",
   "execution_count": 3,
   "metadata": {},
   "outputs": [],
   "source": [
    "#Start here and load the dataframe\n",
    "df = pd.read_csv(\"dropped_col_df.csv\")\n",
    "df = df[df.STRATUM != \"0\"] #0 corresponds to nan, i.e. removing nans"
   ]
  },
  {
   "cell_type": "code",
   "execution_count": 4,
   "metadata": {},
   "outputs": [
    {
     "name": "stdout",
     "output_type": "stream",
     "text": [
      "<class 'pandas.core.frame.DataFrame'>\n",
      "Int64Index: 12397 entries, 0 to 12410\n",
      "Data columns (total 35 columns):\n",
      " #   Column            Non-Null Count  Dtype \n",
      "---  ------            --------------  ----- \n",
      " 0   Unnamed: 0        12397 non-null  int64 \n",
      " 1   COD_S11           12397 non-null  object\n",
      " 2   GENDER            12397 non-null  object\n",
      " 3   EDU_FATHER        12397 non-null  object\n",
      " 4   EDU_MOTHER        12397 non-null  object\n",
      " 5   OCC_FATHER        12397 non-null  object\n",
      " 6   OCC_MOTHER        12397 non-null  object\n",
      " 7   STRATUM           12397 non-null  object\n",
      " 8   SISBEN            12397 non-null  object\n",
      " 9   PEOPLE_HOUSE      12397 non-null  object\n",
      " 10  REVENUE           12397 non-null  object\n",
      " 11  JOB               12397 non-null  object\n",
      " 12  SCHOOL_NAME       12397 non-null  object\n",
      " 13  SCHOOL_NAT        12397 non-null  object\n",
      " 14  SCHOOL_TYPE       12397 non-null  object\n",
      " 15  MAT_S11           12397 non-null  int64 \n",
      " 16  CR_S11            12397 non-null  int64 \n",
      " 17  CC_S11            12397 non-null  int64 \n",
      " 18  BIO_S11           12397 non-null  int64 \n",
      " 19  ENG_S11           12397 non-null  int64 \n",
      " 20  Cod_SPro          12397 non-null  object\n",
      " 21  UNIVERSITY        12397 non-null  object\n",
      " 22  ACADEMIC_PROGRAM  12397 non-null  object\n",
      " 23  QR_PRO            12397 non-null  int64 \n",
      " 24  CR_PRO            12397 non-null  int64 \n",
      " 25  CC_PRO            12397 non-null  int64 \n",
      " 26  ENG_PRO           12397 non-null  int64 \n",
      " 27  WC_PRO            12397 non-null  int64 \n",
      " 28  FEP_PRO           12397 non-null  int64 \n",
      " 29  G_SC              12397 non-null  int64 \n",
      " 30  PERCENTILE        12397 non-null  int64 \n",
      " 31  2ND_DECILE        12397 non-null  int64 \n",
      " 32  QUARTILE          12397 non-null  int64 \n",
      " 33  SEL               12397 non-null  int64 \n",
      " 34  SEL_IHE           12397 non-null  int64 \n",
      "dtypes: int64(18), object(17)\n",
      "memory usage: 3.4+ MB\n"
     ]
    }
   ],
   "source": [
    "df.info()"
   ]
  },
  {
   "cell_type": "code",
   "execution_count": 5,
   "metadata": {
    "scrolled": true
   },
   "outputs": [
    {
     "data": {
      "text/html": [
       "<div>\n",
       "<style scoped>\n",
       "    .dataframe tbody tr th:only-of-type {\n",
       "        vertical-align: middle;\n",
       "    }\n",
       "\n",
       "    .dataframe tbody tr th {\n",
       "        vertical-align: top;\n",
       "    }\n",
       "\n",
       "    .dataframe thead th {\n",
       "        text-align: right;\n",
       "    }\n",
       "</style>\n",
       "<table border=\"1\" class=\"dataframe\">\n",
       "  <thead>\n",
       "    <tr style=\"text-align: right;\">\n",
       "      <th></th>\n",
       "      <th>Unnamed: 0</th>\n",
       "      <th>COD_S11</th>\n",
       "      <th>GENDER</th>\n",
       "      <th>EDU_FATHER</th>\n",
       "      <th>EDU_MOTHER</th>\n",
       "      <th>OCC_FATHER</th>\n",
       "      <th>OCC_MOTHER</th>\n",
       "      <th>STRATUM</th>\n",
       "      <th>SISBEN</th>\n",
       "      <th>PEOPLE_HOUSE</th>\n",
       "      <th>REVENUE</th>\n",
       "      <th>JOB</th>\n",
       "      <th>SCHOOL_NAME</th>\n",
       "      <th>SCHOOL_NAT</th>\n",
       "      <th>SCHOOL_TYPE</th>\n",
       "      <th>MAT_S11</th>\n",
       "      <th>CR_S11</th>\n",
       "      <th>CC_S11</th>\n",
       "      <th>BIO_S11</th>\n",
       "      <th>ENG_S11</th>\n",
       "      <th>Cod_SPro</th>\n",
       "      <th>UNIVERSITY</th>\n",
       "      <th>ACADEMIC_PROGRAM</th>\n",
       "      <th>QR_PRO</th>\n",
       "      <th>CR_PRO</th>\n",
       "      <th>CC_PRO</th>\n",
       "      <th>ENG_PRO</th>\n",
       "      <th>WC_PRO</th>\n",
       "      <th>FEP_PRO</th>\n",
       "      <th>G_SC</th>\n",
       "      <th>PERCENTILE</th>\n",
       "      <th>2ND_DECILE</th>\n",
       "      <th>QUARTILE</th>\n",
       "      <th>SEL</th>\n",
       "      <th>SEL_IHE</th>\n",
       "    </tr>\n",
       "  </thead>\n",
       "  <tbody>\n",
       "    <tr>\n",
       "      <th>0</th>\n",
       "      <td>0</td>\n",
       "      <td>SB11201210000129</td>\n",
       "      <td>F</td>\n",
       "      <td>Incomplete Professional Education</td>\n",
       "      <td>Complete technique or technology</td>\n",
       "      <td>Technical or professional level employee</td>\n",
       "      <td>Home</td>\n",
       "      <td>Stratum 4</td>\n",
       "      <td>It is not classified by the SISBEN</td>\n",
       "      <td>Three</td>\n",
       "      <td>Between 1 and less than 2 LMMW</td>\n",
       "      <td>No</td>\n",
       "      <td>COL NUEVO CAMBRIDGE</td>\n",
       "      <td>PRIVATE</td>\n",
       "      <td>ACADEMIC</td>\n",
       "      <td>71</td>\n",
       "      <td>81</td>\n",
       "      <td>61</td>\n",
       "      <td>86</td>\n",
       "      <td>82</td>\n",
       "      <td>EK201830142293</td>\n",
       "      <td>UNIVERSIDAD DE SANTANDER - UDES-BUCARAMANGA</td>\n",
       "      <td>INDUSTRIAL ENGINEERING</td>\n",
       "      <td>71</td>\n",
       "      <td>93</td>\n",
       "      <td>71</td>\n",
       "      <td>93</td>\n",
       "      <td>79</td>\n",
       "      <td>181</td>\n",
       "      <td>180</td>\n",
       "      <td>91</td>\n",
       "      <td>5</td>\n",
       "      <td>4</td>\n",
       "      <td>2</td>\n",
       "      <td>2</td>\n",
       "    </tr>\n",
       "    <tr>\n",
       "      <th>1</th>\n",
       "      <td>1</td>\n",
       "      <td>SB11201210000137</td>\n",
       "      <td>F</td>\n",
       "      <td>Complete Secundary</td>\n",
       "      <td>Complete professional education</td>\n",
       "      <td>Entrepreneur</td>\n",
       "      <td>Independent professional</td>\n",
       "      <td>Stratum 5</td>\n",
       "      <td>It is not classified by the SISBEN</td>\n",
       "      <td>Three</td>\n",
       "      <td>10 or more LMMW</td>\n",
       "      <td>No</td>\n",
       "      <td>COL LA QUINTA DEL PUENTE</td>\n",
       "      <td>PRIVATE</td>\n",
       "      <td>ACADEMIC</td>\n",
       "      <td>83</td>\n",
       "      <td>75</td>\n",
       "      <td>66</td>\n",
       "      <td>100</td>\n",
       "      <td>88</td>\n",
       "      <td>EK201830002633</td>\n",
       "      <td>UNIVERSIDAD DE LOS ANDES-BOGOTÁ D.C.</td>\n",
       "      <td>INDUSTRIAL ENGINEERING</td>\n",
       "      <td>97</td>\n",
       "      <td>38</td>\n",
       "      <td>86</td>\n",
       "      <td>98</td>\n",
       "      <td>78</td>\n",
       "      <td>201</td>\n",
       "      <td>182</td>\n",
       "      <td>92</td>\n",
       "      <td>5</td>\n",
       "      <td>4</td>\n",
       "      <td>4</td>\n",
       "      <td>4</td>\n",
       "    </tr>\n",
       "    <tr>\n",
       "      <th>2</th>\n",
       "      <td>2</td>\n",
       "      <td>SB11201210005154</td>\n",
       "      <td>M</td>\n",
       "      <td>Not sure</td>\n",
       "      <td>Not sure</td>\n",
       "      <td>Independent</td>\n",
       "      <td>Home</td>\n",
       "      <td>Stratum 2</td>\n",
       "      <td>Level 2</td>\n",
       "      <td>Five</td>\n",
       "      <td>Between 1 and less than 2 LMMW</td>\n",
       "      <td>Yes, 20 hours or more per week</td>\n",
       "      <td>CENT EDUC PAULO FREIRE                        ...</td>\n",
       "      <td>PRIVATE</td>\n",
       "      <td>ACADEMIC</td>\n",
       "      <td>52</td>\n",
       "      <td>49</td>\n",
       "      <td>38</td>\n",
       "      <td>46</td>\n",
       "      <td>42</td>\n",
       "      <td>EK201830196510</td>\n",
       "      <td>UNIVERSIDAD NACIONAL ABIERTA Y A DISTANCIA UNA...</td>\n",
       "      <td>ELECTRONIC ENGINEERING</td>\n",
       "      <td>17</td>\n",
       "      <td>1</td>\n",
       "      <td>18</td>\n",
       "      <td>43</td>\n",
       "      <td>22</td>\n",
       "      <td>113</td>\n",
       "      <td>113</td>\n",
       "      <td>7</td>\n",
       "      <td>1</td>\n",
       "      <td>1</td>\n",
       "      <td>1</td>\n",
       "      <td>1</td>\n",
       "    </tr>\n",
       "    <tr>\n",
       "      <th>3</th>\n",
       "      <td>3</td>\n",
       "      <td>SB11201210007504</td>\n",
       "      <td>F</td>\n",
       "      <td>Not sure</td>\n",
       "      <td>Not sure</td>\n",
       "      <td>Other occupation</td>\n",
       "      <td>Independent</td>\n",
       "      <td>Stratum 2</td>\n",
       "      <td>It is not classified by the SISBEN</td>\n",
       "      <td>Three</td>\n",
       "      <td>Between 2 and less than 3 LMMW</td>\n",
       "      <td>No</td>\n",
       "      <td>LICEO ANDINO</td>\n",
       "      <td>PRIVATE</td>\n",
       "      <td>ACADEMIC</td>\n",
       "      <td>56</td>\n",
       "      <td>55</td>\n",
       "      <td>51</td>\n",
       "      <td>64</td>\n",
       "      <td>73</td>\n",
       "      <td>EK201830031665</td>\n",
       "      <td>UNIVERSIDAD CATOLICA DE PEREIRA-PEREIRA</td>\n",
       "      <td>INDUSTRIAL ENGINEERING</td>\n",
       "      <td>65</td>\n",
       "      <td>35</td>\n",
       "      <td>76</td>\n",
       "      <td>80</td>\n",
       "      <td>48</td>\n",
       "      <td>137</td>\n",
       "      <td>157</td>\n",
       "      <td>67</td>\n",
       "      <td>4</td>\n",
       "      <td>3</td>\n",
       "      <td>2</td>\n",
       "      <td>2</td>\n",
       "    </tr>\n",
       "    <tr>\n",
       "      <th>4</th>\n",
       "      <td>4</td>\n",
       "      <td>SB11201210007548</td>\n",
       "      <td>M</td>\n",
       "      <td>Complete professional education</td>\n",
       "      <td>Complete professional education</td>\n",
       "      <td>Executive</td>\n",
       "      <td>Home</td>\n",
       "      <td>Stratum 4</td>\n",
       "      <td>It is not classified by the SISBEN</td>\n",
       "      <td>One</td>\n",
       "      <td>Between 7 and less than 10 LMMW</td>\n",
       "      <td>No</td>\n",
       "      <td>LIC TALLER SAN MIGUEL</td>\n",
       "      <td>PRIVATE</td>\n",
       "      <td>ACADEMIC</td>\n",
       "      <td>80</td>\n",
       "      <td>65</td>\n",
       "      <td>76</td>\n",
       "      <td>85</td>\n",
       "      <td>92</td>\n",
       "      <td>EK201830130461</td>\n",
       "      <td>UNIVERSIDAD INDUSTRIAL DE SANTANDER-BUCARAMANGA</td>\n",
       "      <td>INDUSTRIAL ENGINEERING</td>\n",
       "      <td>94</td>\n",
       "      <td>94</td>\n",
       "      <td>98</td>\n",
       "      <td>100</td>\n",
       "      <td>71</td>\n",
       "      <td>189</td>\n",
       "      <td>198</td>\n",
       "      <td>98</td>\n",
       "      <td>5</td>\n",
       "      <td>4</td>\n",
       "      <td>4</td>\n",
       "      <td>2</td>\n",
       "    </tr>\n",
       "  </tbody>\n",
       "</table>\n",
       "</div>"
      ],
      "text/plain": [
       "   Unnamed: 0           COD_S11 GENDER                         EDU_FATHER  \\\n",
       "0           0  SB11201210000129      F  Incomplete Professional Education   \n",
       "1           1  SB11201210000137      F                 Complete Secundary   \n",
       "2           2  SB11201210005154      M                           Not sure   \n",
       "3           3  SB11201210007504      F                           Not sure   \n",
       "4           4  SB11201210007548      M    Complete professional education   \n",
       "\n",
       "                         EDU_MOTHER                                OCC_FATHER  \\\n",
       "0  Complete technique or technology  Technical or professional level employee   \n",
       "1   Complete professional education                             Entrepreneur    \n",
       "2                          Not sure                               Independent   \n",
       "3                          Not sure                          Other occupation   \n",
       "4   Complete professional education                                 Executive   \n",
       "\n",
       "                 OCC_MOTHER    STRATUM                              SISBEN  \\\n",
       "0                      Home  Stratum 4  It is not classified by the SISBEN   \n",
       "1  Independent professional  Stratum 5  It is not classified by the SISBEN   \n",
       "2                      Home  Stratum 2                             Level 2   \n",
       "3               Independent  Stratum 2  It is not classified by the SISBEN   \n",
       "4                      Home  Stratum 4  It is not classified by the SISBEN   \n",
       "\n",
       "  PEOPLE_HOUSE                          REVENUE  \\\n",
       "0        Three   Between 1 and less than 2 LMMW   \n",
       "1        Three                  10 or more LMMW   \n",
       "2         Five   Between 1 and less than 2 LMMW   \n",
       "3        Three   Between 2 and less than 3 LMMW   \n",
       "4          One  Between 7 and less than 10 LMMW   \n",
       "\n",
       "                              JOB  \\\n",
       "0                              No   \n",
       "1                              No   \n",
       "2  Yes, 20 hours or more per week   \n",
       "3                              No   \n",
       "4                              No   \n",
       "\n",
       "                                         SCHOOL_NAME SCHOOL_NAT SCHOOL_TYPE  \\\n",
       "0                                COL NUEVO CAMBRIDGE    PRIVATE    ACADEMIC   \n",
       "1                           COL LA QUINTA DEL PUENTE    PRIVATE    ACADEMIC   \n",
       "2  CENT EDUC PAULO FREIRE                        ...    PRIVATE    ACADEMIC   \n",
       "3                                       LICEO ANDINO    PRIVATE    ACADEMIC   \n",
       "4                              LIC TALLER SAN MIGUEL    PRIVATE    ACADEMIC   \n",
       "\n",
       "   MAT_S11  CR_S11  CC_S11  BIO_S11  ENG_S11        Cod_SPro  \\\n",
       "0       71      81      61       86       82  EK201830142293   \n",
       "1       83      75      66      100       88  EK201830002633   \n",
       "2       52      49      38       46       42  EK201830196510   \n",
       "3       56      55      51       64       73  EK201830031665   \n",
       "4       80      65      76       85       92  EK201830130461   \n",
       "\n",
       "                                          UNIVERSITY        ACADEMIC_PROGRAM  \\\n",
       "0        UNIVERSIDAD DE SANTANDER - UDES-BUCARAMANGA  INDUSTRIAL ENGINEERING   \n",
       "1               UNIVERSIDAD DE LOS ANDES-BOGOTÁ D.C.  INDUSTRIAL ENGINEERING   \n",
       "2  UNIVERSIDAD NACIONAL ABIERTA Y A DISTANCIA UNA...  ELECTRONIC ENGINEERING   \n",
       "3            UNIVERSIDAD CATOLICA DE PEREIRA-PEREIRA  INDUSTRIAL ENGINEERING   \n",
       "4    UNIVERSIDAD INDUSTRIAL DE SANTANDER-BUCARAMANGA  INDUSTRIAL ENGINEERING   \n",
       "\n",
       "   QR_PRO  CR_PRO  CC_PRO  ENG_PRO  WC_PRO  FEP_PRO  G_SC  PERCENTILE  \\\n",
       "0      71      93      71       93      79      181   180          91   \n",
       "1      97      38      86       98      78      201   182          92   \n",
       "2      17       1      18       43      22      113   113           7   \n",
       "3      65      35      76       80      48      137   157          67   \n",
       "4      94      94      98      100      71      189   198          98   \n",
       "\n",
       "   2ND_DECILE  QUARTILE  SEL  SEL_IHE  \n",
       "0           5         4    2        2  \n",
       "1           5         4    4        4  \n",
       "2           1         1    1        1  \n",
       "3           4         3    2        2  \n",
       "4           5         4    4        2  "
      ]
     },
     "execution_count": 5,
     "metadata": {},
     "output_type": "execute_result"
    }
   ],
   "source": [
    "df.head()"
   ]
  },
  {
   "cell_type": "code",
   "execution_count": null,
   "metadata": {},
   "outputs": [],
   "source": [
    "df.SEL_IHE.value_counts()"
   ]
  },
  {
   "cell_type": "code",
   "execution_count": null,
   "metadata": {},
   "outputs": [],
   "source": [
    "# Men and women college grades average histograms\n",
    "# plt.figure(figsize=(8,6))\n",
    "men = df[df.GENDER=='M'][['GENDER','COL_GRADE_AVG']]\n",
    "women = df[df.GENDER=='F'][['GENDER','COL_GRADE_AVG']]\n",
    "fig,ax = plt.subplots()\n",
    "plt.hist([women.COL_GRADE_AVG, men.COL_GRADE_AVG], 31, histtype='barstacked', density=False, alpha=0.4, edgecolor='none', label=['Females','Males'])\n",
    "#TODO legend added\n",
    "\n",
    "plt.xlabel(\"Average grades in highschool\", size=14)\n",
    "plt.legend()\n",
    "plt.ylabel(\"Count\", size=14)\n",
    "plt.title(\"College grades distributions of females and males\")\n",
    "plt.legend(loc='upper right')\n"
   ]
  },
  {
   "cell_type": "markdown",
   "metadata": {},
   "source": [
    "## Normalization of data"
   ]
  },
  {
   "cell_type": "markdown",
   "metadata": {},
   "source": [
    "#### Average score generation"
   ]
  },
  {
   "cell_type": "code",
   "execution_count": null,
   "metadata": {},
   "outputs": [],
   "source": [
    "df[\"HI_GRADE_AVG\"] = df[[\"CR_S11\", \"CC_S11\", \"ENG_S11\"]].mean(axis=1)\n",
    "df[\"COL_GRADE_AVG\"] = df[[\"CR_PRO\", \"CC_PRO\", \"ENG_PRO\"]].mean(axis=1)"
   ]
  },
  {
   "cell_type": "markdown",
   "metadata": {},
   "source": [
    "#### Gender distribution"
   ]
  },
  {
   "cell_type": "code",
   "execution_count": null,
   "metadata": {},
   "outputs": [],
   "source": [
    "df[[\"GENDER\", \"HI_GRADE_AVG\"]].groupby([\"GENDER\"]).mean()"
   ]
  },
  {
   "cell_type": "code",
   "execution_count": null,
   "metadata": {},
   "outputs": [],
   "source": [
    "df[[\"GENDER\", \"HI_GRADE_AVG\"]].groupby([\"GENDER\"]).mean()\n",
    "df[[\"GENDER\", \"Unnamed: 0\"]].groupby([\"GENDER\"]).count()"
   ]
  },
  {
   "cell_type": "markdown",
   "metadata": {},
   "source": [
    "#### Socieconomic levels (\"Stratum\") distribution"
   ]
  },
  {
   "cell_type": "code",
   "execution_count": null,
   "metadata": {},
   "outputs": [],
   "source": [
    "df[[\"SEL\", \"STRATUM\", \"Unnamed: 0\"]].groupby([\"SEL\",\"STRATUM\"]).count()"
   ]
  },
  {
   "cell_type": "code",
   "execution_count": null,
   "metadata": {},
   "outputs": [],
   "source": [
    "# Vi holder os til de klasser der er\n",
    "\n",
    "strat_df = df[[\"STRATUM\", \"Unnamed: 0\"]].groupby([\"STRATUM\"]).count()\n",
    "strat_df[\"n_strat_ratio\"] = strat_df[\"Unnamed: 0\"].apply(lambda x: (x/(len(df))*100))\n",
    "strat_df"
   ]
  },
  {
   "cell_type": "code",
   "execution_count": null,
   "metadata": {},
   "outputs": [],
   "source": [
    "df[[\"STRATUM\", \"HI_GRADE_AVG\"]].groupby([\"STRATUM\"]).mean()"
   ]
  },
  {
   "cell_type": "markdown",
   "metadata": {},
   "source": [
    "#### Average both Gender and Socioeconomic level"
   ]
  },
  {
   "cell_type": "code",
   "execution_count": null,
   "metadata": {},
   "outputs": [],
   "source": [
    "df[[\"STRATUM\",\"GENDER\", \"HI_GRADE_AVG\"]].groupby([\"STRATUM\", \"GENDER\"]).mean()"
   ]
  },
  {
   "cell_type": "markdown",
   "metadata": {},
   "source": [
    "#### Number of individuals by gender&socioeconomic level"
   ]
  },
  {
   "cell_type": "code",
   "execution_count": null,
   "metadata": {},
   "outputs": [],
   "source": [
    "df_gen_soc = df[[\"STRATUM\",\"GENDER\", \"Unnamed: 0\"]].groupby([\"STRATUM\", \"GENDER\"]).count()\n",
    "df_gen_soc"
   ]
  },
  {
   "cell_type": "code",
   "execution_count": null,
   "metadata": {},
   "outputs": [],
   "source": [
    "#plot: stacked bar chart"
   ]
  },
  {
   "cell_type": "code",
   "execution_count": null,
   "metadata": {},
   "outputs": [],
   "source": [
    "df_gen_soc2 = df.groupby([\"STRATUM\", \"GENDER\"]).size().reset_index().pivot(columns='GENDER', index='STRATUM', values=0)\n",
    "df_gen_soc2\n"
   ]
  },
  {
   "cell_type": "code",
   "execution_count": null,
   "metadata": {},
   "outputs": [],
   "source": [
    "figure(figsize=(6, 4), dpi=60)\n",
    "df_gen_soc2.plot(kind='bar', stacked=True)\n",
    "plt.title(\"Number of individuals by gender&socioeconomic level\")\n",
    "plt.ylabel(\"freq\")\n",
    "plt.xlabel(\"Stratum\")"
   ]
  },
  {
   "cell_type": "markdown",
   "metadata": {},
   "source": [
    "### Distribution of grades by gender&socio-economic level (before and after college)"
   ]
  },
  {
   "cell_type": "code",
   "execution_count": null,
   "metadata": {},
   "outputs": [],
   "source": [
    "df.COL_GRADE_AVG"
   ]
  },
  {
   "cell_type": "code",
   "execution_count": null,
   "metadata": {},
   "outputs": [],
   "source": [
    "df_gen_soc_hc = df[['HI_GRADE_AVG', 'COL_GRADE_AVG', 'GENDER', 'STRATUM']]\n",
    "df_gen_soc_hc.head()"
   ]
  },
  {
   "cell_type": "code",
   "execution_count": null,
   "metadata": {},
   "outputs": [],
   "source": [
    "df_use = df_gen_soc_hc.groupby([\"STRATUM\", \"GENDER\"]).mean()\n",
    "df_use[\"DIFF\"] = df_use[\"COL_GRADE_AVG\"]-df_use[\"HI_GRADE_AVG\"]\n",
    "df_use.sort_index(ascending=False)"
   ]
  },
  {
   "cell_type": "code",
   "execution_count": null,
   "metadata": {},
   "outputs": [],
   "source": [
    "df_gen_soc_hc = df_gen_soc_hc.rename(columns = {\"HI_GRADE_AVG\":\"HI\", \"COL_GRADE_AVG\":\"COL\"})"
   ]
  },
  {
   "cell_type": "markdown",
   "metadata": {},
   "source": [
    "Tjek denne side: https://www.simplypsychology.org/boxplots.html"
   ]
  },
  {
   "cell_type": "code",
   "execution_count": null,
   "metadata": {},
   "outputs": [],
   "source": [
    "# plot af badass boxplot\n",
    "\n",
    "df_try = pd.melt(df_gen_soc_hc, id_vars=['GENDER', 'STRATUM'])\n",
    "df_try = df_try.rename(columns={\"variable\":\"Average_grade\"})\n",
    "\n",
    "b = sns.catplot(data=df_try, x='STRATUM', y='value', \n",
    "               hue='GENDER', col='Average_grade',\n",
    "               kind='box', legend=True, order=[\"Stratum 1\", \"Stratum 2\", \"Stratum 3\", \"Stratum 4\", \"Stratum 5\", \"Stratum 6\"])\n",
    "b.fig.subplots_adjust(top=.8)\n",
    "b.fig.suptitle('Boxplot of Average Grade Before and After College')\n",
    "\n",
    "\n",
    "plt.show()"
   ]
  },
  {
   "cell_type": "markdown",
   "metadata": {},
   "source": [
    "### Matrix showing the Pearson correlation between grades (before), grades (after), gender, socio-economic level"
   ]
  },
  {
   "cell_type": "code",
   "execution_count": null,
   "metadata": {},
   "outputs": [],
   "source": [
    "df_F = df_try[df_try.GENDER ==\"F\"]\n",
    "df_M = df_try[df_try.GENDER ==\"M\"]\n",
    "df_F_HI = df_F[df_F.Average_grade ==\"HI\"]\n",
    "df_F_COL = df_F[df_F.Average_grade ==\"COL\"]\n",
    "df_M_HI = df_M[df_M.Average_grade ==\"HI\"]\n",
    "df_M_COL = df_M[df_M.Average_grade ==\"COL\"]\n"
   ]
  },
  {
   "cell_type": "code",
   "execution_count": null,
   "metadata": {},
   "outputs": [],
   "source": [
    "def xdef(x,s):\n",
    "    if x[0] == s:\n",
    "        return x[1]\n",
    "    else:\n",
    "        return 0\n",
    "    \n",
    "# test = df_F_HI[[\"STRATUM\", \"value\"]][:10].apply(lambda x: xdef, axis=1)"
   ]
  },
  {
   "cell_type": "code",
   "execution_count": null,
   "metadata": {},
   "outputs": [],
   "source": [
    "strats = [\"Stratum 1\", \"Stratum 2\", \"Stratum 3\", \"Stratum 4\", \"Stratum 5\", \"Stratum 6\"]\n",
    "for s in strats:\n",
    "    df_F_HI[\"df_F_HI_{}\".format(s)] = df_F_HI[[\"STRATUM\", \"value\"]].apply(lambda x: xdef(x,s), axis=1)\n",
    "    df_F_COL[\"df_F_COL_{}\".format(s)] = df_F_COL[[\"STRATUM\", \"value\"]].apply(lambda x: xdef(x,s), axis=1)\n",
    "    df_M_HI[\"df_M_HI_{}\".format(s)] = df_M_HI[[\"STRATUM\", \"value\"]].apply(lambda x: xdef(x,s), axis=1)\n",
    "    df_M_COL[\"df_M_COL_{}\".format(s)] = df_M_COL[[\"STRATUM\", \"value\"]].apply(lambda x: xdef(x,s), axis=1)\n",
    "\n",
    "    "
   ]
  },
  {
   "cell_type": "code",
   "execution_count": null,
   "metadata": {},
   "outputs": [],
   "source": [
    "strats = [\"Stratum 1\", \"Stratum 2\", \"Stratum 3\", \"Stratum 4\", \"Stratum 5\", \"Stratum 6\"]\n",
    "for s in strats:\n",
    "    df_F_HI[\"df_F_HI_{}\".format(s)] = df_F_HI[df_F_HI.STRATUM == s].value\n",
    "    df_F_COL[\"df_F_COL_{}\".format(s)] = df_F_COL[df_F_COL.STRATUM == s].value\n",
    "    df_M_HI[\"df_M_HI_{}\".format(s)] = df_M_HI[df_M_HI.STRATUM == s].value\n",
    "    df_M_COL[\"df_M_COL_{}\".format(s)] = df_M_COL[df_M_COL.STRATUM == s].value\n"
   ]
  },
  {
   "cell_type": "code",
   "execution_count": null,
   "metadata": {},
   "outputs": [],
   "source": [
    "df_F_HI"
   ]
  },
  {
   "cell_type": "code",
   "execution_count": null,
   "metadata": {},
   "outputs": [],
   "source": [
    "strats = [\"Stratum 1\", \"Stratum 2\", \"Stratum 3\", \"Stratum 4\", \"Stratum 5\", \"Stratum 6\"]\n",
    "for s in strats:\n",
    "    df_F_HI[\"df_F_HI_{}\".format(s)] = df_F_HI[[\"STRATUM\", \"value\"]].apply(lambda x: xdef(x,s), axis=1)\n",
    "    df_F_COL[\"df_F_COL_{}\".format(s)] = df_F_COL[[\"STRATUM\", \"value\"]].apply(lambda x: xdef(x,s), axis=1)\n",
    "    df_M_HI[\"df_M_HI_{}\".format(s)] = df_M_HI[[\"STRATUM\", \"value\"]].apply(lambda x: xdef(x,s), axis=1)\n",
    "    df_M_COL[\"df_M_COL_{}\".format(s)] = df_M_COL[[\"STRATUM\", \"value\"]].apply(lambda x: xdef(x,s), axis=1)\n",
    "\n",
    "    \n",
    "    \n",
    "    "
   ]
  },
  {
   "cell_type": "code",
   "execution_count": null,
   "metadata": {},
   "outputs": [],
   "source": [
    "df_F_COL"
   ]
  },
  {
   "cell_type": "code",
   "execution_count": null,
   "metadata": {},
   "outputs": [],
   "source": [
    "#Merging\n",
    "result_df = pd.concat([df_F_HI.iloc[:,4:], df_F_COL.iloc[:,4:], df_M_HI.iloc[:,4:], df_M_COL.iloc[:,4:]], axis=1)"
   ]
  },
  {
   "cell_type": "code",
   "execution_count": null,
   "metadata": {},
   "outputs": [],
   "source": [
    "result_df"
   ]
  },
  {
   "cell_type": "code",
   "execution_count": null,
   "metadata": {},
   "outputs": [],
   "source": [
    "sns.heatmap(result_df.corr());"
   ]
  },
  {
   "cell_type": "markdown",
   "metadata": {},
   "source": [
    "### Split up pearson correlation:\n",
    "between grades (before), grades (after), gender, socio-economic level"
   ]
  },
  {
   "cell_type": "code",
   "execution_count": null,
   "metadata": {},
   "outputs": [],
   "source": [
    "df_use = df_gen_soc_hc.copy()\n",
    "df_use"
   ]
  },
  {
   "cell_type": "code",
   "execution_count": null,
   "metadata": {},
   "outputs": [],
   "source": [
    "#new df with new cols \n",
    "\n",
    "df_F = df_use[df_use.GENDER == \"F\"]\n",
    "df_M = df_use[df_use.GENDER == \"M\"]\n",
    "df_M = df_M.rename(columns={\"HI\":\"HI_M\", \"COL\":\"COL_M\"})\n",
    "df_F = df_F.rename(columns={\"HI\":\"HI_F\", \"COL\":\"COL_F\"})\n",
    "\n",
    "df_F = df_F.reset_index(drop=True)\n",
    "df_M = df_M.reset_index(drop=True)\n",
    "\n",
    "\n",
    "df_F = df_F.drop([\"GENDER\", \"STRATUM\"], axis=1)\n",
    "df_M = df_M.drop([\"GENDER\", \"STRATUM\"], axis=1)"
   ]
  },
  {
   "cell_type": "code",
   "execution_count": null,
   "metadata": {},
   "outputs": [],
   "source": [
    "# Merge the two dfs\n",
    "df_FM = pd.concat([df_F,df_M], axis=1)"
   ]
  },
  {
   "cell_type": "code",
   "execution_count": null,
   "metadata": {},
   "outputs": [],
   "source": [
    "df_FM"
   ]
  },
  {
   "cell_type": "code",
   "execution_count": null,
   "metadata": {},
   "outputs": [],
   "source": [
    "sns.heatmap(df_FM.corr(method=\"pearson\"), vmin=0.0, vmax=1.0,  annot = True);"
   ]
  },
  {
   "cell_type": "markdown",
   "metadata": {},
   "source": [
    "USE: https://stackoverflow.com/questions/60731457/how-to-easily-group-values-to-improve-heatmap-visualization\n"
   ]
  },
  {
   "cell_type": "markdown",
   "metadata": {},
   "source": [
    "### For startums"
   ]
  },
  {
   "cell_type": "code",
   "execution_count": null,
   "metadata": {},
   "outputs": [],
   "source": [
    "df_S1 = df_use[df_use.STRATUM == \"Stratum 1\"]\n",
    "df_S2 = df_use[df_use.STRATUM == \"Stratum 2\"]\n",
    "df_S3 = df_use[df_use.STRATUM == \"Stratum 3\"]\n",
    "df_S4 = df_use[df_use.STRATUM == \"Stratum 4\"]\n",
    "df_S5 = df_use[df_use.STRATUM == \"Stratum 5\"]\n",
    "df_S6 = df_use[df_use.STRATUM == \"Stratum 6\"]\n",
    "\n",
    "\n",
    "df_S1 = df_S1.rename(columns={\"HI\":\"HI_S1\", \"COL\":\"COL_S1\"})\n",
    "df_S2 = df_S2.rename(columns={\"HI\":\"HI_S2\", \"COL\":\"COL_S2\"})\n",
    "df_S3 = df_S3.rename(columns={\"HI\":\"HI_S3\", \"COL\":\"COL_S3\"})\n",
    "df_S4 = df_S4.rename(columns={\"HI\":\"HI_S4\", \"COL\":\"COL_S4\"})\n",
    "df_S5 = df_S5.rename(columns={\"HI\":\"HI_S5\", \"COL\":\"COL_S5\"})\n",
    "df_S6 = df_S6.rename(columns={\"HI\":\"HI_S6\", \"COL\":\"COL_S6\"})\n"
   ]
  },
  {
   "cell_type": "code",
   "execution_count": null,
   "metadata": {},
   "outputs": [],
   "source": [
    "df_S1 = df_S1.reset_index(drop=True)\n",
    "df_S2 = df_S2.reset_index(drop=True)\n",
    "df_S3 = df_S3.reset_index(drop=True)\n",
    "df_S4 = df_S4.reset_index(drop=True)\n",
    "df_S5 = df_S5.reset_index(drop=True)\n",
    "df_S6 = df_S6.reset_index(drop=True)\n",
    "\n",
    "\n",
    "df_S1 = df_S1.drop([\"GENDER\", \"STRATUM\"], axis=1)\n",
    "df_S2 = df_S2.drop([\"GENDER\", \"STRATUM\"], axis=1)\n",
    "df_S3 = df_S3.drop([\"GENDER\", \"STRATUM\"], axis=1)\n",
    "df_S4 = df_S4.drop([\"GENDER\", \"STRATUM\"], axis=1)\n",
    "df_S5 = df_S5.drop([\"GENDER\", \"STRATUM\"], axis=1)\n",
    "df_S6 = df_S6.drop([\"GENDER\", \"STRATUM\"], axis=1)\n"
   ]
  },
  {
   "cell_type": "code",
   "execution_count": null,
   "metadata": {},
   "outputs": [],
   "source": [
    "# Merge all the stratum dfs\n",
    "df_St = pd.concat([df_S1, df_S2, df_S3, df_S4, df_S5 ,df_S6], axis=1)"
   ]
  },
  {
   "cell_type": "code",
   "execution_count": null,
   "metadata": {},
   "outputs": [],
   "source": [
    "figure(figsize=(12, 10), dpi=80)\n",
    "\n",
    "sns.heatmap(df_St.corr(method=\"pearson\"), vmin=0.0, vmax=1.0, annot = True);"
   ]
  },
  {
   "cell_type": "code",
   "execution_count": null,
   "metadata": {},
   "outputs": [],
   "source": [
    "sns.heatmap(df_use[[\"HI\", \"COL\"]].corr(method=\"pearson\"), vmin=0.0, vmax=1.0, annot = True);"
   ]
  },
  {
   "cell_type": "markdown",
   "metadata": {},
   "source": [
    "#### For each university's SEL_IHE,\n",
    "plot distribution"
   ]
  },
  {
   "cell_type": "code",
   "execution_count": null,
   "metadata": {},
   "outputs": [],
   "source": [
    "df_group = df[[\"SEL_IHE\", \"CR_PRO\", \"CC_PRO\", \"ENG_PRO\"]].groupby([\"SEL_IHE\"]).mean()"
   ]
  },
  {
   "cell_type": "code",
   "execution_count": null,
   "metadata": {},
   "outputs": [],
   "source": [
    "df_group.head()"
   ]
  },
  {
   "cell_type": "markdown",
   "metadata": {},
   "source": [
    "#### Overall correlation, to see which data to look for"
   ]
  },
  {
   "cell_type": "code",
   "execution_count": null,
   "metadata": {},
   "outputs": [],
   "source": [
    "df['Cod_SPro'].nunique()"
   ]
  },
  {
   "cell_type": "code",
   "execution_count": null,
   "metadata": {},
   "outputs": [],
   "source": [
    "df['SEL_IHE'].value_counts()"
   ]
  },
  {
   "cell_type": "code",
   "execution_count": null,
   "metadata": {
    "scrolled": false
   },
   "outputs": [],
   "source": [
    "figure(figsize=(8, 6), dpi=80)\n",
    "sns.heatmap(df.corr());"
   ]
  },
  {
   "cell_type": "markdown",
   "metadata": {},
   "source": [
    "## New correlation heatmap - Lauras version\n",
    "Make pearson correlation of two columns. Create nested for loop to go through combinations of the four columns and add pearson array to 4x4 matrix. End with (16/2)-4 size heatmap by applying imshow().\n",
    "\n",
    "Scipys pearson correlation has the output:  Pearson correlation coefficient and p-value for testing non-correlation."
   ]
  },
  {
   "cell_type": "markdown",
   "metadata": {},
   "source": [
    "## New correlations - our version\n",
    "Point biserial: https://en.wikipedia.org/wiki/Point-biserial_correlation_coefficient\n",
    "https://towardsdatascience.com/point-biserial-correlation-with-python-f7cd591bd3b1"
   ]
  },
  {
   "cell_type": "code",
   "execution_count": 6,
   "metadata": {},
   "outputs": [],
   "source": [
    "dfs\n",
    "dfs_use = pd.get_dummies(dfs,columns=['STRATUM'])\n",
    "dfs_use = pd.get_dummies(dfs_use,columns=['GENDER'])"
   ]
  },
  {
   "cell_type": "code",
   "execution_count": 7,
   "metadata": {},
   "outputs": [
    {
     "data": {
      "text/html": [
       "<div>\n",
       "<style scoped>\n",
       "    .dataframe tbody tr th:only-of-type {\n",
       "        vertical-align: middle;\n",
       "    }\n",
       "\n",
       "    .dataframe tbody tr th {\n",
       "        vertical-align: top;\n",
       "    }\n",
       "\n",
       "    .dataframe thead th {\n",
       "        text-align: right;\n",
       "    }\n",
       "</style>\n",
       "<table border=\"1\" class=\"dataframe\">\n",
       "  <thead>\n",
       "    <tr style=\"text-align: right;\">\n",
       "      <th></th>\n",
       "      <th>Unnamed: 0</th>\n",
       "      <th>CR_S11</th>\n",
       "      <th>CC_S11</th>\n",
       "      <th>ENG_S11</th>\n",
       "      <th>CR_PRO</th>\n",
       "      <th>CC_PRO</th>\n",
       "      <th>ENG_PRO</th>\n",
       "      <th>COL_GRADE_AVG</th>\n",
       "      <th>HI_GRADE_AVG</th>\n",
       "      <th>GENDER_bin</th>\n",
       "      <th>STRATUM_Stratum_1</th>\n",
       "      <th>STRATUM_Stratum_2</th>\n",
       "      <th>STRATUM_Stratum_3</th>\n",
       "      <th>STRATUM_Stratum_4</th>\n",
       "      <th>STRATUM_Stratum_5</th>\n",
       "      <th>STRATUM_Stratum_6</th>\n",
       "      <th>GENDER_F</th>\n",
       "      <th>GENDER_M</th>\n",
       "    </tr>\n",
       "  </thead>\n",
       "  <tbody>\n",
       "    <tr>\n",
       "      <th>0</th>\n",
       "      <td>0</td>\n",
       "      <td>2.016939</td>\n",
       "      <td>0.029131</td>\n",
       "      <td>1.412733</td>\n",
       "      <td>1.113281</td>\n",
       "      <td>0.407467</td>\n",
       "      <td>1.000257</td>\n",
       "      <td>0.995599</td>\n",
       "      <td>1.371666</td>\n",
       "      <td>1.208684</td>\n",
       "      <td>0</td>\n",
       "      <td>0</td>\n",
       "      <td>0</td>\n",
       "      <td>1</td>\n",
       "      <td>0</td>\n",
       "      <td>0</td>\n",
       "      <td>1</td>\n",
       "      <td>0</td>\n",
       "    </tr>\n",
       "    <tr>\n",
       "      <th>1</th>\n",
       "      <td>1</td>\n",
       "      <td>1.418487</td>\n",
       "      <td>0.523176</td>\n",
       "      <td>1.832378</td>\n",
       "      <td>-0.874678</td>\n",
       "      <td>0.924854</td>\n",
       "      <td>1.196373</td>\n",
       "      <td>0.484028</td>\n",
       "      <td>1.540112</td>\n",
       "      <td>1.208684</td>\n",
       "      <td>0</td>\n",
       "      <td>0</td>\n",
       "      <td>0</td>\n",
       "      <td>0</td>\n",
       "      <td>1</td>\n",
       "      <td>0</td>\n",
       "      <td>1</td>\n",
       "      <td>0</td>\n",
       "    </tr>\n",
       "    <tr>\n",
       "      <th>2</th>\n",
       "      <td>2</td>\n",
       "      <td>-1.174802</td>\n",
       "      <td>-2.243479</td>\n",
       "      <td>-1.384905</td>\n",
       "      <td>-2.212033</td>\n",
       "      <td>-1.420633</td>\n",
       "      <td>-0.960904</td>\n",
       "      <td>-1.854585</td>\n",
       "      <td>-1.828806</td>\n",
       "      <td>-0.827279</td>\n",
       "      <td>0</td>\n",
       "      <td>1</td>\n",
       "      <td>0</td>\n",
       "      <td>0</td>\n",
       "      <td>0</td>\n",
       "      <td>0</td>\n",
       "      <td>0</td>\n",
       "      <td>1</td>\n",
       "    </tr>\n",
       "    <tr>\n",
       "      <th>3</th>\n",
       "      <td>3</td>\n",
       "      <td>-0.576351</td>\n",
       "      <td>-0.958960</td>\n",
       "      <td>0.783264</td>\n",
       "      <td>-0.983113</td>\n",
       "      <td>0.579930</td>\n",
       "      <td>0.490355</td>\n",
       "      <td>0.030921</td>\n",
       "      <td>-0.144347</td>\n",
       "      <td>1.208684</td>\n",
       "      <td>0</td>\n",
       "      <td>1</td>\n",
       "      <td>0</td>\n",
       "      <td>0</td>\n",
       "      <td>0</td>\n",
       "      <td>0</td>\n",
       "      <td>1</td>\n",
       "      <td>0</td>\n",
       "    </tr>\n",
       "    <tr>\n",
       "      <th>4</th>\n",
       "      <td>4</td>\n",
       "      <td>0.421068</td>\n",
       "      <td>1.511268</td>\n",
       "      <td>2.112142</td>\n",
       "      <td>1.149426</td>\n",
       "      <td>1.338764</td>\n",
       "      <td>1.274820</td>\n",
       "      <td>1.507171</td>\n",
       "      <td>1.674869</td>\n",
       "      <td>-0.827279</td>\n",
       "      <td>0</td>\n",
       "      <td>0</td>\n",
       "      <td>0</td>\n",
       "      <td>1</td>\n",
       "      <td>0</td>\n",
       "      <td>0</td>\n",
       "      <td>0</td>\n",
       "      <td>1</td>\n",
       "    </tr>\n",
       "    <tr>\n",
       "      <th>...</th>\n",
       "      <td>...</td>\n",
       "      <td>...</td>\n",
       "      <td>...</td>\n",
       "      <td>...</td>\n",
       "      <td>...</td>\n",
       "      <td>...</td>\n",
       "      <td>...</td>\n",
       "      <td>...</td>\n",
       "      <td>...</td>\n",
       "      <td>...</td>\n",
       "      <td>...</td>\n",
       "      <td>...</td>\n",
       "      <td>...</td>\n",
       "      <td>...</td>\n",
       "      <td>...</td>\n",
       "      <td>...</td>\n",
       "      <td>...</td>\n",
       "      <td>...</td>\n",
       "    </tr>\n",
       "    <tr>\n",
       "      <th>12406</th>\n",
       "      <td>12406</td>\n",
       "      <td>0.820036</td>\n",
       "      <td>0.918413</td>\n",
       "      <td>1.342792</td>\n",
       "      <td>0.318097</td>\n",
       "      <td>0.924854</td>\n",
       "      <td>0.764918</td>\n",
       "      <td>0.805587</td>\n",
       "      <td>1.236910</td>\n",
       "      <td>-0.827279</td>\n",
       "      <td>0</td>\n",
       "      <td>1</td>\n",
       "      <td>0</td>\n",
       "      <td>0</td>\n",
       "      <td>0</td>\n",
       "      <td>0</td>\n",
       "      <td>0</td>\n",
       "      <td>1</td>\n",
       "    </tr>\n",
       "    <tr>\n",
       "      <th>12407</th>\n",
       "      <td>12407</td>\n",
       "      <td>-0.376867</td>\n",
       "      <td>0.029131</td>\n",
       "      <td>-0.615555</td>\n",
       "      <td>-0.838534</td>\n",
       "      <td>-0.523829</td>\n",
       "      <td>-2.216048</td>\n",
       "      <td>-1.386863</td>\n",
       "      <td>-0.413860</td>\n",
       "      <td>-0.827279</td>\n",
       "      <td>0</td>\n",
       "      <td>1</td>\n",
       "      <td>0</td>\n",
       "      <td>0</td>\n",
       "      <td>0</td>\n",
       "      <td>0</td>\n",
       "      <td>0</td>\n",
       "      <td>1</td>\n",
       "    </tr>\n",
       "    <tr>\n",
       "      <th>12408</th>\n",
       "      <td>12408</td>\n",
       "      <td>0.820036</td>\n",
       "      <td>1.412458</td>\n",
       "      <td>-0.265850</td>\n",
       "      <td>0.932558</td>\n",
       "      <td>1.062824</td>\n",
       "      <td>0.529578</td>\n",
       "      <td>1.024832</td>\n",
       "      <td>0.630504</td>\n",
       "      <td>-0.827279</td>\n",
       "      <td>0</td>\n",
       "      <td>1</td>\n",
       "      <td>0</td>\n",
       "      <td>0</td>\n",
       "      <td>0</td>\n",
       "      <td>0</td>\n",
       "      <td>0</td>\n",
       "      <td>1</td>\n",
       "    </tr>\n",
       "    <tr>\n",
       "      <th>12409</th>\n",
       "      <td>12409</td>\n",
       "      <td>0.820036</td>\n",
       "      <td>0.325558</td>\n",
       "      <td>-0.685496</td>\n",
       "      <td>0.643400</td>\n",
       "      <td>-0.282382</td>\n",
       "      <td>-2.333717</td>\n",
       "      <td>-0.729128</td>\n",
       "      <td>0.057788</td>\n",
       "      <td>1.208684</td>\n",
       "      <td>0</td>\n",
       "      <td>0</td>\n",
       "      <td>1</td>\n",
       "      <td>0</td>\n",
       "      <td>0</td>\n",
       "      <td>0</td>\n",
       "      <td>1</td>\n",
       "      <td>0</td>\n",
       "    </tr>\n",
       "    <tr>\n",
       "      <th>12410</th>\n",
       "      <td>12410</td>\n",
       "      <td>0.421068</td>\n",
       "      <td>0.127940</td>\n",
       "      <td>0.783264</td>\n",
       "      <td>1.185571</td>\n",
       "      <td>1.097317</td>\n",
       "      <td>0.451132</td>\n",
       "      <td>1.112530</td>\n",
       "      <td>0.563126</td>\n",
       "      <td>-0.827279</td>\n",
       "      <td>0</td>\n",
       "      <td>0</td>\n",
       "      <td>1</td>\n",
       "      <td>0</td>\n",
       "      <td>0</td>\n",
       "      <td>0</td>\n",
       "      <td>0</td>\n",
       "      <td>1</td>\n",
       "    </tr>\n",
       "  </tbody>\n",
       "</table>\n",
       "<p>12397 rows × 18 columns</p>\n",
       "</div>"
      ],
      "text/plain": [
       "       Unnamed: 0    CR_S11    CC_S11   ENG_S11    CR_PRO    CC_PRO   ENG_PRO  \\\n",
       "0               0  2.016939  0.029131  1.412733  1.113281  0.407467  1.000257   \n",
       "1               1  1.418487  0.523176  1.832378 -0.874678  0.924854  1.196373   \n",
       "2               2 -1.174802 -2.243479 -1.384905 -2.212033 -1.420633 -0.960904   \n",
       "3               3 -0.576351 -0.958960  0.783264 -0.983113  0.579930  0.490355   \n",
       "4               4  0.421068  1.511268  2.112142  1.149426  1.338764  1.274820   \n",
       "...           ...       ...       ...       ...       ...       ...       ...   \n",
       "12406       12406  0.820036  0.918413  1.342792  0.318097  0.924854  0.764918   \n",
       "12407       12407 -0.376867  0.029131 -0.615555 -0.838534 -0.523829 -2.216048   \n",
       "12408       12408  0.820036  1.412458 -0.265850  0.932558  1.062824  0.529578   \n",
       "12409       12409  0.820036  0.325558 -0.685496  0.643400 -0.282382 -2.333717   \n",
       "12410       12410  0.421068  0.127940  0.783264  1.185571  1.097317  0.451132   \n",
       "\n",
       "       COL_GRADE_AVG  HI_GRADE_AVG  GENDER_bin  STRATUM_Stratum_1  \\\n",
       "0           0.995599      1.371666    1.208684                  0   \n",
       "1           0.484028      1.540112    1.208684                  0   \n",
       "2          -1.854585     -1.828806   -0.827279                  0   \n",
       "3           0.030921     -0.144347    1.208684                  0   \n",
       "4           1.507171      1.674869   -0.827279                  0   \n",
       "...              ...           ...         ...                ...   \n",
       "12406       0.805587      1.236910   -0.827279                  0   \n",
       "12407      -1.386863     -0.413860   -0.827279                  0   \n",
       "12408       1.024832      0.630504   -0.827279                  0   \n",
       "12409      -0.729128      0.057788    1.208684                  0   \n",
       "12410       1.112530      0.563126   -0.827279                  0   \n",
       "\n",
       "       STRATUM_Stratum_2  STRATUM_Stratum_3  STRATUM_Stratum_4  \\\n",
       "0                      0                  0                  1   \n",
       "1                      0                  0                  0   \n",
       "2                      1                  0                  0   \n",
       "3                      1                  0                  0   \n",
       "4                      0                  0                  1   \n",
       "...                  ...                ...                ...   \n",
       "12406                  1                  0                  0   \n",
       "12407                  1                  0                  0   \n",
       "12408                  1                  0                  0   \n",
       "12409                  0                  1                  0   \n",
       "12410                  0                  1                  0   \n",
       "\n",
       "       STRATUM_Stratum_5  STRATUM_Stratum_6  GENDER_F  GENDER_M  \n",
       "0                      0                  0         1         0  \n",
       "1                      1                  0         1         0  \n",
       "2                      0                  0         0         1  \n",
       "3                      0                  0         1         0  \n",
       "4                      0                  0         0         1  \n",
       "...                  ...                ...       ...       ...  \n",
       "12406                  0                  0         0         1  \n",
       "12407                  0                  0         0         1  \n",
       "12408                  0                  0         0         1  \n",
       "12409                  0                  0         1         0  \n",
       "12410                  0                  0         0         1  \n",
       "\n",
       "[12397 rows x 18 columns]"
      ]
     },
     "execution_count": 7,
     "metadata": {},
     "output_type": "execute_result"
    }
   ],
   "source": [
    "dfs_use"
   ]
  },
  {
   "cell_type": "code",
   "execution_count": 8,
   "metadata": {},
   "outputs": [
    {
     "data": {
      "text/plain": [
       "-0.027502007174211328"
      ]
     },
     "execution_count": 8,
     "metadata": {},
     "output_type": "execute_result"
    }
   ],
   "source": [
    "# First with gender\n",
    "#F=1, M=0\n",
    "\n",
    "from scipy.stats import pointbiserialr\n",
    "\n",
    "pbc = pointbiserialr(dfs_use.GENDER_F, dfs_use.HI_GRADE_AVG)\n",
    "pbc[0]"
   ]
  },
  {
   "cell_type": "markdown",
   "metadata": {},
   "source": [
    "From tutorial \"with r=-0.22, \"As gender increases test scores tend to decrease\"\n",
    "Going from male 0 to female 1 makes the scores to decrease. Easy to visualise as a plot. "
   ]
  },
  {
   "cell_type": "code",
   "execution_count": 9,
   "metadata": {},
   "outputs": [
    {
     "name": "stdout",
     "output_type": "stream",
     "text": [
      "PointbiserialrResult(correlation=-0.20931759434075234, pvalue=8.82170821695553e-123) PointbiserialrResult(correlation=0.19610112375814487, pvalue=1.0335153924832236e-107)\n"
     ]
    }
   ],
   "source": [
    "# Then with stratum 1-6:\n",
    "\n",
    "#Question: Whether or not you are from Stratum x and what grade you have. \n",
    "pbc_1 = pointbiserialr(dfs_use.STRATUM_Stratum_1, dfs_use.HI_GRADE_AVG)\n",
    "pbc_6 = pointbiserialr(dfs_use.STRATUM_Stratum_6, dfs_use.HI_GRADE_AVG)\n",
    "print(pbc_1 , pbc_6)\n",
    "\n"
   ]
  },
  {
   "cell_type": "markdown",
   "metadata": {},
   "source": [
    "For Stratum 1..."
   ]
  },
  {
   "cell_type": "markdown",
   "metadata": {},
   "source": [
    "### Correlation matrix"
   ]
  },
  {
   "cell_type": "code",
   "execution_count": 10,
   "metadata": {},
   "outputs": [
    {
     "data": {
      "text/plain": [
       "Index(['Unnamed: 0', 'CR_S11', 'CC_S11', 'ENG_S11', 'CR_PRO', 'CC_PRO',\n",
       "       'ENG_PRO', 'COL_GRADE_AVG', 'HI_GRADE_AVG', 'GENDER_bin',\n",
       "       'STRATUM_Stratum_1', 'STRATUM_Stratum_2', 'STRATUM_Stratum_3',\n",
       "       'STRATUM_Stratum_4', 'STRATUM_Stratum_5', 'STRATUM_Stratum_6',\n",
       "       'GENDER_F', 'GENDER_M'],\n",
       "      dtype='object')"
      ]
     },
     "execution_count": 10,
     "metadata": {},
     "output_type": "execute_result"
    }
   ],
   "source": [
    "dfs_use.columns"
   ]
  },
  {
   "cell_type": "code",
   "execution_count": 11,
   "metadata": {},
   "outputs": [
    {
     "data": {
      "text/plain": [
       "array([[0.0e+000, 0.0e+000, 4.9e-324],\n",
       "       [9.9e-324, 1.5e-323, 2.0e-323],\n",
       "       [2.5e-323, 3.0e-323, 3.5e-323],\n",
       "       [4.0e-323, 0.0e+000, 4.9e-324],\n",
       "       [9.9e-324, 1.5e-323, 2.0e-323],\n",
       "       [2.5e-323, 0.0e+000, 4.9e-324]])"
      ]
     },
     "execution_count": 11,
     "metadata": {},
     "output_type": "execute_result"
    }
   ],
   "source": [
    "# Columns to use \n",
    "dfs_use_pb = dfs_use[['COL_GRADE_AVG', 'HI_GRADE_AVG','STRATUM_Stratum_1', 'STRATUM_Stratum_2', 'STRATUM_Stratum_3',\n",
    "       'STRATUM_Stratum_4', 'STRATUM_Stratum_5', 'STRATUM_Stratum_6','GENDER_F']]\n",
    "\n",
    "# 3x6 matrix\n",
    "corr_matrix = np.empty((6,3))\n",
    "corr_matrix"
   ]
  },
  {
   "cell_type": "code",
   "execution_count": 12,
   "metadata": {},
   "outputs": [
    {
     "data": {
      "text/plain": [
       "array([[-1.96028522e-001, -2.09317594e-001,  5.05921720e-003],\n",
       "       [ 0.00000000e+000,  0.00000000e+000,  4.94065646e-324],\n",
       "       [ 9.88131292e-324,  1.48219694e-323,  1.97626258e-323],\n",
       "       [ 2.47032823e-323,  2.96439388e-323,  3.45845952e-323],\n",
       "       [ 3.95252517e-323,  0.00000000e+000,  4.94065646e-324],\n",
       "       [ 9.88131292e-324,  1.48219694e-323,  1.97626258e-323],\n",
       "       [ 2.47032823e-323,  0.00000000e+000,  4.94065646e-324]])"
      ]
     },
     "execution_count": 12,
     "metadata": {},
     "output_type": "execute_result"
    }
   ],
   "source": [
    "corr_matrix = np.insert(corr_matrix,0, np.array([-0.19602852233575963, -0.20931759434075234, 0.005059217198143426]), axis=0)\n",
    "corr_matrix"
   ]
  },
  {
   "cell_type": "code",
   "execution_count": 13,
   "metadata": {},
   "outputs": [
    {
     "data": {
      "text/plain": [
       "array([[-1.96028522e-001, -2.09317594e-001,  5.05921720e-003],\n",
       "       [-1.96028522e-001, -2.09317594e-001,  5.05921720e-003],\n",
       "       [ 0.00000000e+000,  0.00000000e+000,  4.94065646e-324],\n",
       "       [ 9.88131292e-324,  1.48219694e-323,  1.97626258e-323],\n",
       "       [ 2.47032823e-323,  2.96439388e-323,  3.45845952e-323],\n",
       "       [ 3.95252517e-323,  0.00000000e+000,  4.94065646e-324],\n",
       "       [ 9.88131292e-324,  1.48219694e-323,  1.97626258e-323],\n",
       "       [ 2.47032823e-323,  0.00000000e+000,  4.94065646e-324]])"
      ]
     },
     "execution_count": 13,
     "metadata": {},
     "output_type": "execute_result"
    }
   ],
   "source": [
    "np.insert(corr_matrix,1, np.array([-0.19602852233575963, -0.20931759434075234, 0.005059217198143426]), axis=0)"
   ]
  },
  {
   "cell_type": "code",
   "execution_count": 14,
   "metadata": {},
   "outputs": [
    {
     "data": {
      "text/plain": [
       "array([[-1.96028522e-001, -2.09317594e-001,  5.05921720e-003],\n",
       "       [ 0.00000000e+000,  0.00000000e+000,  4.94065646e-324],\n",
       "       [-1.96028522e-001, -2.09317594e-001,  5.05921720e-003],\n",
       "       [ 9.88131292e-324,  1.48219694e-323,  1.97626258e-323],\n",
       "       [ 2.47032823e-323,  2.96439388e-323,  3.45845952e-323],\n",
       "       [ 3.95252517e-323,  0.00000000e+000,  4.94065646e-324],\n",
       "       [ 9.88131292e-324,  1.48219694e-323,  1.97626258e-323],\n",
       "       [ 2.47032823e-323,  0.00000000e+000,  4.94065646e-324]])"
      ]
     },
     "execution_count": 14,
     "metadata": {},
     "output_type": "execute_result"
    }
   ],
   "source": [
    "np.insert(corr_matrix,2, np.array([-0.19602852233575963, -0.20931759434075234, 0.005059217198143426]), axis=0)"
   ]
  },
  {
   "cell_type": "code",
   "execution_count": 15,
   "metadata": {},
   "outputs": [
    {
     "data": {
      "text/html": [
       "<div>\n",
       "<style scoped>\n",
       "    .dataframe tbody tr th:only-of-type {\n",
       "        vertical-align: middle;\n",
       "    }\n",
       "\n",
       "    .dataframe tbody tr th {\n",
       "        vertical-align: top;\n",
       "    }\n",
       "\n",
       "    .dataframe thead th {\n",
       "        text-align: right;\n",
       "    }\n",
       "</style>\n",
       "<table border=\"1\" class=\"dataframe\">\n",
       "  <thead>\n",
       "    <tr style=\"text-align: right;\">\n",
       "      <th></th>\n",
       "      <th>COL_GRADE_AVG</th>\n",
       "      <th>HI_GRADE_AVG</th>\n",
       "      <th>STRATUM_Stratum_1</th>\n",
       "      <th>STRATUM_Stratum_2</th>\n",
       "      <th>STRATUM_Stratum_3</th>\n",
       "      <th>STRATUM_Stratum_4</th>\n",
       "      <th>STRATUM_Stratum_5</th>\n",
       "      <th>STRATUM_Stratum_6</th>\n",
       "      <th>GENDER_F</th>\n",
       "    </tr>\n",
       "  </thead>\n",
       "  <tbody>\n",
       "    <tr>\n",
       "      <th>0</th>\n",
       "      <td>0.995599</td>\n",
       "      <td>1.371666</td>\n",
       "      <td>0</td>\n",
       "      <td>0</td>\n",
       "      <td>0</td>\n",
       "      <td>1</td>\n",
       "      <td>0</td>\n",
       "      <td>0</td>\n",
       "      <td>1</td>\n",
       "    </tr>\n",
       "    <tr>\n",
       "      <th>1</th>\n",
       "      <td>0.484028</td>\n",
       "      <td>1.540112</td>\n",
       "      <td>0</td>\n",
       "      <td>0</td>\n",
       "      <td>0</td>\n",
       "      <td>0</td>\n",
       "      <td>1</td>\n",
       "      <td>0</td>\n",
       "      <td>1</td>\n",
       "    </tr>\n",
       "    <tr>\n",
       "      <th>2</th>\n",
       "      <td>-1.854585</td>\n",
       "      <td>-1.828806</td>\n",
       "      <td>0</td>\n",
       "      <td>1</td>\n",
       "      <td>0</td>\n",
       "      <td>0</td>\n",
       "      <td>0</td>\n",
       "      <td>0</td>\n",
       "      <td>0</td>\n",
       "    </tr>\n",
       "    <tr>\n",
       "      <th>3</th>\n",
       "      <td>0.030921</td>\n",
       "      <td>-0.144347</td>\n",
       "      <td>0</td>\n",
       "      <td>1</td>\n",
       "      <td>0</td>\n",
       "      <td>0</td>\n",
       "      <td>0</td>\n",
       "      <td>0</td>\n",
       "      <td>1</td>\n",
       "    </tr>\n",
       "    <tr>\n",
       "      <th>4</th>\n",
       "      <td>1.507171</td>\n",
       "      <td>1.674869</td>\n",
       "      <td>0</td>\n",
       "      <td>0</td>\n",
       "      <td>0</td>\n",
       "      <td>1</td>\n",
       "      <td>0</td>\n",
       "      <td>0</td>\n",
       "      <td>0</td>\n",
       "    </tr>\n",
       "    <tr>\n",
       "      <th>...</th>\n",
       "      <td>...</td>\n",
       "      <td>...</td>\n",
       "      <td>...</td>\n",
       "      <td>...</td>\n",
       "      <td>...</td>\n",
       "      <td>...</td>\n",
       "      <td>...</td>\n",
       "      <td>...</td>\n",
       "      <td>...</td>\n",
       "    </tr>\n",
       "    <tr>\n",
       "      <th>12406</th>\n",
       "      <td>0.805587</td>\n",
       "      <td>1.236910</td>\n",
       "      <td>0</td>\n",
       "      <td>1</td>\n",
       "      <td>0</td>\n",
       "      <td>0</td>\n",
       "      <td>0</td>\n",
       "      <td>0</td>\n",
       "      <td>0</td>\n",
       "    </tr>\n",
       "    <tr>\n",
       "      <th>12407</th>\n",
       "      <td>-1.386863</td>\n",
       "      <td>-0.413860</td>\n",
       "      <td>0</td>\n",
       "      <td>1</td>\n",
       "      <td>0</td>\n",
       "      <td>0</td>\n",
       "      <td>0</td>\n",
       "      <td>0</td>\n",
       "      <td>0</td>\n",
       "    </tr>\n",
       "    <tr>\n",
       "      <th>12408</th>\n",
       "      <td>1.024832</td>\n",
       "      <td>0.630504</td>\n",
       "      <td>0</td>\n",
       "      <td>1</td>\n",
       "      <td>0</td>\n",
       "      <td>0</td>\n",
       "      <td>0</td>\n",
       "      <td>0</td>\n",
       "      <td>0</td>\n",
       "    </tr>\n",
       "    <tr>\n",
       "      <th>12409</th>\n",
       "      <td>-0.729128</td>\n",
       "      <td>0.057788</td>\n",
       "      <td>0</td>\n",
       "      <td>0</td>\n",
       "      <td>1</td>\n",
       "      <td>0</td>\n",
       "      <td>0</td>\n",
       "      <td>0</td>\n",
       "      <td>1</td>\n",
       "    </tr>\n",
       "    <tr>\n",
       "      <th>12410</th>\n",
       "      <td>1.112530</td>\n",
       "      <td>0.563126</td>\n",
       "      <td>0</td>\n",
       "      <td>0</td>\n",
       "      <td>1</td>\n",
       "      <td>0</td>\n",
       "      <td>0</td>\n",
       "      <td>0</td>\n",
       "      <td>0</td>\n",
       "    </tr>\n",
       "  </tbody>\n",
       "</table>\n",
       "<p>12397 rows × 9 columns</p>\n",
       "</div>"
      ],
      "text/plain": [
       "       COL_GRADE_AVG  HI_GRADE_AVG  STRATUM_Stratum_1  STRATUM_Stratum_2  \\\n",
       "0           0.995599      1.371666                  0                  0   \n",
       "1           0.484028      1.540112                  0                  0   \n",
       "2          -1.854585     -1.828806                  0                  1   \n",
       "3           0.030921     -0.144347                  0                  1   \n",
       "4           1.507171      1.674869                  0                  0   \n",
       "...              ...           ...                ...                ...   \n",
       "12406       0.805587      1.236910                  0                  1   \n",
       "12407      -1.386863     -0.413860                  0                  1   \n",
       "12408       1.024832      0.630504                  0                  1   \n",
       "12409      -0.729128      0.057788                  0                  0   \n",
       "12410       1.112530      0.563126                  0                  0   \n",
       "\n",
       "       STRATUM_Stratum_3  STRATUM_Stratum_4  STRATUM_Stratum_5  \\\n",
       "0                      0                  1                  0   \n",
       "1                      0                  0                  1   \n",
       "2                      0                  0                  0   \n",
       "3                      0                  0                  0   \n",
       "4                      0                  1                  0   \n",
       "...                  ...                ...                ...   \n",
       "12406                  0                  0                  0   \n",
       "12407                  0                  0                  0   \n",
       "12408                  0                  0                  0   \n",
       "12409                  1                  0                  0   \n",
       "12410                  1                  0                  0   \n",
       "\n",
       "       STRATUM_Stratum_6  GENDER_F  \n",
       "0                      0         1  \n",
       "1                      0         1  \n",
       "2                      0         0  \n",
       "3                      0         1  \n",
       "4                      0         0  \n",
       "...                  ...       ...  \n",
       "12406                  0         0  \n",
       "12407                  0         0  \n",
       "12408                  0         0  \n",
       "12409                  0         1  \n",
       "12410                  0         0  \n",
       "\n",
       "[12397 rows x 9 columns]"
      ]
     },
     "execution_count": 15,
     "metadata": {},
     "output_type": "execute_result"
    }
   ],
   "source": [
    "dfs_use_pb"
   ]
  },
  {
   "cell_type": "code",
   "execution_count": 16,
   "metadata": {},
   "outputs": [],
   "source": [
    "arrcor = []\n",
    "for i, col1 in enumerate(dfs_use_pb[['STRATUM_Stratum_1', 'STRATUM_Stratum_2', 'STRATUM_Stratum_3',\n",
    "       'STRATUM_Stratum_4', 'STRATUM_Stratum_5', 'STRATUM_Stratum_6']]): \n",
    "    x = dfs_use_pb[\"{}\".format(col1)]\n",
    "    a_array = [] \n",
    "    for col2 in dfs_use_pb[['GENDER_F', 'COL_GRADE_AVG', 'HI_GRADE_AVG']]:\n",
    "        y = dfs_use_pb[\"{}\".format(col2)]\n",
    "        a_array.append(pointbiserialr(x, y)[0])\n",
    "    arrcor.append(a_array)\n",
    "    \n",
    "#y: st1-st6, x: col-gender_f"
   ]
  },
  {
   "cell_type": "code",
   "execution_count": 17,
   "metadata": {},
   "outputs": [],
   "source": [
    "#Create matrix:\n",
    "corr_matrix = np.array(arrcor).reshape(6,3)"
   ]
  },
  {
   "cell_type": "code",
   "execution_count": 18,
   "metadata": {},
   "outputs": [],
   "source": [
    "# Append / Insert 3 extra rows of correlations between Gender, HI, COL\n",
    "\n",
    "#gen x col\n",
    "a1 = pointbiserialr(dfs_use_pb.COL_GRADE_AVG, dfs_use_pb.GENDER_F)[0]\n",
    "\n",
    "#gen x hi\n",
    "a2 = pointbiserialr(dfs_use_pb.HI_GRADE_AVG, dfs_use_pb.GENDER_F)[0]\n",
    "\n",
    "#col x hi\n",
    "a3 = pointbiserialr(dfs_use_pb.HI_GRADE_AVG, dfs_use_pb.COL_GRADE_AVG)[0]\n",
    "\n",
    "\n",
    "corr_matrix = np.insert(corr_matrix, 0, np.array([a2, a3, 0]), axis=0)\n",
    "corr_matrix = np.insert(corr_matrix, 0, np.array([a1,0,0]), axis=0)\n",
    "\n"
   ]
  },
  {
   "cell_type": "code",
   "execution_count": 19,
   "metadata": {},
   "outputs": [
    {
     "data": {
      "text/plain": [
       "array([[-2.94511008e-02,  0.00000000e+00,  0.00000000e+00],\n",
       "       [-2.75020072e-02,  7.60872586e-01,  0.00000000e+00],\n",
       "       [ 5.05921720e-03, -1.96028522e-01, -2.09317594e-01],\n",
       "       [ 2.44939296e-03, -1.33939580e-01, -1.81577015e-01],\n",
       "       [ 1.34809350e-02,  5.79806876e-02,  4.32998838e-02],\n",
       "       [-5.68651617e-04,  1.53002922e-01,  1.82080903e-01],\n",
       "       [-1.65587439e-02,  1.32431573e-01,  1.88269734e-01],\n",
       "       [-3.03224231e-02,  1.29598290e-01,  1.96101124e-01]])"
      ]
     },
     "execution_count": 19,
     "metadata": {},
     "output_type": "execute_result"
    }
   ],
   "source": [
    "corr_matrix"
   ]
  },
  {
   "cell_type": "code",
   "execution_count": 34,
   "metadata": {},
   "outputs": [
    {
     "data": {
      "text/plain": [
       "<Figure size 1008x360 with 0 Axes>"
      ]
     },
     "metadata": {},
     "output_type": "display_data"
    },
    {
     "data": {
      "image/png": "[encoded data removed]",
      "text/plain": [
       "<Figure size 432x288 with 1 Axes>"
      ]
     },
     "metadata": {
      "needs_background": "light"
     },
     "output_type": "display_data"
    }
   ],
   "source": [
    "import numpy as np\n",
    "import matplotlib\n",
    "import matplotlib.pyplot as plt\n",
    "vegetables = [\"cucumber\", \"tomato\", \"lettuce\", \"asparagus\",\n",
    "              \"potato\", \"wheat\", \"barley\"]\n",
    "farmers = [\"Farmer Joe\", \"Upland Bros.\", \"Smith Gardening\",\n",
    "           \"Agrifun\", \"Organiculture\", \"BioGoods Ltd.\", \"Cornylee Corp.\"]\n",
    "\n",
    "harvest = np.array([[0.8, 2.4, 2.5, 3.9, 0.0, 4.0, 0.0],\n",
    "                    [2.4, 0.0, 4.0, 1.0, 2.7, 0.0, 0.0],\n",
    "                    [1.1, 2.4, 0.8, 4.3, 1.9, 4.4, 0.0],\n",
    "                    [0.6, 0.0, 0.3, 0.0, 3.1, 0.0, 0.0],\n",
    "                    [0.7, 1.7, 0.6, 2.6, 2.2, 6.2, 0.0],\n",
    "                    [1.3, 1.2, 0.0, 0.0, 0.0, 3.2, 5.1],\n",
    "                    [0.1, 2.0, 0.0, 1.4, 0.0, 1.9, 6.3]])\n",
    "\n",
    "\n",
    "plt.figure(figsize=(14,5))\n",
    "fig, ax = plt.subplots(1,1)\n",
    "im = ax.imshow(harvest)\n",
    "\n",
    "\n",
    "# We want to show all ticks...\n",
    "ax.set_xticks(np.arange(len(farmers)))\n",
    "ax.set_yticks(np.arange(len(vegetables)))\n",
    "# ... and label them with the respective list entries\n",
    "ax.set_xticklabels(farmers)\n",
    "ax.set_yticklabels(vegetables)\n",
    "\n",
    "\n",
    "# Rotate the tick labels and set their alignment.\n",
    "plt.setp(ax.get_xticklabels(), rotation=45, ha=\"right\",\n",
    "         rotation_mode=\"anchor\")\n",
    "\n",
    "# Loop over data dimensions and create text annotations.\n",
    "for i in range(len(vegetables)):\n",
    "    for j in range(len(farmers)):\n",
    "        text = ax.text(j, i, harvest[i, j],\n",
    "                       ha=\"center\", va=\"center\", color=\"w\")\n",
    "\n",
    "\n",
    "ax.set_title(\"Harvest of local farmers (in tons/year)\")\n",
    "fig.tight_layout() \n",
    "plt.show()\n"
   ]
  },
  {
   "cell_type": "code",
   "execution_count": 87,
   "metadata": {
    "scrolled": false
   },
   "outputs": [
    {
     "data": {
      "image/png": "[encoded data removed]",
      "text/plain": [
       "<Figure size 324x648 with 2 Axes>"
      ]
     },
     "metadata": {
      "needs_background": "light"
     },
     "output_type": "display_data"
    }
   ],
   "source": [
    "\n",
    "fig, ax = plt.subplots(figsize=(4.5, 9))\n",
    "im = ax.imshow(corr_matrix,  cmap=\"magma_r\" )\n",
    "\n",
    "\n",
    "# We want to show all ticks...\n",
    "ax.set_xticks(np.arange(len(x_label_list)))\n",
    "ax.set_yticks(np.arange(len(y_label_list)))\n",
    "# ... and label them with the respective list entries\n",
    "x_label_list = ['COL', 'HI', 'GEN']\n",
    "y_label_list = ['HI', 'GEN', 'st1', 'st2', 'st3', 'st4', 'st5', 'st6']\n",
    "ax.set_xticklabels(x_label_list)\n",
    "ax.set_yticklabels(y_label_list)\n",
    "\n",
    "# Rotate the tick labels and set their alignment.\n",
    "plt.setp(ax.get_xticklabels(), rotation=45, ha=\"right\",\n",
    "         rotation_mode=\"anchor\")\n",
    "\n",
    "# Loop over data dimensions and create text annotations.\n",
    "for i in range(len(y_label_list)):\n",
    "    for j in range(len(x_label_list)):\n",
    "        text = ax.text(j, i, \"{:.2f}\".format(corr_matrix[i, j]),\n",
    "                       ha=\"center\", va=\"center\", color=\"w\")\n",
    "        \n",
    "cbar = fig.colorbar(im, ax=ax, fraction=0.128, pad=0.04)\n",
    "cbar.ax.set_ylabel(\"correlation coef.\", rotation=-90, va=\"bottom\")\n",
    "\n",
    "ax.set_title(\"Correlation heatmap of stratum, gender and grades\")\n",
    "fig.tight_layout()\n",
    "plt.show()"
   ]
  },
  {
   "cell_type": "code",
   "execution_count": 43,
   "metadata": {},
   "outputs": [],
   "source": [
    "# from https://matplotlib.org/stable/gallery/images_contours_and_fields/image_annotated_heatmap.html\n",
    "\n",
    "def heatmap(data, row_labels, col_labels, ax=None,\n",
    "            cbar_kw={}, cbarlabel=\"\", **kwargs):\n",
    "    \"\"\"\n",
    "    Create a heatmap from a numpy array and two lists of labels.\n",
    "\n",
    "    Parameters\n",
    "    ----------\n",
    "    data\n",
    "        A 2D numpy array of shape (N, M).\n",
    "    row_labels\n",
    "        A list or array of length N with the labels for the rows.\n",
    "    col_labels\n",
    "        A list or array of length M with the labels for the columns.\n",
    "    ax\n",
    "        A `matplotlib.axes.Axes` instance to which the heatmap is plotted.  If\n",
    "        not provided, use current axes or create a new one.  Optional.\n",
    "    cbar_kw\n",
    "        A dictionary with arguments to `matplotlib.Figure.colorbar`.  Optional.\n",
    "    cbarlabel\n",
    "        The label for the colorbar.  Optional.\n",
    "    **kwargs\n",
    "        All other arguments are forwarded to `imshow`.\n",
    "    \"\"\"\n",
    "\n",
    "    if not ax:\n",
    "        ax = plt.gca()\n",
    "\n",
    "    # Plot the heatmap\n",
    "    im = ax.imshow(data, **kwargs)\n",
    "\n",
    "    # Create colorbar\n",
    "    cbar = ax.figure.colorbar(im, ax=ax, **cbar_kw)\n",
    "    cbar.ax.set_ylabel(cbarlabel, rotation=-90, va=\"bottom\")\n",
    "\n",
    "    # We want to show all ticks...\n",
    "    ax.set_xticks(np.arange(data.shape[1]))\n",
    "    ax.set_yticks(np.arange(data.shape[0]))\n",
    "    # ... and label them with the respective list entries.\n",
    "    ax.set_xticklabels(col_labels)\n",
    "    ax.set_yticklabels(row_labels)\n",
    "\n",
    "    # Let the horizontal axes labeling appear on top.\n",
    "    ax.tick_params(top=True, bottom=False,\n",
    "                   labeltop=True, labelbottom=False)\n",
    "\n",
    "    # Rotate the tick labels and set their alignment.\n",
    "    plt.setp(ax.get_xticklabels(), rotation=-30, ha=\"right\",\n",
    "             rotation_mode=\"anchor\")\n",
    "\n",
    "    # Turn spines off and create white grid.\n",
    "    ax.spines[:].set_visible(False)\n",
    "\n",
    "    ax.set_xticks(np.arange(data.shape[1]+1)-.5, minor=True)\n",
    "    ax.set_yticks(np.arange(data.shape[0]+1)-.5, minor=True)\n",
    "    ax.grid(which=\"minor\", color=\"w\", linestyle='-', linewidth=3)\n",
    "    ax.tick_params(which=\"minor\", bottom=False, left=False)\n",
    "\n",
    "    return im, cbar\n",
    "\n",
    "\n",
    "def annotate_heatmap(im, data=None, valfmt=\"{x:.2f}\",\n",
    "                     textcolors=(\"black\", \"white\"),\n",
    "                     threshold=None, **textkw):\n",
    "    \"\"\"\n",
    "    A function to annotate a heatmap.\n",
    "\n",
    "    Parameters\n",
    "    ----------\n",
    "    im\n",
    "        The AxesImage to be labeled.\n",
    "    data\n",
    "        Data used to annotate.  If None, the image's data is used.  Optional.\n",
    "    valfmt\n",
    "        The format of the annotations inside the heatmap.  This should either\n",
    "        use the string format method, e.g. \"$ {x:.2f}\", or be a\n",
    "        `matplotlib.ticker.Formatter`.  Optional.\n",
    "    textcolors\n",
    "        A pair of colors.  The first is used for values below a threshold,\n",
    "        the second for those above.  Optional.\n",
    "    threshold\n",
    "        Value in data units according to which the colors from textcolors are\n",
    "        applied.  If None (the default) uses the middle of the colormap as\n",
    "        separation.  Optional.\n",
    "    **kwargs\n",
    "        All other arguments are forwarded to each call to `text` used to create\n",
    "        the text labels.\n",
    "    \"\"\"\n",
    "\n",
    "    if not isinstance(data, (list, np.ndarray)):\n",
    "        data = im.get_array()\n",
    "\n",
    "    # Normalize the threshold to the images color range.\n",
    "    if threshold is not None:\n",
    "        threshold = im.norm(threshold)\n",
    "    else:\n",
    "        threshold = im.norm(data.max())/2.\n",
    "\n",
    "    # Set default alignment to center, but allow it to be\n",
    "    # overwritten by textkw.\n",
    "    kw = dict(horizontalalignment=\"center\",\n",
    "              verticalalignment=\"center\")\n",
    "    kw.update(textkw)\n",
    "\n",
    "    # Get the formatter in case a string is supplied\n",
    "    if isinstance(valfmt, str):\n",
    "        valfmt = matplotlib.ticker.StrMethodFormatter(valfmt)\n",
    "\n",
    "    # Loop over the data and create a `Text` for each \"pixel\".\n",
    "    # Change the text's color depending on the data.\n",
    "    texts = []\n",
    "    for i in range(data.shape[0]):\n",
    "        for j in range(data.shape[1]):\n",
    "            kw.update(color=textcolors[int(im.norm(data[i, j]) > threshold)])\n",
    "            text = im.axes.text(j, i, valfmt(data[i, j], None), **kw)\n",
    "            texts.append(text)\n",
    "\n",
    "    return texts\n"
   ]
  },
  {
   "cell_type": "code",
   "execution_count": 54,
   "metadata": {},
   "outputs": [
    {
     "ename": "TypeError",
     "evalue": "unhashable type: 'slice'",
     "output_type": "error",
     "traceback": [
      "\u001b[0;31m---------------------------------------------------------------------------\u001b[0m",
      "\u001b[0;31mTypeError\u001b[0m                                 Traceback (most recent call last)",
      "\u001b[0;32m/var/folders/hl/6j_44f453mvc5lr922s8d0l80000gn/T/ipykernel_23570/2348152866.py\u001b[0m in \u001b[0;36m<module>\u001b[0;34m\u001b[0m\n\u001b[1;32m      2\u001b[0m \u001b[0mx\u001b[0m \u001b[0;34m=\u001b[0m \u001b[0;34m[\u001b[0m\u001b[0;34m'COL'\u001b[0m\u001b[0;34m,\u001b[0m \u001b[0;34m'HI'\u001b[0m\u001b[0;34m,\u001b[0m \u001b[0;34m'GEN'\u001b[0m\u001b[0;34m]\u001b[0m\u001b[0;34m\u001b[0m\u001b[0;34m\u001b[0m\u001b[0m\n\u001b[1;32m      3\u001b[0m \u001b[0my\u001b[0m \u001b[0;34m=\u001b[0m \u001b[0;34m[\u001b[0m\u001b[0;34m'HI'\u001b[0m\u001b[0;34m,\u001b[0m \u001b[0;34m'GEN'\u001b[0m\u001b[0;34m,\u001b[0m \u001b[0;34m'st1'\u001b[0m\u001b[0;34m,\u001b[0m \u001b[0;34m'st2'\u001b[0m\u001b[0;34m,\u001b[0m \u001b[0;34m'st3'\u001b[0m\u001b[0;34m,\u001b[0m \u001b[0;34m'st4'\u001b[0m\u001b[0;34m,\u001b[0m \u001b[0;34m'st5'\u001b[0m\u001b[0;34m,\u001b[0m \u001b[0;34m'st6'\u001b[0m\u001b[0;34m]\u001b[0m\u001b[0;34m\u001b[0m\u001b[0;34m\u001b[0m\u001b[0m\n\u001b[0;32m----> 4\u001b[0;31m \u001b[0mim\u001b[0m\u001b[0;34m,\u001b[0m \u001b[0mcbar\u001b[0m \u001b[0;34m=\u001b[0m \u001b[0mheatmap\u001b[0m\u001b[0;34m(\u001b[0m\u001b[0mcorr_matrix\u001b[0m\u001b[0;34m,\u001b[0m \u001b[0my\u001b[0m\u001b[0;34m,\u001b[0m \u001b[0mx\u001b[0m\u001b[0;34m,\u001b[0m \u001b[0max\u001b[0m\u001b[0;34m=\u001b[0m\u001b[0max\u001b[0m\u001b[0;34m,\u001b[0m \u001b[0mcmap\u001b[0m\u001b[0;34m=\u001b[0m\u001b[0;34m\"magma_r\"\u001b[0m\u001b[0;34m,\u001b[0m \u001b[0mcbarlabel\u001b[0m\u001b[0;34m=\u001b[0m\u001b[0;34m\"correlation coef.\"\u001b[0m\u001b[0;34m)\u001b[0m\u001b[0;34m\u001b[0m\u001b[0;34m\u001b[0m\u001b[0m\n\u001b[0m\u001b[1;32m      5\u001b[0m texts = annotate_heatmap(im, valfmt=\"{:.2f}\".format(corr_matrix[i, j]), size=7, threshold=20,\n\u001b[1;32m      6\u001b[0m                  textcolors=(\"red\", \"white\"))\n",
      "\u001b[0;32m/var/folders/hl/6j_44f453mvc5lr922s8d0l80000gn/T/ipykernel_23570/790294148.py\u001b[0m in \u001b[0;36mheatmap\u001b[0;34m(data, row_labels, col_labels, ax, cbar_kw, cbarlabel, **kwargs)\u001b[0m\n\u001b[1;32m     51\u001b[0m \u001b[0;34m\u001b[0m\u001b[0m\n\u001b[1;32m     52\u001b[0m     \u001b[0;31m# Turn spines off and create white grid.\u001b[0m\u001b[0;34m\u001b[0m\u001b[0;34m\u001b[0m\u001b[0;34m\u001b[0m\u001b[0m\n\u001b[0;32m---> 53\u001b[0;31m     \u001b[0max\u001b[0m\u001b[0;34m.\u001b[0m\u001b[0mspines\u001b[0m\u001b[0;34m[\u001b[0m\u001b[0;34m:\u001b[0m\u001b[0;34m]\u001b[0m\u001b[0;34m.\u001b[0m\u001b[0mset_visible\u001b[0m\u001b[0;34m(\u001b[0m\u001b[0;32mFalse\u001b[0m\u001b[0;34m)\u001b[0m\u001b[0;34m\u001b[0m\u001b[0;34m\u001b[0m\u001b[0m\n\u001b[0m\u001b[1;32m     54\u001b[0m \u001b[0;34m\u001b[0m\u001b[0m\n\u001b[1;32m     55\u001b[0m     \u001b[0max\u001b[0m\u001b[0;34m.\u001b[0m\u001b[0mset_xticks\u001b[0m\u001b[0;34m(\u001b[0m\u001b[0mnp\u001b[0m\u001b[0;34m.\u001b[0m\u001b[0marange\u001b[0m\u001b[0;34m(\u001b[0m\u001b[0mdata\u001b[0m\u001b[0;34m.\u001b[0m\u001b[0mshape\u001b[0m\u001b[0;34m[\u001b[0m\u001b[0;36m1\u001b[0m\u001b[0;34m]\u001b[0m\u001b[0;34m+\u001b[0m\u001b[0;36m1\u001b[0m\u001b[0;34m)\u001b[0m\u001b[0;34m-\u001b[0m\u001b[0;36m.5\u001b[0m\u001b[0;34m,\u001b[0m \u001b[0mminor\u001b[0m\u001b[0;34m=\u001b[0m\u001b[0;32mTrue\u001b[0m\u001b[0;34m)\u001b[0m\u001b[0;34m\u001b[0m\u001b[0;34m\u001b[0m\u001b[0m\n",
      "\u001b[0;31mTypeError\u001b[0m: unhashable type: 'slice'"
     ]
    },
    {
     "data": {
      "image/png": "[encoded data removed]",
      "text/plain": [
       "<Figure size 432x288 with 2 Axes>"
      ]
     },
     "metadata": {
      "needs_background": "light"
     },
     "output_type": "display_data"
    }
   ],
   "source": [
    "fig, ax = plt.subplots()\n",
    "x = ['COL', 'HI', 'GEN']\n",
    "y = ['HI', 'GEN', 'st1', 'st2', 'st3', 'st4', 'st5', 'st6']\n",
    "im, cbar = heatmap(corr_matrix, y, x, ax=ax, cmap=\"magma_r\", cbarlabel=\"correlation coef.\")\n",
    "texts = annotate_heatmap(im, valfmt=\"{:.2f}\".format(corr_matrix[i, j]), size=7, threshold=20,\n",
    "                 textcolors=(\"red\", \"white\"))\n",
    "\n",
    "fig.tight_layout()\n",
    "plt.show()"
   ]
  },
  {
   "cell_type": "code",
   "execution_count": 56,
   "metadata": {},
   "outputs": [
    {
     "ename": "TypeError",
     "evalue": "unhashable type: 'slice'",
     "output_type": "error",
     "traceback": [
      "\u001b[0;31m---------------------------------------------------------------------------\u001b[0m",
      "\u001b[0;31mTypeError\u001b[0m                                 Traceback (most recent call last)",
      "\u001b[0;32m/var/folders/hl/6j_44f453mvc5lr922s8d0l80000gn/T/ipykernel_23570/2249675968.py\u001b[0m in \u001b[0;36m<module>\u001b[0;34m\u001b[0m\n\u001b[1;32m      9\u001b[0m \u001b[0mx\u001b[0m \u001b[0;34m=\u001b[0m \u001b[0;34m[\u001b[0m\u001b[0;34m'COL'\u001b[0m\u001b[0;34m,\u001b[0m \u001b[0;34m'HI'\u001b[0m\u001b[0;34m,\u001b[0m \u001b[0;34m'GEN'\u001b[0m\u001b[0;34m]\u001b[0m\u001b[0;34m\u001b[0m\u001b[0;34m\u001b[0m\u001b[0m\n\u001b[1;32m     10\u001b[0m \u001b[0my\u001b[0m \u001b[0;34m=\u001b[0m \u001b[0;34m[\u001b[0m\u001b[0;34m'HI'\u001b[0m\u001b[0;34m,\u001b[0m \u001b[0;34m'GEN'\u001b[0m\u001b[0;34m,\u001b[0m \u001b[0;34m'st1'\u001b[0m\u001b[0;34m,\u001b[0m \u001b[0;34m'st2'\u001b[0m\u001b[0;34m,\u001b[0m \u001b[0;34m'st3'\u001b[0m\u001b[0;34m,\u001b[0m \u001b[0;34m'st4'\u001b[0m\u001b[0;34m,\u001b[0m \u001b[0;34m'st5'\u001b[0m\u001b[0;34m,\u001b[0m \u001b[0;34m'st6'\u001b[0m\u001b[0;34m]\u001b[0m\u001b[0;34m\u001b[0m\u001b[0;34m\u001b[0m\u001b[0m\n\u001b[0;32m---> 11\u001b[0;31m im, _ = heatmap(corr_matrix, y, x, ax=ax2, vmin=0,\n\u001b[0m\u001b[1;32m     12\u001b[0m                 cmap=\"magma_r\", cbarlabel=\"correlation coef.\")\n\u001b[1;32m     13\u001b[0m annotate_heatmap(im, valfmt=\"{x:d}\", size=7, threshold=20,\n",
      "\u001b[0;32m/var/folders/hl/6j_44f453mvc5lr922s8d0l80000gn/T/ipykernel_23570/790294148.py\u001b[0m in \u001b[0;36mheatmap\u001b[0;34m(data, row_labels, col_labels, ax, cbar_kw, cbarlabel, **kwargs)\u001b[0m\n\u001b[1;32m     51\u001b[0m \u001b[0;34m\u001b[0m\u001b[0m\n\u001b[1;32m     52\u001b[0m     \u001b[0;31m# Turn spines off and create white grid.\u001b[0m\u001b[0;34m\u001b[0m\u001b[0;34m\u001b[0m\u001b[0;34m\u001b[0m\u001b[0m\n\u001b[0;32m---> 53\u001b[0;31m     \u001b[0max\u001b[0m\u001b[0;34m.\u001b[0m\u001b[0mspines\u001b[0m\u001b[0;34m[\u001b[0m\u001b[0;34m:\u001b[0m\u001b[0;34m]\u001b[0m\u001b[0;34m.\u001b[0m\u001b[0mset_visible\u001b[0m\u001b[0;34m(\u001b[0m\u001b[0;32mFalse\u001b[0m\u001b[0;34m)\u001b[0m\u001b[0;34m\u001b[0m\u001b[0;34m\u001b[0m\u001b[0m\n\u001b[0m\u001b[1;32m     54\u001b[0m \u001b[0;34m\u001b[0m\u001b[0m\n\u001b[1;32m     55\u001b[0m     \u001b[0max\u001b[0m\u001b[0;34m.\u001b[0m\u001b[0mset_xticks\u001b[0m\u001b[0;34m(\u001b[0m\u001b[0mnp\u001b[0m\u001b[0;34m.\u001b[0m\u001b[0marange\u001b[0m\u001b[0;34m(\u001b[0m\u001b[0mdata\u001b[0m\u001b[0;34m.\u001b[0m\u001b[0mshape\u001b[0m\u001b[0;34m[\u001b[0m\u001b[0;36m1\u001b[0m\u001b[0;34m]\u001b[0m\u001b[0;34m+\u001b[0m\u001b[0;36m1\u001b[0m\u001b[0;34m)\u001b[0m\u001b[0;34m-\u001b[0m\u001b[0;36m.5\u001b[0m\u001b[0;34m,\u001b[0m \u001b[0mminor\u001b[0m\u001b[0;34m=\u001b[0m\u001b[0;32mTrue\u001b[0m\u001b[0;34m)\u001b[0m\u001b[0;34m\u001b[0m\u001b[0;34m\u001b[0m\u001b[0m\n",
      "\u001b[0;31mTypeError\u001b[0m: unhashable type: 'slice'"
     ]
    },
    {
     "data": {
      "image/png": "[encoded data removed]",
      "text/plain": [
       "<Figure size 576x432 with 5 Axes>"
      ]
     },
     "metadata": {
      "needs_background": "light"
     },
     "output_type": "display_data"
    }
   ],
   "source": [
    "np.random.seed(19680801)\n",
    "\n",
    "fig, ((ax, ax2), (ax3, ax4)) = plt.subplots(2, 2, figsize=(8, 6))\n",
    "\n",
    "# Replicate the above example with a different font size and colormap.\n",
    "\n",
    "\n",
    "data = np.random.randint(2, 100, size=(7, 7))\n",
    "x = ['COL', 'HI', 'GEN']\n",
    "y = ['HI', 'GEN', 'st1', 'st2', 'st3', 'st4', 'st5', 'st6']\n",
    "im, _ = heatmap(corr_matrix, y, x, ax=ax2, vmin=0,\n",
    "                cmap=\"magma_r\", cbarlabel=\"correlation coef.\")\n",
    "annotate_heatmap(im, valfmt=\"{x:d}\", size=7, threshold=20,\n",
    "                 textcolors=(\"red\", \"white\"))\n",
    "\n",
    "# Create some new data, give further arguments to imshow (vmin),\n",
    "# use an integer format on the annotations and provide some colors.\n",
    "\n",
    "data = np.random.randint(2, 100, size=(7, 7))\n",
    "x = ['COL', 'HI', 'GEN']\n",
    "y = ['HI', 'GEN', 'st1', 'st2', 'st3', 'st4', 'st5', 'st6']\n",
    "im, _ = heatmap(corr_matrix, y, x, ax=ax2, vmin=0,\n",
    "                cmap=\"magma_r\", cbarlabel=\"correlation coef.\")\n",
    "annotate_heatmap(im, valfmt=\"{x:d}\", size=7, threshold=20,\n",
    "                 textcolors=(\"red\", \"white\"))\n",
    "\n",
    "# Sometimes even the data itself is categorical. Here we use a\n",
    "# `matplotlib.colors.BoundaryNorm` to get the data into classes\n",
    "# and use this to colorize the plot, but also to obtain the class\n",
    "# labels from an array of classes.\n",
    "\n",
    "data = np.random.randn(6, 6)\n",
    "y = [\"Prod. {}\".format(i) for i in range(10, 70, 10)]\n",
    "x = [\"Cycle {}\".format(i) for i in range(1, 7)]\n",
    "\n",
    "qrates = list(\"ABCDEFG\")\n",
    "norm = matplotlib.colors.BoundaryNorm(np.linspace(-3.5, 3.5, 8), 7)\n",
    "fmt = matplotlib.ticker.FuncFormatter(lambda x, pos: qrates[::-1][norm(x)])\n",
    "\n",
    "im, _ = heatmap(data, y, x, ax=ax3,\n",
    "                cmap=plt.get_cmap(\"PiYG\", 7), norm=norm,\n",
    "                cbar_kw=dict(ticks=np.arange(-3, 4), format=fmt),\n",
    "                cbarlabel=\".\")\n",
    "\n",
    "annotate_heatmap(im, valfmt=fmt, size=9, fontweight=\"bold\", threshold=-1,\n",
    "                 textcolors=(\"red\", \"black\"))\n",
    "\n",
    "# We can nicely plot a correlation matrix. Since this is bound by -1 and 1,\n",
    "# we use those as vmin and vmax. We may also remove leading zeros and hide\n",
    "# the diagonal elements (which are all 1) by using a\n",
    "# `matplotlib.ticker.FuncFormatter`.\n",
    "\n",
    "corr_matrix = np.corrcoef(harvest)\n",
    "im, _ = heatmap(corr_matrix, vegetables, vegetables, ax=ax4,\n",
    "                cmap=\"PuOr\", vmin=-1, vmax=1,\n",
    "                cbarlabel=\".\")\n",
    "\n",
    "\n",
    "def func(x, pos):\n",
    "    return \"{:.2f}\".format(x).replace(\"0.\", \".\").replace(\"1.00\", \"\")\n",
    "\n",
    "annotate_heatmap(im, valfmt=matplotlib.ticker.FuncFormatter(func), size=7)\n",
    "\n",
    "\n",
    "plt.tight_layout()\n",
    "plt.show()"
   ]
  },
  {
   "cell_type": "code",
   "execution_count": null,
   "metadata": {},
   "outputs": [],
   "source": [
    "#On the standardized data\n",
    "dfs.columns"
   ]
  },
  {
   "cell_type": "code",
   "execution_count": null,
   "metadata": {},
   "outputs": [],
   "source": [
    "#Test correlation of two columns\n",
    "from scipy import stats\n",
    "\n",
    "#Gender_bin and HI_grade\n",
    "stats.pearsonr(dfs.GENDER_bin, dfs.HI_GRADE_AVG)[0]"
   ]
  },
  {
   "cell_type": "code",
   "execution_count": null,
   "metadata": {},
   "outputs": [],
   "source": [
    "## For loop for each columnsxcolumn pair (without stratum)\n",
    "\n",
    "# only get df with columns needed\n",
    "dfs_use = dfs[['COL_GRADE_AVG', 'HI_GRADE_AVG','GENDER_bin']]\n",
    "\n",
    "# 3x3 matrix\n",
    "corr_matrix = np.empty((3,3))\n",
    "a_array = []                  "
   ]
  },
  {
   "cell_type": "code",
   "execution_count": null,
   "metadata": {},
   "outputs": [],
   "source": [
    "a_array.append(stats.pearsonr(x, y)[0])"
   ]
  },
  {
   "cell_type": "code",
   "execution_count": null,
   "metadata": {},
   "outputs": [],
   "source": [
    "for i, col1 in enumerate(dfs_use.columns):\n",
    "    x = col1\n",
    "    for col2 in dfs_use.columns:\n",
    "        y = col2\n",
    "        a_array.append(stats.pearsonr(x, y)[0])\n",
    "    np.insert(corr_matrix, i, a_array, axis=0)"
   ]
  },
  {
   "cell_type": "code",
   "execution_count": null,
   "metadata": {
    "scrolled": false
   },
   "outputs": [],
   "source": [
    "corr = dfs_use.corr()\n",
    "\n",
    "# Generate a mask for the upper triangle\n",
    "mask = np.triu(np.ones_like(corr, dtype=bool))\n",
    "\n",
    "# Set up the matplotlib figure\n",
    "f, ax = plt.subplots(figsize=(11, 9))\n",
    "\n",
    "# Draw the heatmap with the mask and correct aspect ratio\n",
    "sns.heatmap(corr, mask=mask, vmax=.3, center=0,\n",
    "            square=True, linewidths=.5, cbar_kws={\"shrink\": .5})\n",
    "plt.show()"
   ]
  },
  {
   "cell_type": "markdown",
   "metadata": {},
   "source": [
    "# Correlation on "
   ]
  },
  {
   "cell_type": "code",
   "execution_count": null,
   "metadata": {},
   "outputs": [],
   "source": [
    "#Try to use with x test\n",
    "df_xtest = pd.read_csv('X_test_raw-kopi.csv')\n"
   ]
  },
  {
   "cell_type": "code",
   "execution_count": null,
   "metadata": {},
   "outputs": [],
   "source": [
    "df_xtest"
   ]
  },
  {
   "cell_type": "code",
   "execution_count": null,
   "metadata": {},
   "outputs": [],
   "source": [
    "dfx_use = df_xtest[['COL_GRADE_AVG', 'HI_GRADE_AVG','GENDER_bin']]\n"
   ]
  },
  {
   "cell_type": "code",
   "execution_count": null,
   "metadata": {},
   "outputs": [],
   "source": []
  },
  {
   "cell_type": "code",
   "execution_count": null,
   "metadata": {},
   "outputs": [],
   "source": []
  },
  {
   "cell_type": "code",
   "execution_count": null,
   "metadata": {},
   "outputs": [],
   "source": []
  },
  {
   "cell_type": "code",
   "execution_count": null,
   "metadata": {},
   "outputs": [],
   "source": [
    "a_array.append(stats.pearsonr(dfs_use.COL_GRADE_AVG, dfs_use.HI_GRADE_AVG)[0])"
   ]
  },
  {
   "cell_type": "code",
   "execution_count": null,
   "metadata": {},
   "outputs": [],
   "source": [
    "a_array.append(stats.pearsonr(dfs_use.COL_GRADE_AVG, dfs_use.GENDER_bin)[0])"
   ]
  },
  {
   "cell_type": "code",
   "execution_count": null,
   "metadata": {},
   "outputs": [],
   "source": [
    "a_array.append(stats.pearsonr(dfs_use.HI_GRADE_AVG, dfs_use.GENDER_bin)[0])"
   ]
  },
  {
   "cell_type": "code",
   "execution_count": null,
   "metadata": {},
   "outputs": [],
   "source": [
    "a_array"
   ]
  },
  {
   "cell_type": "code",
   "execution_count": null,
   "metadata": {},
   "outputs": [],
   "source": [
    "#a_array = []\n",
    "#a_array.append(stats.pearsonr(dfs.GENDER_bin, dfs.HI_GRADE_AVG)[0])\n",
    "#a_array.append(stats.pearsonr(dfs.STRATUM, dfs.HI_GRADE_AVG)[0])"
   ]
  },
  {
   "cell_type": "code",
   "execution_count": null,
   "metadata": {},
   "outputs": [],
   "source": [
    "a_array"
   ]
  },
  {
   "cell_type": "code",
   "execution_count": null,
   "metadata": {},
   "outputs": [],
   "source": [
    "corr_matrix "
   ]
  },
  {
   "cell_type": "code",
   "execution_count": null,
   "metadata": {},
   "outputs": [],
   "source": [
    "corr_matrix = np.empty((4,4))\n",
    "\n",
    "np.insert(corr_matrix, 0, [0,0,0,0], axis=1)"
   ]
  },
  {
   "cell_type": "code",
   "execution_count": null,
   "metadata": {},
   "outputs": [],
   "source": []
  },
  {
   "cell_type": "markdown",
   "metadata": {},
   "source": [
    "#### Testing correlation between socioeconomic level (sns) and socioeconomic level of the Institution of higher education"
   ]
  },
  {
   "cell_type": "code",
   "execution_count": null,
   "metadata": {
    "scrolled": true
   },
   "outputs": [],
   "source": [
    "#correlation\n",
    "df['SEL'].corr(df['SEL_IHE'])"
   ]
  },
  {
   "cell_type": "code",
   "execution_count": null,
   "metadata": {},
   "outputs": [],
   "source": [
    "#plot to see which direction the people with sel goes. \n",
    "df['diff_ENG'] = abs(df['ENG_S11']-df['ENG_PRO'])\n",
    "df['diff_ENG'].hist()"
   ]
  },
  {
   "cell_type": "code",
   "execution_count": null,
   "metadata": {
    "scrolled": true
   },
   "outputs": [],
   "source": [
    "#plot to see which direction the people with sel goes. \n",
    "df['diff_SEL_SEL_IHE'] = df['SEL']-df['SEL_IHE']\n",
    "df['diff_SEL_SEL_IHE'].hist()\n",
    "\n",
    "#prøv at lave til stack"
   ]
  },
  {
   "cell_type": "code",
   "execution_count": null,
   "metadata": {},
   "outputs": [],
   "source": [
    "df_plot = df.groupby(['diff_SEL_SEL_IHE', 'SEL']).size().reset_index().pivot(columns='SEL', index='diff_SEL_SEL_IHE', values=0)\n",
    "df_plot"
   ]
  },
  {
   "cell_type": "code",
   "execution_count": null,
   "metadata": {
    "scrolled": true
   },
   "outputs": [],
   "source": [
    "figure(figsize=(8, 6), dpi=80)\n",
    "df_plot.plot(kind='bar', stacked=True)"
   ]
  },
  {
   "cell_type": "code",
   "execution_count": null,
   "metadata": {},
   "outputs": [],
   "source": [
    "df.SEL.value_counts()"
   ]
  },
  {
   "cell_type": "code",
   "execution_count": null,
   "metadata": {},
   "outputs": [],
   "source": [
    "#create column with n occurences of combination, to plot a bubble chart\n",
    "count_series = df.groupby(['SEL', 'SEL_IHE']).size()\n",
    "df2 = count_series.to_frame(name = 'size').reset_index()\n",
    "df2[:5]"
   ]
  },
  {
   "cell_type": "code",
   "execution_count": null,
   "metadata": {
    "scrolled": true
   },
   "outputs": [],
   "source": [
    "# Plotting bubble chart to see number of occurences for each combination\n",
    "sns.scatterplot(data=df2, x=\"SEL\", y=\"SEL_IHE\", size=\"size\",legend=False, sizes=(20, 2000))"
   ]
  },
  {
   "cell_type": "markdown",
   "metadata": {},
   "source": [
    "### Stratum, sisben and socioeconomic level"
   ]
  },
  {
   "cell_type": "code",
   "execution_count": null,
   "metadata": {},
   "outputs": [],
   "source": [
    "# new columns for stratum and sisben with int values\n",
    "df[\"STRATUM\"].replace({'Stratum 4':4, 'Stratum 5':5, 'Stratum 2':2, 'Stratum 6':6, 'Stratum 3':3,\n",
    "       'Stratum 1':1, '0':0}, inplace=True)\n",
    "\n",
    "df[\"SISBEN\"].replace({'It is not classified by the SISBEN':None, 'Level 2':2, 'Level 1':1, 'Esta clasificada en otro Level del SISBEN':4, 'Level 3':3, '0':0}, inplace=True)\n"
   ]
  },
  {
   "cell_type": "code",
   "execution_count": null,
   "metadata": {},
   "outputs": [],
   "source": [
    "df[\"STRATUM\"].value_counts()"
   ]
  },
  {
   "cell_type": "code",
   "execution_count": null,
   "metadata": {},
   "outputs": [],
   "source": [
    "df[\"SISBEN\"].value_counts()"
   ]
  },
  {
   "cell_type": "code",
   "execution_count": null,
   "metadata": {},
   "outputs": [],
   "source": [
    "corr_df = df[[\"SISBEN\",\"STRATUM\", \"SEL\" ]]\n",
    "sns.heatmap(corr_df.corr())"
   ]
  },
  {
   "cell_type": "code",
   "execution_count": null,
   "metadata": {},
   "outputs": [],
   "source": [
    "df[\"STRATUM\"]"
   ]
  },
  {
   "cell_type": "code",
   "execution_count": null,
   "metadata": {},
   "outputs": [],
   "source": []
  }
 ],
 "metadata": {
  "kernelspec": {
   "display_name": "Python 3 (ipykernel)",
   "language": "python",
   "name": "python3"
  },
  "language_info": {
   "codemirror_mode": {
    "name": "ipython",
    "version": 3
   },
   "file_extension": ".py",
   "mimetype": "text/x-python",
   "name": "python",
   "nbconvert_exporter": "python",
   "pygments_lexer": "ipython3",
   "version": "3.8.5"
  }
 },
 "nbformat": 4,
 "nbformat_minor": 4
}
