{
 "cells": [
  {
   "cell_type": "markdown",
   "metadata": {},
   "source": [
    "# Gabi tester datavisualisering "
   ]
  },
  {
   "cell_type": "code",
   "execution_count": 1,
   "metadata": {},
   "outputs": [],
   "source": [
    "import pandas as pd\n",
    "pd.set_option(\"display.max_columns\", None)\n",
    "#import seaborn as sns\n",
    "#sns.set()\n",
    "import matplotlib.pyplot as plt\n",
    "from matplotlib.pyplot import figure\n",
    "import matplotlib as mpl\n",
    "import numpy as np"
   ]
  },
  {
   "cell_type": "code",
   "execution_count": null,
   "metadata": {},
   "outputs": [],
   "source": [
    "def setup_mpl():\n",
    "    mpl.rcParams[\"font.family\"] = \"Helvetica Neue\"\n",
    "    mpl.rcParams[\"font.size\"] = 11\n",
    "    mpl.rcParams[\"figure.figsize\"] = (7,2.5)\n",
    "    mpl.rcParams[\"figure.dpi\"] = 200\n",
    "    # mpl.rcParams[\"lines.linewidth\"] = 1\n",
    "setup_mpl()"
   ]
  },
  {
   "cell_type": "code",
   "execution_count": 2,
   "metadata": {},
   "outputs": [],
   "source": [
    "dfs = pd.read_csv(\"GUDF.csv\")\n",
    "dfs = dfs[dfs.STRATUM != \"0\"] "
   ]
  },
  {
   "cell_type": "code",
   "execution_count": null,
   "metadata": {},
   "outputs": [],
   "source": [
    "dfs"
   ]
  },
  {
   "cell_type": "code",
   "execution_count": null,
   "metadata": {},
   "outputs": [],
   "source": [
    "df"
   ]
  },
  {
   "cell_type": "code",
   "execution_count": null,
   "metadata": {},
   "outputs": [],
   "source": [
    "#Start here and load the dataframe\n",
    "df = pd.read_csv(\"dropped_col_df.csv\")\n",
    "df = df[df.STRATUM != \"0\"] #0 corresponds to nan, i.e. removing nans"
   ]
  },
  {
   "cell_type": "code",
   "execution_count": null,
   "metadata": {},
   "outputs": [],
   "source": [
    "df.info()"
   ]
  },
  {
   "cell_type": "code",
   "execution_count": null,
   "metadata": {
    "scrolled": true
   },
   "outputs": [],
   "source": [
    "df.head()"
   ]
  },
  {
   "cell_type": "code",
   "execution_count": null,
   "metadata": {},
   "outputs": [],
   "source": [
    "df.SEL_IHE.value_counts()"
   ]
  },
  {
   "cell_type": "code",
   "execution_count": null,
   "metadata": {},
   "outputs": [],
   "source": [
    "# Men and women college grades average histograms\n",
    "# plt.figure(figsize=(8,6))\n",
    "men = df[df.GENDER=='M'][['GENDER','COL_GRADE_AVG']]\n",
    "women = df[df.GENDER=='F'][['GENDER','COL_GRADE_AVG']]\n",
    "fig,ax = plt.subplots()\n",
    "plt.hist([women.COL_GRADE_AVG, men.COL_GRADE_AVG], 31, histtype='barstacked', density=False, alpha=0.4, edgecolor='none', label=['Females','Males'])\n",
    "#TODO legend added\n",
    "\n",
    "plt.xlabel(\"Average grades in highschool\", size=14)\n",
    "plt.legend()\n",
    "plt.ylabel(\"Count\", size=14)\n",
    "plt.title(\"College grades distributions of females and males\")\n",
    "plt.legend(loc='upper right')\n"
   ]
  },
  {
   "cell_type": "markdown",
   "metadata": {},
   "source": [
    "## Normalization of data"
   ]
  },
  {
   "cell_type": "markdown",
   "metadata": {},
   "source": [
    "#### Average score generation"
   ]
  },
  {
   "cell_type": "code",
   "execution_count": null,
   "metadata": {},
   "outputs": [],
   "source": [
    "df[\"HI_GRADE_AVG\"] = df[[\"CR_S11\", \"CC_S11\", \"ENG_S11\"]].mean(axis=1)\n",
    "df[\"COL_GRADE_AVG\"] = df[[\"CR_PRO\", \"CC_PRO\", \"ENG_PRO\"]].mean(axis=1)"
   ]
  },
  {
   "cell_type": "markdown",
   "metadata": {},
   "source": [
    "#### Gender distribution"
   ]
  },
  {
   "cell_type": "code",
   "execution_count": null,
   "metadata": {},
   "outputs": [],
   "source": [
    "df[[\"GENDER\", \"HI_GRADE_AVG\"]].groupby([\"GENDER\"]).mean()"
   ]
  },
  {
   "cell_type": "code",
   "execution_count": null,
   "metadata": {},
   "outputs": [],
   "source": [
    "df[[\"GENDER\", \"HI_GRADE_AVG\"]].groupby([\"GENDER\"]).mean()\n",
    "df[[\"GENDER\", \"Unnamed: 0\"]].groupby([\"GENDER\"]).count()"
   ]
  },
  {
   "cell_type": "markdown",
   "metadata": {},
   "source": [
    "#### Socieconomic levels (\"Stratum\") distribution"
   ]
  },
  {
   "cell_type": "code",
   "execution_count": null,
   "metadata": {},
   "outputs": [],
   "source": [
    "df[[\"SEL\", \"STRATUM\", \"Unnamed: 0\"]].groupby([\"SEL\",\"STRATUM\"]).count()"
   ]
  },
  {
   "cell_type": "code",
   "execution_count": null,
   "metadata": {},
   "outputs": [],
   "source": [
    "# Vi holder os til de klasser der er\n",
    "\n",
    "strat_df = df[[\"STRATUM\", \"Unnamed: 0\"]].groupby([\"STRATUM\"]).count()\n",
    "strat_df[\"n_strat_ratio\"] = strat_df[\"Unnamed: 0\"].apply(lambda x: (x/(len(df))*100))\n",
    "strat_df"
   ]
  },
  {
   "cell_type": "code",
   "execution_count": null,
   "metadata": {},
   "outputs": [],
   "source": [
    "df[[\"STRATUM\", \"HI_GRADE_AVG\"]].groupby([\"STRATUM\"]).mean()"
   ]
  },
  {
   "cell_type": "markdown",
   "metadata": {},
   "source": [
    "#### Average both Gender and Socioeconomic level"
   ]
  },
  {
   "cell_type": "code",
   "execution_count": null,
   "metadata": {},
   "outputs": [],
   "source": [
    "df[[\"STRATUM\",\"GENDER\", \"HI_GRADE_AVG\"]].groupby([\"STRATUM\", \"GENDER\"]).mean()"
   ]
  },
  {
   "cell_type": "markdown",
   "metadata": {},
   "source": [
    "#### Number of individuals by gender&socioeconomic level"
   ]
  },
  {
   "cell_type": "code",
   "execution_count": 59,
   "metadata": {},
   "outputs": [
    {
     "ename": "KeyError",
     "evalue": "\"['STRATUM'] not in index\"",
     "output_type": "error",
     "traceback": [
      "\u001b[0;31m---------------------------------------------------------------------------\u001b[0m",
      "\u001b[0;31mKeyError\u001b[0m                                  Traceback (most recent call last)",
      "\u001b[0;32m/var/folders/hl/6j_44f453mvc5lr922s8d0l80000gn/T/ipykernel_13061/15329693.py\u001b[0m in \u001b[0;36m<module>\u001b[0;34m\u001b[0m\n\u001b[0;32m----> 1\u001b[0;31m \u001b[0mdf_gen_soc\u001b[0m \u001b[0;34m=\u001b[0m \u001b[0mdf\u001b[0m\u001b[0;34m[\u001b[0m\u001b[0;34m[\u001b[0m\u001b[0;34m\"STRATUM\"\u001b[0m\u001b[0;34m,\u001b[0m\u001b[0;34m\"GENDER\"\u001b[0m\u001b[0;34m,\u001b[0m \u001b[0;34m\"Unnamed: 0\"\u001b[0m\u001b[0;34m]\u001b[0m\u001b[0;34m]\u001b[0m\u001b[0;34m.\u001b[0m\u001b[0mgroupby\u001b[0m\u001b[0;34m(\u001b[0m\u001b[0;34m[\u001b[0m\u001b[0;34m\"STRATUM\"\u001b[0m\u001b[0;34m,\u001b[0m \u001b[0;34m\"GENDER\"\u001b[0m\u001b[0;34m]\u001b[0m\u001b[0;34m)\u001b[0m\u001b[0;34m.\u001b[0m\u001b[0mcount\u001b[0m\u001b[0;34m(\u001b[0m\u001b[0;34m)\u001b[0m\u001b[0;34m\u001b[0m\u001b[0;34m\u001b[0m\u001b[0m\n\u001b[0m\u001b[1;32m      2\u001b[0m \u001b[0mdf_gen_soc\u001b[0m\u001b[0;34m\u001b[0m\u001b[0;34m\u001b[0m\u001b[0m\n",
      "\u001b[0;32m~/opt/anaconda3/lib/python3.8/site-packages/pandas/core/frame.py\u001b[0m in \u001b[0;36m__getitem__\u001b[0;34m(self, key)\u001b[0m\n\u001b[1;32m   3459\u001b[0m             \u001b[0;32mif\u001b[0m \u001b[0mis_iterator\u001b[0m\u001b[0;34m(\u001b[0m\u001b[0mkey\u001b[0m\u001b[0;34m)\u001b[0m\u001b[0;34m:\u001b[0m\u001b[0;34m\u001b[0m\u001b[0;34m\u001b[0m\u001b[0m\n\u001b[1;32m   3460\u001b[0m                 \u001b[0mkey\u001b[0m \u001b[0;34m=\u001b[0m \u001b[0mlist\u001b[0m\u001b[0;34m(\u001b[0m\u001b[0mkey\u001b[0m\u001b[0;34m)\u001b[0m\u001b[0;34m\u001b[0m\u001b[0;34m\u001b[0m\u001b[0m\n\u001b[0;32m-> 3461\u001b[0;31m             \u001b[0mindexer\u001b[0m \u001b[0;34m=\u001b[0m \u001b[0mself\u001b[0m\u001b[0;34m.\u001b[0m\u001b[0mloc\u001b[0m\u001b[0;34m.\u001b[0m\u001b[0m_get_listlike_indexer\u001b[0m\u001b[0;34m(\u001b[0m\u001b[0mkey\u001b[0m\u001b[0;34m,\u001b[0m \u001b[0maxis\u001b[0m\u001b[0;34m=\u001b[0m\u001b[0;36m1\u001b[0m\u001b[0;34m)\u001b[0m\u001b[0;34m[\u001b[0m\u001b[0;36m1\u001b[0m\u001b[0;34m]\u001b[0m\u001b[0;34m\u001b[0m\u001b[0;34m\u001b[0m\u001b[0m\n\u001b[0m\u001b[1;32m   3462\u001b[0m \u001b[0;34m\u001b[0m\u001b[0m\n\u001b[1;32m   3463\u001b[0m         \u001b[0;31m# take() does not accept boolean indexers\u001b[0m\u001b[0;34m\u001b[0m\u001b[0;34m\u001b[0m\u001b[0;34m\u001b[0m\u001b[0m\n",
      "\u001b[0;32m~/opt/anaconda3/lib/python3.8/site-packages/pandas/core/indexing.py\u001b[0m in \u001b[0;36m_get_listlike_indexer\u001b[0;34m(self, key, axis)\u001b[0m\n\u001b[1;32m   1312\u001b[0m             \u001b[0mkeyarr\u001b[0m\u001b[0;34m,\u001b[0m \u001b[0mindexer\u001b[0m\u001b[0;34m,\u001b[0m \u001b[0mnew_indexer\u001b[0m \u001b[0;34m=\u001b[0m \u001b[0max\u001b[0m\u001b[0;34m.\u001b[0m\u001b[0m_reindex_non_unique\u001b[0m\u001b[0;34m(\u001b[0m\u001b[0mkeyarr\u001b[0m\u001b[0;34m)\u001b[0m\u001b[0;34m\u001b[0m\u001b[0;34m\u001b[0m\u001b[0m\n\u001b[1;32m   1313\u001b[0m \u001b[0;34m\u001b[0m\u001b[0m\n\u001b[0;32m-> 1314\u001b[0;31m         \u001b[0mself\u001b[0m\u001b[0;34m.\u001b[0m\u001b[0m_validate_read_indexer\u001b[0m\u001b[0;34m(\u001b[0m\u001b[0mkeyarr\u001b[0m\u001b[0;34m,\u001b[0m \u001b[0mindexer\u001b[0m\u001b[0;34m,\u001b[0m \u001b[0maxis\u001b[0m\u001b[0;34m)\u001b[0m\u001b[0;34m\u001b[0m\u001b[0;34m\u001b[0m\u001b[0m\n\u001b[0m\u001b[1;32m   1315\u001b[0m \u001b[0;34m\u001b[0m\u001b[0m\n\u001b[1;32m   1316\u001b[0m         if needs_i8_conversion(ax.dtype) or isinstance(\n",
      "\u001b[0;32m~/opt/anaconda3/lib/python3.8/site-packages/pandas/core/indexing.py\u001b[0m in \u001b[0;36m_validate_read_indexer\u001b[0;34m(self, key, indexer, axis)\u001b[0m\n\u001b[1;32m   1375\u001b[0m \u001b[0;34m\u001b[0m\u001b[0m\n\u001b[1;32m   1376\u001b[0m             \u001b[0mnot_found\u001b[0m \u001b[0;34m=\u001b[0m \u001b[0mlist\u001b[0m\u001b[0;34m(\u001b[0m\u001b[0mensure_index\u001b[0m\u001b[0;34m(\u001b[0m\u001b[0mkey\u001b[0m\u001b[0;34m)\u001b[0m\u001b[0;34m[\u001b[0m\u001b[0mmissing_mask\u001b[0m\u001b[0;34m.\u001b[0m\u001b[0mnonzero\u001b[0m\u001b[0;34m(\u001b[0m\u001b[0;34m)\u001b[0m\u001b[0;34m[\u001b[0m\u001b[0;36m0\u001b[0m\u001b[0;34m]\u001b[0m\u001b[0;34m]\u001b[0m\u001b[0;34m.\u001b[0m\u001b[0munique\u001b[0m\u001b[0;34m(\u001b[0m\u001b[0;34m)\u001b[0m\u001b[0;34m)\u001b[0m\u001b[0;34m\u001b[0m\u001b[0;34m\u001b[0m\u001b[0m\n\u001b[0;32m-> 1377\u001b[0;31m             \u001b[0;32mraise\u001b[0m \u001b[0mKeyError\u001b[0m\u001b[0;34m(\u001b[0m\u001b[0;34mf\"{not_found} not in index\"\u001b[0m\u001b[0;34m)\u001b[0m\u001b[0;34m\u001b[0m\u001b[0;34m\u001b[0m\u001b[0m\n\u001b[0m\u001b[1;32m   1378\u001b[0m \u001b[0;34m\u001b[0m\u001b[0m\n\u001b[1;32m   1379\u001b[0m \u001b[0;34m\u001b[0m\u001b[0m\n",
      "\u001b[0;31mKeyError\u001b[0m: \"['STRATUM'] not in index\""
     ]
    }
   ],
   "source": [
    "df_gen_soc = df[[\"STRATUM\",\"GENDER\", \"Unnamed: 0\"]].groupby([\"STRATUM\", \"GENDER\"]).count()\n",
    "df_gen_soc"
   ]
  },
  {
   "cell_type": "code",
   "execution_count": null,
   "metadata": {},
   "outputs": [],
   "source": [
    "#plot: stacked bar chart"
   ]
  },
  {
   "cell_type": "code",
   "execution_count": null,
   "metadata": {},
   "outputs": [],
   "source": [
    "df_gen_soc2 = df.groupby([\"STRATUM\", \"GENDER\"]).size().reset_index().pivot(columns='GENDER', index='STRATUM', values=0)\n",
    "df_gen_soc2\n"
   ]
  },
  {
   "cell_type": "code",
   "execution_count": null,
   "metadata": {},
   "outputs": [],
   "source": [
    "figure(figsize=(6, 4), dpi=60)\n",
    "df_gen_soc2.plot(kind='bar', stacked=True)\n",
    "plt.title(\"Number of individuals by gender&socioeconomic level\")\n",
    "plt.ylabel(\"freq\")\n",
    "plt.xlabel(\"Stratum\")"
   ]
  },
  {
   "cell_type": "markdown",
   "metadata": {},
   "source": [
    "### Distribution of grades by gender&socio-economic level (before and after college)"
   ]
  },
  {
   "cell_type": "code",
   "execution_count": null,
   "metadata": {},
   "outputs": [],
   "source": [
    "df.COL_GRADE_AVG"
   ]
  },
  {
   "cell_type": "code",
   "execution_count": null,
   "metadata": {},
   "outputs": [],
   "source": [
    "df_gen_soc_hc = df[['HI_GRADE_AVG', 'COL_GRADE_AVG', 'GENDER', 'STRATUM']]\n",
    "df_gen_soc_hc.head()"
   ]
  },
  {
   "cell_type": "code",
   "execution_count": null,
   "metadata": {},
   "outputs": [],
   "source": [
    "df_use = df_gen_soc_hc.groupby([\"STRATUM\", \"GENDER\"]).mean()\n",
    "df_use[\"DIFF\"] = df_use[\"COL_GRADE_AVG\"]-df_use[\"HI_GRADE_AVG\"]\n",
    "df_use.sort_index(ascending=False)"
   ]
  },
  {
   "cell_type": "code",
   "execution_count": null,
   "metadata": {},
   "outputs": [],
   "source": [
    "df_gen_soc_hc = df_gen_soc_hc.rename(columns = {\"HI_GRADE_AVG\":\"HI\", \"COL_GRADE_AVG\":\"COL\"})"
   ]
  },
  {
   "cell_type": "markdown",
   "metadata": {},
   "source": [
    "Tjek denne side: https://www.simplypsychology.org/boxplots.html"
   ]
  },
  {
   "cell_type": "code",
   "execution_count": null,
   "metadata": {},
   "outputs": [],
   "source": [
    "# plot af badass boxplot\n",
    "\n",
    "df_try = pd.melt(df_gen_soc_hc, id_vars=['GENDER', 'STRATUM'])\n",
    "df_try = df_try.rename(columns={\"variable\":\"Average_grade\"})\n",
    "\n",
    "b = sns.catplot(data=df_try, x='STRATUM', y='value', \n",
    "               hue='GENDER', col='Average_grade',\n",
    "               kind='box', legend=True, order=[\"Stratum 1\", \"Stratum 2\", \"Stratum 3\", \"Stratum 4\", \"Stratum 5\", \"Stratum 6\"])\n",
    "b.fig.subplots_adjust(top=.8)\n",
    "b.fig.suptitle('Boxplot of Average Grade Before and After College')\n",
    "\n",
    "\n",
    "plt.show()"
   ]
  },
  {
   "cell_type": "markdown",
   "metadata": {},
   "source": [
    "### Matrix showing the Pearson correlation between grades (before), grades (after), gender, socio-economic level"
   ]
  },
  {
   "cell_type": "code",
   "execution_count": null,
   "metadata": {},
   "outputs": [],
   "source": [
    "df_F = df_try[df_try.GENDER ==\"F\"]\n",
    "df_M = df_try[df_try.GENDER ==\"M\"]\n",
    "df_F_HI = df_F[df_F.Average_grade ==\"HI\"]\n",
    "df_F_COL = df_F[df_F.Average_grade ==\"COL\"]\n",
    "df_M_HI = df_M[df_M.Average_grade ==\"HI\"]\n",
    "df_M_COL = df_M[df_M.Average_grade ==\"COL\"]\n"
   ]
  },
  {
   "cell_type": "code",
   "execution_count": null,
   "metadata": {},
   "outputs": [],
   "source": [
    "def xdef(x,s):\n",
    "    if x[0] == s:\n",
    "        return x[1]\n",
    "    else:\n",
    "        return 0\n",
    "    \n",
    "# test = df_F_HI[[\"STRATUM\", \"value\"]][:10].apply(lambda x: xdef, axis=1)"
   ]
  },
  {
   "cell_type": "code",
   "execution_count": null,
   "metadata": {},
   "outputs": [],
   "source": [
    "strats = [\"Stratum 1\", \"Stratum 2\", \"Stratum 3\", \"Stratum 4\", \"Stratum 5\", \"Stratum 6\"]\n",
    "for s in strats:\n",
    "    df_F_HI[\"df_F_HI_{}\".format(s)] = df_F_HI[[\"STRATUM\", \"value\"]].apply(lambda x: xdef(x,s), axis=1)\n",
    "    df_F_COL[\"df_F_COL_{}\".format(s)] = df_F_COL[[\"STRATUM\", \"value\"]].apply(lambda x: xdef(x,s), axis=1)\n",
    "    df_M_HI[\"df_M_HI_{}\".format(s)] = df_M_HI[[\"STRATUM\", \"value\"]].apply(lambda x: xdef(x,s), axis=1)\n",
    "    df_M_COL[\"df_M_COL_{}\".format(s)] = df_M_COL[[\"STRATUM\", \"value\"]].apply(lambda x: xdef(x,s), axis=1)\n",
    "\n",
    "    "
   ]
  },
  {
   "cell_type": "code",
   "execution_count": null,
   "metadata": {},
   "outputs": [],
   "source": [
    "strats = [\"Stratum 1\", \"Stratum 2\", \"Stratum 3\", \"Stratum 4\", \"Stratum 5\", \"Stratum 6\"]\n",
    "for s in strats:\n",
    "    df_F_HI[\"df_F_HI_{}\".format(s)] = df_F_HI[df_F_HI.STRATUM == s].value\n",
    "    df_F_COL[\"df_F_COL_{}\".format(s)] = df_F_COL[df_F_COL.STRATUM == s].value\n",
    "    df_M_HI[\"df_M_HI_{}\".format(s)] = df_M_HI[df_M_HI.STRATUM == s].value\n",
    "    df_M_COL[\"df_M_COL_{}\".format(s)] = df_M_COL[df_M_COL.STRATUM == s].value\n"
   ]
  },
  {
   "cell_type": "code",
   "execution_count": null,
   "metadata": {},
   "outputs": [],
   "source": [
    "df_F_HI"
   ]
  },
  {
   "cell_type": "code",
   "execution_count": null,
   "metadata": {},
   "outputs": [],
   "source": [
    "strats = [\"Stratum 1\", \"Stratum 2\", \"Stratum 3\", \"Stratum 4\", \"Stratum 5\", \"Stratum 6\"]\n",
    "for s in strats:\n",
    "    df_F_HI[\"df_F_HI_{}\".format(s)] = df_F_HI[[\"STRATUM\", \"value\"]].apply(lambda x: xdef(x,s), axis=1)\n",
    "    df_F_COL[\"df_F_COL_{}\".format(s)] = df_F_COL[[\"STRATUM\", \"value\"]].apply(lambda x: xdef(x,s), axis=1)\n",
    "    df_M_HI[\"df_M_HI_{}\".format(s)] = df_M_HI[[\"STRATUM\", \"value\"]].apply(lambda x: xdef(x,s), axis=1)\n",
    "    df_M_COL[\"df_M_COL_{}\".format(s)] = df_M_COL[[\"STRATUM\", \"value\"]].apply(lambda x: xdef(x,s), axis=1)\n",
    "\n",
    "    \n",
    "    \n",
    "    "
   ]
  },
  {
   "cell_type": "code",
   "execution_count": null,
   "metadata": {},
   "outputs": [],
   "source": [
    "df_F_COL"
   ]
  },
  {
   "cell_type": "code",
   "execution_count": null,
   "metadata": {},
   "outputs": [],
   "source": [
    "#Merging\n",
    "result_df = pd.concat([df_F_HI.iloc[:,4:], df_F_COL.iloc[:,4:], df_M_HI.iloc[:,4:], df_M_COL.iloc[:,4:]], axis=1)"
   ]
  },
  {
   "cell_type": "code",
   "execution_count": null,
   "metadata": {},
   "outputs": [],
   "source": [
    "result_df"
   ]
  },
  {
   "cell_type": "code",
   "execution_count": null,
   "metadata": {},
   "outputs": [],
   "source": [
    "sns.heatmap(result_df.corr());"
   ]
  },
  {
   "cell_type": "markdown",
   "metadata": {},
   "source": [
    "### Split up pearson correlation:\n",
    "between grades (before), grades (after), gender, socio-economic level"
   ]
  },
  {
   "cell_type": "code",
   "execution_count": 58,
   "metadata": {},
   "outputs": [
    {
     "ename": "NameError",
     "evalue": "name 'df_gen_soc_hc' is not defined",
     "output_type": "error",
     "traceback": [
      "\u001b[0;31m---------------------------------------------------------------------------\u001b[0m",
      "\u001b[0;31mNameError\u001b[0m                                 Traceback (most recent call last)",
      "\u001b[0;32m/var/folders/hl/6j_44f453mvc5lr922s8d0l80000gn/T/ipykernel_13061/1860672693.py\u001b[0m in \u001b[0;36m<module>\u001b[0;34m\u001b[0m\n\u001b[0;32m----> 1\u001b[0;31m \u001b[0mdf_use\u001b[0m \u001b[0;34m=\u001b[0m \u001b[0mdf_gen_soc_hc\u001b[0m\u001b[0;34m.\u001b[0m\u001b[0mcopy\u001b[0m\u001b[0;34m(\u001b[0m\u001b[0;34m)\u001b[0m\u001b[0;34m\u001b[0m\u001b[0;34m\u001b[0m\u001b[0m\n\u001b[0m\u001b[1;32m      2\u001b[0m \u001b[0mdf_use\u001b[0m\u001b[0;34m\u001b[0m\u001b[0;34m\u001b[0m\u001b[0m\n",
      "\u001b[0;31mNameError\u001b[0m: name 'df_gen_soc_hc' is not defined"
     ]
    }
   ],
   "source": [
    "df_use = df_gen_soc_hc.copy()\n",
    "df_use"
   ]
  },
  {
   "cell_type": "code",
   "execution_count": null,
   "metadata": {},
   "outputs": [],
   "source": [
    "#new df with new cols \n",
    "\n",
    "df_F = df_use[df_use.GENDER == \"F\"]\n",
    "df_M = df_use[df_use.GENDER == \"M\"]\n",
    "df_M = df_M.rename(columns={\"HI\":\"HI_M\", \"COL\":\"COL_M\"})\n",
    "df_F = df_F.rename(columns={\"HI\":\"HI_F\", \"COL\":\"COL_F\"})\n",
    "\n",
    "df_F = df_F.reset_index(drop=True)\n",
    "df_M = df_M.reset_index(drop=True)\n",
    "\n",
    "\n",
    "df_F = df_F.drop([\"GENDER\", \"STRATUM\"], axis=1)\n",
    "df_M = df_M.drop([\"GENDER\", \"STRATUM\"], axis=1)"
   ]
  },
  {
   "cell_type": "code",
   "execution_count": null,
   "metadata": {},
   "outputs": [],
   "source": [
    "# Merge the two dfs\n",
    "df_FM = pd.concat([df_F,df_M], axis=1)"
   ]
  },
  {
   "cell_type": "code",
   "execution_count": null,
   "metadata": {},
   "outputs": [],
   "source": [
    "df_FM"
   ]
  },
  {
   "cell_type": "code",
   "execution_count": null,
   "metadata": {},
   "outputs": [],
   "source": [
    "sns.heatmap(df_FM.corr(method=\"pearson\"), vmin=0.0, vmax=1.0,  annot = True);"
   ]
  },
  {
   "cell_type": "markdown",
   "metadata": {},
   "source": [
    "USE: https://stackoverflow.com/questions/60731457/how-to-easily-group-values-to-improve-heatmap-visualization\n"
   ]
  },
  {
   "cell_type": "markdown",
   "metadata": {},
   "source": [
    "### For startums"
   ]
  },
  {
   "cell_type": "code",
   "execution_count": null,
   "metadata": {},
   "outputs": [],
   "source": [
    "df_S1 = df_use[df_use.STRATUM == \"Stratum 1\"]\n",
    "df_S2 = df_use[df_use.STRATUM == \"Stratum 2\"]\n",
    "df_S3 = df_use[df_use.STRATUM == \"Stratum 3\"]\n",
    "df_S4 = df_use[df_use.STRATUM == \"Stratum 4\"]\n",
    "df_S5 = df_use[df_use.STRATUM == \"Stratum 5\"]\n",
    "df_S6 = df_use[df_use.STRATUM == \"Stratum 6\"]\n",
    "\n",
    "\n",
    "df_S1 = df_S1.rename(columns={\"HI\":\"HI_S1\", \"COL\":\"COL_S1\"})\n",
    "df_S2 = df_S2.rename(columns={\"HI\":\"HI_S2\", \"COL\":\"COL_S2\"})\n",
    "df_S3 = df_S3.rename(columns={\"HI\":\"HI_S3\", \"COL\":\"COL_S3\"})\n",
    "df_S4 = df_S4.rename(columns={\"HI\":\"HI_S4\", \"COL\":\"COL_S4\"})\n",
    "df_S5 = df_S5.rename(columns={\"HI\":\"HI_S5\", \"COL\":\"COL_S5\"})\n",
    "df_S6 = df_S6.rename(columns={\"HI\":\"HI_S6\", \"COL\":\"COL_S6\"})\n"
   ]
  },
  {
   "cell_type": "code",
   "execution_count": null,
   "metadata": {},
   "outputs": [],
   "source": [
    "df_S1 = df_S1.reset_index(drop=True)\n",
    "df_S2 = df_S2.reset_index(drop=True)\n",
    "df_S3 = df_S3.reset_index(drop=True)\n",
    "df_S4 = df_S4.reset_index(drop=True)\n",
    "df_S5 = df_S5.reset_index(drop=True)\n",
    "df_S6 = df_S6.reset_index(drop=True)\n",
    "\n",
    "\n",
    "df_S1 = df_S1.drop([\"GENDER\", \"STRATUM\"], axis=1)\n",
    "df_S2 = df_S2.drop([\"GENDER\", \"STRATUM\"], axis=1)\n",
    "df_S3 = df_S3.drop([\"GENDER\", \"STRATUM\"], axis=1)\n",
    "df_S4 = df_S4.drop([\"GENDER\", \"STRATUM\"], axis=1)\n",
    "df_S5 = df_S5.drop([\"GENDER\", \"STRATUM\"], axis=1)\n",
    "df_S6 = df_S6.drop([\"GENDER\", \"STRATUM\"], axis=1)\n"
   ]
  },
  {
   "cell_type": "code",
   "execution_count": null,
   "metadata": {},
   "outputs": [],
   "source": [
    "# Merge all the stratum dfs\n",
    "df_St = pd.concat([df_S1, df_S2, df_S3, df_S4, df_S5 ,df_S6], axis=1)"
   ]
  },
  {
   "cell_type": "code",
   "execution_count": null,
   "metadata": {},
   "outputs": [],
   "source": [
    "figure(figsize=(12, 10), dpi=80)\n",
    "\n",
    "sns.heatmap(df_St.corr(method=\"pearson\"), vmin=0.0, vmax=1.0, annot = True);"
   ]
  },
  {
   "cell_type": "code",
   "execution_count": null,
   "metadata": {},
   "outputs": [],
   "source": [
    "sns.heatmap(df_use[[\"HI\", \"COL\"]].corr(method=\"pearson\"), vmin=0.0, vmax=1.0, annot = True);"
   ]
  },
  {
   "cell_type": "markdown",
   "metadata": {},
   "source": [
    "#### For each university's SEL_IHE,\n",
    "plot distribution"
   ]
  },
  {
   "cell_type": "code",
   "execution_count": null,
   "metadata": {},
   "outputs": [],
   "source": [
    "df_group = df[[\"SEL_IHE\", \"CR_PRO\", \"CC_PRO\", \"ENG_PRO\"]].groupby([\"SEL_IHE\"]).mean()"
   ]
  },
  {
   "cell_type": "code",
   "execution_count": null,
   "metadata": {},
   "outputs": [],
   "source": [
    "df_group.head()"
   ]
  },
  {
   "cell_type": "markdown",
   "metadata": {},
   "source": [
    "#### Overall correlation, to see which data to look for"
   ]
  },
  {
   "cell_type": "code",
   "execution_count": null,
   "metadata": {},
   "outputs": [],
   "source": [
    "df['Cod_SPro'].nunique()"
   ]
  },
  {
   "cell_type": "code",
   "execution_count": null,
   "metadata": {},
   "outputs": [],
   "source": [
    "df['SEL_IHE'].value_counts()"
   ]
  },
  {
   "cell_type": "code",
   "execution_count": null,
   "metadata": {
    "scrolled": false
   },
   "outputs": [],
   "source": [
    "figure(figsize=(8, 6), dpi=80)\n",
    "sns.heatmap(df.corr());"
   ]
  },
  {
   "cell_type": "markdown",
   "metadata": {},
   "source": [
    "## New correlation heatmap - Lauras version\n",
    "Make pearson correlation of two columns. Create nested for loop to go through combinations of the four columns and add pearson array to 4x4 matrix. End with (16/2)-4 size heatmap by applying imshow().\n",
    "\n",
    "Scipys pearson correlation has the output:  Pearson correlation coefficient and p-value for testing non-correlation."
   ]
  },
  {
   "cell_type": "markdown",
   "metadata": {},
   "source": [
    "## New correlations - our version\n",
    "Point biserial: https://en.wikipedia.org/wiki/Point-biserial_correlation_coefficient\n",
    "https://towardsdatascience.com/point-biserial-correlation-with-python-f7cd591bd3b1"
   ]
  },
  {
   "cell_type": "code",
   "execution_count": 44,
   "metadata": {},
   "outputs": [],
   "source": [
    "dfs\n",
    "dfs_use = pd.get_dummies(dfs,columns=['STRATUM'])\n",
    "dfs_use = pd.get_dummies(dfs_use,columns=['GENDER'])"
   ]
  },
  {
   "cell_type": "code",
   "execution_count": 4,
   "metadata": {},
   "outputs": [
    {
     "data": {
      "text/html": [
       "<div>\n",
       "<style scoped>\n",
       "    .dataframe tbody tr th:only-of-type {\n",
       "        vertical-align: middle;\n",
       "    }\n",
       "\n",
       "    .dataframe tbody tr th {\n",
       "        vertical-align: top;\n",
       "    }\n",
       "\n",
       "    .dataframe thead th {\n",
       "        text-align: right;\n",
       "    }\n",
       "</style>\n",
       "<table border=\"1\" class=\"dataframe\">\n",
       "  <thead>\n",
       "    <tr style=\"text-align: right;\">\n",
       "      <th></th>\n",
       "      <th>Unnamed: 0</th>\n",
       "      <th>SCHOOL_NAT</th>\n",
       "      <th>SCHOOL_TYPE</th>\n",
       "      <th>MAT_S11</th>\n",
       "      <th>CR_S11</th>\n",
       "      <th>CC_S11</th>\n",
       "      <th>BIO_S11</th>\n",
       "      <th>ENG_S11</th>\n",
       "      <th>QR_PRO</th>\n",
       "      <th>CR_PRO</th>\n",
       "      <th>CC_PRO</th>\n",
       "      <th>ENG_PRO</th>\n",
       "      <th>WC_PRO</th>\n",
       "      <th>COL_GRADE_AVG</th>\n",
       "      <th>HI_GRADE_AVG</th>\n",
       "      <th>GENDER_bin</th>\n",
       "      <th>STRATUM_Stratum_1</th>\n",
       "      <th>STRATUM_Stratum_2</th>\n",
       "      <th>STRATUM_Stratum_3</th>\n",
       "      <th>STRATUM_Stratum_4</th>\n",
       "      <th>STRATUM_Stratum_5</th>\n",
       "      <th>STRATUM_Stratum_6</th>\n",
       "      <th>GENDER_F</th>\n",
       "      <th>GENDER_M</th>\n",
       "    </tr>\n",
       "  </thead>\n",
       "  <tbody>\n",
       "    <tr>\n",
       "      <th>0</th>\n",
       "      <td>0</td>\n",
       "      <td>PRIVATE</td>\n",
       "      <td>ACADEMIC</td>\n",
       "      <td>71</td>\n",
       "      <td>81</td>\n",
       "      <td>61</td>\n",
       "      <td>86</td>\n",
       "      <td>82</td>\n",
       "      <td>71</td>\n",
       "      <td>93</td>\n",
       "      <td>71</td>\n",
       "      <td>93</td>\n",
       "      <td>79</td>\n",
       "      <td>85.666667</td>\n",
       "      <td>74.666667</td>\n",
       "      <td>1</td>\n",
       "      <td>0</td>\n",
       "      <td>0</td>\n",
       "      <td>0</td>\n",
       "      <td>1</td>\n",
       "      <td>0</td>\n",
       "      <td>0</td>\n",
       "      <td>1</td>\n",
       "      <td>0</td>\n",
       "    </tr>\n",
       "    <tr>\n",
       "      <th>1</th>\n",
       "      <td>1</td>\n",
       "      <td>PRIVATE</td>\n",
       "      <td>ACADEMIC</td>\n",
       "      <td>83</td>\n",
       "      <td>75</td>\n",
       "      <td>66</td>\n",
       "      <td>100</td>\n",
       "      <td>88</td>\n",
       "      <td>97</td>\n",
       "      <td>38</td>\n",
       "      <td>86</td>\n",
       "      <td>98</td>\n",
       "      <td>78</td>\n",
       "      <td>74.000000</td>\n",
       "      <td>76.333333</td>\n",
       "      <td>1</td>\n",
       "      <td>0</td>\n",
       "      <td>0</td>\n",
       "      <td>0</td>\n",
       "      <td>0</td>\n",
       "      <td>1</td>\n",
       "      <td>0</td>\n",
       "      <td>1</td>\n",
       "      <td>0</td>\n",
       "    </tr>\n",
       "    <tr>\n",
       "      <th>2</th>\n",
       "      <td>2</td>\n",
       "      <td>PRIVATE</td>\n",
       "      <td>ACADEMIC</td>\n",
       "      <td>52</td>\n",
       "      <td>49</td>\n",
       "      <td>38</td>\n",
       "      <td>46</td>\n",
       "      <td>42</td>\n",
       "      <td>17</td>\n",
       "      <td>1</td>\n",
       "      <td>18</td>\n",
       "      <td>43</td>\n",
       "      <td>22</td>\n",
       "      <td>20.666667</td>\n",
       "      <td>43.000000</td>\n",
       "      <td>0</td>\n",
       "      <td>0</td>\n",
       "      <td>1</td>\n",
       "      <td>0</td>\n",
       "      <td>0</td>\n",
       "      <td>0</td>\n",
       "      <td>0</td>\n",
       "      <td>0</td>\n",
       "      <td>1</td>\n",
       "    </tr>\n",
       "    <tr>\n",
       "      <th>3</th>\n",
       "      <td>3</td>\n",
       "      <td>PRIVATE</td>\n",
       "      <td>ACADEMIC</td>\n",
       "      <td>56</td>\n",
       "      <td>55</td>\n",
       "      <td>51</td>\n",
       "      <td>64</td>\n",
       "      <td>73</td>\n",
       "      <td>65</td>\n",
       "      <td>35</td>\n",
       "      <td>76</td>\n",
       "      <td>80</td>\n",
       "      <td>48</td>\n",
       "      <td>63.666667</td>\n",
       "      <td>59.666667</td>\n",
       "      <td>1</td>\n",
       "      <td>0</td>\n",
       "      <td>1</td>\n",
       "      <td>0</td>\n",
       "      <td>0</td>\n",
       "      <td>0</td>\n",
       "      <td>0</td>\n",
       "      <td>1</td>\n",
       "      <td>0</td>\n",
       "    </tr>\n",
       "    <tr>\n",
       "      <th>4</th>\n",
       "      <td>4</td>\n",
       "      <td>PRIVATE</td>\n",
       "      <td>ACADEMIC</td>\n",
       "      <td>80</td>\n",
       "      <td>65</td>\n",
       "      <td>76</td>\n",
       "      <td>85</td>\n",
       "      <td>92</td>\n",
       "      <td>94</td>\n",
       "      <td>94</td>\n",
       "      <td>98</td>\n",
       "      <td>100</td>\n",
       "      <td>71</td>\n",
       "      <td>97.333333</td>\n",
       "      <td>77.666667</td>\n",
       "      <td>0</td>\n",
       "      <td>0</td>\n",
       "      <td>0</td>\n",
       "      <td>0</td>\n",
       "      <td>1</td>\n",
       "      <td>0</td>\n",
       "      <td>0</td>\n",
       "      <td>0</td>\n",
       "      <td>1</td>\n",
       "    </tr>\n",
       "    <tr>\n",
       "      <th>...</th>\n",
       "      <td>...</td>\n",
       "      <td>...</td>\n",
       "      <td>...</td>\n",
       "      <td>...</td>\n",
       "      <td>...</td>\n",
       "      <td>...</td>\n",
       "      <td>...</td>\n",
       "      <td>...</td>\n",
       "      <td>...</td>\n",
       "      <td>...</td>\n",
       "      <td>...</td>\n",
       "      <td>...</td>\n",
       "      <td>...</td>\n",
       "      <td>...</td>\n",
       "      <td>...</td>\n",
       "      <td>...</td>\n",
       "      <td>...</td>\n",
       "      <td>...</td>\n",
       "      <td>...</td>\n",
       "      <td>...</td>\n",
       "      <td>...</td>\n",
       "      <td>...</td>\n",
       "      <td>...</td>\n",
       "      <td>...</td>\n",
       "    </tr>\n",
       "    <tr>\n",
       "      <th>12406</th>\n",
       "      <td>12406</td>\n",
       "      <td>PRIVATE</td>\n",
       "      <td>ACADEMIC</td>\n",
       "      <td>67</td>\n",
       "      <td>69</td>\n",
       "      <td>70</td>\n",
       "      <td>67</td>\n",
       "      <td>81</td>\n",
       "      <td>88</td>\n",
       "      <td>71</td>\n",
       "      <td>86</td>\n",
       "      <td>87</td>\n",
       "      <td>65</td>\n",
       "      <td>81.333333</td>\n",
       "      <td>73.333333</td>\n",
       "      <td>0</td>\n",
       "      <td>0</td>\n",
       "      <td>1</td>\n",
       "      <td>0</td>\n",
       "      <td>0</td>\n",
       "      <td>0</td>\n",
       "      <td>0</td>\n",
       "      <td>0</td>\n",
       "      <td>1</td>\n",
       "    </tr>\n",
       "    <tr>\n",
       "      <th>12407</th>\n",
       "      <td>12407</td>\n",
       "      <td>PUBLIC</td>\n",
       "      <td>ACADEMIC</td>\n",
       "      <td>58</td>\n",
       "      <td>57</td>\n",
       "      <td>61</td>\n",
       "      <td>63</td>\n",
       "      <td>53</td>\n",
       "      <td>46</td>\n",
       "      <td>39</td>\n",
       "      <td>44</td>\n",
       "      <td>11</td>\n",
       "      <td>0</td>\n",
       "      <td>31.333333</td>\n",
       "      <td>57.000000</td>\n",
       "      <td>0</td>\n",
       "      <td>0</td>\n",
       "      <td>1</td>\n",
       "      <td>0</td>\n",
       "      <td>0</td>\n",
       "      <td>0</td>\n",
       "      <td>0</td>\n",
       "      <td>0</td>\n",
       "      <td>1</td>\n",
       "    </tr>\n",
       "    <tr>\n",
       "      <th>12408</th>\n",
       "      <td>12408</td>\n",
       "      <td>PRIVATE</td>\n",
       "      <td>ACADEMIC</td>\n",
       "      <td>66</td>\n",
       "      <td>69</td>\n",
       "      <td>75</td>\n",
       "      <td>70</td>\n",
       "      <td>58</td>\n",
       "      <td>98</td>\n",
       "      <td>88</td>\n",
       "      <td>90</td>\n",
       "      <td>81</td>\n",
       "      <td>87</td>\n",
       "      <td>86.333333</td>\n",
       "      <td>67.333333</td>\n",
       "      <td>0</td>\n",
       "      <td>0</td>\n",
       "      <td>1</td>\n",
       "      <td>0</td>\n",
       "      <td>0</td>\n",
       "      <td>0</td>\n",
       "      <td>0</td>\n",
       "      <td>0</td>\n",
       "      <td>1</td>\n",
       "    </tr>\n",
       "    <tr>\n",
       "      <th>12409</th>\n",
       "      <td>12409</td>\n",
       "      <td>PRIVATE</td>\n",
       "      <td>ACADEMIC</td>\n",
       "      <td>53</td>\n",
       "      <td>69</td>\n",
       "      <td>64</td>\n",
       "      <td>59</td>\n",
       "      <td>52</td>\n",
       "      <td>60</td>\n",
       "      <td>80</td>\n",
       "      <td>51</td>\n",
       "      <td>8</td>\n",
       "      <td>42</td>\n",
       "      <td>46.333333</td>\n",
       "      <td>61.666667</td>\n",
       "      <td>1</td>\n",
       "      <td>0</td>\n",
       "      <td>0</td>\n",
       "      <td>1</td>\n",
       "      <td>0</td>\n",
       "      <td>0</td>\n",
       "      <td>0</td>\n",
       "      <td>1</td>\n",
       "      <td>0</td>\n",
       "    </tr>\n",
       "    <tr>\n",
       "      <th>12410</th>\n",
       "      <td>12410</td>\n",
       "      <td>PUBLIC</td>\n",
       "      <td>ACADEMIC</td>\n",
       "      <td>79</td>\n",
       "      <td>65</td>\n",
       "      <td>62</td>\n",
       "      <td>77</td>\n",
       "      <td>73</td>\n",
       "      <td>83</td>\n",
       "      <td>95</td>\n",
       "      <td>91</td>\n",
       "      <td>79</td>\n",
       "      <td>47</td>\n",
       "      <td>88.333333</td>\n",
       "      <td>66.666667</td>\n",
       "      <td>0</td>\n",
       "      <td>0</td>\n",
       "      <td>0</td>\n",
       "      <td>1</td>\n",
       "      <td>0</td>\n",
       "      <td>0</td>\n",
       "      <td>0</td>\n",
       "      <td>0</td>\n",
       "      <td>1</td>\n",
       "    </tr>\n",
       "  </tbody>\n",
       "</table>\n",
       "<p>12397 rows × 24 columns</p>\n",
       "</div>"
      ],
      "text/plain": [
       "       Unnamed: 0 SCHOOL_NAT SCHOOL_TYPE  MAT_S11  CR_S11  CC_S11  BIO_S11  \\\n",
       "0               0    PRIVATE    ACADEMIC       71      81      61       86   \n",
       "1               1    PRIVATE    ACADEMIC       83      75      66      100   \n",
       "2               2    PRIVATE    ACADEMIC       52      49      38       46   \n",
       "3               3    PRIVATE    ACADEMIC       56      55      51       64   \n",
       "4               4    PRIVATE    ACADEMIC       80      65      76       85   \n",
       "...           ...        ...         ...      ...     ...     ...      ...   \n",
       "12406       12406    PRIVATE    ACADEMIC       67      69      70       67   \n",
       "12407       12407     PUBLIC    ACADEMIC       58      57      61       63   \n",
       "12408       12408    PRIVATE    ACADEMIC       66      69      75       70   \n",
       "12409       12409    PRIVATE    ACADEMIC       53      69      64       59   \n",
       "12410       12410     PUBLIC    ACADEMIC       79      65      62       77   \n",
       "\n",
       "       ENG_S11  QR_PRO  CR_PRO  CC_PRO  ENG_PRO  WC_PRO  COL_GRADE_AVG  \\\n",
       "0           82      71      93      71       93      79      85.666667   \n",
       "1           88      97      38      86       98      78      74.000000   \n",
       "2           42      17       1      18       43      22      20.666667   \n",
       "3           73      65      35      76       80      48      63.666667   \n",
       "4           92      94      94      98      100      71      97.333333   \n",
       "...        ...     ...     ...     ...      ...     ...            ...   \n",
       "12406       81      88      71      86       87      65      81.333333   \n",
       "12407       53      46      39      44       11       0      31.333333   \n",
       "12408       58      98      88      90       81      87      86.333333   \n",
       "12409       52      60      80      51        8      42      46.333333   \n",
       "12410       73      83      95      91       79      47      88.333333   \n",
       "\n",
       "       HI_GRADE_AVG  GENDER_bin  STRATUM_Stratum_1  STRATUM_Stratum_2  \\\n",
       "0         74.666667           1                  0                  0   \n",
       "1         76.333333           1                  0                  0   \n",
       "2         43.000000           0                  0                  1   \n",
       "3         59.666667           1                  0                  1   \n",
       "4         77.666667           0                  0                  0   \n",
       "...             ...         ...                ...                ...   \n",
       "12406     73.333333           0                  0                  1   \n",
       "12407     57.000000           0                  0                  1   \n",
       "12408     67.333333           0                  0                  1   \n",
       "12409     61.666667           1                  0                  0   \n",
       "12410     66.666667           0                  0                  0   \n",
       "\n",
       "       STRATUM_Stratum_3  STRATUM_Stratum_4  STRATUM_Stratum_5  \\\n",
       "0                      0                  1                  0   \n",
       "1                      0                  0                  1   \n",
       "2                      0                  0                  0   \n",
       "3                      0                  0                  0   \n",
       "4                      0                  1                  0   \n",
       "...                  ...                ...                ...   \n",
       "12406                  0                  0                  0   \n",
       "12407                  0                  0                  0   \n",
       "12408                  0                  0                  0   \n",
       "12409                  1                  0                  0   \n",
       "12410                  1                  0                  0   \n",
       "\n",
       "       STRATUM_Stratum_6  GENDER_F  GENDER_M  \n",
       "0                      0         1         0  \n",
       "1                      0         1         0  \n",
       "2                      0         0         1  \n",
       "3                      0         1         0  \n",
       "4                      0         0         1  \n",
       "...                  ...       ...       ...  \n",
       "12406                  0         0         1  \n",
       "12407                  0         0         1  \n",
       "12408                  0         0         1  \n",
       "12409                  0         1         0  \n",
       "12410                  0         0         1  \n",
       "\n",
       "[12397 rows x 24 columns]"
      ]
     },
     "execution_count": 4,
     "metadata": {},
     "output_type": "execute_result"
    }
   ],
   "source": [
    "dfs_use"
   ]
  },
  {
   "cell_type": "code",
   "execution_count": 5,
   "metadata": {},
   "outputs": [
    {
     "data": {
      "text/plain": [
       "-0.027502007174211335"
      ]
     },
     "execution_count": 5,
     "metadata": {},
     "output_type": "execute_result"
    }
   ],
   "source": [
    "# First with gender\n",
    "#F=1, M=0\n",
    "\n",
    "from scipy.stats import pointbiserialr\n",
    "\n",
    "pbc = pointbiserialr(dfs_use.GENDER_F, dfs_use.HI_GRADE_AVG)\n",
    "pbc[0]"
   ]
  },
  {
   "cell_type": "markdown",
   "metadata": {},
   "source": [
    "From tutorial \"with r=-0.22, \"As gender increases test scores tend to decrease\"\n",
    "Going from male 0 to female 1 makes the scores to decrease. Easy to visualise as a plot. "
   ]
  },
  {
   "cell_type": "code",
   "execution_count": 6,
   "metadata": {},
   "outputs": [
    {
     "name": "stdout",
     "output_type": "stream",
     "text": [
      "PointbiserialrResult(correlation=-0.20931759434075228, pvalue=8.821708216947507e-123) PointbiserialrResult(correlation=0.19610112375814487, pvalue=1.0335153924832236e-107)\n"
     ]
    }
   ],
   "source": [
    "# Then with stratum 1-6:\n",
    "\n",
    "#Question: Whether or not you are from Stratum x and what grade you have. \n",
    "pbc_1 = pointbiserialr(dfs_use.STRATUM_Stratum_1, dfs_use.HI_GRADE_AVG)\n",
    "pbc_6 = pointbiserialr(dfs_use.STRATUM_Stratum_6, dfs_use.HI_GRADE_AVG)\n",
    "print(pbc_1 , pbc_6)\n",
    "\n"
   ]
  },
  {
   "cell_type": "markdown",
   "metadata": {},
   "source": [
    "For Stratum 1..."
   ]
  },
  {
   "cell_type": "markdown",
   "metadata": {},
   "source": [
    "### Correlation matrix"
   ]
  },
  {
   "cell_type": "code",
   "execution_count": 7,
   "metadata": {},
   "outputs": [
    {
     "data": {
      "text/plain": [
       "Index(['Unnamed: 0', 'SCHOOL_NAT', 'SCHOOL_TYPE', 'MAT_S11', 'CR_S11',\n",
       "       'CC_S11', 'BIO_S11', 'ENG_S11', 'QR_PRO', 'CR_PRO', 'CC_PRO', 'ENG_PRO',\n",
       "       'WC_PRO', 'COL_GRADE_AVG', 'HI_GRADE_AVG', 'GENDER_bin',\n",
       "       'STRATUM_Stratum_1', 'STRATUM_Stratum_2', 'STRATUM_Stratum_3',\n",
       "       'STRATUM_Stratum_4', 'STRATUM_Stratum_5', 'STRATUM_Stratum_6',\n",
       "       'GENDER_F', 'GENDER_M'],\n",
       "      dtype='object')"
      ]
     },
     "execution_count": 7,
     "metadata": {},
     "output_type": "execute_result"
    }
   ],
   "source": [
    "dfs_use.columns"
   ]
  },
  {
   "cell_type": "code",
   "execution_count": 8,
   "metadata": {},
   "outputs": [
    {
     "data": {
      "text/plain": [
       "array([[6.94031373e-310, 6.94031506e-310, 6.94031506e-310],\n",
       "       [6.94031506e-310, 6.94031507e-310, 6.94031507e-310],\n",
       "       [6.94031507e-310, 6.94031507e-310, 6.94031507e-310],\n",
       "       [6.94031507e-310, 6.94031507e-310, 6.94031507e-310],\n",
       "       [6.94031507e-310, 6.94031507e-310, 6.94031507e-310],\n",
       "       [6.94031507e-310, 6.94031507e-310, 6.94031507e-310]])"
      ]
     },
     "execution_count": 8,
     "metadata": {},
     "output_type": "execute_result"
    }
   ],
   "source": [
    "# Columns to use \n",
    "dfs_use_pb = dfs_use[['COL_GRADE_AVG', 'HI_GRADE_AVG','STRATUM_Stratum_1', 'STRATUM_Stratum_2', 'STRATUM_Stratum_3',\n",
    "       'STRATUM_Stratum_4', 'STRATUM_Stratum_5', 'STRATUM_Stratum_6','GENDER_F']]\n",
    "\n",
    "# 3x6 matrix\n",
    "corr_matrix = np.empty((6,3))\n",
    "corr_matrix"
   ]
  },
  {
   "cell_type": "code",
   "execution_count": 9,
   "metadata": {},
   "outputs": [
    {
     "data": {
      "text/plain": [
       "array([[-1.96028522e-001, -2.09317594e-001,  5.05921720e-003],\n",
       "       [ 6.94031373e-310,  6.94031506e-310,  6.94031506e-310],\n",
       "       [ 6.94031506e-310,  6.94031507e-310,  6.94031507e-310],\n",
       "       [ 6.94031507e-310,  6.94031507e-310,  6.94031507e-310],\n",
       "       [ 6.94031507e-310,  6.94031507e-310,  6.94031507e-310],\n",
       "       [ 6.94031507e-310,  6.94031507e-310,  6.94031507e-310],\n",
       "       [ 6.94031507e-310,  6.94031507e-310,  6.94031507e-310]])"
      ]
     },
     "execution_count": 9,
     "metadata": {},
     "output_type": "execute_result"
    }
   ],
   "source": [
    "corr_matrix = np.insert(corr_matrix,0, np.array([-0.19602852233575963, -0.20931759434075234, 0.005059217198143426]), axis=0)\n",
    "corr_matrix"
   ]
  },
  {
   "cell_type": "code",
   "execution_count": 10,
   "metadata": {},
   "outputs": [
    {
     "data": {
      "text/plain": [
       "array([[-1.96028522e-001, -2.09317594e-001,  5.05921720e-003],\n",
       "       [-1.96028522e-001, -2.09317594e-001,  5.05921720e-003],\n",
       "       [ 6.94031373e-310,  6.94031506e-310,  6.94031506e-310],\n",
       "       [ 6.94031506e-310,  6.94031507e-310,  6.94031507e-310],\n",
       "       [ 6.94031507e-310,  6.94031507e-310,  6.94031507e-310],\n",
       "       [ 6.94031507e-310,  6.94031507e-310,  6.94031507e-310],\n",
       "       [ 6.94031507e-310,  6.94031507e-310,  6.94031507e-310],\n",
       "       [ 6.94031507e-310,  6.94031507e-310,  6.94031507e-310]])"
      ]
     },
     "execution_count": 10,
     "metadata": {},
     "output_type": "execute_result"
    }
   ],
   "source": [
    "np.insert(corr_matrix,1, np.array([-0.19602852233575963, -0.20931759434075234, 0.005059217198143426]), axis=0)"
   ]
  },
  {
   "cell_type": "code",
   "execution_count": 11,
   "metadata": {},
   "outputs": [
    {
     "data": {
      "text/plain": [
       "array([[-1.96028522e-001, -2.09317594e-001,  5.05921720e-003],\n",
       "       [ 6.94031373e-310,  6.94031506e-310,  6.94031506e-310],\n",
       "       [-1.96028522e-001, -2.09317594e-001,  5.05921720e-003],\n",
       "       [ 6.94031506e-310,  6.94031507e-310,  6.94031507e-310],\n",
       "       [ 6.94031507e-310,  6.94031507e-310,  6.94031507e-310],\n",
       "       [ 6.94031507e-310,  6.94031507e-310,  6.94031507e-310],\n",
       "       [ 6.94031507e-310,  6.94031507e-310,  6.94031507e-310],\n",
       "       [ 6.94031507e-310,  6.94031507e-310,  6.94031507e-310]])"
      ]
     },
     "execution_count": 11,
     "metadata": {},
     "output_type": "execute_result"
    }
   ],
   "source": [
    "np.insert(corr_matrix,2, np.array([-0.19602852233575963, -0.20931759434075234, 0.005059217198143426]), axis=0)"
   ]
  },
  {
   "cell_type": "code",
   "execution_count": 12,
   "metadata": {},
   "outputs": [
    {
     "data": {
      "text/html": [
       "<div>\n",
       "<style scoped>\n",
       "    .dataframe tbody tr th:only-of-type {\n",
       "        vertical-align: middle;\n",
       "    }\n",
       "\n",
       "    .dataframe tbody tr th {\n",
       "        vertical-align: top;\n",
       "    }\n",
       "\n",
       "    .dataframe thead th {\n",
       "        text-align: right;\n",
       "    }\n",
       "</style>\n",
       "<table border=\"1\" class=\"dataframe\">\n",
       "  <thead>\n",
       "    <tr style=\"text-align: right;\">\n",
       "      <th></th>\n",
       "      <th>COL_GRADE_AVG</th>\n",
       "      <th>HI_GRADE_AVG</th>\n",
       "      <th>STRATUM_Stratum_1</th>\n",
       "      <th>STRATUM_Stratum_2</th>\n",
       "      <th>STRATUM_Stratum_3</th>\n",
       "      <th>STRATUM_Stratum_4</th>\n",
       "      <th>STRATUM_Stratum_5</th>\n",
       "      <th>STRATUM_Stratum_6</th>\n",
       "      <th>GENDER_F</th>\n",
       "    </tr>\n",
       "  </thead>\n",
       "  <tbody>\n",
       "    <tr>\n",
       "      <th>0</th>\n",
       "      <td>85.666667</td>\n",
       "      <td>74.666667</td>\n",
       "      <td>0</td>\n",
       "      <td>0</td>\n",
       "      <td>0</td>\n",
       "      <td>1</td>\n",
       "      <td>0</td>\n",
       "      <td>0</td>\n",
       "      <td>1</td>\n",
       "    </tr>\n",
       "    <tr>\n",
       "      <th>1</th>\n",
       "      <td>74.000000</td>\n",
       "      <td>76.333333</td>\n",
       "      <td>0</td>\n",
       "      <td>0</td>\n",
       "      <td>0</td>\n",
       "      <td>0</td>\n",
       "      <td>1</td>\n",
       "      <td>0</td>\n",
       "      <td>1</td>\n",
       "    </tr>\n",
       "    <tr>\n",
       "      <th>2</th>\n",
       "      <td>20.666667</td>\n",
       "      <td>43.000000</td>\n",
       "      <td>0</td>\n",
       "      <td>1</td>\n",
       "      <td>0</td>\n",
       "      <td>0</td>\n",
       "      <td>0</td>\n",
       "      <td>0</td>\n",
       "      <td>0</td>\n",
       "    </tr>\n",
       "    <tr>\n",
       "      <th>3</th>\n",
       "      <td>63.666667</td>\n",
       "      <td>59.666667</td>\n",
       "      <td>0</td>\n",
       "      <td>1</td>\n",
       "      <td>0</td>\n",
       "      <td>0</td>\n",
       "      <td>0</td>\n",
       "      <td>0</td>\n",
       "      <td>1</td>\n",
       "    </tr>\n",
       "    <tr>\n",
       "      <th>4</th>\n",
       "      <td>97.333333</td>\n",
       "      <td>77.666667</td>\n",
       "      <td>0</td>\n",
       "      <td>0</td>\n",
       "      <td>0</td>\n",
       "      <td>1</td>\n",
       "      <td>0</td>\n",
       "      <td>0</td>\n",
       "      <td>0</td>\n",
       "    </tr>\n",
       "    <tr>\n",
       "      <th>...</th>\n",
       "      <td>...</td>\n",
       "      <td>...</td>\n",
       "      <td>...</td>\n",
       "      <td>...</td>\n",
       "      <td>...</td>\n",
       "      <td>...</td>\n",
       "      <td>...</td>\n",
       "      <td>...</td>\n",
       "      <td>...</td>\n",
       "    </tr>\n",
       "    <tr>\n",
       "      <th>12406</th>\n",
       "      <td>81.333333</td>\n",
       "      <td>73.333333</td>\n",
       "      <td>0</td>\n",
       "      <td>1</td>\n",
       "      <td>0</td>\n",
       "      <td>0</td>\n",
       "      <td>0</td>\n",
       "      <td>0</td>\n",
       "      <td>0</td>\n",
       "    </tr>\n",
       "    <tr>\n",
       "      <th>12407</th>\n",
       "      <td>31.333333</td>\n",
       "      <td>57.000000</td>\n",
       "      <td>0</td>\n",
       "      <td>1</td>\n",
       "      <td>0</td>\n",
       "      <td>0</td>\n",
       "      <td>0</td>\n",
       "      <td>0</td>\n",
       "      <td>0</td>\n",
       "    </tr>\n",
       "    <tr>\n",
       "      <th>12408</th>\n",
       "      <td>86.333333</td>\n",
       "      <td>67.333333</td>\n",
       "      <td>0</td>\n",
       "      <td>1</td>\n",
       "      <td>0</td>\n",
       "      <td>0</td>\n",
       "      <td>0</td>\n",
       "      <td>0</td>\n",
       "      <td>0</td>\n",
       "    </tr>\n",
       "    <tr>\n",
       "      <th>12409</th>\n",
       "      <td>46.333333</td>\n",
       "      <td>61.666667</td>\n",
       "      <td>0</td>\n",
       "      <td>0</td>\n",
       "      <td>1</td>\n",
       "      <td>0</td>\n",
       "      <td>0</td>\n",
       "      <td>0</td>\n",
       "      <td>1</td>\n",
       "    </tr>\n",
       "    <tr>\n",
       "      <th>12410</th>\n",
       "      <td>88.333333</td>\n",
       "      <td>66.666667</td>\n",
       "      <td>0</td>\n",
       "      <td>0</td>\n",
       "      <td>1</td>\n",
       "      <td>0</td>\n",
       "      <td>0</td>\n",
       "      <td>0</td>\n",
       "      <td>0</td>\n",
       "    </tr>\n",
       "  </tbody>\n",
       "</table>\n",
       "<p>12397 rows × 9 columns</p>\n",
       "</div>"
      ],
      "text/plain": [
       "       COL_GRADE_AVG  HI_GRADE_AVG  STRATUM_Stratum_1  STRATUM_Stratum_2  \\\n",
       "0          85.666667     74.666667                  0                  0   \n",
       "1          74.000000     76.333333                  0                  0   \n",
       "2          20.666667     43.000000                  0                  1   \n",
       "3          63.666667     59.666667                  0                  1   \n",
       "4          97.333333     77.666667                  0                  0   \n",
       "...              ...           ...                ...                ...   \n",
       "12406      81.333333     73.333333                  0                  1   \n",
       "12407      31.333333     57.000000                  0                  1   \n",
       "12408      86.333333     67.333333                  0                  1   \n",
       "12409      46.333333     61.666667                  0                  0   \n",
       "12410      88.333333     66.666667                  0                  0   \n",
       "\n",
       "       STRATUM_Stratum_3  STRATUM_Stratum_4  STRATUM_Stratum_5  \\\n",
       "0                      0                  1                  0   \n",
       "1                      0                  0                  1   \n",
       "2                      0                  0                  0   \n",
       "3                      0                  0                  0   \n",
       "4                      0                  1                  0   \n",
       "...                  ...                ...                ...   \n",
       "12406                  0                  0                  0   \n",
       "12407                  0                  0                  0   \n",
       "12408                  0                  0                  0   \n",
       "12409                  1                  0                  0   \n",
       "12410                  1                  0                  0   \n",
       "\n",
       "       STRATUM_Stratum_6  GENDER_F  \n",
       "0                      0         1  \n",
       "1                      0         1  \n",
       "2                      0         0  \n",
       "3                      0         1  \n",
       "4                      0         0  \n",
       "...                  ...       ...  \n",
       "12406                  0         0  \n",
       "12407                  0         0  \n",
       "12408                  0         0  \n",
       "12409                  0         1  \n",
       "12410                  0         0  \n",
       "\n",
       "[12397 rows x 9 columns]"
      ]
     },
     "execution_count": 12,
     "metadata": {},
     "output_type": "execute_result"
    }
   ],
   "source": [
    "dfs_use_pb"
   ]
  },
  {
   "cell_type": "code",
   "execution_count": 13,
   "metadata": {},
   "outputs": [],
   "source": [
    "arrcor = []\n",
    "for i, col1 in enumerate(dfs_use_pb[['STRATUM_Stratum_1', 'STRATUM_Stratum_2', 'STRATUM_Stratum_3',\n",
    "       'STRATUM_Stratum_4', 'STRATUM_Stratum_5', 'STRATUM_Stratum_6']]): \n",
    "    x = dfs_use_pb[\"{}\".format(col1)]\n",
    "    a_array = [] \n",
    "    for col2 in dfs_use_pb[['GENDER_F', 'COL_GRADE_AVG', 'HI_GRADE_AVG']]:\n",
    "        y = dfs_use_pb[\"{}\".format(col2)]\n",
    "        a_array.append(pointbiserialr(x, y)[0])\n",
    "    arrcor.append(a_array)\n",
    "    \n",
    "#y: st1-st6, x: col-gender_f"
   ]
  },
  {
   "cell_type": "code",
   "execution_count": 14,
   "metadata": {},
   "outputs": [],
   "source": [
    "#Create matrix:\n",
    "corr_matrix = np.array(arrcor).reshape(6,3)"
   ]
  },
  {
   "cell_type": "code",
   "execution_count": 15,
   "metadata": {},
   "outputs": [],
   "source": [
    "# Append / Insert 3 extra rows of correlations between Gender, HI, COL\n",
    "\n",
    "#gen x col\n",
    "a1 = pointbiserialr(dfs_use_pb.COL_GRADE_AVG, dfs_use_pb.GENDER_F)[0]\n",
    "\n",
    "#gen x hi\n",
    "a2 = pointbiserialr(dfs_use_pb.HI_GRADE_AVG, dfs_use_pb.GENDER_F)[0]\n",
    "\n",
    "#col x hi\n",
    "a3 = pointbiserialr(dfs_use_pb.HI_GRADE_AVG, dfs_use_pb.COL_GRADE_AVG)[0]\n",
    "\n",
    "\n",
    "corr_matrix = np.insert(corr_matrix, 0, np.array([a2, a3, 0]), axis=0)\n",
    "corr_matrix = np.insert(corr_matrix, 0, np.array([a1,0,0]), axis=0)\n",
    "\n"
   ]
  },
  {
   "cell_type": "code",
   "execution_count": 16,
   "metadata": {},
   "outputs": [
    {
     "data": {
      "text/plain": [
       "array([[-2.94511008e-02,  0.00000000e+00,  0.00000000e+00],\n",
       "       [-2.75020072e-02,  7.60872586e-01,  0.00000000e+00],\n",
       "       [ 5.05921720e-03, -1.96028522e-01, -2.09317594e-01],\n",
       "       [ 2.44939296e-03, -1.33939580e-01, -1.81577015e-01],\n",
       "       [ 1.34809350e-02,  5.79806876e-02,  4.32998838e-02],\n",
       "       [-5.68651617e-04,  1.53002922e-01,  1.82080903e-01],\n",
       "       [-1.65587439e-02,  1.32431573e-01,  1.88269734e-01],\n",
       "       [-3.03224231e-02,  1.29598290e-01,  1.96101124e-01]])"
      ]
     },
     "execution_count": 16,
     "metadata": {},
     "output_type": "execute_result"
    }
   ],
   "source": [
    "corr_matrix"
   ]
  },
  {
   "cell_type": "code",
   "execution_count": 17,
   "metadata": {},
   "outputs": [
    {
     "data": {
      "image/png": "[encoded data removed]",
      "text/plain": [
       "<Figure size 432x288 with 1 Axes>"
      ]
     },
     "metadata": {
      "needs_background": "light"
     },
     "output_type": "display_data"
    }
   ],
   "source": [
    "import numpy as np\n",
    "import matplotlib\n",
    "import matplotlib.pyplot as plt\n",
    "\n",
    "vegetables = [\"cucumber\", \"tomato\", \"lettuce\", \"asparagus\",\n",
    "              \"potato\", \"wheat\", \"barley\"]\n",
    "farmers = [\"Farmer Joe\", \"Upland Bros.\", \"Smith Gardening\",\n",
    "           \"Agrifun\", \"Organiculture\", \"BioGoods Ltd.\", \"Cornylee Corp.\"]\n",
    "\n",
    "harvest = np.array([[0.8, 2.4, 2.5, 3.9, 0.0, 4.0, 0.0],\n",
    "                    [2.4, 0.0, 4.0, 1.0, 2.7, 0.0, 0.0],\n",
    "                    [1.1, 2.4, 0.8, 4.3, 1.9, 4.4, 0.0],\n",
    "                    [0.6, 0.0, 0.3, 0.0, 3.1, 0.0, 0.0],\n",
    "                    [0.7, 1.7, 0.6, 2.6, 2.2, 6.2, 0.0],\n",
    "                    [1.3, 1.2, 0.0, 0.0, 0.0, 3.2, 5.1],\n",
    "                    [0.1, 2.0, 0.0, 1.4, 0.0, 1.9, 6.3]])\n",
    "\n",
    "\n",
    "fig, ax = plt.subplots()\n",
    "im = ax.imshow(harvest)\n",
    "\n",
    "# We want to show all ticks...\n",
    "ax.set_xticks(np.arange(len(farmers)))\n",
    "ax.set_yticks(np.arange(len(vegetables)))\n",
    "# ... and label them with the respective list entries\n",
    "ax.set_xticklabels(farmers)\n",
    "ax.set_yticklabels(vegetables)\n",
    "\n",
    "# Rotate the tick labels and set their alignment.\n",
    "plt.setp(ax.get_xticklabels(), rotation=45, ha=\"right\",\n",
    "         rotation_mode=\"anchor\")\n",
    "\n",
    "# Loop over data dimensions and create text annotations.\n",
    "for i in range(len(vegetables)):\n",
    "    for j in range(len(farmers)):\n",
    "        text = ax.text(j, i, harvest[i, j],\n",
    "                       ha=\"center\", va=\"center\", color=\"w\")\n",
    "\n",
    "ax.set_title(\"Harvest of local farmers (in tons/year)\")\n",
    "fig.tight_layout()\n",
    "plt.show()\n"
   ]
  },
  {
   "cell_type": "code",
   "execution_count": 18,
   "metadata": {
    "scrolled": false
   },
   "outputs": [
    {
     "ename": "NameError",
     "evalue": "name 'x_label_list' is not defined",
     "output_type": "error",
     "traceback": [
      "\u001b[0;31m---------------------------------------------------------------------------\u001b[0m",
      "\u001b[0;31mNameError\u001b[0m                                 Traceback (most recent call last)",
      "\u001b[0;32m/var/folders/hl/6j_44f453mvc5lr922s8d0l80000gn/T/ipykernel_13061/1034352633.py\u001b[0m in \u001b[0;36m<module>\u001b[0;34m\u001b[0m\n\u001b[1;32m      4\u001b[0m \u001b[0;34m\u001b[0m\u001b[0m\n\u001b[1;32m      5\u001b[0m \u001b[0;31m# We want to show all ticks...\u001b[0m\u001b[0;34m\u001b[0m\u001b[0;34m\u001b[0m\u001b[0;34m\u001b[0m\u001b[0m\n\u001b[0;32m----> 6\u001b[0;31m \u001b[0max\u001b[0m\u001b[0;34m.\u001b[0m\u001b[0mset_xticks\u001b[0m\u001b[0;34m(\u001b[0m\u001b[0mnp\u001b[0m\u001b[0;34m.\u001b[0m\u001b[0marange\u001b[0m\u001b[0;34m(\u001b[0m\u001b[0mlen\u001b[0m\u001b[0;34m(\u001b[0m\u001b[0mx_label_list\u001b[0m\u001b[0;34m)\u001b[0m\u001b[0;34m)\u001b[0m\u001b[0;34m)\u001b[0m\u001b[0;34m\u001b[0m\u001b[0;34m\u001b[0m\u001b[0m\n\u001b[0m\u001b[1;32m      7\u001b[0m \u001b[0max\u001b[0m\u001b[0;34m.\u001b[0m\u001b[0mset_yticks\u001b[0m\u001b[0;34m(\u001b[0m\u001b[0mnp\u001b[0m\u001b[0;34m.\u001b[0m\u001b[0marange\u001b[0m\u001b[0;34m(\u001b[0m\u001b[0mlen\u001b[0m\u001b[0;34m(\u001b[0m\u001b[0my_label_list\u001b[0m\u001b[0;34m)\u001b[0m\u001b[0;34m)\u001b[0m\u001b[0;34m)\u001b[0m\u001b[0;34m\u001b[0m\u001b[0;34m\u001b[0m\u001b[0m\n\u001b[1;32m      8\u001b[0m \u001b[0;31m# ... and label them with the respective list entries\u001b[0m\u001b[0;34m\u001b[0m\u001b[0;34m\u001b[0m\u001b[0;34m\u001b[0m\u001b[0m\n",
      "\u001b[0;31mNameError\u001b[0m: name 'x_label_list' is not defined"
     ]
    },
    {
     "data": {
      "image/png": "[encoded data removed]",
      "text/plain": [
       "<Figure size 324x648 with 1 Axes>"
      ]
     },
     "metadata": {
      "needs_background": "light"
     },
     "output_type": "display_data"
    }
   ],
   "source": [
    "\n",
    "fig, ax = plt.subplots(figsize=(4.5, 9))\n",
    "im = ax.imshow(corr_matrix,  cmap=\"magma_r\" )\n",
    "\n",
    "\n",
    "# We want to show all ticks...\n",
    "ax.set_xticks(np.arange(len(x_label_list)))\n",
    "ax.set_yticks(np.arange(len(y_label_list)))\n",
    "# ... and label them with the respective list entries\n",
    "x_label_list = ['COL', 'HI', 'GEN']\n",
    "y_label_list = ['HI', 'GEN', 'st1', 'st2', 'st3', 'st4', 'st5', 'st6']\n",
    "ax.set_xticklabels(x_label_list)\n",
    "ax.set_yticklabels(y_label_list)\n",
    "\n",
    "# Rotate the tick labels and set their alignment.\n",
    "plt.setp(ax.get_xticklabels(), rotation=45, ha=\"right\",\n",
    "         rotation_mode=\"anchor\")\n",
    "\n",
    "# Loop over data dimensions and create text annotations.\n",
    "for i in range(len(y_label_list)):\n",
    "    for j in range(len(x_label_list)):\n",
    "        text = ax.text(j, i, \"{:.2f}\".format(corr_matrix[i, j]),\n",
    "                       ha=\"center\", va=\"center\", color=\"w\")\n",
    "        \n",
    "cbar = fig.colorbar(im, ax=ax, fraction=0.128, pad=0.04)\n",
    "cbar.ax.set_ylabel(\"correlation coef.\", rotation=-90, va=\"bottom\")\n",
    "\n",
    "ax.set_title(\"Correlation heatmap of stratum, gender and grades\")\n",
    "fig.tight_layout()\n",
    "plt.show()"
   ]
  },
  {
   "cell_type": "code",
   "execution_count": 19,
   "metadata": {},
   "outputs": [
    {
     "data": {
      "text/plain": [
       "array([1, 0, 0])"
      ]
     },
     "execution_count": 19,
     "metadata": {},
     "output_type": "execute_result"
    }
   ],
   "source": [
    "import numpy as np\n",
    "np.array([True, False, False]) + 0 "
   ]
  },
  {
   "cell_type": "code",
   "execution_count": 20,
   "metadata": {},
   "outputs": [
    {
     "ename": "NameError",
     "evalue": "name 'x_label_list' is not defined",
     "output_type": "error",
     "traceback": [
      "\u001b[0;31m---------------------------------------------------------------------------\u001b[0m",
      "\u001b[0;31mNameError\u001b[0m                                 Traceback (most recent call last)",
      "\u001b[0;32m/var/folders/hl/6j_44f453mvc5lr922s8d0l80000gn/T/ipykernel_13061/2176430181.py\u001b[0m in \u001b[0;36m<module>\u001b[0;34m\u001b[0m\n\u001b[1;32m      4\u001b[0m \u001b[0;34m\u001b[0m\u001b[0m\n\u001b[1;32m      5\u001b[0m \u001b[0;31m# We want to show all ticks...\u001b[0m\u001b[0;34m\u001b[0m\u001b[0;34m\u001b[0m\u001b[0;34m\u001b[0m\u001b[0m\n\u001b[0;32m----> 6\u001b[0;31m \u001b[0max\u001b[0m\u001b[0;34m.\u001b[0m\u001b[0mset_xticks\u001b[0m\u001b[0;34m(\u001b[0m\u001b[0mnp\u001b[0m\u001b[0;34m.\u001b[0m\u001b[0marange\u001b[0m\u001b[0;34m(\u001b[0m\u001b[0mlen\u001b[0m\u001b[0;34m(\u001b[0m\u001b[0mx_label_list\u001b[0m\u001b[0;34m)\u001b[0m\u001b[0;34m)\u001b[0m\u001b[0;34m)\u001b[0m\u001b[0;34m\u001b[0m\u001b[0;34m\u001b[0m\u001b[0m\n\u001b[0m\u001b[1;32m      7\u001b[0m \u001b[0max\u001b[0m\u001b[0;34m.\u001b[0m\u001b[0mset_yticks\u001b[0m\u001b[0;34m(\u001b[0m\u001b[0mnp\u001b[0m\u001b[0;34m.\u001b[0m\u001b[0marange\u001b[0m\u001b[0;34m(\u001b[0m\u001b[0mlen\u001b[0m\u001b[0;34m(\u001b[0m\u001b[0my_label_list\u001b[0m\u001b[0;34m)\u001b[0m\u001b[0;34m)\u001b[0m\u001b[0;34m)\u001b[0m\u001b[0;34m\u001b[0m\u001b[0;34m\u001b[0m\u001b[0m\n\u001b[1;32m      8\u001b[0m \u001b[0;31m# ... and label them with the respective list entries\u001b[0m\u001b[0;34m\u001b[0m\u001b[0;34m\u001b[0m\u001b[0;34m\u001b[0m\u001b[0m\n",
      "\u001b[0;31mNameError\u001b[0m: name 'x_label_list' is not defined"
     ]
    },
    {
     "data": {
      "image/png": "[encoded data removed]",
      "text/plain": [
       "<Figure size 324x648 with 1 Axes>"
      ]
     },
     "metadata": {
      "needs_background": "light"
     },
     "output_type": "display_data"
    }
   ],
   "source": [
    "fig, ax = plt.subplots(figsize=(4.5, 9))\n",
    "im = ax.imshow(corr_matrix,  cmap=\"magma_r\" )\n",
    "\n",
    "\n",
    "# We want to show all ticks...\n",
    "ax.set_xticks(np.arange(len(x_label_list)))\n",
    "ax.set_yticks(np.arange(len(y_label_list)))\n",
    "# ... and label them with the respective list entries\n",
    "x_label_list = ['COL', 'HI', 'GEN']\n",
    "y_label_list = ['HI', 'GEN', 'st1', 'st2', 'st3', 'st4', 'st5', 'st6']\n",
    "ax.set_xticklabels(x_label_list)\n",
    "ax.set_yticklabels(y_label_list)\n",
    "\n",
    "# Rotate the tick labels and set their alignment.\n",
    "plt.setp(ax.get_xticklabels(), rotation=45, ha=\"right\",\n",
    "         rotation_mode=\"anchor\")\n",
    "\n",
    "# Loop over data dimensions and create text annotations.\n",
    "for i in range(len(y_label_list)):\n",
    "    for j in range(len(x_label_list)):\n",
    "        text = ax.text(j, i, \"{:.2f}\".format(corr_matrix[i, j]),\n",
    "                       ha=\"center\", va=\"center\", color=\"w\")\n",
    "        \n",
    "cbar = fig.colorbar(im, ax=ax, fraction=0.128, pad=0.04)\n",
    "cbar.ax.set_ylabel(\"correlation coef.\", rotation=-90, va=\"bottom\")\n",
    "\n",
    "ax.set_title(\"Correlation heatmap of stratum, gender and grades\")\n",
    "fig.tight_layout()\n",
    "plt.show()"
   ]
  },
  {
   "cell_type": "code",
   "execution_count": 21,
   "metadata": {},
   "outputs": [],
   "source": [
    "# from https://matplotlib.org/stable/gallery/images_contours_and_fields/image_annotated_heatmap.html\n",
    "\n",
    "def heatmap(data, row_labels, col_labels, ax=None,\n",
    "            cbar_kw={}, cbarlabel=\"\", **kwargs):\n",
    "    \"\"\"\n",
    "    Create a heatmap from a numpy array and two lists of labels.\n",
    "\n",
    "    Parameters\n",
    "    ----------\n",
    "    data\n",
    "        A 2D numpy array of shape (N, M).\n",
    "    row_labels\n",
    "        A list or array of length N with the labels for the rows.\n",
    "    col_labels\n",
    "        A list or array of length M with the labels for the columns.\n",
    "    ax\n",
    "        A `matplotlib.axes.Axes` instance to which the heatmap is plotted.  If\n",
    "        not provided, use current axes or create a new one.  Optional.\n",
    "    cbar_kw\n",
    "        A dictionary with arguments to `matplotlib.Figure.colorbar`.  Optional.\n",
    "    cbarlabel\n",
    "        The label for the colorbar.  Optional.\n",
    "    **kwargs\n",
    "        All other arguments are forwarded to `imshow`.\n",
    "    \"\"\"\n",
    "\n",
    "    if not ax:\n",
    "        ax = plt.gca()\n",
    "\n",
    "    # Plot the heatmap\n",
    "    im = ax.imshow(data, **kwargs)\n",
    "\n",
    "    # Create colorbar\n",
    "    cbar = ax.figure.colorbar(im, ax=ax, **cbar_kw)\n",
    "    cbar.ax.set_ylabel(cbarlabel, rotation=-90, va=\"bottom\")\n",
    "\n",
    "    # We want to show all ticks...\n",
    "    ax.set_xticks(np.arange(data.shape[1]))\n",
    "    ax.set_yticks(np.arange(data.shape[0]))\n",
    "    # ... and label them with the respective list entries.\n",
    "    ax.set_xticklabels(col_labels)\n",
    "    ax.set_yticklabels(row_labels)\n",
    "\n",
    "    # Let the horizontal axes labeling appear on top.\n",
    "    ax.tick_params(top=True, bottom=False,\n",
    "                   labeltop=True, labelbottom=False)\n",
    "\n",
    "    # Rotate the tick labels and set their alignment.\n",
    "    plt.setp(ax.get_xticklabels(), rotation=-30, ha=\"right\",\n",
    "             rotation_mode=\"anchor\")\n",
    "\n",
    "    # Turn spines off and create white grid.\n",
    "    ax.spines[:].set_visible(False)\n",
    "\n",
    "    ax.set_xticks(np.arange(data.shape[1]+1)-.5, minor=True)\n",
    "    ax.set_yticks(np.arange(data.shape[0]+1)-.5, minor=True)\n",
    "    ax.grid(which=\"minor\", color=\"w\", linestyle='-', linewidth=3)\n",
    "    ax.tick_params(which=\"minor\", bottom=False, left=False)\n",
    "\n",
    "    return im, cbar\n",
    "\n",
    "\n",
    "def annotate_heatmap(im, data=None, valfmt=\"{x:.2f}\",\n",
    "                     textcolors=(\"black\", \"white\"),\n",
    "                     threshold=None, **textkw):\n",
    "    \"\"\"\n",
    "    A function to annotate a heatmap.\n",
    "\n",
    "    Parameters\n",
    "    ----------\n",
    "    im\n",
    "        The AxesImage to be labeled.\n",
    "    data\n",
    "        Data used to annotate.  If None, the image's data is used.  Optional.\n",
    "    valfmt\n",
    "        The format of the annotations inside the heatmap.  This should either\n",
    "        use the string format method, e.g. \"$ {x:.2f}\", or be a\n",
    "        `matplotlib.ticker.Formatter`.  Optional.\n",
    "    textcolors\n",
    "        A pair of colors.  The first is used for values below a threshold,\n",
    "        the second for those above.  Optional.\n",
    "    threshold\n",
    "        Value in data units according to which the colors from textcolors are\n",
    "        applied.  If None (the default) uses the middle of the colormap as\n",
    "        separation.  Optional.\n",
    "    **kwargs\n",
    "        All other arguments are forwarded to each call to `text` used to create\n",
    "        the text labels.\n",
    "    \"\"\"\n",
    "\n",
    "    if not isinstance(data, (list, np.ndarray)):\n",
    "        data = im.get_array()\n",
    "\n",
    "    # Normalize the threshold to the images color range.\n",
    "    if threshold is not None:\n",
    "        threshold = im.norm(threshold)\n",
    "    else:\n",
    "        threshold = im.norm(data.max())/2.\n",
    "\n",
    "    # Set default alignment to center, but allow it to be\n",
    "    # overwritten by textkw.\n",
    "    kw = dict(horizontalalignment=\"center\",\n",
    "              verticalalignment=\"center\")\n",
    "    kw.update(textkw)\n",
    "\n",
    "    # Get the formatter in case a string is supplied\n",
    "    if isinstance(valfmt, str):\n",
    "        valfmt = matplotlib.ticker.StrMethodFormatter(valfmt)\n",
    "\n",
    "    # Loop over the data and create a `Text` for each \"pixel\".\n",
    "    # Change the text's color depending on the data.\n",
    "    texts = []\n",
    "    for i in range(data.shape[0]):\n",
    "        for j in range(data.shape[1]):\n",
    "            kw.update(color=textcolors[int(im.norm(data[i, j]) > threshold)])\n",
    "            text = im.axes.text(j, i, valfmt(data[i, j], None), **kw)\n",
    "            texts.append(text)\n",
    "\n",
    "    return texts\n"
   ]
  },
  {
   "cell_type": "code",
   "execution_count": 22,
   "metadata": {},
   "outputs": [
    {
     "ename": "TypeError",
     "evalue": "unhashable type: 'slice'",
     "output_type": "error",
     "traceback": [
      "\u001b[0;31m---------------------------------------------------------------------------\u001b[0m",
      "\u001b[0;31mTypeError\u001b[0m                                 Traceback (most recent call last)",
      "\u001b[0;32m/var/folders/hl/6j_44f453mvc5lr922s8d0l80000gn/T/ipykernel_13061/2348152866.py\u001b[0m in \u001b[0;36m<module>\u001b[0;34m\u001b[0m\n\u001b[1;32m      2\u001b[0m \u001b[0mx\u001b[0m \u001b[0;34m=\u001b[0m \u001b[0;34m[\u001b[0m\u001b[0;34m'COL'\u001b[0m\u001b[0;34m,\u001b[0m \u001b[0;34m'HI'\u001b[0m\u001b[0;34m,\u001b[0m \u001b[0;34m'GEN'\u001b[0m\u001b[0;34m]\u001b[0m\u001b[0;34m\u001b[0m\u001b[0;34m\u001b[0m\u001b[0m\n\u001b[1;32m      3\u001b[0m \u001b[0my\u001b[0m \u001b[0;34m=\u001b[0m \u001b[0;34m[\u001b[0m\u001b[0;34m'HI'\u001b[0m\u001b[0;34m,\u001b[0m \u001b[0;34m'GEN'\u001b[0m\u001b[0;34m,\u001b[0m \u001b[0;34m'st1'\u001b[0m\u001b[0;34m,\u001b[0m \u001b[0;34m'st2'\u001b[0m\u001b[0;34m,\u001b[0m \u001b[0;34m'st3'\u001b[0m\u001b[0;34m,\u001b[0m \u001b[0;34m'st4'\u001b[0m\u001b[0;34m,\u001b[0m \u001b[0;34m'st5'\u001b[0m\u001b[0;34m,\u001b[0m \u001b[0;34m'st6'\u001b[0m\u001b[0;34m]\u001b[0m\u001b[0;34m\u001b[0m\u001b[0;34m\u001b[0m\u001b[0m\n\u001b[0;32m----> 4\u001b[0;31m \u001b[0mim\u001b[0m\u001b[0;34m,\u001b[0m \u001b[0mcbar\u001b[0m \u001b[0;34m=\u001b[0m \u001b[0mheatmap\u001b[0m\u001b[0;34m(\u001b[0m\u001b[0mcorr_matrix\u001b[0m\u001b[0;34m,\u001b[0m \u001b[0my\u001b[0m\u001b[0;34m,\u001b[0m \u001b[0mx\u001b[0m\u001b[0;34m,\u001b[0m \u001b[0max\u001b[0m\u001b[0;34m=\u001b[0m\u001b[0max\u001b[0m\u001b[0;34m,\u001b[0m \u001b[0mcmap\u001b[0m\u001b[0;34m=\u001b[0m\u001b[0;34m\"magma_r\"\u001b[0m\u001b[0;34m,\u001b[0m \u001b[0mcbarlabel\u001b[0m\u001b[0;34m=\u001b[0m\u001b[0;34m\"correlation coef.\"\u001b[0m\u001b[0;34m)\u001b[0m\u001b[0;34m\u001b[0m\u001b[0;34m\u001b[0m\u001b[0m\n\u001b[0m\u001b[1;32m      5\u001b[0m texts = annotate_heatmap(im, valfmt=\"{:.2f}\".format(corr_matrix[i, j]), size=7, threshold=20,\n\u001b[1;32m      6\u001b[0m                  textcolors=(\"red\", \"white\"))\n",
      "\u001b[0;32m/var/folders/hl/6j_44f453mvc5lr922s8d0l80000gn/T/ipykernel_13061/790294148.py\u001b[0m in \u001b[0;36mheatmap\u001b[0;34m(data, row_labels, col_labels, ax, cbar_kw, cbarlabel, **kwargs)\u001b[0m\n\u001b[1;32m     51\u001b[0m \u001b[0;34m\u001b[0m\u001b[0m\n\u001b[1;32m     52\u001b[0m     \u001b[0;31m# Turn spines off and create white grid.\u001b[0m\u001b[0;34m\u001b[0m\u001b[0;34m\u001b[0m\u001b[0;34m\u001b[0m\u001b[0m\n\u001b[0;32m---> 53\u001b[0;31m     \u001b[0max\u001b[0m\u001b[0;34m.\u001b[0m\u001b[0mspines\u001b[0m\u001b[0;34m[\u001b[0m\u001b[0;34m:\u001b[0m\u001b[0;34m]\u001b[0m\u001b[0;34m.\u001b[0m\u001b[0mset_visible\u001b[0m\u001b[0;34m(\u001b[0m\u001b[0;32mFalse\u001b[0m\u001b[0;34m)\u001b[0m\u001b[0;34m\u001b[0m\u001b[0;34m\u001b[0m\u001b[0m\n\u001b[0m\u001b[1;32m     54\u001b[0m \u001b[0;34m\u001b[0m\u001b[0m\n\u001b[1;32m     55\u001b[0m     \u001b[0max\u001b[0m\u001b[0;34m.\u001b[0m\u001b[0mset_xticks\u001b[0m\u001b[0;34m(\u001b[0m\u001b[0mnp\u001b[0m\u001b[0;34m.\u001b[0m\u001b[0marange\u001b[0m\u001b[0;34m(\u001b[0m\u001b[0mdata\u001b[0m\u001b[0;34m.\u001b[0m\u001b[0mshape\u001b[0m\u001b[0;34m[\u001b[0m\u001b[0;36m1\u001b[0m\u001b[0;34m]\u001b[0m\u001b[0;34m+\u001b[0m\u001b[0;36m1\u001b[0m\u001b[0;34m)\u001b[0m\u001b[0;34m-\u001b[0m\u001b[0;36m.5\u001b[0m\u001b[0;34m,\u001b[0m \u001b[0mminor\u001b[0m\u001b[0;34m=\u001b[0m\u001b[0;32mTrue\u001b[0m\u001b[0;34m)\u001b[0m\u001b[0;34m\u001b[0m\u001b[0;34m\u001b[0m\u001b[0m\n",
      "\u001b[0;31mTypeError\u001b[0m: unhashable type: 'slice'"
     ]
    },
    {
     "data": {
      "image/png": "[encoded data removed]",
      "text/plain": [
       "<Figure size 432x288 with 2 Axes>"
      ]
     },
     "metadata": {
      "needs_background": "light"
     },
     "output_type": "display_data"
    }
   ],
   "source": [
    "fig, ax = plt.subplots()\n",
    "x = ['COL', 'HI', 'GEN']\n",
    "y = ['HI', 'GEN', 'st1', 'st2', 'st3', 'st4', 'st5', 'st6']\n",
    "im, cbar = heatmap(corr_matrix, y, x, ax=ax, cmap=\"magma_r\", cbarlabel=\"correlation coef.\")\n",
    "texts = annotate_heatmap(im, valfmt=\"{:.2f}\".format(corr_matrix[i, j]), size=7, threshold=20,\n",
    "                 textcolors=(\"red\", \"white\"))\n",
    "\n",
    "fig.tight_layout()\n",
    "plt.show()"
   ]
  },
  {
   "cell_type": "code",
   "execution_count": 23,
   "metadata": {},
   "outputs": [
    {
     "ename": "TypeError",
     "evalue": "unhashable type: 'slice'",
     "output_type": "error",
     "traceback": [
      "\u001b[0;31m---------------------------------------------------------------------------\u001b[0m",
      "\u001b[0;31mTypeError\u001b[0m                                 Traceback (most recent call last)",
      "\u001b[0;32m/var/folders/hl/6j_44f453mvc5lr922s8d0l80000gn/T/ipykernel_13061/2249675968.py\u001b[0m in \u001b[0;36m<module>\u001b[0;34m\u001b[0m\n\u001b[1;32m      9\u001b[0m \u001b[0mx\u001b[0m \u001b[0;34m=\u001b[0m \u001b[0;34m[\u001b[0m\u001b[0;34m'COL'\u001b[0m\u001b[0;34m,\u001b[0m \u001b[0;34m'HI'\u001b[0m\u001b[0;34m,\u001b[0m \u001b[0;34m'GEN'\u001b[0m\u001b[0;34m]\u001b[0m\u001b[0;34m\u001b[0m\u001b[0;34m\u001b[0m\u001b[0m\n\u001b[1;32m     10\u001b[0m \u001b[0my\u001b[0m \u001b[0;34m=\u001b[0m \u001b[0;34m[\u001b[0m\u001b[0;34m'HI'\u001b[0m\u001b[0;34m,\u001b[0m \u001b[0;34m'GEN'\u001b[0m\u001b[0;34m,\u001b[0m \u001b[0;34m'st1'\u001b[0m\u001b[0;34m,\u001b[0m \u001b[0;34m'st2'\u001b[0m\u001b[0;34m,\u001b[0m \u001b[0;34m'st3'\u001b[0m\u001b[0;34m,\u001b[0m \u001b[0;34m'st4'\u001b[0m\u001b[0;34m,\u001b[0m \u001b[0;34m'st5'\u001b[0m\u001b[0;34m,\u001b[0m \u001b[0;34m'st6'\u001b[0m\u001b[0;34m]\u001b[0m\u001b[0;34m\u001b[0m\u001b[0;34m\u001b[0m\u001b[0m\n\u001b[0;32m---> 11\u001b[0;31m im, _ = heatmap(corr_matrix, y, x, ax=ax2, vmin=0,\n\u001b[0m\u001b[1;32m     12\u001b[0m                 cmap=\"magma_r\", cbarlabel=\"correlation coef.\")\n\u001b[1;32m     13\u001b[0m annotate_heatmap(im, valfmt=\"{x:d}\", size=7, threshold=20,\n",
      "\u001b[0;32m/var/folders/hl/6j_44f453mvc5lr922s8d0l80000gn/T/ipykernel_13061/790294148.py\u001b[0m in \u001b[0;36mheatmap\u001b[0;34m(data, row_labels, col_labels, ax, cbar_kw, cbarlabel, **kwargs)\u001b[0m\n\u001b[1;32m     51\u001b[0m \u001b[0;34m\u001b[0m\u001b[0m\n\u001b[1;32m     52\u001b[0m     \u001b[0;31m# Turn spines off and create white grid.\u001b[0m\u001b[0;34m\u001b[0m\u001b[0;34m\u001b[0m\u001b[0;34m\u001b[0m\u001b[0m\n\u001b[0;32m---> 53\u001b[0;31m     \u001b[0max\u001b[0m\u001b[0;34m.\u001b[0m\u001b[0mspines\u001b[0m\u001b[0;34m[\u001b[0m\u001b[0;34m:\u001b[0m\u001b[0;34m]\u001b[0m\u001b[0;34m.\u001b[0m\u001b[0mset_visible\u001b[0m\u001b[0;34m(\u001b[0m\u001b[0;32mFalse\u001b[0m\u001b[0;34m)\u001b[0m\u001b[0;34m\u001b[0m\u001b[0;34m\u001b[0m\u001b[0m\n\u001b[0m\u001b[1;32m     54\u001b[0m \u001b[0;34m\u001b[0m\u001b[0m\n\u001b[1;32m     55\u001b[0m     \u001b[0max\u001b[0m\u001b[0;34m.\u001b[0m\u001b[0mset_xticks\u001b[0m\u001b[0;34m(\u001b[0m\u001b[0mnp\u001b[0m\u001b[0;34m.\u001b[0m\u001b[0marange\u001b[0m\u001b[0;34m(\u001b[0m\u001b[0mdata\u001b[0m\u001b[0;34m.\u001b[0m\u001b[0mshape\u001b[0m\u001b[0;34m[\u001b[0m\u001b[0;36m1\u001b[0m\u001b[0;34m]\u001b[0m\u001b[0;34m+\u001b[0m\u001b[0;36m1\u001b[0m\u001b[0;34m)\u001b[0m\u001b[0;34m-\u001b[0m\u001b[0;36m.5\u001b[0m\u001b[0;34m,\u001b[0m \u001b[0mminor\u001b[0m\u001b[0;34m=\u001b[0m\u001b[0;32mTrue\u001b[0m\u001b[0;34m)\u001b[0m\u001b[0;34m\u001b[0m\u001b[0;34m\u001b[0m\u001b[0m\n",
      "\u001b[0;31mTypeError\u001b[0m: unhashable type: 'slice'"
     ]
    },
    {
     "data": {
      "image/png": "[encoded data removed]",
      "text/plain": [
       "<Figure size 576x432 with 5 Axes>"
      ]
     },
     "metadata": {
      "needs_background": "light"
     },
     "output_type": "display_data"
    }
   ],
   "source": [
    "np.random.seed(19680801)\n",
    "\n",
    "fig, ((ax, ax2), (ax3, ax4)) = plt.subplots(2, 2, figsize=(8, 6))\n",
    "\n",
    "# Replicate the above example with a different font size and colormap.\n",
    "\n",
    "\n",
    "data = np.random.randint(2, 100, size=(7, 7))\n",
    "x = ['COL', 'HI', 'GEN']\n",
    "y = ['HI', 'GEN', 'st1', 'st2', 'st3', 'st4', 'st5', 'st6']\n",
    "im, _ = heatmap(corr_matrix, y, x, ax=ax2, vmin=0,\n",
    "                cmap=\"magma_r\", cbarlabel=\"correlation coef.\")\n",
    "annotate_heatmap(im, valfmt=\"{x:d}\", size=7, threshold=20,\n",
    "                 textcolors=(\"red\", \"white\"))\n",
    "\n",
    "# Create some new data, give further arguments to imshow (vmin),\n",
    "# use an integer format on the annotations and provide some colors.\n",
    "\n",
    "data = np.random.randint(2, 100, size=(7, 7))\n",
    "x = ['COL', 'HI', 'GEN']\n",
    "y = ['HI', 'GEN', 'st1', 'st2', 'st3', 'st4', 'st5', 'st6']\n",
    "im, _ = heatmap(corr_matrix, y, x, ax=ax2, vmin=0,\n",
    "                cmap=\"magma_r\", cbarlabel=\"correlation coef.\")\n",
    "annotate_heatmap(im, valfmt=\"{x:d}\", size=7, threshold=20,\n",
    "                 textcolors=(\"red\", \"white\"))\n",
    "\n",
    "# Sometimes even the data itself is categorical. Here we use a\n",
    "# `matplotlib.colors.BoundaryNorm` to get the data into classes\n",
    "# and use this to colorize the plot, but also to obtain the class\n",
    "# labels from an array of classes.\n",
    "\n",
    "data = np.random.randn(6, 6)\n",
    "y = [\"Prod. {}\".format(i) for i in range(10, 70, 10)]\n",
    "x = [\"Cycle {}\".format(i) for i in range(1, 7)]\n",
    "\n",
    "qrates = list(\"ABCDEFG\")\n",
    "norm = matplotlib.colors.BoundaryNorm(np.linspace(-3.5, 3.5, 8), 7)\n",
    "fmt = matplotlib.ticker.FuncFormatter(lambda x, pos: qrates[::-1][norm(x)])\n",
    "\n",
    "im, _ = heatmap(data, y, x, ax=ax3,\n",
    "                cmap=plt.get_cmap(\"PiYG\", 7), norm=norm,\n",
    "                cbar_kw=dict(ticks=np.arange(-3, 4), format=fmt),\n",
    "                cbarlabel=\".\")\n",
    "\n",
    "annotate_heatmap(im, valfmt=fmt, size=9, fontweight=\"bold\", threshold=-1,\n",
    "                 textcolors=(\"red\", \"black\"))\n",
    "\n",
    "# We can nicely plot a correlation matrix. Since this is bound by -1 and 1,\n",
    "# we use those as vmin and vmax. We may also remove leading zeros and hide\n",
    "# the diagonal elements (which are all 1) by using a\n",
    "# `matplotlib.ticker.FuncFormatter`.\n",
    "\n",
    "corr_matrix = np.corrcoef(harvest)\n",
    "im, _ = heatmap(corr_matrix, vegetables, vegetables, ax=ax4,\n",
    "                cmap=\"PuOr\", vmin=-1, vmax=1,\n",
    "                cbarlabel=\".\")\n",
    "\n",
    "\n",
    "def func(x, pos):\n",
    "    return \"{:.2f}\".format(x).replace(\"0.\", \".\").replace(\"1.00\", \"\")\n",
    "\n",
    "annotate_heatmap(im, valfmt=matplotlib.ticker.FuncFormatter(func), size=7)\n",
    "\n",
    "\n",
    "plt.tight_layout()\n",
    "plt.show()"
   ]
  },
  {
   "cell_type": "code",
   "execution_count": 24,
   "metadata": {},
   "outputs": [
    {
     "data": {
      "text/plain": [
       "Index(['Unnamed: 0', 'GENDER', 'STRATUM', 'SCHOOL_NAT', 'SCHOOL_TYPE',\n",
       "       'MAT_S11', 'CR_S11', 'CC_S11', 'BIO_S11', 'ENG_S11', 'QR_PRO', 'CR_PRO',\n",
       "       'CC_PRO', 'ENG_PRO', 'WC_PRO', 'COL_GRADE_AVG', 'HI_GRADE_AVG',\n",
       "       'GENDER_bin'],\n",
       "      dtype='object')"
      ]
     },
     "execution_count": 24,
     "metadata": {},
     "output_type": "execute_result"
    }
   ],
   "source": [
    "#On the standardized data\n",
    "dfs.columns"
   ]
  },
  {
   "cell_type": "code",
   "execution_count": 25,
   "metadata": {},
   "outputs": [
    {
     "data": {
      "text/plain": [
       "-0.027502007174211335"
      ]
     },
     "execution_count": 25,
     "metadata": {},
     "output_type": "execute_result"
    }
   ],
   "source": [
    "#Test correlation of two columns\n",
    "from scipy import stats\n",
    "\n",
    "#Gender_bin and HI_grade\n",
    "stats.pearsonr(dfs.GENDER_bin, dfs.HI_GRADE_AVG)[0]"
   ]
  },
  {
   "cell_type": "code",
   "execution_count": 26,
   "metadata": {},
   "outputs": [],
   "source": [
    "## For loop for each columnsxcolumn pair (without stratum)\n",
    "\n",
    "# only get df with columns needed\n",
    "dfs_use = dfs[['COL_GRADE_AVG', 'HI_GRADE_AVG','GENDER_bin']]\n",
    "\n",
    "# 3x3 matrix\n",
    "corr_matrix = np.empty((3,3))\n",
    "a_array = []                  "
   ]
  },
  {
   "cell_type": "code",
   "execution_count": 27,
   "metadata": {},
   "outputs": [
    {
     "ename": "ValueError",
     "evalue": "x and y must have the same length.",
     "output_type": "error",
     "traceback": [
      "\u001b[0;31m---------------------------------------------------------------------------\u001b[0m",
      "\u001b[0;31mValueError\u001b[0m                                Traceback (most recent call last)",
      "\u001b[0;32m/var/folders/hl/6j_44f453mvc5lr922s8d0l80000gn/T/ipykernel_13061/638230560.py\u001b[0m in \u001b[0;36m<module>\u001b[0;34m\u001b[0m\n\u001b[0;32m----> 1\u001b[0;31m \u001b[0ma_array\u001b[0m\u001b[0;34m.\u001b[0m\u001b[0mappend\u001b[0m\u001b[0;34m(\u001b[0m\u001b[0mstats\u001b[0m\u001b[0;34m.\u001b[0m\u001b[0mpearsonr\u001b[0m\u001b[0;34m(\u001b[0m\u001b[0mx\u001b[0m\u001b[0;34m,\u001b[0m \u001b[0my\u001b[0m\u001b[0;34m)\u001b[0m\u001b[0;34m[\u001b[0m\u001b[0;36m0\u001b[0m\u001b[0;34m]\u001b[0m\u001b[0;34m)\u001b[0m\u001b[0;34m\u001b[0m\u001b[0;34m\u001b[0m\u001b[0m\n\u001b[0m",
      "\u001b[0;32m~/opt/anaconda3/lib/python3.8/site-packages/scipy/stats/stats.py\u001b[0m in \u001b[0;36mpearsonr\u001b[0;34m(x, y)\u001b[0m\n\u001b[1;32m   3833\u001b[0m     \u001b[0mn\u001b[0m \u001b[0;34m=\u001b[0m \u001b[0mlen\u001b[0m\u001b[0;34m(\u001b[0m\u001b[0mx\u001b[0m\u001b[0;34m)\u001b[0m\u001b[0;34m\u001b[0m\u001b[0;34m\u001b[0m\u001b[0m\n\u001b[1;32m   3834\u001b[0m     \u001b[0;32mif\u001b[0m \u001b[0mn\u001b[0m \u001b[0;34m!=\u001b[0m \u001b[0mlen\u001b[0m\u001b[0;34m(\u001b[0m\u001b[0my\u001b[0m\u001b[0;34m)\u001b[0m\u001b[0;34m:\u001b[0m\u001b[0;34m\u001b[0m\u001b[0;34m\u001b[0m\u001b[0m\n\u001b[0;32m-> 3835\u001b[0;31m         \u001b[0;32mraise\u001b[0m \u001b[0mValueError\u001b[0m\u001b[0;34m(\u001b[0m\u001b[0;34m'x and y must have the same length.'\u001b[0m\u001b[0;34m)\u001b[0m\u001b[0;34m\u001b[0m\u001b[0;34m\u001b[0m\u001b[0m\n\u001b[0m\u001b[1;32m   3836\u001b[0m \u001b[0;34m\u001b[0m\u001b[0m\n\u001b[1;32m   3837\u001b[0m     \u001b[0;32mif\u001b[0m \u001b[0mn\u001b[0m \u001b[0;34m<\u001b[0m \u001b[0;36m2\u001b[0m\u001b[0;34m:\u001b[0m\u001b[0;34m\u001b[0m\u001b[0;34m\u001b[0m\u001b[0m\n",
      "\u001b[0;31mValueError\u001b[0m: x and y must have the same length."
     ]
    }
   ],
   "source": [
    "a_array.append(stats.pearsonr(x, y)[0])"
   ]
  },
  {
   "cell_type": "code",
   "execution_count": 28,
   "metadata": {},
   "outputs": [
    {
     "ename": "IndexError",
     "evalue": "too many indices for array: array is 0-dimensional, but 1 were indexed",
     "output_type": "error",
     "traceback": [
      "\u001b[0;31m---------------------------------------------------------------------------\u001b[0m",
      "\u001b[0;31mIndexError\u001b[0m                                Traceback (most recent call last)",
      "\u001b[0;32m/var/folders/hl/6j_44f453mvc5lr922s8d0l80000gn/T/ipykernel_13061/616119901.py\u001b[0m in \u001b[0;36m<module>\u001b[0;34m\u001b[0m\n\u001b[1;32m      3\u001b[0m     \u001b[0;32mfor\u001b[0m \u001b[0mcol2\u001b[0m \u001b[0;32min\u001b[0m \u001b[0mdfs_use\u001b[0m\u001b[0;34m.\u001b[0m\u001b[0mcolumns\u001b[0m\u001b[0;34m:\u001b[0m\u001b[0;34m\u001b[0m\u001b[0;34m\u001b[0m\u001b[0m\n\u001b[1;32m      4\u001b[0m         \u001b[0my\u001b[0m \u001b[0;34m=\u001b[0m \u001b[0mcol2\u001b[0m\u001b[0;34m\u001b[0m\u001b[0;34m\u001b[0m\u001b[0m\n\u001b[0;32m----> 5\u001b[0;31m         \u001b[0ma_array\u001b[0m\u001b[0;34m.\u001b[0m\u001b[0mappend\u001b[0m\u001b[0;34m(\u001b[0m\u001b[0mstats\u001b[0m\u001b[0;34m.\u001b[0m\u001b[0mpearsonr\u001b[0m\u001b[0;34m(\u001b[0m\u001b[0mx\u001b[0m\u001b[0;34m,\u001b[0m \u001b[0my\u001b[0m\u001b[0;34m)\u001b[0m\u001b[0;34m[\u001b[0m\u001b[0;36m0\u001b[0m\u001b[0;34m]\u001b[0m\u001b[0;34m)\u001b[0m\u001b[0;34m\u001b[0m\u001b[0;34m\u001b[0m\u001b[0m\n\u001b[0m\u001b[1;32m      6\u001b[0m     \u001b[0mnp\u001b[0m\u001b[0;34m.\u001b[0m\u001b[0minsert\u001b[0m\u001b[0;34m(\u001b[0m\u001b[0mcorr_matrix\u001b[0m\u001b[0;34m,\u001b[0m \u001b[0mi\u001b[0m\u001b[0;34m,\u001b[0m \u001b[0ma_array\u001b[0m\u001b[0;34m,\u001b[0m \u001b[0maxis\u001b[0m\u001b[0;34m=\u001b[0m\u001b[0;36m0\u001b[0m\u001b[0;34m)\u001b[0m\u001b[0;34m\u001b[0m\u001b[0;34m\u001b[0m\u001b[0m\n",
      "\u001b[0;32m~/opt/anaconda3/lib/python3.8/site-packages/scipy/stats/stats.py\u001b[0m in \u001b[0;36mpearsonr\u001b[0;34m(x, y)\u001b[0m\n\u001b[1;32m   3842\u001b[0m \u001b[0;34m\u001b[0m\u001b[0m\n\u001b[1;32m   3843\u001b[0m     \u001b[0;31m# If an input is constant, the correlation coefficient is not defined.\u001b[0m\u001b[0;34m\u001b[0m\u001b[0;34m\u001b[0m\u001b[0;34m\u001b[0m\u001b[0m\n\u001b[0;32m-> 3844\u001b[0;31m     \u001b[0;32mif\u001b[0m \u001b[0;34m(\u001b[0m\u001b[0mx\u001b[0m \u001b[0;34m==\u001b[0m \u001b[0mx\u001b[0m\u001b[0;34m[\u001b[0m\u001b[0;36m0\u001b[0m\u001b[0;34m]\u001b[0m\u001b[0;34m)\u001b[0m\u001b[0;34m.\u001b[0m\u001b[0mall\u001b[0m\u001b[0;34m(\u001b[0m\u001b[0;34m)\u001b[0m \u001b[0;32mor\u001b[0m \u001b[0;34m(\u001b[0m\u001b[0my\u001b[0m \u001b[0;34m==\u001b[0m \u001b[0my\u001b[0m\u001b[0;34m[\u001b[0m\u001b[0;36m0\u001b[0m\u001b[0;34m]\u001b[0m\u001b[0;34m)\u001b[0m\u001b[0;34m.\u001b[0m\u001b[0mall\u001b[0m\u001b[0;34m(\u001b[0m\u001b[0;34m)\u001b[0m\u001b[0;34m:\u001b[0m\u001b[0;34m\u001b[0m\u001b[0;34m\u001b[0m\u001b[0m\n\u001b[0m\u001b[1;32m   3845\u001b[0m         \u001b[0mwarnings\u001b[0m\u001b[0;34m.\u001b[0m\u001b[0mwarn\u001b[0m\u001b[0;34m(\u001b[0m\u001b[0mPearsonRConstantInputWarning\u001b[0m\u001b[0;34m(\u001b[0m\u001b[0;34m)\u001b[0m\u001b[0;34m)\u001b[0m\u001b[0;34m\u001b[0m\u001b[0;34m\u001b[0m\u001b[0m\n\u001b[1;32m   3846\u001b[0m         \u001b[0;32mreturn\u001b[0m \u001b[0mnp\u001b[0m\u001b[0;34m.\u001b[0m\u001b[0mnan\u001b[0m\u001b[0;34m,\u001b[0m \u001b[0mnp\u001b[0m\u001b[0;34m.\u001b[0m\u001b[0mnan\u001b[0m\u001b[0;34m\u001b[0m\u001b[0;34m\u001b[0m\u001b[0m\n",
      "\u001b[0;31mIndexError\u001b[0m: too many indices for array: array is 0-dimensional, but 1 were indexed"
     ]
    }
   ],
   "source": [
    "for i, col1 in enumerate(dfs_use.columns):\n",
    "    x = col1\n",
    "    for col2 in dfs_use.columns:\n",
    "        y = col2\n",
    "        a_array.append(stats.pearsonr(x, y)[0])\n",
    "    np.insert(corr_matrix, i, a_array, axis=0)"
   ]
  },
  {
   "cell_type": "code",
   "execution_count": 29,
   "metadata": {
    "scrolled": false
   },
   "outputs": [
    {
     "ename": "NameError",
     "evalue": "name 'sns' is not defined",
     "output_type": "error",
     "traceback": [
      "\u001b[0;31m---------------------------------------------------------------------------\u001b[0m",
      "\u001b[0;31mNameError\u001b[0m                                 Traceback (most recent call last)",
      "\u001b[0;32m/var/folders/hl/6j_44f453mvc5lr922s8d0l80000gn/T/ipykernel_13061/1568643764.py\u001b[0m in \u001b[0;36m<module>\u001b[0;34m\u001b[0m\n\u001b[1;32m      8\u001b[0m \u001b[0;34m\u001b[0m\u001b[0m\n\u001b[1;32m      9\u001b[0m \u001b[0;31m# Draw the heatmap with the mask and correct aspect ratio\u001b[0m\u001b[0;34m\u001b[0m\u001b[0;34m\u001b[0m\u001b[0;34m\u001b[0m\u001b[0m\n\u001b[0;32m---> 10\u001b[0;31m sns.heatmap(corr, mask=mask, vmax=.3, center=0,\n\u001b[0m\u001b[1;32m     11\u001b[0m             square=True, linewidths=.5, cbar_kws={\"shrink\": .5})\n\u001b[1;32m     12\u001b[0m \u001b[0mplt\u001b[0m\u001b[0;34m.\u001b[0m\u001b[0mshow\u001b[0m\u001b[0;34m(\u001b[0m\u001b[0;34m)\u001b[0m\u001b[0;34m\u001b[0m\u001b[0;34m\u001b[0m\u001b[0m\n",
      "\u001b[0;31mNameError\u001b[0m: name 'sns' is not defined"
     ]
    },
    {
     "data": {
      "image/png": "[encoded data removed]",
      "text/plain": [
       "<Figure size 792x648 with 1 Axes>"
      ]
     },
     "metadata": {
      "needs_background": "light"
     },
     "output_type": "display_data"
    }
   ],
   "source": [
    "corr = dfs_use.corr()\n",
    "\n",
    "# Generate a mask for the upper triangle\n",
    "mask = np.triu(np.ones_like(corr, dtype=bool))\n",
    "\n",
    "# Set up the matplotlib figure\n",
    "f, ax = plt.subplots(figsize=(11, 9))\n",
    "\n",
    "# Draw the heatmap with the mask and correct aspect ratio\n",
    "sns.heatmap(corr, mask=mask, vmax=.3, center=0,\n",
    "            square=True, linewidths=.5, cbar_kws={\"shrink\": .5})\n",
    "plt.show()"
   ]
  },
  {
   "cell_type": "markdown",
   "metadata": {},
   "source": [
    "# NEW CORRELATION more attributes\n",
    "\n",
    "Remember to NOT include SEABORN when plotting heatmap"
   ]
  },
  {
   "cell_type": "code",
   "execution_count": 30,
   "metadata": {},
   "outputs": [],
   "source": [
    "from scipy.stats import pointbiserialr\n",
    "from matplotlib import pyplot as plt\n",
    "#import seaborn as sns\n",
    "#sns.set()"
   ]
  },
  {
   "cell_type": "code",
   "execution_count": 82,
   "metadata": {},
   "outputs": [],
   "source": [
    "df = pd.read_csv(\"GUDF.csv\")\n",
    "df = pd.get_dummies(df,columns=['STRATUM'])\n",
    "df = pd.get_dummies(df,columns=['SCHOOL_TYPE'])\n",
    "df = pd.get_dummies(df,columns=['SCHOOL_NAT'])\n"
   ]
  },
  {
   "cell_type": "code",
   "execution_count": 83,
   "metadata": {},
   "outputs": [],
   "source": [
    "#get COL/HI for F and M\n",
    "\n",
    "df_F = df[df.GENDER == \"F\"]\n",
    "df_M = df[df.GENDER == \"M\"]\n",
    "df_M = df_M.rename(columns={\"HI_GRADE_AVG\":\"HI_M\", \"COL_GRADE_AVG\":\"COL_M\"})\n",
    "df_F = df_F.rename(columns={\"HI_GRADE_AVG\":\"HI_F\", \"COL_GRADE_AVG\":\"COL_F\"})\n",
    "\n",
    "df_F = df_F.reset_index(drop=True)\n",
    "df_M = df_M.reset_index(drop=True)\n",
    "\n",
    "\n",
    "df_F = df_F.drop([\"GENDER\"], axis=1)\n",
    "df_M = df_M.drop([\"GENDER\"], axis=1)\n",
    "\n",
    "# Merge the two dfs\n",
    "df_FM = df_F.append(df_M)\n",
    "\n",
    "#df_FM\n",
    "#df_FM"
   ]
  },
  {
   "cell_type": "code",
   "execution_count": 84,
   "metadata": {},
   "outputs": [],
   "source": [
    "#merge columns COL_F, COL_M etc. to df\n",
    "\n",
    "\n",
    "df = df.merge(df_FM[[\"Unnamed: 0\",\"HI_M\",\"HI_F\",\"COL_M\", \"COL_F\"]], on=\"Unnamed: 0\").fillna(0)"
   ]
  },
  {
   "cell_type": "code",
   "execution_count": null,
   "metadata": {},
   "outputs": [],
   "source": []
  },
  {
   "cell_type": "markdown",
   "metadata": {},
   "source": [
    "Create correlation matrix"
   ]
  },
  {
   "cell_type": "code",
   "execution_count": 85,
   "metadata": {},
   "outputs": [
    {
     "data": {
      "text/plain": [
       "array([[0.00000000e+000, 2.01589600e-312, 0.00000000e+000,\n",
       "        1.44295714e-312, 2.01589600e-312, 1.82491638e-312,\n",
       "        3.50786609e-322, 0.00000000e+000, 0.00000000e+000,\n",
       "        0.00000000e+000, 0.00000000e+000, 0.00000000e+000,\n",
       "        0.00000000e+000, 0.00000000e+000, 0.00000000e+000],\n",
       "       [1.54905693e-312, 1.50661701e-312, 1.37929726e-312,\n",
       "        1.46417710e-312, 1.37929726e-312, 1.50661701e-312,\n",
       "        0.00000000e+000, 0.00000000e+000, 0.00000000e+000,\n",
       "        0.00000000e+000, 0.00000000e+000, 0.00000000e+000,\n",
       "        0.00000000e+000, 0.00000000e+000, 0.00000000e+000],\n",
       "       [1.54905693e-312, 1.63393676e-312, 0.00000000e+000,\n",
       "        0.00000000e+000, 0.00000000e+000, 0.00000000e+000,\n",
       "        0.00000000e+000, 0.00000000e+000, 0.00000000e+000,\n",
       "        0.00000000e+000, 0.00000000e+000, 0.00000000e+000,\n",
       "        0.00000000e+000, 0.00000000e+000, 0.00000000e+000],\n",
       "       [1.54905693e-312, 1.48539705e-312, 0.00000000e+000,\n",
       "        0.00000000e+000, 0.00000000e+000, 0.00000000e+000,\n",
       "        0.00000000e+000, 0.00000000e+000, 0.00000000e+000,\n",
       "        0.00000000e+000, 0.00000000e+000, 0.00000000e+000,\n",
       "        0.00000000e+000, 0.00000000e+000, 0.00000000e+000],\n",
       "       [1.67637668e-312, 2.01589600e-312, 3.80430547e-322,\n",
       "        0.00000000e+000, 0.00000000e+000, 0.00000000e+000,\n",
       "        0.00000000e+000, 0.00000000e+000, 0.00000000e+000,\n",
       "        0.00000000e+000, 0.00000000e+000, 0.00000000e+000,\n",
       "        0.00000000e+000, 0.00000000e+000, 0.00000000e+000],\n",
       "       [1.67637668e-312, 2.01589600e-312, 3.45845952e-322,\n",
       "        0.00000000e+000, 0.00000000e+000, 0.00000000e+000,\n",
       "        0.00000000e+000, 0.00000000e+000, 0.00000000e+000,\n",
       "        0.00000000e+000, 0.00000000e+000, 0.00000000e+000,\n",
       "        0.00000000e+000, 0.00000000e+000, 0.00000000e+000],\n",
       "       [1.78247646e-312, 1.37929726e-312, 1.80369642e-312,\n",
       "        2.01589600e-312, 2.46151512e-312, 2.05833592e-312,\n",
       "        2.48273508e-312, 2.01589600e-312, 2.42092166e-322,\n",
       "        0.00000000e+000, 0.00000000e+000, 0.00000000e+000,\n",
       "        0.00000000e+000, 0.00000000e+000, 0.00000000e+000],\n",
       "       [1.78247646e-312, 1.37929726e-312, 1.80369642e-312,\n",
       "        2.01589600e-312, 2.46151512e-312, 2.05833592e-312,\n",
       "        2.48273508e-312, 2.01589600e-312, 2.47032823e-322,\n",
       "        0.00000000e+000, 0.00000000e+000, 0.00000000e+000,\n",
       "        0.00000000e+000, 0.00000000e+000, 0.00000000e+000],\n",
       "       [1.78247646e-312, 1.37929726e-312, 1.80369642e-312,\n",
       "        2.01589600e-312, 2.46151512e-312, 2.05833592e-312,\n",
       "        2.48273508e-312, 2.01589600e-312, 2.51973479e-322,\n",
       "        0.00000000e+000, 0.00000000e+000, 0.00000000e+000,\n",
       "        0.00000000e+000, 0.00000000e+000, 0.00000000e+000],\n",
       "       [1.78247646e-312, 1.37929726e-312, 1.80369642e-312,\n",
       "        2.01589600e-312, 2.46151512e-312, 2.05833592e-312,\n",
       "        2.48273508e-312, 2.01589600e-312, 2.56914136e-322,\n",
       "        0.00000000e+000, 0.00000000e+000, 0.00000000e+000,\n",
       "        0.00000000e+000, 0.00000000e+000, 0.00000000e+000],\n",
       "       [1.78247646e-312, 1.37929726e-312, 1.80369642e-312,\n",
       "        2.01589600e-312, 2.46151512e-312, 2.05833592e-312,\n",
       "        2.48273508e-312, 2.01589600e-312, 2.61854792e-322,\n",
       "        0.00000000e+000, 0.00000000e+000, 0.00000000e+000,\n",
       "        0.00000000e+000, 0.00000000e+000, 0.00000000e+000],\n",
       "       [1.78247646e-312, 1.37929726e-312, 1.80369642e-312,\n",
       "        2.01589600e-312, 2.46151512e-312, 2.05833592e-312,\n",
       "        2.48273508e-312, 2.01589600e-312, 2.66795449e-322,\n",
       "        0.00000000e+000, 0.00000000e+000, 0.00000000e+000,\n",
       "        0.00000000e+000, 0.00000000e+000, 0.00000000e+000],\n",
       "       [1.46417710e-312, 1.44295714e-312, 1.74003655e-312,\n",
       "        2.07955588e-312, 2.33419537e-312, 0.00000000e+000,\n",
       "        0.00000000e+000, 0.00000000e+000, 0.00000000e+000,\n",
       "        0.00000000e+000, 0.00000000e+000, 0.00000000e+000,\n",
       "        0.00000000e+000, 0.00000000e+000, 0.00000000e+000],\n",
       "       [1.42173718e-312, 1.67637668e-312, 1.61271680e-312,\n",
       "        1.65515672e-312, 1.78247646e-312, 1.69759663e-312,\n",
       "        1.54905693e-312, 1.37929726e-312, 1.46417710e-312,\n",
       "        0.00000000e+000, 0.00000000e+000, 0.00000000e+000,\n",
       "        0.00000000e+000, 0.00000000e+000, 0.00000000e+000],\n",
       "       [1.42173718e-312, 1.67637668e-312, 1.61271680e-312,\n",
       "        1.78247646e-312, 1.69759663e-312, 2.01589600e-312,\n",
       "        1.42173718e-312, 1.44295714e-312, 1.63393676e-312,\n",
       "        1.42173718e-312, 0.00000000e+000, 0.00000000e+000,\n",
       "        0.00000000e+000, 0.00000000e+000, 0.00000000e+000],\n",
       "       [1.42173718e-312, 1.67637668e-312, 1.61271680e-312,\n",
       "        1.78247646e-312, 1.69759663e-312, 2.01589600e-312,\n",
       "        1.46417710e-312, 1.52783697e-312, 1.54905693e-312,\n",
       "        1.37929726e-312, 3.75489891e-322, 0.00000000e+000,\n",
       "        0.00000000e+000, 0.00000000e+000, 0.00000000e+000],\n",
       "       [1.42173718e-312, 1.67637668e-312, 1.61271680e-312,\n",
       "        1.78247646e-312, 1.69759663e-312, 2.01589600e-312,\n",
       "        1.46417710e-312, 1.52783697e-312, 1.54905693e-312,\n",
       "        1.37929726e-312, 9.97338022e-313, 1.42173718e-312,\n",
       "        1.44295714e-312, 1.63393676e-312, 1.42173718e-312]])"
      ]
     },
     "execution_count": 85,
     "metadata": {},
     "output_type": "execute_result"
    }
   ],
   "source": [
    "# Columns to use \n",
    "df_use = df[['COL_GRADE_AVG', 'HI_GRADE_AVG','HI_M', 'HI_F', 'COL_M', 'COL_F','STRATUM_Stratum_1', 'STRATUM_Stratum_2', 'STRATUM_Stratum_3',\n",
    "       'STRATUM_Stratum_4', 'STRATUM_Stratum_5', 'STRATUM_Stratum_6','GENDER_bin', 'SCHOOL_NAT_PRIVATE', \n",
    "        'SCHOOL_TYPE_ACADEMIC', 'SCHOOL_TYPE_TECHNICAL', 'SCHOOL_TYPE_TECHNICAL/ACADEMIC',\n",
    "       'CR_S11', 'CC_S11', 'ENG_S11',  'CR_PRO',\n",
    "       'CC_PRO', 'ENG_PRO']]\n",
    "\n",
    "# 3x6 matrix\n",
    "corr_matrix = np.empty((17,15))\n",
    "corr_matrix"
   ]
  },
  {
   "cell_type": "code",
   "execution_count": 86,
   "metadata": {},
   "outputs": [],
   "source": [
    "arrcor = []\n",
    "for i, col1 in enumerate(df_use[['CR_PRO',\n",
    "       'CC_PRO', 'ENG_PRO','SCHOOL_NAT_PRIVATE', \n",
    "        'SCHOOL_TYPE_ACADEMIC', 'SCHOOL_TYPE_TECHNICAL', 'SCHOOL_TYPE_TECHNICAL/ACADEMIC',\n",
    "        'COL_GRADE_AVG', 'HI_GRADE_AVG', 'GENDER_bin',  'STRATUM_Stratum_1', 'STRATUM_Stratum_2', 'STRATUM_Stratum_3',\n",
    "       'STRATUM_Stratum_4', 'STRATUM_Stratum_5', 'STRATUM_Stratum_6']]): \n",
    "    x = df_use[\"{}\".format(col1)]\n",
    "    #print(1, col1)\n",
    "    a_array = []\n",
    "    for col2 in df_use[['CR_S11', 'CC_S11', 'ENG_S11', 'SCHOOL_NAT_PRIVATE', \n",
    "        'SCHOOL_TYPE_ACADEMIC', 'SCHOOL_TYPE_TECHNICAL', 'SCHOOL_TYPE_TECHNICAL/ACADEMIC', \n",
    "        'COL_GRADE_AVG', 'HI_GRADE_AVG', 'HI_M', 'HI_F', 'COL_M', 'COL_F','GENDER_bin']]:\n",
    "        y = df_use[\"{}\".format(col2)]\n",
    "        a_array.append(pointbiserialr(x, y)[0])\n",
    "        #print(2, col2)\n",
    "    arrcor.append(a_array)\n",
    "    "
   ]
  },
  {
   "cell_type": "code",
   "execution_count": 87,
   "metadata": {},
   "outputs": [],
   "source": [
    "#Create matrix:\n",
    "corr_matrix = np.array(arrcor).reshape(16,14) #(16,10)med opr. empty = 17,11"
   ]
  },
  {
   "cell_type": "code",
   "execution_count": 88,
   "metadata": {},
   "outputs": [
    {
     "data": {
      "text/plain": [
       "array([[ 5.89139470e-01,  5.67080693e-01,  5.01598826e-01,\n",
       "         1.52484989e-01,  1.06201172e-01, -4.93949383e-02,\n",
       "        -8.28071560e-02,  8.58403270e-01,  6.33947649e-01,\n",
       "         1.47552885e-01,  5.52077219e-02,  3.54389862e-01,\n",
       "         2.03060196e-01, -2.57371011e-02],\n",
       "       [ 5.15558363e-01,  5.24206028e-01,  4.33447046e-01,\n",
       "         1.35383788e-01,  9.80311413e-02, -4.82381740e-02,\n",
       "        -7.49304503e-02,  8.47569550e-01,  5.61649035e-01,\n",
       "         1.28377352e-01,  5.13100295e-02,  3.49935791e-01,\n",
       "         2.00477515e-01, -1.74905953e-02],\n",
       "       [ 5.49310527e-01,  5.11280274e-01,  7.38293719e-01,\n",
       "         3.48778854e-01,  2.32400473e-01, -9.30463689e-02,\n",
       "        -1.90560325e-01,  7.88188981e-01,  7.15480913e-01,\n",
       "         1.71234275e-01,  5.75023375e-02,  3.35052790e-01,\n",
       "         1.76126970e-01, -3.13454755e-02],\n",
       "       [ 1.90370758e-01,  1.69080520e-01,  3.91477120e-01,\n",
       "         1.00000000e+00,  5.50716771e-01, -1.42239500e-01,\n",
       "        -5.02461487e-01,  2.49002518e-01,  3.10515575e-01,\n",
       "         7.80385496e-02,  2.11518451e-02,  1.07741281e-01,\n",
       "         5.36172968e-02, -1.69509739e-02],\n",
       "       [ 1.35640318e-01,  1.33163430e-01,  2.73379234e-01,\n",
       "         5.50716771e-01,  1.00000000e+00, -3.99588624e-01,\n",
       "        -8.22042368e-01,  1.71089959e-01,  2.22898168e-01,\n",
       "         8.45814445e-02, -1.39952462e-02,  9.79822614e-02,\n",
       "         1.12173078e-02, -4.35952121e-02],\n",
       "       [-6.45368713e-02, -6.90471082e-02, -1.17896056e-01,\n",
       "        -1.42239500e-01, -3.99588624e-01,  1.00000000e+00,\n",
       "        -1.91913119e-01, -7.50888829e-02, -1.02128198e-01,\n",
       "        -2.48425592e-02, -7.79881450e-03, -3.35106341e-02,\n",
       "        -1.50773127e-02,  4.51765950e-03],\n",
       "       [-1.04324761e-01, -9.93142319e-02, -2.19230178e-01,\n",
       "        -5.02461487e-01, -8.22042368e-01, -1.91913119e-01,\n",
       "         1.00000000e+00, -1.36249271e-01, -1.74697410e-01,\n",
       "        -7.56706694e-02,  2.05506775e-02, -8.45177225e-02,\n",
       "        -1.99208112e-03,  4.46295056e-02],\n",
       "       [ 6.61406140e-01,  6.41978644e-01,  6.61634713e-01,\n",
       "         2.49002518e-01,  1.71089959e-01, -7.50888829e-02,\n",
       "        -1.36249271e-01,  1.00000000e+00,  7.60979483e-01,\n",
       "         1.77877988e-01,  6.54958916e-02,  4.16451936e-01,\n",
       "         2.32700229e-01, -2.95001053e-02],\n",
       "       [ 8.66951528e-01,  8.52147166e-01,  8.64959008e-01,\n",
       "         3.10515575e-01,  2.22898168e-01, -1.02128198e-01,\n",
       "        -1.74697410e-01,  7.60979483e-01,  1.00000000e+00,\n",
       "         2.24675199e-01,  9.53370611e-02,  3.21349070e-01,\n",
       "         1.72332992e-01, -2.72678223e-02],\n",
       "       [ 9.64490180e-03, -6.09225749e-02, -2.02495900e-02,\n",
       "        -1.69509739e-02, -4.35952121e-02,  4.51765950e-03,\n",
       "         4.46295056e-02, -2.95001053e-02, -2.72678223e-02,\n",
       "        -9.67960042e-01,  9.79973653e-01, -8.67292607e-01,\n",
       "         9.07757696e-01,  1.00000000e+00],\n",
       "       [-1.47458025e-01, -1.35747009e-01, -2.33923126e-01,\n",
       "        -3.22290143e-01, -1.65624044e-01,  9.80742465e-02,\n",
       "         1.16922742e-01, -1.95605120e-01, -2.08765399e-01,\n",
       "        -4.60336946e-02, -2.07925674e-02, -8.12114057e-02,\n",
       "        -4.57834238e-02,  5.03542430e-03],\n",
       "       [-1.14558174e-01, -1.02381906e-01, -2.22416189e-01,\n",
       "        -2.46212681e-01, -1.98003085e-01,  7.65112843e-02,\n",
       "         1.64090319e-01, -1.33345367e-01, -1.80734454e-01,\n",
       "        -4.04541944e-02, -1.73863318e-02, -5.62084957e-02,\n",
       "        -3.03057650e-02,  2.41187189e-03],\n",
       "       [ 4.86496161e-02,  4.09629648e-02,  2.80712324e-02,\n",
       "         1.42344398e-01,  7.08089382e-02, -5.11641744e-02,\n",
       "        -4.38678081e-02,  5.83881452e-02,  4.39198477e-02,\n",
       "        -3.98463080e-03,  1.83382130e-02,  1.18687686e-02,\n",
       "         2.69018921e-02,  1.34339641e-02],\n",
       "       [ 1.24790166e-01,  1.08317358e-01,  2.14285213e-01,\n",
       "         2.54526098e-01,  1.77932961e-01, -6.98203655e-02,\n",
       "        -1.47465755e-01,  1.53136827e-01,  1.82297622e-01,\n",
       "         3.61308495e-02,  2.23107052e-02,  5.76979186e-02,\n",
       "         4.21348462e-02, -5.87794038e-04],\n",
       "       [ 1.09016946e-01,  9.57424257e-02,  2.46808309e-01,\n",
       "         2.01156184e-01,  1.57464372e-01, -6.16306474e-02,\n",
       "        -1.30219492e-01,  1.32488552e-01,  1.88348292e-01,\n",
       "         5.46362211e-02,  5.37191078e-03,  6.94742956e-02,\n",
       "         1.55339283e-02, -1.65605923e-02],\n",
       "       [ 9.55958102e-02,  1.08020901e-01,  2.63682779e-01,\n",
       "         1.71052431e-01,  1.26837708e-01, -5.26993673e-02,\n",
       "        -1.03000022e-01,  1.29626362e-01,  1.96129596e-01,\n",
       "         7.26700462e-02, -1.05229606e-02,  8.18769099e-02,\n",
       "         3.25438473e-04, -3.03138135e-02]])"
      ]
     },
     "execution_count": 88,
     "metadata": {},
     "output_type": "execute_result"
    }
   ],
   "source": [
    "corr_matrix "
   ]
  },
  {
   "cell_type": "code",
   "execution_count": 94,
   "metadata": {},
   "outputs": [
    {
     "data": {
      "image/png": "[encoded data removed]",
      "text/plain": [
       "<Figure size 648x1008 with 2 Axes>"
      ]
     },
     "metadata": {
      "needs_background": "light"
     },
     "output_type": "display_data"
    }
   ],
   "source": [
    "#plot correlation matrix\n",
    "fig, ax = plt.subplots(figsize=(9, 14))\n",
    "im = ax.imshow(corr_matrix,  cmap=\"magma_r\" )\n",
    "\n",
    "#tick labels\n",
    "x_label_list = ['CR_H', 'CC_H', 'ENG_H', 'PRIVATE', \n",
    "        'ACADEMIC', 'TECHNICAL', 'T/A', \n",
    "        'COL', 'HI', 'HI_M', 'HI_F', 'COL_M', 'COL_F', 'G']\n",
    "y_label_list = ['CR_C',\n",
    "       'CC_C', 'ENG_C','PRIVATE', \n",
    "        'ACADEMIC', 'TECHNICAL', 'T/A',\n",
    "        'COL', 'HI', 'G',  'st1', 'st2', 'st3',\n",
    "       'st4', 'st5', 'st6']\n",
    "# We want to show all ticks...\n",
    "ax.set_xticks(np.arange(len(x_label_list)))\n",
    "ax.set_yticks(np.arange(len(y_label_list)))\n",
    "ax.set_xticklabels(x_label_list)\n",
    "ax.set_yticklabels(y_label_list)\n",
    "#ax.grid(which=\"minor\", color=\"w\", linestyle='-', linewidth=10)\n",
    "\n",
    "\n",
    "# Rotate the tick labels and set their alignment.\n",
    "plt.setp(ax.get_xticklabels(), rotation=45, ha=\"right\",\n",
    "         rotation_mode=\"anchor\")\n",
    "\n",
    "# Loop over data dimensions and create text annotations.\n",
    "for i in range(len(y_label_list)):\n",
    "    for j in range(len(x_label_list)):\n",
    "        text = ax.text(j, i, \"{:.2f}\".format(corr_matrix[i, j]),\n",
    "                       ha=\"center\", va=\"center\", color=\"w\")\n",
    "        \n",
    "cbar = fig.colorbar(im, ax=ax, fraction=0.0519, pad=0.04)\n",
    "cbar.ax.set_ylabel(\"correlation coef.\", rotation=-90, va=\"bottom\")\n",
    "\n",
    "\n",
    "#ax.set_title(\"Correlation heatmap used attributes\")\n",
    "fig.tight_layout()\n",
    "plt.show()"
   ]
  },
  {
   "cell_type": "markdown",
   "metadata": {},
   "source": [
    "#### Testing correlation between socioeconomic level (sns) and socioeconomic level of the Institution of higher education"
   ]
  },
  {
   "cell_type": "code",
   "execution_count": 56,
   "metadata": {
    "scrolled": true
   },
   "outputs": [
    {
     "ename": "KeyError",
     "evalue": "'SEL'",
     "output_type": "error",
     "traceback": [
      "\u001b[0;31m---------------------------------------------------------------------------\u001b[0m",
      "\u001b[0;31mKeyError\u001b[0m                                  Traceback (most recent call last)",
      "\u001b[0;32m~/opt/anaconda3/lib/python3.8/site-packages/pandas/core/indexes/base.py\u001b[0m in \u001b[0;36mget_loc\u001b[0;34m(self, key, method, tolerance)\u001b[0m\n\u001b[1;32m   3360\u001b[0m             \u001b[0;32mtry\u001b[0m\u001b[0;34m:\u001b[0m\u001b[0;34m\u001b[0m\u001b[0;34m\u001b[0m\u001b[0m\n\u001b[0;32m-> 3361\u001b[0;31m                 \u001b[0;32mreturn\u001b[0m \u001b[0mself\u001b[0m\u001b[0;34m.\u001b[0m\u001b[0m_engine\u001b[0m\u001b[0;34m.\u001b[0m\u001b[0mget_loc\u001b[0m\u001b[0;34m(\u001b[0m\u001b[0mcasted_key\u001b[0m\u001b[0;34m)\u001b[0m\u001b[0;34m\u001b[0m\u001b[0;34m\u001b[0m\u001b[0m\n\u001b[0m\u001b[1;32m   3362\u001b[0m             \u001b[0;32mexcept\u001b[0m \u001b[0mKeyError\u001b[0m \u001b[0;32mas\u001b[0m \u001b[0merr\u001b[0m\u001b[0;34m:\u001b[0m\u001b[0;34m\u001b[0m\u001b[0;34m\u001b[0m\u001b[0m\n",
      "\u001b[0;32m~/opt/anaconda3/lib/python3.8/site-packages/pandas/_libs/index.pyx\u001b[0m in \u001b[0;36mpandas._libs.index.IndexEngine.get_loc\u001b[0;34m()\u001b[0m\n",
      "\u001b[0;32m~/opt/anaconda3/lib/python3.8/site-packages/pandas/_libs/index.pyx\u001b[0m in \u001b[0;36mpandas._libs.index.IndexEngine.get_loc\u001b[0;34m()\u001b[0m\n",
      "\u001b[0;32mpandas/_libs/hashtable_class_helper.pxi\u001b[0m in \u001b[0;36mpandas._libs.hashtable.PyObjectHashTable.get_item\u001b[0;34m()\u001b[0m\n",
      "\u001b[0;32mpandas/_libs/hashtable_class_helper.pxi\u001b[0m in \u001b[0;36mpandas._libs.hashtable.PyObjectHashTable.get_item\u001b[0;34m()\u001b[0m\n",
      "\u001b[0;31mKeyError\u001b[0m: 'SEL'",
      "\nThe above exception was the direct cause of the following exception:\n",
      "\u001b[0;31mKeyError\u001b[0m                                  Traceback (most recent call last)",
      "\u001b[0;32m/var/folders/hl/6j_44f453mvc5lr922s8d0l80000gn/T/ipykernel_13061/1679019507.py\u001b[0m in \u001b[0;36m<module>\u001b[0;34m\u001b[0m\n\u001b[1;32m      1\u001b[0m \u001b[0;31m#correlation\u001b[0m\u001b[0;34m\u001b[0m\u001b[0;34m\u001b[0m\u001b[0;34m\u001b[0m\u001b[0m\n\u001b[0;32m----> 2\u001b[0;31m \u001b[0mdf\u001b[0m\u001b[0;34m[\u001b[0m\u001b[0;34m'SEL'\u001b[0m\u001b[0;34m]\u001b[0m\u001b[0;34m.\u001b[0m\u001b[0mcorr\u001b[0m\u001b[0;34m(\u001b[0m\u001b[0mdf\u001b[0m\u001b[0;34m[\u001b[0m\u001b[0;34m'SEL_IHE'\u001b[0m\u001b[0;34m]\u001b[0m\u001b[0;34m)\u001b[0m\u001b[0;34m\u001b[0m\u001b[0;34m\u001b[0m\u001b[0m\n\u001b[0m",
      "\u001b[0;32m~/opt/anaconda3/lib/python3.8/site-packages/pandas/core/frame.py\u001b[0m in \u001b[0;36m__getitem__\u001b[0;34m(self, key)\u001b[0m\n\u001b[1;32m   3453\u001b[0m             \u001b[0;32mif\u001b[0m \u001b[0mself\u001b[0m\u001b[0;34m.\u001b[0m\u001b[0mcolumns\u001b[0m\u001b[0;34m.\u001b[0m\u001b[0mnlevels\u001b[0m \u001b[0;34m>\u001b[0m \u001b[0;36m1\u001b[0m\u001b[0;34m:\u001b[0m\u001b[0;34m\u001b[0m\u001b[0;34m\u001b[0m\u001b[0m\n\u001b[1;32m   3454\u001b[0m                 \u001b[0;32mreturn\u001b[0m \u001b[0mself\u001b[0m\u001b[0;34m.\u001b[0m\u001b[0m_getitem_multilevel\u001b[0m\u001b[0;34m(\u001b[0m\u001b[0mkey\u001b[0m\u001b[0;34m)\u001b[0m\u001b[0;34m\u001b[0m\u001b[0;34m\u001b[0m\u001b[0m\n\u001b[0;32m-> 3455\u001b[0;31m             \u001b[0mindexer\u001b[0m \u001b[0;34m=\u001b[0m \u001b[0mself\u001b[0m\u001b[0;34m.\u001b[0m\u001b[0mcolumns\u001b[0m\u001b[0;34m.\u001b[0m\u001b[0mget_loc\u001b[0m\u001b[0;34m(\u001b[0m\u001b[0mkey\u001b[0m\u001b[0;34m)\u001b[0m\u001b[0;34m\u001b[0m\u001b[0;34m\u001b[0m\u001b[0m\n\u001b[0m\u001b[1;32m   3456\u001b[0m             \u001b[0;32mif\u001b[0m \u001b[0mis_integer\u001b[0m\u001b[0;34m(\u001b[0m\u001b[0mindexer\u001b[0m\u001b[0;34m)\u001b[0m\u001b[0;34m:\u001b[0m\u001b[0;34m\u001b[0m\u001b[0;34m\u001b[0m\u001b[0m\n\u001b[1;32m   3457\u001b[0m                 \u001b[0mindexer\u001b[0m \u001b[0;34m=\u001b[0m \u001b[0;34m[\u001b[0m\u001b[0mindexer\u001b[0m\u001b[0;34m]\u001b[0m\u001b[0;34m\u001b[0m\u001b[0;34m\u001b[0m\u001b[0m\n",
      "\u001b[0;32m~/opt/anaconda3/lib/python3.8/site-packages/pandas/core/indexes/base.py\u001b[0m in \u001b[0;36mget_loc\u001b[0;34m(self, key, method, tolerance)\u001b[0m\n\u001b[1;32m   3361\u001b[0m                 \u001b[0;32mreturn\u001b[0m \u001b[0mself\u001b[0m\u001b[0;34m.\u001b[0m\u001b[0m_engine\u001b[0m\u001b[0;34m.\u001b[0m\u001b[0mget_loc\u001b[0m\u001b[0;34m(\u001b[0m\u001b[0mcasted_key\u001b[0m\u001b[0;34m)\u001b[0m\u001b[0;34m\u001b[0m\u001b[0;34m\u001b[0m\u001b[0m\n\u001b[1;32m   3362\u001b[0m             \u001b[0;32mexcept\u001b[0m \u001b[0mKeyError\u001b[0m \u001b[0;32mas\u001b[0m \u001b[0merr\u001b[0m\u001b[0;34m:\u001b[0m\u001b[0;34m\u001b[0m\u001b[0;34m\u001b[0m\u001b[0m\n\u001b[0;32m-> 3363\u001b[0;31m                 \u001b[0;32mraise\u001b[0m \u001b[0mKeyError\u001b[0m\u001b[0;34m(\u001b[0m\u001b[0mkey\u001b[0m\u001b[0;34m)\u001b[0m \u001b[0;32mfrom\u001b[0m \u001b[0merr\u001b[0m\u001b[0;34m\u001b[0m\u001b[0;34m\u001b[0m\u001b[0m\n\u001b[0m\u001b[1;32m   3364\u001b[0m \u001b[0;34m\u001b[0m\u001b[0m\n\u001b[1;32m   3365\u001b[0m         \u001b[0;32mif\u001b[0m \u001b[0mis_scalar\u001b[0m\u001b[0;34m(\u001b[0m\u001b[0mkey\u001b[0m\u001b[0;34m)\u001b[0m \u001b[0;32mand\u001b[0m \u001b[0misna\u001b[0m\u001b[0;34m(\u001b[0m\u001b[0mkey\u001b[0m\u001b[0;34m)\u001b[0m \u001b[0;32mand\u001b[0m \u001b[0;32mnot\u001b[0m \u001b[0mself\u001b[0m\u001b[0;34m.\u001b[0m\u001b[0mhasnans\u001b[0m\u001b[0;34m:\u001b[0m\u001b[0;34m\u001b[0m\u001b[0;34m\u001b[0m\u001b[0m\n",
      "\u001b[0;31mKeyError\u001b[0m: 'SEL'"
     ]
    }
   ],
   "source": [
    "#correlation\n",
    "df['SEL'].corr(df['SEL_IHE'])"
   ]
  },
  {
   "cell_type": "code",
   "execution_count": null,
   "metadata": {},
   "outputs": [],
   "source": [
    "#plot to see which direction the people with sel goes. \n",
    "df['diff_ENG'] = abs(df['ENG_S11']-df['ENG_PRO'])\n",
    "df['diff_ENG'].hist()"
   ]
  },
  {
   "cell_type": "code",
   "execution_count": null,
   "metadata": {
    "scrolled": true
   },
   "outputs": [],
   "source": [
    "#plot to see which direction the people with sel goes. \n",
    "df['diff_SEL_SEL_IHE'] = df['SEL']-df['SEL_IHE']\n",
    "df['diff_SEL_SEL_IHE'].hist()\n",
    "\n",
    "#prøv at lave til stack"
   ]
  },
  {
   "cell_type": "code",
   "execution_count": null,
   "metadata": {},
   "outputs": [],
   "source": [
    "df_plot = df.groupby(['diff_SEL_SEL_IHE', 'SEL']).size().reset_index().pivot(columns='SEL', index='diff_SEL_SEL_IHE', values=0)\n",
    "df_plot"
   ]
  },
  {
   "cell_type": "code",
   "execution_count": null,
   "metadata": {
    "scrolled": true
   },
   "outputs": [],
   "source": [
    "figure(figsize=(8, 6), dpi=80)\n",
    "df_plot.plot(kind='bar', stacked=True)"
   ]
  },
  {
   "cell_type": "code",
   "execution_count": null,
   "metadata": {},
   "outputs": [],
   "source": [
    "df.SEL.value_counts()"
   ]
  },
  {
   "cell_type": "code",
   "execution_count": null,
   "metadata": {},
   "outputs": [],
   "source": [
    "#create column with n occurences of combination, to plot a bubble chart\n",
    "count_series = df.groupby(['SEL', 'SEL_IHE']).size()\n",
    "df2 = count_series.to_frame(name = 'size').reset_index()\n",
    "df2[:5]"
   ]
  },
  {
   "cell_type": "code",
   "execution_count": null,
   "metadata": {
    "scrolled": true
   },
   "outputs": [],
   "source": [
    "# Plotting bubble chart to see number of occurences for each combination\n",
    "sns.scatterplot(data=df2, x=\"SEL\", y=\"SEL_IHE\", size=\"size\",legend=False, sizes=(20, 2000))"
   ]
  },
  {
   "cell_type": "markdown",
   "metadata": {},
   "source": [
    "### Stratum, sisben and socioeconomic level"
   ]
  },
  {
   "cell_type": "code",
   "execution_count": null,
   "metadata": {},
   "outputs": [],
   "source": [
    "# new columns for stratum and sisben with int values\n",
    "df[\"STRATUM\"].replace({'Stratum 4':4, 'Stratum 5':5, 'Stratum 2':2, 'Stratum 6':6, 'Stratum 3':3,\n",
    "       'Stratum 1':1, '0':0}, inplace=True)\n",
    "\n",
    "df[\"SISBEN\"].replace({'It is not classified by the SISBEN':None, 'Level 2':2, 'Level 1':1, 'Esta clasificada en otro Level del SISBEN':4, 'Level 3':3, '0':0}, inplace=True)\n"
   ]
  },
  {
   "cell_type": "code",
   "execution_count": null,
   "metadata": {},
   "outputs": [],
   "source": [
    "df[\"STRATUM\"].value_counts()"
   ]
  },
  {
   "cell_type": "code",
   "execution_count": null,
   "metadata": {},
   "outputs": [],
   "source": [
    "df[\"SISBEN\"].value_counts()"
   ]
  },
  {
   "cell_type": "code",
   "execution_count": null,
   "metadata": {},
   "outputs": [],
   "source": [
    "corr_df = df[[\"SISBEN\",\"STRATUM\", \"SEL\" ]]\n",
    "sns.heatmap(corr_df.corr())"
   ]
  },
  {
   "cell_type": "code",
   "execution_count": null,
   "metadata": {},
   "outputs": [],
   "source": [
    "df[\"STRATUM\"]"
   ]
  },
  {
   "cell_type": "code",
   "execution_count": null,
   "metadata": {},
   "outputs": [],
   "source": []
  }
 ],
 "metadata": {
  "kernelspec": {
   "display_name": "Python 3 (ipykernel)",
   "language": "python",
   "name": "python3"
  },
  "language_info": {
   "codemirror_mode": {
    "name": "ipython",
    "version": 3
   },
   "file_extension": ".py",
   "mimetype": "text/x-python",
   "name": "python",
   "nbconvert_exporter": "python",
   "pygments_lexer": "ipython3",
   "version": "3.8.5"
  }
 },
 "nbformat": 4,
 "nbformat_minor": 4
}
