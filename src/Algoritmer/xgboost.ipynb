{
 "cells": [
  {
   "cell_type": "markdown",
   "metadata": {},
   "source": [
    "# XGBoost implementation"
   ]
  },
  {
   "cell_type": "code",
   "execution_count": 118,
   "metadata": {},
   "outputs": [],
   "source": [
    "# Packages and libraries\r\n",
    "import pandas as pd\r\n",
    "import xgboost as xgb\r\n",
    "import numpy as np"
   ]
  },
  {
   "cell_type": "code",
   "execution_count": 119,
   "metadata": {},
   "outputs": [
    {
     "data": {
      "text/plain": [
       "14"
      ]
     },
     "execution_count": 119,
     "metadata": {},
     "output_type": "execute_result"
    }
   ],
   "source": [
    "# XGBoost data prep\r\n",
    "#remove white space in columns\r\n",
    "#NOTE: GENDER_bin=1 is female and GENDER_bin=0 is males\r\n",
    "\r\n",
    "import os\r\n",
    "\r\n",
    "df_stand = pd.read_csv(r'C:\\Dokumenter\\Dokumenter\\UNI\\7.semester\\Bachelor\\Bachelor_Gabi_Kat\\Notebooks\\Basic_dists\\df_standardized_score.csv')\r\n",
    "df_norm = pd.read_csv(r'C:\\Dokumenter\\Dokumenter\\UNI\\7.semester\\Bachelor\\Bachelor_Gabi_Kat\\Notebooks\\Basic_dists\\df_normalized_score.csv')\r\n",
    "\r\n",
    "df = pd.read_csv(\"df_sum_score_py.csv\")\r\n",
    "df.replace(' ','_',regex=True,inplace=True)\r\n",
    "\r\n",
    "# there were 14 missing values, which has earlier been set to 0 in STRATUM. \r\n",
    "# Since this is only approximately 0.116% of the entire data, we do not need to do anything further. \r\n",
    "# XGBoost is very well at handling missing data, and we just need to ensure that it's set to 0. \r\n",
    "\r\n",
    "# df = df_stand\r\n",
    "\r\n",
    "df.STRATUM.isin(['0']).sum()"
   ]
  },
  {
   "cell_type": "code",
   "execution_count": 120,
   "metadata": {},
   "outputs": [],
   "source": [
    "# Splitting the data \r\n",
    "# X is the data which will be used to make predictions, and y contains the data we want to predict.\r\n",
    "# We want to predict the score of the students in college, hence y_training and y_test is the college average grade. \r\n",
    "\r\n",
    "X = df.drop(['COL_GRADE_AVG','GENDER','Unnamed: 0','CR_S11','CC_S11','ENG_S11','CR_PRO','CC_PRO','ENG_PRO'], axis=1).copy()\r\n",
    "y=df['COL_GRADE_AVG'].copy()\r\n",
    "\r\n",
    "# Now we will continue to formatting X to make it suitable for making a model with XGBoost. "
   ]
  },
  {
   "cell_type": "code",
   "execution_count": 121,
   "metadata": {},
   "outputs": [],
   "source": [
    "# One-hot encoding \r\n",
    "\r\n",
    "# Look at the different types of data contained in each variable. \r\n",
    "X.dtypes\r\n",
    "\r\n",
    "# The object columns we need to inspect to ensure that they are what we need them to be and after that we will do one-hot encoding. \r\n",
    "# One hot encoding is used to make the categorical varoiable STRATUM work in the model. \r\n",
    "# What is gonna happen is that the categorical variable is becoming multiple columns of binary values. \r\n",
    "# One hot encoding works great for trees and this is the motivation for using this method. \r\n",
    "X_encoded = pd.get_dummies(X,columns=['STRATUM'])\r\n"
   ]
  },
  {
   "cell_type": "code",
   "execution_count": 122,
   "metadata": {},
   "outputs": [],
   "source": [
    "from sklearn.model_selection import train_test_split\r\n",
    "\r\n",
    "X_train, X_test, y_train, y_test = train_test_split(X_encoded,y,random_state=24, test_size=0.33)#, stratify=y)"
   ]
  },
  {
   "cell_type": "code",
   "execution_count": 123,
   "metadata": {},
   "outputs": [],
   "source": [
    "# Creating the data sets as csv's\r\n",
    "\r\n",
    "# Raw data\r\n",
    "X_train.to_csv(\"X_train_raw.csv\")\r\n",
    "X_test.to_csv(\"X_test_raw.csv\") \r\n",
    "y_train.to_csv(\"y_train_raw.csv\") \r\n",
    "y_test.to_csv(\"y_test_raw.csv\")\r\n",
    "\r\n",
    "# Standardized\r\n",
    "#  X_train.to_csv(\"X_train_stand.csv\")\r\n",
    "# X_test.to_csv(\"X_test_stand.csv\") \r\n",
    "# y_train.to_csv(\"y_train_stand.csv\") \r\n",
    "# y_test.to_csv(\"y_test_stand.csv\")\r\n",
    "\r\n"
   ]
  },
  {
   "cell_type": "markdown",
   "metadata": {},
   "source": [
    "# Regressor"
   ]
  },
  {
   "cell_type": "code",
   "execution_count": 124,
   "metadata": {},
   "outputs": [],
   "source": [
    "from sklearn.model_selection import cross_val_score, KFold\r\n",
    "from sklearn.metrics import mean_squared_error\r\n",
    "import matplotlib.pyplot as plt "
   ]
  },
  {
   "cell_type": "code",
   "execution_count": 125,
   "metadata": {},
   "outputs": [
    {
     "data": {
      "text/plain": [
       "XGBRegressor(base_score=0.5, booster='gbtree', colsample_bylevel=1,\n",
       "             colsample_bynode=1, colsample_bytree=1, gamma=0, gpu_id=-1,\n",
       "             importance_type='gain', interaction_constraints='',\n",
       "             learning_rate=0.300000012, max_delta_step=0, max_depth=6,\n",
       "             min_child_weight=1, missing=nan, monotone_constraints='()',\n",
       "             n_estimators=100, n_jobs=4, num_parallel_tree=1, random_state=0,\n",
       "             reg_alpha=0, reg_lambda=1, scale_pos_weight=1, subsample=1,\n",
       "             tree_method='exact', validate_parameters=1, verbosity=None)"
      ]
     },
     "execution_count": 125,
     "metadata": {},
     "output_type": "execute_result"
    }
   ],
   "source": [
    "# XGBRegressor\r\n",
    "\r\n",
    "model = xgb.XGBRegressor(objective='reg:squarederror')\r\n",
    "model.fit(X_train, y_train)"
   ]
  },
  {
   "cell_type": "markdown",
   "metadata": {},
   "source": [
    "TODO\r\n",
    "- vi vil gerne lave parameter approximations med cross valdiation. Se eventuelt denne video https://www.youtube.com/watch?v=GrJP9FLV3FE\r\n",
    "- "
   ]
  },
  {
   "cell_type": "code",
   "execution_count": 126,
   "metadata": {},
   "outputs": [],
   "source": [
    "# scores = cross_val_score(model, X_train, y_train, cv=10)\r\n",
    "# print(\"Mean cross-validation score: %.2f\" % scores.mean())"
   ]
  },
  {
   "cell_type": "markdown",
   "metadata": {},
   "source": [
    "# Prediction"
   ]
  },
  {
   "cell_type": "code",
   "execution_count": 127,
   "metadata": {},
   "outputs": [
    {
     "data": {
      "text/plain": [
       "array([86.15838 , 84.907745, 86.89197 , ..., 91.33312 , 76.757935,\n",
       "       59.32007 ], dtype=float32)"
      ]
     },
     "execution_count": 127,
     "metadata": {},
     "output_type": "execute_result"
    }
   ],
   "source": [
    "y_pred_init = model.predict(X_test)\r\n",
    "y_pred_init\r\n"
   ]
  },
  {
   "cell_type": "markdown",
   "metadata": {},
   "source": [
    "# Mean squared error\r\n",
    "This is the average squared difference between the estimated values and the actual value."
   ]
  },
  {
   "cell_type": "code",
   "execution_count": 128,
   "metadata": {},
   "outputs": [
    {
     "name": "stdout",
     "output_type": "stream",
     "text": [
      "INITIAL MSE: 219.97\n",
      "INITIAL RMSE: 14.83\n"
     ]
    }
   ],
   "source": [
    "# Kør disse herunder for at se om det er blevet bedre \r\n",
    "mse_init = mean_squared_error(y_test, y_pred_init)\r\n",
    "\r\n",
    "# Root mean squared error\r\n",
    "rmse_init= np.sqrt(mse_init)\r\n",
    "\r\n",
    "print(\"INITIAL MSE: %.2f\" % mse_init)\r\n",
    "print(\"INITIAL RMSE: %.2f\" % rmse_init)"
   ]
  },
  {
   "cell_type": "markdown",
   "metadata": {},
   "source": [
    "# Optimize parameters using cross-validation\r\n",
    "\r\n",
    "XGBoost has a lot of hyper parameters which we can manually tune. These are e.g. max_depth of the tree, learning_rate, gamma which encourages pruning of the tree and reg_lambda which is the regularization parameter lambda. We are trying to find the optimal values for these parameters and hope that we can improve the accuracy in the prediction of the candidates college grades. "
   ]
  },
  {
   "cell_type": "markdown",
   "metadata": {},
   "source": [
    "# Gridsearch cross validation \r\n",
    "\r\n",
    "Gridsearch CV will be run sequentially on subsets of different options for the parameters. \r\n"
   ]
  },
  {
   "cell_type": "code",
   "execution_count": 129,
   "metadata": {},
   "outputs": [],
   "source": [
    "# 1st round\r\n",
    "param_grid_1 = {\r\n",
    "    'max_depth':[3,4,5],\r\n",
    "    'learning_rate':[0.01,0.05,0.1],\r\n",
    "    'gamma':[0,0.25,0.1],\r\n",
    "    'reg_lambda':[0,0.1,10.0],\r\n",
    "    'scale_pos_weight':[1,3,5]\r\n",
    "}"
   ]
  },
  {
   "cell_type": "code",
   "execution_count": 130,
   "metadata": {},
   "outputs": [],
   "source": [
    "from sklearn.model_selection import GridSearchCV\r\n",
    "\r\n",
    "\r\n",
    "# base_estimator_model = xgb.XGBRegressor()\r\n",
    "# clf = GridSearchCV(base_estimator_model, param_grid)\r\n",
    "# clf.fit(X_train, y_train)\r\n",
    "\r\n",
    "optimal_params = GridSearchCV(\r\n",
    "    estimator=xgb.XGBRegressor(\r\n",
    "        objective='reg:squarederror', seed=24, subsample=0.9),\r\n",
    "        param_grid=param_grid_1,\r\n",
    "        cv=5).fit(X_train,y_train)\r\n",
    "          "
   ]
  },
  {
   "cell_type": "code",
   "execution_count": null,
   "metadata": {},
   "outputs": [
    {
     "name": "stdout",
     "output_type": "stream",
     "text": [
      "{'gamma': 0, 'learning_rate': 0.05, 'max_depth': 3, 'reg_lambda': 10.0, 'scale_pos_weight': 1}\n"
     ]
    }
   ],
   "source": [
    "# optimal parameters \r\n",
    "print(optimal_params.best_params_)\r\n"
   ]
  },
  {
   "cell_type": "code",
   "execution_count": null,
   "metadata": {},
   "outputs": [],
   "source": [
    "## Round 2 \r\n",
    "param_grid_2 = {\r\n",
    "    'max_depth':[2,3],\r\n",
    "    'learning_rate':[0.05],\r\n",
    "    'gamma':[0,0.01],\r\n",
    "    'reg_lambda':[10.0,15.0,20.0],\r\n",
    "    'scale_pos_weight':[0.01,0.5,1]\r\n",
    "}"
   ]
  },
  {
   "cell_type": "code",
   "execution_count": null,
   "metadata": {},
   "outputs": [],
   "source": [
    "optimal_params = GridSearchCV(\r\n",
    "    estimator=xgb.XGBRegressor(\r\n",
    "        objective='reg:squarederror', seed=24, subsample=0.9),\r\n",
    "        param_grid=param_grid_2,\r\n",
    "        cv=5).fit(X_train,y_train)"
   ]
  },
  {
   "cell_type": "code",
   "execution_count": null,
   "metadata": {},
   "outputs": [
    {
     "name": "stdout",
     "output_type": "stream",
     "text": [
      "{'gamma': 0, 'learning_rate': 0.05, 'max_depth': 3, 'reg_lambda': 15.0, 'scale_pos_weight': 0.01}\n"
     ]
    }
   ],
   "source": [
    "# optimal parameters \r\n",
    "print(optimal_params.best_params_)"
   ]
  },
  {
   "cell_type": "code",
   "execution_count": null,
   "metadata": {},
   "outputs": [],
   "source": [
    "## Round 3 \r\n",
    "param_grid_3 = {\r\n",
    "    'max_depth':[3],\r\n",
    "    'learning_rate':[0.05],\r\n",
    "    'gamma':[0],\r\n",
    "    'reg_lambda':[15.0],\r\n",
    "    'scale_pos_weight':[0.01]\r\n",
    "}"
   ]
  },
  {
   "cell_type": "code",
   "execution_count": null,
   "metadata": {},
   "outputs": [
    {
     "data": {
      "text/plain": [
       "XGBRegressor(base_score=0.5, booster='gbtree', colsample_bylevel=1,\n",
       "             colsample_bynode=1, colsample_bytree=1, gamma=0, gpu_id=-1,\n",
       "             importance_type='gain', interaction_constraints='',\n",
       "             learning_rate=0.05, max_delta_step=0, max_depth=3,\n",
       "             min_child_weight=1, missing=nan, monotone_constraints='()',\n",
       "             n_estimators=100, n_jobs=4, num_parallel_tree=1, random_state=24,\n",
       "             reg_alpha=0, reg_lambda=15.0, scale_pos_weight=0.01, seed=24,\n",
       "             subsample=1, tree_method='exact', validate_parameters=1,\n",
       "             verbosity=None)"
      ]
     },
     "execution_count": 99,
     "metadata": {},
     "output_type": "execute_result"
    }
   ],
   "source": [
    "final_model = xgb.XGBRegressor(seed=24, objective='reg:squarederror', max_depth=3, learning_rate=0.05, gamma=0,reg_lambda=15.0, scale_pos_weight=0.01)\r\n",
    "final_model.fit(X_train,y_train,verbose=True, eval_metric='rmse')\r\n",
    "# eval_metric default according to objective"
   ]
  },
  {
   "cell_type": "code",
   "execution_count": null,
   "metadata": {},
   "outputs": [
    {
     "name": "stdout",
     "output_type": "stream",
     "text": [
      "Mean cross-validation score: 0.60\n"
     ]
    }
   ],
   "source": [
    "scores_final = cross_val_score(final_model, X_train, y_train, cv=10)\r\n",
    "print(\"Mean cross-validation score: %.2f\" % scores_final.mean())\r\n",
    "\r\n",
    "scores = cross_val_score(model, X_train, y_train, cv=10)\r\n",
    "# print(\"Mean cross-validation score: %.2f\" % scores.mean())"
   ]
  },
  {
   "cell_type": "code",
   "execution_count": null,
   "metadata": {},
   "outputs": [
    {
     "data": {
      "text/plain": [
       "array([0.58614043, 0.62140396, 0.57628895, 0.59124873, 0.5930052 ,\n",
       "       0.65924413, 0.58098842, 0.58763834, 0.5838701 , 0.60886096])"
      ]
     },
     "execution_count": 107,
     "metadata": {},
     "output_type": "execute_result"
    }
   ],
   "source": [
    "scores_final"
   ]
  },
  {
   "cell_type": "code",
   "execution_count": null,
   "metadata": {},
   "outputs": [
    {
     "data": {
      "text/plain": [
       "array([ 1.0246071 ,  1.0137084 ,  1.0295995 , ...,  1.0533116 ,\n",
       "        0.5953169 , -0.05938482], dtype=float32)"
      ]
     },
     "execution_count": 101,
     "metadata": {},
     "output_type": "execute_result"
    }
   ],
   "source": [
    "y_pred_final = final_model.predict(X_test)\r\n",
    "y_pred_final"
   ]
  },
  {
   "cell_type": "code",
   "execution_count": null,
   "metadata": {},
   "outputs": [],
   "source": []
  },
  {
   "cell_type": "code",
   "execution_count": null,
   "metadata": {},
   "outputs": [
    {
     "name": "stdout",
     "output_type": "stream",
     "text": [
      "FINAL MSE: 0.40\n",
      "FINAL RMSE: 0.63\n"
     ]
    }
   ],
   "source": [
    "# Kør disse herunder for at se om det er blevet bedre \r\n",
    "mse_final = mean_squared_error(y_test, y_pred_final)\r\n",
    "print(\"FINAL MSE: %.2f\" % mse_final)\r\n",
    "\r\n",
    "# Root mean squared error\r\n",
    "rmse_final= np.sqrt(mse_final)\r\n",
    "print(\"FINAL RMSE: %.2f\" % rmse_final)\r\n"
   ]
  },
  {
   "cell_type": "markdown",
   "metadata": {},
   "source": [
    "FOR RAW DATA \r\n",
    "Before and after parameter optimization\r\n",
    "- MSE: 219.97  (ændring på -6,44%)\r\n",
    "- RMSE: 14.83   (ændring på -3,23 %)\r\n",
    "\r\n",
    "- FINAL MSE: 205.79\r\n",
    "\r\n",
    "- FINAL RMSE: 14.35\r\n",
    "\r\n",
    "\r\n",
    "\r\n",
    "\r\n",
    "FOR STANDARDIZED DATA \r\n",
    "\r\n",
    "- INITIAL MSE: 0.42  (ændring på -4,76%)\r\n",
    "\r\n",
    "- INITIAL RMSE: 0.65\r\n",
    "- FINAL MSE: 0.40\r\n",
    "- FINAL RMSE: 0.63"
   ]
  },
  {
   "cell_type": "markdown",
   "metadata": {},
   "source": [
    "## Plotting the tree? \r\n",
    "concider plotting the tree"
   ]
  },
  {
   "cell_type": "code",
   "execution_count": null,
   "metadata": {},
   "outputs": [],
   "source": []
  },
  {
   "cell_type": "markdown",
   "metadata": {},
   "source": [
    "Muligvis skal vitage og concat y_test.index og y_pred for at få index på predictions. Så vi kan sorte dem og se om der er en bestemt tendens. "
   ]
  },
  {
   "cell_type": "code",
   "execution_count": null,
   "metadata": {},
   "outputs": [
    {
     "data": {
      "text/plain": [
       "array([ 1.3748634,  1.3748634,  1.3720464, ..., -1.7502984, -1.7502984,\n",
       "       -1.7502984], dtype=float32)"
      ]
     },
     "execution_count": 103,
     "metadata": {},
     "output_type": "execute_result"
    }
   ],
   "source": [
    "# Prøve at sorte predictions med mergesort \r\n",
    "import numpy as np\r\n",
    "\r\n",
    "pred_sorted = np.sort(y_pred_final, axis=- 1, kind='mergesort')[::-1]\r\n",
    "pred_sorted\r\n"
   ]
  },
  {
   "cell_type": "markdown",
   "metadata": {},
   "source": [
    "# Plotting"
   ]
  },
  {
   "cell_type": "code",
   "execution_count": null,
   "metadata": {},
   "outputs": [],
   "source": [
    "import matplotlib as mpl\r\n",
    "def setup_mpl():\r\n",
    "    mpl.rcParams[\"font.family\"] = \"Helvetica Neue\"\r\n",
    "    mpl.rcParams[\"font.size\"] = 11\r\n",
    "    mpl.rcParams[\"figure.figsize\"] = (10,5)\r\n",
    "    mpl.rcParams[\"figure.dpi\"] = 200\r\n",
    "    # mpl.rcParams[\"lines.linewidth\"] = 1\r\n",
    "setup_mpl()"
   ]
  },
  {
   "cell_type": "code",
   "execution_count": null,
   "metadata": {},
   "outputs": [
    {
     "data": {
      "image/png": "[encoded data removed]",
      "text/plain": [
       "<Figure size 2000x1000 with 1 Axes>"
      ]
     },
     "metadata": {
      "needs_background": "light"
     },
     "output_type": "display_data"
    }
   ],
   "source": [
    "\r\n",
    "x_ax = range(len(y_test))\r\n",
    "y_test_sorted = np.sort(y_test, axis=- 1, kind='mergesort')[::-1]\r\n",
    "plt.plot(x_ax, y_test_sorted, label=\"original\")\r\n",
    "plt.plot(x_ax, pred_sorted, label=\"predicted\")\r\n",
    "plt.title(\"College admissions test and predicted data\")\r\n",
    "plt.legend()\r\n",
    "plt.show()"
   ]
  },
  {
   "cell_type": "code",
   "execution_count": null,
   "metadata": {},
   "outputs": [
    {
     "ename": "SyntaxError",
     "evalue": "invalid syntax (<ipython-input-106-4c7196dbd70e>, line 1)",
     "output_type": "error",
     "traceback": [
      "\u001b[1;36m  File \u001b[1;32m\"<ipython-input-106-4c7196dbd70e>\"\u001b[1;36m, line \u001b[1;32m1\u001b[0m\n\u001b[1;33m    Nu når jeg har optimeret parametre\u001b[0m\n\u001b[1;37m       ^\u001b[0m\n\u001b[1;31mSyntaxError\u001b[0m\u001b[1;31m:\u001b[0m invalid syntax\n"
     ]
    }
   ],
   "source": [
    "Nu når jeg har optimeret parametre "
   ]
  },
  {
   "cell_type": "code",
   "execution_count": null,
   "metadata": {},
   "outputs": [],
   "source": []
  },
  {
   "cell_type": "code",
   "execution_count": null,
   "metadata": {},
   "outputs": [],
   "source": []
  }
 ],
 "metadata": {
  "interpreter": {
   "hash": "e2b6eb828a06aba2a5f38c98b0f742e720c3c24745e1f8335692b0a3c2eb5e5e"
  },
  "kernelspec": {
   "display_name": "Python 3.9.4 64-bit",
   "name": "python3"
  },
  "language_info": {
   "codemirror_mode": {
    "name": "ipython",
    "version": 3
   },
   "file_extension": ".py",
   "mimetype": "text/x-python",
   "name": "python",
   "nbconvert_exporter": "python",
   "pygments_lexer": "ipython3",
   "version": "3.9.4"
  },
  "orig_nbformat": 4
 },
 "nbformat": 4,
 "nbformat_minor": 2
}